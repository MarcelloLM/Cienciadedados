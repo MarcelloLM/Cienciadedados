{
  "cells": [
    {
      "cell_type": "markdown",
      "id": "7f45ea66",
      "metadata": {
        "id": "7f45ea66"
      },
      "source": [
        "<img src=\"https://raw.githubusercontent.com/rhatiro/Curso_EBAC-Profissao_Cientista_de_Dados/main/ebac-course-utils/media/logo/newebac_logo_black_half.png\" alt=\"ebac-logo\">\n",
        "\n",
        "---\n",
        "\n",
        "# **Profissão: Cientista de Dados**\n",
        "### **Módulo 14** | Scripting | Exercício 1\n",
        "\n",
        "Aluno [Marcello Lassalla](https://www.linkedin.com/in/marcello-lassalla-a146b8225/)<br>\n",
        "Data: 2 de abril de 2023.\n",
        "\n",
        "---"
      ]
    },
    {
      "cell_type": "code",
      "execution_count": 9,
      "id": "5459afc4",
      "metadata": {
        "colab": {
          "base_uri": "https://localhost:8080/"
        },
        "id": "5459afc4",
        "outputId": "c6175fff-d53e-4fd2-f429-cba1ed90200f"
      },
      "outputs": [
        {
          "output_type": "stream",
          "name": "stdout",
          "text": [
            "Data inicial: 2019-01-01 Data final: 2019-03-31\n",
            "Nome da pasta: 2019-03 \n",
            "\n",
            "Data inicial: 2019-01-01 Data final: 2019-04-30\n",
            "Nome da pasta: 2019-04 \n",
            "\n",
            "Data inicial: 2019-01-01 Data final: 2019-05-31\n",
            "Nome da pasta: 2019-05 \n",
            "\n",
            "Data inicial: 2019-01-01 Data final: 2019-06-30\n",
            "Nome da pasta: 2019-06 \n",
            "\n",
            "Data inicial: 2019-01-01 Data final: 2019-12-31\n",
            "Nome da pasta: 2019-12 \n",
            "\n"
          ]
        }
      ],
      "source": [
        "import pandas as pd\n",
        "import matplotlib.pyplot as plt\n",
        "import seaborn as sns\n",
        "\n",
        "import os\n",
        "\n",
        "sns.set_theme()\n",
        "\n",
        "def plot_pivot_table(df: pd.DataFrame,\n",
        "                     value: str,\n",
        "                     index: str,\n",
        "                     func: str,\n",
        "                     ylabel: str,\n",
        "                     xlabel: str,\n",
        "                     opcao: str='nenhuma'\n",
        "                    ) -> None:\n",
        "    if opcao == 'nenhuma':\n",
        "        pd.pivot_table(data=df,\n",
        "                       values=value,\n",
        "                       index=index,\n",
        "                       aggfunc=func\n",
        "                      ).plot(figsize=[15, 5])\n",
        "    elif opcao == 'sort':\n",
        "        pd.pivot_table(data=df,\n",
        "                       values=value,\n",
        "                       index=index,\n",
        "                       aggfunc=func\n",
        "                      ).sort_values(value).plot(figsize=[15, 5])\n",
        "    elif opcao == 'unstack':\n",
        "        pd.pivot_table(data=df,\n",
        "                       values=value,\n",
        "                       index=index,\n",
        "                       aggfunc=func\n",
        "                      ).unstack().plot(figsize=[15, 5])\n",
        "    plt.ylabel(ylabel)\n",
        "    plt.xlabel(xlabel)\n",
        "    return None\n",
        "\n",
        "\n",
        "meses = ['MAR', 'ABR', 'MAI', 'JUN', 'DEZ']\n",
        "\n",
        "for mes in meses:\n",
        "    sinasc = pd.read_csv('SINASC_RO_2019_' +mes+ '.csv')\n",
        "\n",
        "    max_data = sinasc.DTNASC.max()[:7]\n",
        "    os.makedirs('./output/figs/'+max_data, exist_ok=True)\n",
        "\n",
        "    plot_pivot_table(df=sinasc,\n",
        "                     value='IDADEMAE',\n",
        "                     index='DTNASC',\n",
        "                     func='count',\n",
        "                     ylabel='Quantidade de nascimentos',\n",
        "                     xlabel='Data de nascimento')\n",
        "    plt.savefig('./output/figs/'+max_data+'/Quantidade de nascimentos.png')\n",
        "    plt.close()\n",
        "\n",
        "    plot_pivot_table(df=sinasc,\n",
        "                     value='IDADEMAE',\n",
        "                     index=['DTNASC', 'SEXO'],\n",
        "                     func='mean',\n",
        "                     ylabel='Média da idade das mães',\n",
        "                     xlabel='Data de nascimento',\n",
        "                     opcao='unstack')\n",
        "    plt.savefig('./output/figs/'+max_data+'/Média da idade das mães por sexo.png')\n",
        "    plt.close()\n",
        "\n",
        "    plot_pivot_table(df=sinasc,\n",
        "                     value='PESO',\n",
        "                     index=['DTNASC', 'SEXO'],\n",
        "                     func='mean',\n",
        "                     ylabel='Média do peso dos bebês',\n",
        "                     xlabel='Data de nascimento',\n",
        "                     opcao='unstack')\n",
        "    plt.savefig('./output/figs/'+max_data+'/Média do peso dos bebês por sexo.png')\n",
        "    plt.close()\n",
        "\n",
        "    plot_pivot_table(df=sinasc,\n",
        "                     value='APGAR1',\n",
        "                     index='ESCMAE',\n",
        "                     func='median',\n",
        "                     ylabel='Mediana do APGAR1',\n",
        "                     xlabel='Escolaridade',\n",
        "                     opcao='sort')\n",
        "    plt.savefig('./output/figs/'+max_data+'/Mediana do APGAR1 por escolaridade das mães.png')\n",
        "    plt.close()\n",
        "\n",
        "    plot_pivot_table(df=sinasc,\n",
        "                     value='APGAR1',\n",
        "                     index='GESTACAO',\n",
        "                     func='mean',\n",
        "                     ylabel='Média do APGAR1',\n",
        "                     xlabel='Gestação',\n",
        "                     opcao='sort')\n",
        "    plt.savefig('./output/figs/'+max_data+'/Média do APGAR1 por gestação.png')\n",
        "    plt.close()\n",
        "\n",
        "    plot_pivot_table(df=sinasc,\n",
        "                     value='APGAR5',\n",
        "                     index='GESTACAO',\n",
        "                     func='mean',\n",
        "                     ylabel='Média do APGAR5',\n",
        "                     xlabel='Gestação',\n",
        "                     opcao='sort')\n",
        "    plt.savefig('./output/figs/'+max_data+'/Média do APGAR5 por gestação.png')\n",
        "    plt.close()\n",
        "\n",
        "    print('Data inicial:', sinasc.DTNASC.min(),\n",
        "          'Data final:', sinasc.DTNASC.max())\n",
        "    print('Nome da pasta:', max_data, '\\n')\n",
        ""
      ]
    },
    {
      "cell_type": "code",
      "source": [
        "import shutil\n",
        "from google.colab import files\n",
        "\n",
        "# Caminho da pasta que você deseja comprimir\n",
        "pasta_origem = './output/figs/'\n",
        "# Nome do arquivo zip que será criado\n",
        "arquivo_zip = 'figs.zip'\n",
        "\n",
        "# Cria o arquivo zip\n",
        "shutil.make_archive(arquivo_zip.replace('.zip', ''), 'zip', pasta_origem)\n",
        "\n",
        "# Faz o download do arquivo zip\n",
        "files.download(arquivo_zip)\n"
      ],
      "metadata": {
        "colab": {
          "base_uri": "https://localhost:8080/",
          "height": 17
        },
        "id": "MqZBTDF-1QSz",
        "outputId": "79994d0a-ff28-46a2-dc40-79682dcfdf9a"
      },
      "id": "MqZBTDF-1QSz",
      "execution_count": 10,
      "outputs": [
        {
          "output_type": "display_data",
          "data": {
            "text/plain": [
              "<IPython.core.display.Javascript object>"
            ],
            "application/javascript": [
              "\n",
              "    async function download(id, filename, size) {\n",
              "      if (!google.colab.kernel.accessAllowed) {\n",
              "        return;\n",
              "      }\n",
              "      const div = document.createElement('div');\n",
              "      const label = document.createElement('label');\n",
              "      label.textContent = `Downloading \"${filename}\": `;\n",
              "      div.appendChild(label);\n",
              "      const progress = document.createElement('progress');\n",
              "      progress.max = size;\n",
              "      div.appendChild(progress);\n",
              "      document.body.appendChild(div);\n",
              "\n",
              "      const buffers = [];\n",
              "      let downloaded = 0;\n",
              "\n",
              "      const channel = await google.colab.kernel.comms.open(id);\n",
              "      // Send a message to notify the kernel that we're ready.\n",
              "      channel.send({})\n",
              "\n",
              "      for await (const message of channel.messages) {\n",
              "        // Send a message to notify the kernel that we're ready.\n",
              "        channel.send({})\n",
              "        if (message.buffers) {\n",
              "          for (const buffer of message.buffers) {\n",
              "            buffers.push(buffer);\n",
              "            downloaded += buffer.byteLength;\n",
              "            progress.value = downloaded;\n",
              "          }\n",
              "        }\n",
              "      }\n",
              "      const blob = new Blob(buffers, {type: 'application/binary'});\n",
              "      const a = document.createElement('a');\n",
              "      a.href = window.URL.createObjectURL(blob);\n",
              "      a.download = filename;\n",
              "      div.appendChild(a);\n",
              "      a.click();\n",
              "      div.remove();\n",
              "    }\n",
              "  "
            ]
          },
          "metadata": {}
        },
        {
          "output_type": "display_data",
          "data": {
            "text/plain": [
              "<IPython.core.display.Javascript object>"
            ],
            "application/javascript": [
              "download(\"download_2a0ac0ad-fca5-46a8-a45f-bd5ab49c4b8b\", \"figs.zip\", 2492712)"
            ]
          },
          "metadata": {}
        }
      ]
    },
    {
      "cell_type": "markdown",
      "id": "341f5ade",
      "metadata": {
        "id": "341f5ade"
      },
      "source": [
        "---"
      ]
    },
    {
      "cell_type": "markdown",
      "id": "6557d9a6",
      "metadata": {
        "id": "6557d9a6"
      },
      "source": [
        "Uma maneira de tornar o processo de geração de gráficos mais automatizado e eficiente é criar um script em Python que possa ser executado automaticamente via linha de comando, de acordo com a frequência desejada (mensal, semanal ou diária). Isso reduziria a necessidade de intervenção manual. Além disso, seria possível gerar gráficos para um mês específico solicitado, bem como para o período completo desde o início do ano até o mês atual. Conforme necessário, o código poderia ser aprimorado para atender a demandas futuras, tornando o processo ainda mais eficiente e automatizado."
      ]
    },
    {
      "cell_type": "markdown",
      "id": "6042392b",
      "metadata": {
        "id": "6042392b"
      },
      "source": [
        "---"
      ]
    }
  ],
  "metadata": {
    "kernelspec": {
      "display_name": "Python 3 (ipykernel)",
      "language": "python",
      "name": "python3"
    },
    "language_info": {
      "codemirror_mode": {
        "name": "ipython",
        "version": 3
      },
      "file_extension": ".py",
      "mimetype": "text/x-python",
      "name": "python",
      "nbconvert_exporter": "python",
      "pygments_lexer": "ipython3",
      "version": "3.9.13"
    },
    "colab": {
      "provenance": []
    }
  },
  "nbformat": 4,
  "nbformat_minor": 5
}