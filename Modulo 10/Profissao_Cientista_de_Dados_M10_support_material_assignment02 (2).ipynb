{
  "cells": [
    {
      "cell_type": "markdown",
      "metadata": {
        "id": "HGvPya8_ZFcX"
      },
      "source": [
        "# Módulo 10 tarefa 2\n",
        "\n",
        "Considere a mesma base de dados utilizada na tarefa 1 ```previsao_de_renda.csv```."
      ]
    },
    {
      "cell_type": "markdown",
      "metadata": {
        "id": "-yMOVGSTZFcb"
      },
      "source": [
        "1) Com o que você viu em aula, faça uma análise das variáveis qualitativas (posse de imóvel e posse de veículo) para verificar se são boas preditoras de *renda*. Alguma delas parece discriminar *renda* de forma estatisticamente significante?"
      ]
    },
    {
      "cell_type": "markdown",
      "source": [
        "# Importação das bibliotecas\n"
      ],
      "metadata": {
        "id": "9nZa-61sZVi_"
      }
    },
    {
      "cell_type": "code",
      "execution_count": 30,
      "metadata": {
        "id": "fFUZC4wfZFcb"
      },
      "outputs": [],
      "source": [
        "import pandas as pd\n",
        "import numpy as pn\n",
        "import matplotlib.pyplot as plt\n",
        "import seaborn as sns\n",
        "from scipy.stats import ttest_ind"
      ]
    },
    {
      "cell_type": "code",
      "source": [
        "df = pd.read_csv('previsao_de_renda.csv')"
      ],
      "metadata": {
        "id": "Uoe-qHvyZiQI"
      },
      "execution_count": 2,
      "outputs": []
    },
    {
      "cell_type": "code",
      "source": [
        "df.head()"
      ],
      "metadata": {
        "colab": {
          "base_uri": "https://localhost:8080/",
          "height": 330
        },
        "id": "XkopyHvbZmgB",
        "outputId": "6b62abb1-7186-44ea-e463-a621fe2e6066"
      },
      "execution_count": 3,
      "outputs": [
        {
          "output_type": "execute_result",
          "data": {
            "text/plain": [
              "   Unnamed: 0    data_ref  index sexo  posse_de_veiculo  posse_de_imovel  \\\n",
              "0           0  2015-01-01   8682    F             False             True   \n",
              "1           1  2015-01-01  12830    M              True             True   \n",
              "2           2  2015-01-01   2885    M              True             True   \n",
              "3           3  2015-01-01  16168    F              True            False   \n",
              "4           4  2015-01-01  12438    M             False            False   \n",
              "\n",
              "   qtd_filhos   tipo_renda           educacao estado_civil tipo_residencia  \\\n",
              "0           1  Assalariado         Secundário       Casado            Casa   \n",
              "1           0   Empresário         Secundário       Casado            Casa   \n",
              "2           2  Assalariado  Superior completo       Casado            Casa   \n",
              "3           0   Empresário         Secundário       Casado            Casa   \n",
              "4           0  Assalariado         Secundário       Casado            Casa   \n",
              "\n",
              "   idade  tempo_emprego  qt_pessoas_residencia    mau    renda  \n",
              "0     36       3.575342                    3.0  False  3369.24  \n",
              "1     42       0.860274                    2.0  False  6096.14  \n",
              "2     31       8.065753                    4.0  False  5658.98  \n",
              "3     50       1.208219                    2.0  False  7246.69  \n",
              "4     52      13.873973                    2.0  False  4017.37  "
            ],
            "text/html": [
              "\n",
              "  <div id=\"df-f54a1d3d-8a96-4e61-87c0-24b97f0406ea\" class=\"colab-df-container\">\n",
              "    <div>\n",
              "<style scoped>\n",
              "    .dataframe tbody tr th:only-of-type {\n",
              "        vertical-align: middle;\n",
              "    }\n",
              "\n",
              "    .dataframe tbody tr th {\n",
              "        vertical-align: top;\n",
              "    }\n",
              "\n",
              "    .dataframe thead th {\n",
              "        text-align: right;\n",
              "    }\n",
              "</style>\n",
              "<table border=\"1\" class=\"dataframe\">\n",
              "  <thead>\n",
              "    <tr style=\"text-align: right;\">\n",
              "      <th></th>\n",
              "      <th>Unnamed: 0</th>\n",
              "      <th>data_ref</th>\n",
              "      <th>index</th>\n",
              "      <th>sexo</th>\n",
              "      <th>posse_de_veiculo</th>\n",
              "      <th>posse_de_imovel</th>\n",
              "      <th>qtd_filhos</th>\n",
              "      <th>tipo_renda</th>\n",
              "      <th>educacao</th>\n",
              "      <th>estado_civil</th>\n",
              "      <th>tipo_residencia</th>\n",
              "      <th>idade</th>\n",
              "      <th>tempo_emprego</th>\n",
              "      <th>qt_pessoas_residencia</th>\n",
              "      <th>mau</th>\n",
              "      <th>renda</th>\n",
              "    </tr>\n",
              "  </thead>\n",
              "  <tbody>\n",
              "    <tr>\n",
              "      <th>0</th>\n",
              "      <td>0</td>\n",
              "      <td>2015-01-01</td>\n",
              "      <td>8682</td>\n",
              "      <td>F</td>\n",
              "      <td>False</td>\n",
              "      <td>True</td>\n",
              "      <td>1</td>\n",
              "      <td>Assalariado</td>\n",
              "      <td>Secundário</td>\n",
              "      <td>Casado</td>\n",
              "      <td>Casa</td>\n",
              "      <td>36</td>\n",
              "      <td>3.575342</td>\n",
              "      <td>3.0</td>\n",
              "      <td>False</td>\n",
              "      <td>3369.24</td>\n",
              "    </tr>\n",
              "    <tr>\n",
              "      <th>1</th>\n",
              "      <td>1</td>\n",
              "      <td>2015-01-01</td>\n",
              "      <td>12830</td>\n",
              "      <td>M</td>\n",
              "      <td>True</td>\n",
              "      <td>True</td>\n",
              "      <td>0</td>\n",
              "      <td>Empresário</td>\n",
              "      <td>Secundário</td>\n",
              "      <td>Casado</td>\n",
              "      <td>Casa</td>\n",
              "      <td>42</td>\n",
              "      <td>0.860274</td>\n",
              "      <td>2.0</td>\n",
              "      <td>False</td>\n",
              "      <td>6096.14</td>\n",
              "    </tr>\n",
              "    <tr>\n",
              "      <th>2</th>\n",
              "      <td>2</td>\n",
              "      <td>2015-01-01</td>\n",
              "      <td>2885</td>\n",
              "      <td>M</td>\n",
              "      <td>True</td>\n",
              "      <td>True</td>\n",
              "      <td>2</td>\n",
              "      <td>Assalariado</td>\n",
              "      <td>Superior completo</td>\n",
              "      <td>Casado</td>\n",
              "      <td>Casa</td>\n",
              "      <td>31</td>\n",
              "      <td>8.065753</td>\n",
              "      <td>4.0</td>\n",
              "      <td>False</td>\n",
              "      <td>5658.98</td>\n",
              "    </tr>\n",
              "    <tr>\n",
              "      <th>3</th>\n",
              "      <td>3</td>\n",
              "      <td>2015-01-01</td>\n",
              "      <td>16168</td>\n",
              "      <td>F</td>\n",
              "      <td>True</td>\n",
              "      <td>False</td>\n",
              "      <td>0</td>\n",
              "      <td>Empresário</td>\n",
              "      <td>Secundário</td>\n",
              "      <td>Casado</td>\n",
              "      <td>Casa</td>\n",
              "      <td>50</td>\n",
              "      <td>1.208219</td>\n",
              "      <td>2.0</td>\n",
              "      <td>False</td>\n",
              "      <td>7246.69</td>\n",
              "    </tr>\n",
              "    <tr>\n",
              "      <th>4</th>\n",
              "      <td>4</td>\n",
              "      <td>2015-01-01</td>\n",
              "      <td>12438</td>\n",
              "      <td>M</td>\n",
              "      <td>False</td>\n",
              "      <td>False</td>\n",
              "      <td>0</td>\n",
              "      <td>Assalariado</td>\n",
              "      <td>Secundário</td>\n",
              "      <td>Casado</td>\n",
              "      <td>Casa</td>\n",
              "      <td>52</td>\n",
              "      <td>13.873973</td>\n",
              "      <td>2.0</td>\n",
              "      <td>False</td>\n",
              "      <td>4017.37</td>\n",
              "    </tr>\n",
              "  </tbody>\n",
              "</table>\n",
              "</div>\n",
              "    <div class=\"colab-df-buttons\">\n",
              "\n",
              "  <div class=\"colab-df-container\">\n",
              "    <button class=\"colab-df-convert\" onclick=\"convertToInteractive('df-f54a1d3d-8a96-4e61-87c0-24b97f0406ea')\"\n",
              "            title=\"Convert this dataframe to an interactive table.\"\n",
              "            style=\"display:none;\">\n",
              "\n",
              "  <svg xmlns=\"http://www.w3.org/2000/svg\" height=\"24px\" viewBox=\"0 -960 960 960\">\n",
              "    <path d=\"M120-120v-720h720v720H120Zm60-500h600v-160H180v160Zm220 220h160v-160H400v160Zm0 220h160v-160H400v160ZM180-400h160v-160H180v160Zm440 0h160v-160H620v160ZM180-180h160v-160H180v160Zm440 0h160v-160H620v160Z\"/>\n",
              "  </svg>\n",
              "    </button>\n",
              "\n",
              "  <style>\n",
              "    .colab-df-container {\n",
              "      display:flex;\n",
              "      gap: 12px;\n",
              "    }\n",
              "\n",
              "    .colab-df-convert {\n",
              "      background-color: #E8F0FE;\n",
              "      border: none;\n",
              "      border-radius: 50%;\n",
              "      cursor: pointer;\n",
              "      display: none;\n",
              "      fill: #1967D2;\n",
              "      height: 32px;\n",
              "      padding: 0 0 0 0;\n",
              "      width: 32px;\n",
              "    }\n",
              "\n",
              "    .colab-df-convert:hover {\n",
              "      background-color: #E2EBFA;\n",
              "      box-shadow: 0px 1px 2px rgba(60, 64, 67, 0.3), 0px 1px 3px 1px rgba(60, 64, 67, 0.15);\n",
              "      fill: #174EA6;\n",
              "    }\n",
              "\n",
              "    .colab-df-buttons div {\n",
              "      margin-bottom: 4px;\n",
              "    }\n",
              "\n",
              "    [theme=dark] .colab-df-convert {\n",
              "      background-color: #3B4455;\n",
              "      fill: #D2E3FC;\n",
              "    }\n",
              "\n",
              "    [theme=dark] .colab-df-convert:hover {\n",
              "      background-color: #434B5C;\n",
              "      box-shadow: 0px 1px 3px 1px rgba(0, 0, 0, 0.15);\n",
              "      filter: drop-shadow(0px 1px 2px rgba(0, 0, 0, 0.3));\n",
              "      fill: #FFFFFF;\n",
              "    }\n",
              "  </style>\n",
              "\n",
              "    <script>\n",
              "      const buttonEl =\n",
              "        document.querySelector('#df-f54a1d3d-8a96-4e61-87c0-24b97f0406ea button.colab-df-convert');\n",
              "      buttonEl.style.display =\n",
              "        google.colab.kernel.accessAllowed ? 'block' : 'none';\n",
              "\n",
              "      async function convertToInteractive(key) {\n",
              "        const element = document.querySelector('#df-f54a1d3d-8a96-4e61-87c0-24b97f0406ea');\n",
              "        const dataTable =\n",
              "          await google.colab.kernel.invokeFunction('convertToInteractive',\n",
              "                                                    [key], {});\n",
              "        if (!dataTable) return;\n",
              "\n",
              "        const docLinkHtml = 'Like what you see? Visit the ' +\n",
              "          '<a target=\"_blank\" href=https://colab.research.google.com/notebooks/data_table.ipynb>data table notebook</a>'\n",
              "          + ' to learn more about interactive tables.';\n",
              "        element.innerHTML = '';\n",
              "        dataTable['output_type'] = 'display_data';\n",
              "        await google.colab.output.renderOutput(dataTable, element);\n",
              "        const docLink = document.createElement('div');\n",
              "        docLink.innerHTML = docLinkHtml;\n",
              "        element.appendChild(docLink);\n",
              "      }\n",
              "    </script>\n",
              "  </div>\n",
              "\n",
              "\n",
              "<div id=\"df-02401576-49bb-45ca-9536-162634391cc8\">\n",
              "  <button class=\"colab-df-quickchart\" onclick=\"quickchart('df-02401576-49bb-45ca-9536-162634391cc8')\"\n",
              "            title=\"Suggest charts\"\n",
              "            style=\"display:none;\">\n",
              "\n",
              "<svg xmlns=\"http://www.w3.org/2000/svg\" height=\"24px\"viewBox=\"0 0 24 24\"\n",
              "     width=\"24px\">\n",
              "    <g>\n",
              "        <path d=\"M19 3H5c-1.1 0-2 .9-2 2v14c0 1.1.9 2 2 2h14c1.1 0 2-.9 2-2V5c0-1.1-.9-2-2-2zM9 17H7v-7h2v7zm4 0h-2V7h2v10zm4 0h-2v-4h2v4z\"/>\n",
              "    </g>\n",
              "</svg>\n",
              "  </button>\n",
              "\n",
              "<style>\n",
              "  .colab-df-quickchart {\n",
              "      --bg-color: #E8F0FE;\n",
              "      --fill-color: #1967D2;\n",
              "      --hover-bg-color: #E2EBFA;\n",
              "      --hover-fill-color: #174EA6;\n",
              "      --disabled-fill-color: #AAA;\n",
              "      --disabled-bg-color: #DDD;\n",
              "  }\n",
              "\n",
              "  [theme=dark] .colab-df-quickchart {\n",
              "      --bg-color: #3B4455;\n",
              "      --fill-color: #D2E3FC;\n",
              "      --hover-bg-color: #434B5C;\n",
              "      --hover-fill-color: #FFFFFF;\n",
              "      --disabled-bg-color: #3B4455;\n",
              "      --disabled-fill-color: #666;\n",
              "  }\n",
              "\n",
              "  .colab-df-quickchart {\n",
              "    background-color: var(--bg-color);\n",
              "    border: none;\n",
              "    border-radius: 50%;\n",
              "    cursor: pointer;\n",
              "    display: none;\n",
              "    fill: var(--fill-color);\n",
              "    height: 32px;\n",
              "    padding: 0;\n",
              "    width: 32px;\n",
              "  }\n",
              "\n",
              "  .colab-df-quickchart:hover {\n",
              "    background-color: var(--hover-bg-color);\n",
              "    box-shadow: 0 1px 2px rgba(60, 64, 67, 0.3), 0 1px 3px 1px rgba(60, 64, 67, 0.15);\n",
              "    fill: var(--button-hover-fill-color);\n",
              "  }\n",
              "\n",
              "  .colab-df-quickchart-complete:disabled,\n",
              "  .colab-df-quickchart-complete:disabled:hover {\n",
              "    background-color: var(--disabled-bg-color);\n",
              "    fill: var(--disabled-fill-color);\n",
              "    box-shadow: none;\n",
              "  }\n",
              "\n",
              "  .colab-df-spinner {\n",
              "    border: 2px solid var(--fill-color);\n",
              "    border-color: transparent;\n",
              "    border-bottom-color: var(--fill-color);\n",
              "    animation:\n",
              "      spin 1s steps(1) infinite;\n",
              "  }\n",
              "\n",
              "  @keyframes spin {\n",
              "    0% {\n",
              "      border-color: transparent;\n",
              "      border-bottom-color: var(--fill-color);\n",
              "      border-left-color: var(--fill-color);\n",
              "    }\n",
              "    20% {\n",
              "      border-color: transparent;\n",
              "      border-left-color: var(--fill-color);\n",
              "      border-top-color: var(--fill-color);\n",
              "    }\n",
              "    30% {\n",
              "      border-color: transparent;\n",
              "      border-left-color: var(--fill-color);\n",
              "      border-top-color: var(--fill-color);\n",
              "      border-right-color: var(--fill-color);\n",
              "    }\n",
              "    40% {\n",
              "      border-color: transparent;\n",
              "      border-right-color: var(--fill-color);\n",
              "      border-top-color: var(--fill-color);\n",
              "    }\n",
              "    60% {\n",
              "      border-color: transparent;\n",
              "      border-right-color: var(--fill-color);\n",
              "    }\n",
              "    80% {\n",
              "      border-color: transparent;\n",
              "      border-right-color: var(--fill-color);\n",
              "      border-bottom-color: var(--fill-color);\n",
              "    }\n",
              "    90% {\n",
              "      border-color: transparent;\n",
              "      border-bottom-color: var(--fill-color);\n",
              "    }\n",
              "  }\n",
              "</style>\n",
              "\n",
              "  <script>\n",
              "    async function quickchart(key) {\n",
              "      const quickchartButtonEl =\n",
              "        document.querySelector('#' + key + ' button');\n",
              "      quickchartButtonEl.disabled = true;  // To prevent multiple clicks.\n",
              "      quickchartButtonEl.classList.add('colab-df-spinner');\n",
              "      try {\n",
              "        const charts = await google.colab.kernel.invokeFunction(\n",
              "            'suggestCharts', [key], {});\n",
              "      } catch (error) {\n",
              "        console.error('Error during call to suggestCharts:', error);\n",
              "      }\n",
              "      quickchartButtonEl.classList.remove('colab-df-spinner');\n",
              "      quickchartButtonEl.classList.add('colab-df-quickchart-complete');\n",
              "    }\n",
              "    (() => {\n",
              "      let quickchartButtonEl =\n",
              "        document.querySelector('#df-02401576-49bb-45ca-9536-162634391cc8 button');\n",
              "      quickchartButtonEl.style.display =\n",
              "        google.colab.kernel.accessAllowed ? 'block' : 'none';\n",
              "    })();\n",
              "  </script>\n",
              "</div>\n",
              "\n",
              "    </div>\n",
              "  </div>\n"
            ],
            "application/vnd.google.colaboratory.intrinsic+json": {
              "type": "dataframe",
              "variable_name": "df",
              "summary": "{\n  \"name\": \"df\",\n  \"rows\": 15000,\n  \"fields\": [\n    {\n      \"column\": \"Unnamed: 0\",\n      \"properties\": {\n        \"dtype\": \"number\",\n        \"std\": 4330,\n        \"min\": 0,\n        \"max\": 14999,\n        \"num_unique_values\": 15000,\n        \"samples\": [\n          11499,\n          6475,\n          13167\n        ],\n        \"semantic_type\": \"\",\n        \"description\": \"\"\n      }\n    },\n    {\n      \"column\": \"data_ref\",\n      \"properties\": {\n        \"dtype\": \"object\",\n        \"num_unique_values\": 15,\n        \"samples\": [\n          \"2015-10-01\",\n          \"2015-12-01\",\n          \"2015-01-01\"\n        ],\n        \"semantic_type\": \"\",\n        \"description\": \"\"\n      }\n    },\n    {\n      \"column\": \"index\",\n      \"properties\": {\n        \"dtype\": \"number\",\n        \"std\": 4800,\n        \"min\": 0,\n        \"max\": 16649,\n        \"num_unique_values\": 9837,\n        \"samples\": [\n          7869,\n          9652,\n          3336\n        ],\n        \"semantic_type\": \"\",\n        \"description\": \"\"\n      }\n    },\n    {\n      \"column\": \"sexo\",\n      \"properties\": {\n        \"dtype\": \"category\",\n        \"num_unique_values\": 2,\n        \"samples\": [\n          \"M\",\n          \"F\"\n        ],\n        \"semantic_type\": \"\",\n        \"description\": \"\"\n      }\n    },\n    {\n      \"column\": \"posse_de_veiculo\",\n      \"properties\": {\n        \"dtype\": \"boolean\",\n        \"num_unique_values\": 2,\n        \"samples\": [\n          true,\n          false\n        ],\n        \"semantic_type\": \"\",\n        \"description\": \"\"\n      }\n    },\n    {\n      \"column\": \"posse_de_imovel\",\n      \"properties\": {\n        \"dtype\": \"boolean\",\n        \"num_unique_values\": 2,\n        \"samples\": [\n          false,\n          true\n        ],\n        \"semantic_type\": \"\",\n        \"description\": \"\"\n      }\n    },\n    {\n      \"column\": \"qtd_filhos\",\n      \"properties\": {\n        \"dtype\": \"number\",\n        \"std\": 0,\n        \"min\": 0,\n        \"max\": 14,\n        \"num_unique_values\": 8,\n        \"samples\": [\n          0,\n          4\n        ],\n        \"semantic_type\": \"\",\n        \"description\": \"\"\n      }\n    },\n    {\n      \"column\": \"tipo_renda\",\n      \"properties\": {\n        \"dtype\": \"category\",\n        \"num_unique_values\": 5,\n        \"samples\": [\n          \"Empres\\u00e1rio\",\n          \"Bolsista\"\n        ],\n        \"semantic_type\": \"\",\n        \"description\": \"\"\n      }\n    },\n    {\n      \"column\": \"educacao\",\n      \"properties\": {\n        \"dtype\": \"category\",\n        \"num_unique_values\": 5,\n        \"samples\": [\n          \"Superior completo\",\n          \"P\\u00f3s gradua\\u00e7\\u00e3o\"\n        ],\n        \"semantic_type\": \"\",\n        \"description\": \"\"\n      }\n    },\n    {\n      \"column\": \"estado_civil\",\n      \"properties\": {\n        \"dtype\": \"category\",\n        \"num_unique_values\": 5,\n        \"samples\": [\n          \"Uni\\u00e3o\",\n          \"Vi\\u00favo\"\n        ],\n        \"semantic_type\": \"\",\n        \"description\": \"\"\n      }\n    },\n    {\n      \"column\": \"tipo_residencia\",\n      \"properties\": {\n        \"dtype\": \"category\",\n        \"num_unique_values\": 6,\n        \"samples\": [\n          \"Casa\",\n          \"Com os pais\"\n        ],\n        \"semantic_type\": \"\",\n        \"description\": \"\"\n      }\n    },\n    {\n      \"column\": \"idade\",\n      \"properties\": {\n        \"dtype\": \"number\",\n        \"std\": 11,\n        \"min\": 22,\n        \"max\": 68,\n        \"num_unique_values\": 47,\n        \"samples\": [\n          32,\n          45\n        ],\n        \"semantic_type\": \"\",\n        \"description\": \"\"\n      }\n    },\n    {\n      \"column\": \"tempo_emprego\",\n      \"properties\": {\n        \"dtype\": \"number\",\n        \"std\": 6.7802164260173745,\n        \"min\": 0.1917808219178082,\n        \"max\": 42.90684931506849,\n        \"num_unique_values\": 2571,\n        \"samples\": [\n          8.29041095890411,\n          8.473972602739726\n        ],\n        \"semantic_type\": \"\",\n        \"description\": \"\"\n      }\n    },\n    {\n      \"column\": \"qt_pessoas_residencia\",\n      \"properties\": {\n        \"dtype\": \"number\",\n        \"std\": 0.9223519814948123,\n        \"min\": 1.0,\n        \"max\": 15.0,\n        \"num_unique_values\": 9,\n        \"samples\": [\n          15.0,\n          2.0\n        ],\n        \"semantic_type\": \"\",\n        \"description\": \"\"\n      }\n    },\n    {\n      \"column\": \"mau\",\n      \"properties\": {\n        \"dtype\": \"boolean\",\n        \"num_unique_values\": 2,\n        \"samples\": [\n          true,\n          false\n        ],\n        \"semantic_type\": \"\",\n        \"description\": \"\"\n      }\n    },\n    {\n      \"column\": \"renda\",\n      \"properties\": {\n        \"dtype\": \"number\",\n        \"std\": 4628.571729203342,\n        \"min\": 159.9,\n        \"max\": 89918.04,\n        \"num_unique_values\": 9759,\n        \"samples\": [\n          14293.1,\n          5067.93\n        ],\n        \"semantic_type\": \"\",\n        \"description\": \"\"\n      }\n    }\n  ]\n}"
            }
          },
          "metadata": {},
          "execution_count": 3
        }
      ]
    },
    {
      "cell_type": "code",
      "source": [
        "df.info()"
      ],
      "metadata": {
        "colab": {
          "base_uri": "https://localhost:8080/"
        },
        "id": "fMJ9KysYZkDI",
        "outputId": "1221601d-ba7b-4b3c-f41a-3db6875753a2"
      },
      "execution_count": 4,
      "outputs": [
        {
          "output_type": "stream",
          "name": "stdout",
          "text": [
            "<class 'pandas.core.frame.DataFrame'>\n",
            "RangeIndex: 15000 entries, 0 to 14999\n",
            "Data columns (total 16 columns):\n",
            " #   Column                 Non-Null Count  Dtype  \n",
            "---  ------                 --------------  -----  \n",
            " 0   Unnamed: 0             15000 non-null  int64  \n",
            " 1   data_ref               15000 non-null  object \n",
            " 2   index                  15000 non-null  int64  \n",
            " 3   sexo                   15000 non-null  object \n",
            " 4   posse_de_veiculo       15000 non-null  bool   \n",
            " 5   posse_de_imovel        15000 non-null  bool   \n",
            " 6   qtd_filhos             15000 non-null  int64  \n",
            " 7   tipo_renda             15000 non-null  object \n",
            " 8   educacao               15000 non-null  object \n",
            " 9   estado_civil           15000 non-null  object \n",
            " 10  tipo_residencia        15000 non-null  object \n",
            " 11  idade                  15000 non-null  int64  \n",
            " 12  tempo_emprego          12466 non-null  float64\n",
            " 13  qt_pessoas_residencia  15000 non-null  float64\n",
            " 14  mau                    15000 non-null  bool   \n",
            " 15  renda                  15000 non-null  float64\n",
            "dtypes: bool(3), float64(3), int64(4), object(6)\n",
            "memory usage: 1.5+ MB\n"
          ]
        }
      ]
    },
    {
      "cell_type": "code",
      "source": [
        "sns.pointplot(x='posse_de_imovel', y='renda', data=df, dodge=True, errorbar=('ci', 90))\n",
        "plt.show()"
      ],
      "metadata": {
        "colab": {
          "base_uri": "https://localhost:8080/",
          "height": 450
        },
        "id": "VGZoK8xWa633",
        "outputId": "72f3ad51-4c04-41aa-88cc-dee92427ed64"
      },
      "execution_count": 19,
      "outputs": [
        {
          "output_type": "display_data",
          "data": {
            "text/plain": [
              "<Figure size 640x480 with 1 Axes>"
            ],
            "image/png": "[encoded data removed]"
          },
          "metadata": {}
        }
      ]
    },
    {
      "cell_type": "code",
      "source": [
        "sns.pointplot(x='posse_de_veiculo', y='renda', data=df, dodge=True, errorbar=('ci', 90))\n",
        "plt.show()"
      ],
      "metadata": {
        "colab": {
          "base_uri": "https://localhost:8080/",
          "height": 450
        },
        "id": "F28TgGN_bBWG",
        "outputId": "08749003-ed5e-4064-cc05-9d8df2cc3e60"
      },
      "execution_count": 20,
      "outputs": [
        {
          "output_type": "display_data",
          "data": {
            "text/plain": [
              "<Figure size 640x480 with 1 Axes>"
            ],
            "image/png": "[encoded data removed]"
          },
          "metadata": {}
        }
      ]
    },
    {
      "cell_type": "code",
      "source": [
        "renda_por_veiculo = df.groupby('posse_de_veiculo')['renda'].describe()\n",
        "print(\"\\nEstatísticas descritivas da renda por posse de veículo:\")\n",
        "print(renda_por_veiculo)"
      ],
      "metadata": {
        "colab": {
          "base_uri": "https://localhost:8080/"
        },
        "id": "lYErMWVQihLi",
        "outputId": "5c8a8c52-abef-414a-8b17-745f7abc8c23"
      },
      "execution_count": 21,
      "outputs": [
        {
          "output_type": "stream",
          "name": "stdout",
          "text": [
            "\n",
            "Estatísticas descritivas da renda por posse de veículo:\n",
            "                   count         mean          std     min      25%      50%  \\\n",
            "posse_de_veiculo                                                               \n",
            "False             9167.0  4390.506963  4545.776180  159.90  1825.39  3084.09   \n",
            "True              5833.0  4992.579609  4732.823337  187.69  2143.41  3564.43   \n",
            "\n",
            "                      75%       max  \n",
            "posse_de_veiculo                     \n",
            "False             5306.36  89918.04  \n",
            "True              6086.56  67794.54  \n"
          ]
        }
      ]
    },
    {
      "cell_type": "code",
      "source": [
        "renda_por_imovel = df.groupby('posse_de_imovel')['renda'].describe()\n",
        "print(\"\\nEstatísticas descritivas da renda por posse de imóvel:\")\n",
        "print(renda_por_imovel)"
      ],
      "metadata": {
        "colab": {
          "base_uri": "https://localhost:8080/"
        },
        "id": "5TFjI-6Oii1J",
        "outputId": "9819e6ad-27bb-48a3-887e-5700495f5d71"
      },
      "execution_count": 22,
      "outputs": [
        {
          "output_type": "stream",
          "name": "stdout",
          "text": [
            "\n",
            "Estatísticas descritivas da renda por posse de imóvel:\n",
            "                   count         mean          std     min        25%  \\\n",
            "posse_de_imovel                                                         \n",
            "False             4918.0  4426.970482  4569.558384  260.68  1822.4400   \n",
            "True             10082.0  4721.052704  4654.266817  159.90  2012.2375   \n",
            "\n",
            "                     50%       75%       max  \n",
            "posse_de_imovel                               \n",
            "False            3135.08  5405.255  67794.54  \n",
            "True             3341.20  5726.260  89918.04  \n"
          ]
        }
      ]
    },
    {
      "cell_type": "code",
      "source": [
        "renda_sem_veiculo = df[df['posse_de_veiculo'] == False]['renda']\n",
        "renda_com_veiculo = df[df['posse_de_veiculo'] == True]['renda']"
      ],
      "metadata": {
        "id": "G2PHjnAAilaK"
      },
      "execution_count": 23,
      "outputs": []
    },
    {
      "cell_type": "code",
      "source": [
        "renda_sem_imovel = df[df['posse_de_imovel'] == False]['renda']\n",
        "renda_com_imovel = df[df['posse_de_imovel'] == True]['renda']"
      ],
      "metadata": {
        "id": "HTxSi5pvioap"
      },
      "execution_count": 24,
      "outputs": []
    },
    {
      "cell_type": "code",
      "source": [
        "ttest_veiculo = ttest_ind(renda_sem_veiculo, renda_com_veiculo, equal_var=False)\n",
        "print(\"\\nTeste t de Student para posse de veículo:\")\n",
        "print(f\"Estatística t: {ttest_veiculo.statistic}, Valor p: {ttest_veiculo.pvalue}\")"
      ],
      "metadata": {
        "colab": {
          "base_uri": "https://localhost:8080/"
        },
        "id": "1kqEyZyeiqSh",
        "outputId": "4c6096cb-2b97-4a4f-d3d8-f74d0b79ae62"
      },
      "execution_count": 25,
      "outputs": [
        {
          "output_type": "stream",
          "name": "stdout",
          "text": [
            "\n",
            "Teste t de Student para posse de veículo:\n",
            "Estatística t: -7.712332220715903, Valor p: 1.3324346963629964e-14\n"
          ]
        }
      ]
    },
    {
      "cell_type": "code",
      "source": [
        "ttest_imovel = ttest_ind(renda_sem_imovel, renda_com_imovel, equal_var=False)\n",
        "print(\"\\nTeste t de Student para posse de imóvel:\")\n",
        "print(f\"Estatística t: {ttest_imovel.statistic}, Valor p: {ttest_imovel.pvalue}\")"
      ],
      "metadata": {
        "colab": {
          "base_uri": "https://localhost:8080/"
        },
        "id": "mQxzk_GoirXZ",
        "outputId": "34e05411-7fc8-418a-d51d-e5bfc198d2f6"
      },
      "execution_count": 26,
      "outputs": [
        {
          "output_type": "stream",
          "name": "stdout",
          "text": [
            "\n",
            "Teste t de Student para posse de imóvel:\n",
            "Estatística t: -3.677635545954218, Valor p: 0.00023665092205816239\n"
          ]
        }
      ]
    },
    {
      "cell_type": "code",
      "source": [
        "print(\"\\nInterpretação dos Resultados:\")"
      ],
      "metadata": {
        "colab": {
          "base_uri": "https://localhost:8080/"
        },
        "id": "EIYMA-b-is0h",
        "outputId": "b39b0bc0-03f9-4fdb-fa8a-bf627ec07e61"
      },
      "execution_count": 27,
      "outputs": [
        {
          "output_type": "stream",
          "name": "stdout",
          "text": [
            "\n",
            "Interpretação dos Resultados:\n"
          ]
        }
      ]
    },
    {
      "cell_type": "code",
      "source": [
        "if ttest_veiculo.pvalue < 0.05:\n",
        "    print(\"A posse de veículo discrimina a renda de forma estatisticamente significativa.\")\n",
        "else:\n",
        "    print(\"A posse de veículo não discrimina a renda de forma estatisticamente significativa.\")\n"
      ],
      "metadata": {
        "colab": {
          "base_uri": "https://localhost:8080/"
        },
        "id": "eSfcTyeWituS",
        "outputId": "c8b955ad-8bf9-4607-a17d-19750eae641e"
      },
      "execution_count": 28,
      "outputs": [
        {
          "output_type": "stream",
          "name": "stdout",
          "text": [
            "A posse de veículo discrimina a renda de forma estatisticamente significativa.\n"
          ]
        }
      ]
    },
    {
      "cell_type": "code",
      "source": [
        "if ttest_imovel.pvalue < 0.05:\n",
        "    print(\"A posse de imóvel discrimina a renda de forma estatisticamente significativa.\")\n",
        "else:\n",
        "    print(\"A posse de imóvel não discrimina a renda de forma estatisticamente significativa.\")"
      ],
      "metadata": {
        "id": "wnyC6lTriwFi",
        "outputId": "23961876-f4f9-46a4-9f43-04b45e081529",
        "colab": {
          "base_uri": "https://localhost:8080/"
        }
      },
      "execution_count": 29,
      "outputs": [
        {
          "output_type": "stream",
          "name": "stdout",
          "text": [
            "A posse de imóvel discrimina a renda de forma estatisticamente significativa.\n"
          ]
        }
      ]
    }
  ],
  "metadata": {
    "kernelspec": {
      "display_name": "Python 3",
      "language": "python",
      "name": "python3"
    },
    "language_info": {
      "codemirror_mode": {
        "name": "ipython",
        "version": 3
      },
      "file_extension": ".py",
      "mimetype": "text/x-python",
      "name": "python",
      "nbconvert_exporter": "python",
      "pygments_lexer": "ipython3",
      "version": "3.8.5"
    },
    "colab": {
      "provenance": []
    }
  },
  "nbformat": 4,
  "nbformat_minor": 0
}