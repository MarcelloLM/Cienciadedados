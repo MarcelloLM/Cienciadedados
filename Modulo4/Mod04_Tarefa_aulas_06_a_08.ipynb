{
  "cells": [
    {
      "cell_type": "markdown",
      "metadata": {
        "id": "Rupufk_GS-pj"
      },
      "source": [
        "# Tarefa 03\n",
        "\n",
        "- Leia os enunciados com atenção\n",
        "- Saiba que pode haver mais de uma resposta correta\n",
        "- Insira novas células de código sempre que achar necessário\n",
        "- Em caso de dúvidas, procure os Tutores\n",
        "- Divirta-se :)"
      ]
    },
    {
      "cell_type": "code",
      "execution_count": 2,
      "metadata": {
        "id": "Pa6fHt6oS-po"
      },
      "outputs": [],
      "source": [
        "import pandas as pd\n",
        "import requests"
      ]
    },
    {
      "cell_type": "markdown",
      "metadata": {
        "id": "xTQ4ROK_S-pp"
      },
      "source": [
        "####  1) Lendo de APIs\n",
        "Vimos em aula como carregar dados públicos do governo através de um API (*Application Programming Interface*). No exemplo de aula, baixamos os dados de pedidos de verificação de limites (PVL) realizados por estados, e selecionamos apenas aqueles referentes ao estado de São Paulo.\n",
        "\n",
        "1. Repita os mesmos passos feitos em aula, mas selecione os PVLs realizados por municípios no estado do Rio de Janeiro.\n",
        "2. Quais são os três *status* das solicitações mais frequentes na base? Quais são suas frequências?\n",
        "3. Construa uma nova variável que contenha o ano do **status**. Observe que ```data_status``` vem como tipo *object* no **DataFrame**. Dica: você pode usar o método ```.str``` para transformar o tipo da variável em string, em seguida um método como [**slice()**](https://pandas.pydata.org/docs/reference/api/pandas.Series.str.slice.html) ou [**split()**](https://pandas.pydata.org/pandas-docs/stable/reference/api/pandas.Series.str.split.html).\n",
        "4. Indique a frequência de cada ano do campo construído no item (3)."
      ]
    },
    {
      "cell_type": "markdown",
      "metadata": {
        "id": "6zjnT4Cks9Yx"
      },
      "source": [
        "# Ex 1"
      ]
    },
    {
      "cell_type": "code",
      "execution_count": 3,
      "metadata": {
        "id": "41wjCdGDS-pq"
      },
      "outputs": [],
      "source": [
        "url = \"https://apidatalake.tesouro.gov.br/ords/sadipem/tt/pvl?uf=RJ&tipo_interessado=Munic%C3%ADpio\""
      ]
    },
    {
      "cell_type": "code",
      "execution_count": 4,
      "metadata": {
        "id": "z23GxtaRtNY0"
      },
      "outputs": [],
      "source": [
        "r = requests.get(url)"
      ]
    },
    {
      "cell_type": "code",
      "execution_count": 5,
      "metadata": {
        "colab": {
          "base_uri": "https://localhost:8080/",
          "height": 617
        },
        "id": "qyFxJE8Rt012",
        "outputId": "370c153a-ca7c-46c4-940a-4ef0bf7c3573"
      },
      "outputs": [
        {
          "data": {
            "text/plain": [
              "200"
            ]
          },
          "execution_count": 5,
          "metadata": {},
          "output_type": "execute_result"
        }
      ],
      "source": [
        "r.status_code"
      ]
    },
    {
      "cell_type": "code",
      "execution_count": 6,
      "metadata": {},
      "outputs": [],
      "source": [
        "data_json = r.json()"
      ]
    },
    {
      "cell_type": "code",
      "execution_count": 12,
      "metadata": {},
      "outputs": [],
      "source": [
        "df = pd.DataFrame(data_json['items'])"
      ]
    },
    {
      "cell_type": "code",
      "execution_count": 14,
      "metadata": {},
      "outputs": [
        {
          "data": {
            "text/html": [
              "<div>\n",
              "<style scoped>\n",
              "    .dataframe tbody tr th:only-of-type {\n",
              "        vertical-align: middle;\n",
              "    }\n",
              "\n",
              "    .dataframe tbody tr th {\n",
              "        vertical-align: top;\n",
              "    }\n",
              "\n",
              "    .dataframe thead th {\n",
              "        text-align: right;\n",
              "    }\n",
              "</style>\n",
              "<table border=\"1\" class=\"dataframe\">\n",
              "  <thead>\n",
              "    <tr style=\"text-align: right;\">\n",
              "      <th></th>\n",
              "      <th>id_pleito</th>\n",
              "      <th>tipo_interessado</th>\n",
              "      <th>interessado</th>\n",
              "      <th>cod_ibge</th>\n",
              "      <th>uf</th>\n",
              "      <th>num_pvl</th>\n",
              "      <th>status</th>\n",
              "      <th>num_processo</th>\n",
              "      <th>data_protocolo</th>\n",
              "      <th>tipo_operacao</th>\n",
              "      <th>finalidade</th>\n",
              "      <th>tipo_credor</th>\n",
              "      <th>credor</th>\n",
              "      <th>moeda</th>\n",
              "      <th>valor</th>\n",
              "      <th>pvl_assoc_divida</th>\n",
              "      <th>pvl_contradado_credor</th>\n",
              "      <th>data_status</th>\n",
              "    </tr>\n",
              "  </thead>\n",
              "  <tbody>\n",
              "    <tr>\n",
              "      <th>0</th>\n",
              "      <td>38893</td>\n",
              "      <td>Município</td>\n",
              "      <td>Paty do Alferes</td>\n",
              "      <td>3303856</td>\n",
              "      <td>RJ</td>\n",
              "      <td>PVL02.007600/2019-05</td>\n",
              "      <td>Deferido (PVL-IF)</td>\n",
              "      <td>None</td>\n",
              "      <td>None</td>\n",
              "      <td>Operação contratual interna</td>\n",
              "      <td>Aquisição de máquinas, equipamentos e veículos</td>\n",
              "      <td>Instituição Financeira Nacional</td>\n",
              "      <td>Agência de Fomento do Estado do Rio de Janeiro</td>\n",
              "      <td>Real</td>\n",
              "      <td>3.512000e+06</td>\n",
              "      <td>0</td>\n",
              "      <td>1</td>\n",
              "      <td>30/10/2019</td>\n",
              "    </tr>\n",
              "    <tr>\n",
              "      <th>1</th>\n",
              "      <td>42252</td>\n",
              "      <td>Município</td>\n",
              "      <td>Itatiaia</td>\n",
              "      <td>3302254</td>\n",
              "      <td>RJ</td>\n",
              "      <td>PVL02.000042/2020-82</td>\n",
              "      <td>Encaminhado à PGFN com manifestação técnica fa...</td>\n",
              "      <td>17944.101489/2020-31</td>\n",
              "      <td>2020-05-19T13:29:59Z</td>\n",
              "      <td>Operação contratual interna (com garantia da U...</td>\n",
              "      <td>Infraestrutura</td>\n",
              "      <td>Instituição Financeira Nacional</td>\n",
              "      <td>Banco do Brasil S/A</td>\n",
              "      <td>Real</td>\n",
              "      <td>3.000000e+07</td>\n",
              "      <td>1</td>\n",
              "      <td>1</td>\n",
              "      <td>21/05/2020</td>\n",
              "    </tr>\n",
              "    <tr>\n",
              "      <th>2</th>\n",
              "      <td>65245</td>\n",
              "      <td>Município</td>\n",
              "      <td>Rio de Janeiro</td>\n",
              "      <td>3304557</td>\n",
              "      <td>RJ</td>\n",
              "      <td>PVL02.001203/2023-06</td>\n",
              "      <td>Encaminhado à PGFN com manifestação técnica fa...</td>\n",
              "      <td>17944.102641/2023-45</td>\n",
              "      <td>2023-07-26T13:58:05Z</td>\n",
              "      <td>Operação contratual interna (com garantia da U...</td>\n",
              "      <td>Pró-Transporte</td>\n",
              "      <td>Instituição Financeira Nacional</td>\n",
              "      <td>Caixa Econômica Federal</td>\n",
              "      <td>Real</td>\n",
              "      <td>6.459310e+08</td>\n",
              "      <td>0</td>\n",
              "      <td>1</td>\n",
              "      <td>03/08/2023</td>\n",
              "    </tr>\n",
              "    <tr>\n",
              "      <th>3</th>\n",
              "      <td>66686</td>\n",
              "      <td>Município</td>\n",
              "      <td>São Pedro da Aldeia</td>\n",
              "      <td>3305208</td>\n",
              "      <td>RJ</td>\n",
              "      <td>PVL02.003206/2023-76</td>\n",
              "      <td>Deferido</td>\n",
              "      <td>17944.104387/2023-10</td>\n",
              "      <td>2023-09-12T15:46:32Z</td>\n",
              "      <td>Operação contratual interna</td>\n",
              "      <td>Infraestrutura</td>\n",
              "      <td>Instituição Financeira Nacional</td>\n",
              "      <td>Banco do Brasil S/A</td>\n",
              "      <td>Real</td>\n",
              "      <td>1.200000e+07</td>\n",
              "      <td>0</td>\n",
              "      <td>1</td>\n",
              "      <td>19/09/2023</td>\n",
              "    </tr>\n",
              "    <tr>\n",
              "      <th>4</th>\n",
              "      <td>68463</td>\n",
              "      <td>Município</td>\n",
              "      <td>Rio de Janeiro</td>\n",
              "      <td>3304557</td>\n",
              "      <td>RJ</td>\n",
              "      <td>PVL02.000745/2024-34</td>\n",
              "      <td>Em análise</td>\n",
              "      <td>17944.001955/2024-11</td>\n",
              "      <td>2024-06-06T14:49:09Z</td>\n",
              "      <td>Operação contratual interna (com garantia da U...</td>\n",
              "      <td>Pró-Transporte</td>\n",
              "      <td>Instituição Financeira Nacional</td>\n",
              "      <td>Caixa Econômica Federal</td>\n",
              "      <td>Real</td>\n",
              "      <td>1.414309e+08</td>\n",
              "      <td>0</td>\n",
              "      <td>0</td>\n",
              "      <td>07/06/2024</td>\n",
              "    </tr>\n",
              "    <tr>\n",
              "      <th>...</th>\n",
              "      <td>...</td>\n",
              "      <td>...</td>\n",
              "      <td>...</td>\n",
              "      <td>...</td>\n",
              "      <td>...</td>\n",
              "      <td>...</td>\n",
              "      <td>...</td>\n",
              "      <td>...</td>\n",
              "      <td>...</td>\n",
              "      <td>...</td>\n",
              "      <td>...</td>\n",
              "      <td>...</td>\n",
              "      <td>...</td>\n",
              "      <td>...</td>\n",
              "      <td>...</td>\n",
              "      <td>...</td>\n",
              "      <td>...</td>\n",
              "      <td>...</td>\n",
              "    </tr>\n",
              "    <tr>\n",
              "      <th>259</th>\n",
              "      <td>62993</td>\n",
              "      <td>Município</td>\n",
              "      <td>Paraíba do Sul</td>\n",
              "      <td>3303708</td>\n",
              "      <td>RJ</td>\n",
              "      <td>PVL02.000025/2023-98</td>\n",
              "      <td>Deferido (PVL-IF)</td>\n",
              "      <td>None</td>\n",
              "      <td>None</td>\n",
              "      <td>Operação contratual interna</td>\n",
              "      <td>Infraestrutura</td>\n",
              "      <td>Instituição Financeira Nacional</td>\n",
              "      <td>Banco do Brasil S/A</td>\n",
              "      <td>Real</td>\n",
              "      <td>3.900000e+06</td>\n",
              "      <td>0</td>\n",
              "      <td>1</td>\n",
              "      <td>28/03/2023</td>\n",
              "    </tr>\n",
              "    <tr>\n",
              "      <th>260</th>\n",
              "      <td>60039</td>\n",
              "      <td>Município</td>\n",
              "      <td>Petrópolis</td>\n",
              "      <td>3303906</td>\n",
              "      <td>RJ</td>\n",
              "      <td>PVL02.005942/2022-88</td>\n",
              "      <td>Deferido</td>\n",
              "      <td>17944.102384/2022-61</td>\n",
              "      <td>2022-06-21T13:12:44Z</td>\n",
              "      <td>Operação contratual interna</td>\n",
              "      <td>Infraestrutura</td>\n",
              "      <td>Instituição Financeira Nacional</td>\n",
              "      <td>Caixa Econômica Federal</td>\n",
              "      <td>Real</td>\n",
              "      <td>2.000000e+07</td>\n",
              "      <td>0</td>\n",
              "      <td>1</td>\n",
              "      <td>23/06/2022</td>\n",
              "    </tr>\n",
              "    <tr>\n",
              "      <th>261</th>\n",
              "      <td>10144</td>\n",
              "      <td>Município</td>\n",
              "      <td>Paracambi</td>\n",
              "      <td>3303609</td>\n",
              "      <td>RJ</td>\n",
              "      <td>None</td>\n",
              "      <td>Arquivado</td>\n",
              "      <td>17944.001131/2008-12</td>\n",
              "      <td>2008-04-09T03:00:00Z</td>\n",
              "      <td>Operação contratual interna</td>\n",
              "      <td>Caminho da Escola 2</td>\n",
              "      <td>Instituição Financeira Nacional</td>\n",
              "      <td>Banco do Brasil S/A</td>\n",
              "      <td>Real</td>\n",
              "      <td>3.454000e+05</td>\n",
              "      <td>0</td>\n",
              "      <td>0</td>\n",
              "      <td>26/08/2008</td>\n",
              "    </tr>\n",
              "    <tr>\n",
              "      <th>262</th>\n",
              "      <td>9312</td>\n",
              "      <td>Município</td>\n",
              "      <td>Nova Iguaçu</td>\n",
              "      <td>3303500</td>\n",
              "      <td>RJ</td>\n",
              "      <td>None</td>\n",
              "      <td>Regularizado</td>\n",
              "      <td>17944.000952/2007-51</td>\n",
              "      <td>2007-06-18T03:00:00Z</td>\n",
              "      <td>Operação contratual interna</td>\n",
              "      <td>Regularização de Dívida - Energia Elétrica</td>\n",
              "      <td>Empresa Não Estatal</td>\n",
              "      <td>Light - Serviços de Eletricidade S/A</td>\n",
              "      <td>Real</td>\n",
              "      <td>1.357389e+06</td>\n",
              "      <td>1</td>\n",
              "      <td>0</td>\n",
              "      <td>02/08/2007</td>\n",
              "    </tr>\n",
              "    <tr>\n",
              "      <th>263</th>\n",
              "      <td>8942</td>\n",
              "      <td>Município</td>\n",
              "      <td>São José de Ubá</td>\n",
              "      <td>3305133</td>\n",
              "      <td>RJ</td>\n",
              "      <td>None</td>\n",
              "      <td>Arquivado</td>\n",
              "      <td>17944.000871/2008-31</td>\n",
              "      <td>2008-12-26T02:00:00Z</td>\n",
              "      <td>Operação contratual interna</td>\n",
              "      <td>Caminho da Escola 2</td>\n",
              "      <td>Instituição Financeira Nacional</td>\n",
              "      <td>Banco do Brasil S/A</td>\n",
              "      <td>Real</td>\n",
              "      <td>2.994500e+05</td>\n",
              "      <td>0</td>\n",
              "      <td>0</td>\n",
              "      <td>13/03/2009</td>\n",
              "    </tr>\n",
              "  </tbody>\n",
              "</table>\n",
              "<p>264 rows × 18 columns</p>\n",
              "</div>"
            ],
            "text/plain": [
              "     id_pleito tipo_interessado          interessado  cod_ibge  uf  \\\n",
              "0        38893        Município      Paty do Alferes   3303856  RJ   \n",
              "1        42252        Município             Itatiaia   3302254  RJ   \n",
              "2        65245        Município       Rio de Janeiro   3304557  RJ   \n",
              "3        66686        Município  São Pedro da Aldeia   3305208  RJ   \n",
              "4        68463        Município       Rio de Janeiro   3304557  RJ   \n",
              "..         ...              ...                  ...       ...  ..   \n",
              "259      62993        Município       Paraíba do Sul   3303708  RJ   \n",
              "260      60039        Município           Petrópolis   3303906  RJ   \n",
              "261      10144        Município            Paracambi   3303609  RJ   \n",
              "262       9312        Município          Nova Iguaçu   3303500  RJ   \n",
              "263       8942        Município      São José de Ubá   3305133  RJ   \n",
              "\n",
              "                  num_pvl                                             status  \\\n",
              "0    PVL02.007600/2019-05                                  Deferido (PVL-IF)   \n",
              "1    PVL02.000042/2020-82  Encaminhado à PGFN com manifestação técnica fa...   \n",
              "2    PVL02.001203/2023-06  Encaminhado à PGFN com manifestação técnica fa...   \n",
              "3    PVL02.003206/2023-76                                           Deferido   \n",
              "4    PVL02.000745/2024-34                                         Em análise   \n",
              "..                    ...                                                ...   \n",
              "259  PVL02.000025/2023-98                                  Deferido (PVL-IF)   \n",
              "260  PVL02.005942/2022-88                                           Deferido   \n",
              "261                  None                                          Arquivado   \n",
              "262                  None                                       Regularizado   \n",
              "263                  None                                          Arquivado   \n",
              "\n",
              "             num_processo        data_protocolo  \\\n",
              "0                    None                  None   \n",
              "1    17944.101489/2020-31  2020-05-19T13:29:59Z   \n",
              "2    17944.102641/2023-45  2023-07-26T13:58:05Z   \n",
              "3    17944.104387/2023-10  2023-09-12T15:46:32Z   \n",
              "4    17944.001955/2024-11  2024-06-06T14:49:09Z   \n",
              "..                    ...                   ...   \n",
              "259                  None                  None   \n",
              "260  17944.102384/2022-61  2022-06-21T13:12:44Z   \n",
              "261  17944.001131/2008-12  2008-04-09T03:00:00Z   \n",
              "262  17944.000952/2007-51  2007-06-18T03:00:00Z   \n",
              "263  17944.000871/2008-31  2008-12-26T02:00:00Z   \n",
              "\n",
              "                                         tipo_operacao  \\\n",
              "0                          Operação contratual interna   \n",
              "1    Operação contratual interna (com garantia da U...   \n",
              "2    Operação contratual interna (com garantia da U...   \n",
              "3                          Operação contratual interna   \n",
              "4    Operação contratual interna (com garantia da U...   \n",
              "..                                                 ...   \n",
              "259                        Operação contratual interna   \n",
              "260                        Operação contratual interna   \n",
              "261                        Operação contratual interna   \n",
              "262                        Operação contratual interna   \n",
              "263                        Operação contratual interna   \n",
              "\n",
              "                                         finalidade  \\\n",
              "0    Aquisição de máquinas, equipamentos e veículos   \n",
              "1                                    Infraestrutura   \n",
              "2                                    Pró-Transporte   \n",
              "3                                    Infraestrutura   \n",
              "4                                    Pró-Transporte   \n",
              "..                                              ...   \n",
              "259                                  Infraestrutura   \n",
              "260                                  Infraestrutura   \n",
              "261                             Caminho da Escola 2   \n",
              "262      Regularização de Dívida - Energia Elétrica   \n",
              "263                             Caminho da Escola 2   \n",
              "\n",
              "                         tipo_credor  \\\n",
              "0    Instituição Financeira Nacional   \n",
              "1    Instituição Financeira Nacional   \n",
              "2    Instituição Financeira Nacional   \n",
              "3    Instituição Financeira Nacional   \n",
              "4    Instituição Financeira Nacional   \n",
              "..                               ...   \n",
              "259  Instituição Financeira Nacional   \n",
              "260  Instituição Financeira Nacional   \n",
              "261  Instituição Financeira Nacional   \n",
              "262              Empresa Não Estatal   \n",
              "263  Instituição Financeira Nacional   \n",
              "\n",
              "                                             credor moeda         valor  \\\n",
              "0    Agência de Fomento do Estado do Rio de Janeiro  Real  3.512000e+06   \n",
              "1                               Banco do Brasil S/A  Real  3.000000e+07   \n",
              "2                           Caixa Econômica Federal  Real  6.459310e+08   \n",
              "3                               Banco do Brasil S/A  Real  1.200000e+07   \n",
              "4                           Caixa Econômica Federal  Real  1.414309e+08   \n",
              "..                                              ...   ...           ...   \n",
              "259                             Banco do Brasil S/A  Real  3.900000e+06   \n",
              "260                         Caixa Econômica Federal  Real  2.000000e+07   \n",
              "261                             Banco do Brasil S/A  Real  3.454000e+05   \n",
              "262            Light - Serviços de Eletricidade S/A  Real  1.357389e+06   \n",
              "263                             Banco do Brasil S/A  Real  2.994500e+05   \n",
              "\n",
              "     pvl_assoc_divida  pvl_contradado_credor data_status  \n",
              "0                   0                      1  30/10/2019  \n",
              "1                   1                      1  21/05/2020  \n",
              "2                   0                      1  03/08/2023  \n",
              "3                   0                      1  19/09/2023  \n",
              "4                   0                      0  07/06/2024  \n",
              "..                ...                    ...         ...  \n",
              "259                 0                      1  28/03/2023  \n",
              "260                 0                      1  23/06/2022  \n",
              "261                 0                      0  26/08/2008  \n",
              "262                 1                      0  02/08/2007  \n",
              "263                 0                      0  13/03/2009  \n",
              "\n",
              "[264 rows x 18 columns]"
            ]
          },
          "execution_count": 14,
          "metadata": {},
          "output_type": "execute_result"
        }
      ],
      "source": [
        "df"
      ]
    },
    {
      "cell_type": "markdown",
      "metadata": {
        "id": "qkydYizss_-3"
      },
      "source": [
        "# Ex 2"
      ]
    },
    {
      "cell_type": "code",
      "execution_count": 16,
      "metadata": {
        "id": "EE2BNrspS-pq"
      },
      "outputs": [],
      "source": [
        "status_counts = df['status'].value_counts()"
      ]
    },
    {
      "cell_type": "code",
      "execution_count": 17,
      "metadata": {},
      "outputs": [],
      "source": [
        "top3_status = status_counts.nlargest(3)"
      ]
    },
    {
      "cell_type": "code",
      "execution_count": 18,
      "metadata": {},
      "outputs": [
        {
          "name": "stdout",
          "output_type": "stream",
          "text": [
            "Os três status mais frequentes e suas frequências são:\n",
            "status\n",
            "Deferido        106\n",
            "Arquivado        53\n",
            "Regularizado     26\n",
            "Name: count, dtype: int64\n"
          ]
        }
      ],
      "source": [
        "print(\"Os três status mais frequentes e suas frequências são:\")\n",
        "print(top3_status)"
      ]
    },
    {
      "cell_type": "markdown",
      "metadata": {
        "id": "bq-e0gUdtFB5"
      },
      "source": [
        "# Ex 3"
      ]
    },
    {
      "cell_type": "code",
      "execution_count": 25,
      "metadata": {
        "id": "UVrc_vBGS-pr"
      },
      "outputs": [],
      "source": [
        "df['ano_status'] = df['data_status'].str.split('/').str[-1]"
      ]
    },
    {
      "cell_type": "code",
      "execution_count": 26,
      "metadata": {},
      "outputs": [],
      "source": [
        "df['ano_status'] = df['ano_status'].astype(int)"
      ]
    },
    {
      "cell_type": "code",
      "execution_count": 27,
      "metadata": {},
      "outputs": [
        {
          "name": "stdout",
          "output_type": "stream",
          "text": [
            "     id_pleito tipo_interessado          interessado  cod_ibge  uf  \\\n",
            "0        38893        Município      Paty do Alferes   3303856  RJ   \n",
            "1        42252        Município             Itatiaia   3302254  RJ   \n",
            "2        65245        Município       Rio de Janeiro   3304557  RJ   \n",
            "3        66686        Município  São Pedro da Aldeia   3305208  RJ   \n",
            "4        68463        Município       Rio de Janeiro   3304557  RJ   \n",
            "..         ...              ...                  ...       ...  ..   \n",
            "259      62993        Município       Paraíba do Sul   3303708  RJ   \n",
            "260      60039        Município           Petrópolis   3303906  RJ   \n",
            "261      10144        Município            Paracambi   3303609  RJ   \n",
            "262       9312        Município          Nova Iguaçu   3303500  RJ   \n",
            "263       8942        Município      São José de Ubá   3305133  RJ   \n",
            "\n",
            "                  num_pvl                                             status  \\\n",
            "0    PVL02.007600/2019-05                                  Deferido (PVL-IF)   \n",
            "1    PVL02.000042/2020-82  Encaminhado à PGFN com manifestação técnica fa...   \n",
            "2    PVL02.001203/2023-06  Encaminhado à PGFN com manifestação técnica fa...   \n",
            "3    PVL02.003206/2023-76                                           Deferido   \n",
            "4    PVL02.000745/2024-34                                         Em análise   \n",
            "..                    ...                                                ...   \n",
            "259  PVL02.000025/2023-98                                  Deferido (PVL-IF)   \n",
            "260  PVL02.005942/2022-88                                           Deferido   \n",
            "261                  None                                          Arquivado   \n",
            "262                  None                                       Regularizado   \n",
            "263                  None                                          Arquivado   \n",
            "\n",
            "             num_processo        data_protocolo  \\\n",
            "0                    None                  None   \n",
            "1    17944.101489/2020-31  2020-05-19T13:29:59Z   \n",
            "2    17944.102641/2023-45  2023-07-26T13:58:05Z   \n",
            "3    17944.104387/2023-10  2023-09-12T15:46:32Z   \n",
            "4    17944.001955/2024-11  2024-06-06T14:49:09Z   \n",
            "..                    ...                   ...   \n",
            "259                  None                  None   \n",
            "260  17944.102384/2022-61  2022-06-21T13:12:44Z   \n",
            "261  17944.001131/2008-12  2008-04-09T03:00:00Z   \n",
            "262  17944.000952/2007-51  2007-06-18T03:00:00Z   \n",
            "263  17944.000871/2008-31  2008-12-26T02:00:00Z   \n",
            "\n",
            "                                         tipo_operacao  \\\n",
            "0                          Operação contratual interna   \n",
            "1    Operação contratual interna (com garantia da U...   \n",
            "2    Operação contratual interna (com garantia da U...   \n",
            "3                          Operação contratual interna   \n",
            "4    Operação contratual interna (com garantia da U...   \n",
            "..                                                 ...   \n",
            "259                        Operação contratual interna   \n",
            "260                        Operação contratual interna   \n",
            "261                        Operação contratual interna   \n",
            "262                        Operação contratual interna   \n",
            "263                        Operação contratual interna   \n",
            "\n",
            "                                         finalidade  \\\n",
            "0    Aquisição de máquinas, equipamentos e veículos   \n",
            "1                                    Infraestrutura   \n",
            "2                                    Pró-Transporte   \n",
            "3                                    Infraestrutura   \n",
            "4                                    Pró-Transporte   \n",
            "..                                              ...   \n",
            "259                                  Infraestrutura   \n",
            "260                                  Infraestrutura   \n",
            "261                             Caminho da Escola 2   \n",
            "262      Regularização de Dívida - Energia Elétrica   \n",
            "263                             Caminho da Escola 2   \n",
            "\n",
            "                         tipo_credor  \\\n",
            "0    Instituição Financeira Nacional   \n",
            "1    Instituição Financeira Nacional   \n",
            "2    Instituição Financeira Nacional   \n",
            "3    Instituição Financeira Nacional   \n",
            "4    Instituição Financeira Nacional   \n",
            "..                               ...   \n",
            "259  Instituição Financeira Nacional   \n",
            "260  Instituição Financeira Nacional   \n",
            "261  Instituição Financeira Nacional   \n",
            "262              Empresa Não Estatal   \n",
            "263  Instituição Financeira Nacional   \n",
            "\n",
            "                                             credor moeda         valor  \\\n",
            "0    Agência de Fomento do Estado do Rio de Janeiro  Real  3.512000e+06   \n",
            "1                               Banco do Brasil S/A  Real  3.000000e+07   \n",
            "2                           Caixa Econômica Federal  Real  6.459310e+08   \n",
            "3                               Banco do Brasil S/A  Real  1.200000e+07   \n",
            "4                           Caixa Econômica Federal  Real  1.414309e+08   \n",
            "..                                              ...   ...           ...   \n",
            "259                             Banco do Brasil S/A  Real  3.900000e+06   \n",
            "260                         Caixa Econômica Federal  Real  2.000000e+07   \n",
            "261                             Banco do Brasil S/A  Real  3.454000e+05   \n",
            "262            Light - Serviços de Eletricidade S/A  Real  1.357389e+06   \n",
            "263                             Banco do Brasil S/A  Real  2.994500e+05   \n",
            "\n",
            "     pvl_assoc_divida  pvl_contradado_credor data_status  ano_status  \n",
            "0                   0                      1  30/10/2019        2019  \n",
            "1                   1                      1  21/05/2020        2020  \n",
            "2                   0                      1  03/08/2023        2023  \n",
            "3                   0                      1  19/09/2023        2023  \n",
            "4                   0                      0  07/06/2024        2024  \n",
            "..                ...                    ...         ...         ...  \n",
            "259                 0                      1  28/03/2023        2023  \n",
            "260                 0                      1  23/06/2022        2022  \n",
            "261                 0                      0  26/08/2008        2008  \n",
            "262                 1                      0  02/08/2007        2007  \n",
            "263                 0                      0  13/03/2009        2009  \n",
            "\n",
            "[264 rows x 19 columns]\n"
          ]
        }
      ],
      "source": [
        "print(df)"
      ]
    },
    {
      "cell_type": "markdown",
      "metadata": {},
      "source": [
        "# EX 4"
      ]
    },
    {
      "cell_type": "code",
      "execution_count": 28,
      "metadata": {},
      "outputs": [],
      "source": [
        "frequencia_anos = df['ano_status'].value_counts()"
      ]
    },
    {
      "cell_type": "code",
      "execution_count": 29,
      "metadata": {},
      "outputs": [
        {
          "name": "stdout",
          "output_type": "stream",
          "text": [
            "Frequência de cada ano:\n",
            "ano_status\n",
            "2008    37\n",
            "2007    29\n",
            "2023    28\n",
            "2014    20\n",
            "2010    19\n",
            "2019    16\n",
            "2020    15\n",
            "2013    15\n",
            "2012    13\n",
            "2022    11\n",
            "2011    10\n",
            "2009     9\n",
            "2015     8\n",
            "2024     6\n",
            "2017     5\n",
            "2021     5\n",
            "2016     4\n",
            "2018     4\n",
            "2002     4\n",
            "2006     4\n",
            "2003     1\n",
            "2004     1\n",
            "Name: count, dtype: int64\n"
          ]
        }
      ],
      "source": [
        "print(\"Frequência de cada ano:\")\n",
        "print(frequencia_anos)"
      ]
    },
    {
      "cell_type": "markdown",
      "metadata": {
        "id": "hktVH9Y6S-pr"
      },
      "source": [
        "#  2) Melhorando a interação com o API\n",
        "Observe dois URLs de consultas diferentes, por exemplo o URL utilizado em aula, e o URL feito no exercício anterior. Compare-os e observe as diferenças.\n",
        "\n",
        "1. Faça uma função em Python que recebe como argumento o UF da consulta e o tipo de interessado (```'Estado'```ou ```Município```), e que devolve os dados da consulta no formato *DataFrame*.\n",
        "2. Quantas solicitações para o Estado podem ser consultadas para Minas Gerais com *status* em 'Arquivado por decurso de prazo' estão registradas?\n",
        "3. Qual é o município da Bahia com mais solicitações deferidas?\n",
        "4. Salve um arquivo .csv com os dados de solicitações da Bahia, com interessado = 'Estado'"
      ]
    },
    {
      "cell_type": "markdown",
      "metadata": {},
      "source": [
        "# EX 2.1"
      ]
    },
    {
      "cell_type": "code",
      "execution_count": 35,
      "metadata": {
        "id": "ckIzQb8_S-ps"
      },
      "outputs": [],
      "source": [
        "def consultar_dados_pvl(uf, tipo_interessado):\n",
        "    url_base = 'https://apidatalake.tesouro.gov.br/ords/sadipem/tt/pvl'\n",
        "    \n",
        "    parametros = {\n",
        "        'uf': uf,\n",
        "        'tipo_interessado': tipo_interessado\n",
        "    }\n",
        "    \n",
        "    try:\n",
        "        resposta = requests.get(url_base, params=parametros)\n",
        "        resposta.raise_for_status() \n",
        "\n",
        "        dados_json = resposta.json()\n",
        "        data = pd.DataFrame(dados_json['items'])\n",
        "\n",
        "        return data\n",
        "    \n",
        "    except requests.exceptions.RequestException as e:\n",
        "        print(f\"Erro ao realizar a solicitação: {e}\")"
      ]
    },
    {
      "cell_type": "markdown",
      "metadata": {},
      "source": [
        "# EX 2.2"
      ]
    },
    {
      "cell_type": "code",
      "execution_count": 36,
      "metadata": {
        "id": "ss_4kWQfS-ps"
      },
      "outputs": [],
      "source": [
        "dados_minas_gerais_arquivado = consultar_dados_pvl('MG', 'Estado')"
      ]
    },
    {
      "cell_type": "code",
      "execution_count": 37,
      "metadata": {},
      "outputs": [],
      "source": [
        "solicitacoes_arquivadas_mg = dados_minas_gerais_arquivado[dados_minas_gerais_arquivado['status'] == 'Arquivado por decurso de prazo']"
      ]
    },
    {
      "cell_type": "code",
      "execution_count": 38,
      "metadata": {},
      "outputs": [],
      "source": [
        "numero_solicitacoes_arquivadas_mg = len(solicitacoes_arquivadas_mg)"
      ]
    },
    {
      "cell_type": "code",
      "execution_count": 39,
      "metadata": {},
      "outputs": [
        {
          "name": "stdout",
          "output_type": "stream",
          "text": [
            "O número de solicitações para o Estado de Minas Gerais com status 'Arquivado por decurso de prazo' é: 1\n"
          ]
        }
      ],
      "source": [
        "print(f\"O número de solicitações para o Estado de Minas Gerais com status 'Arquivado por decurso de prazo' é: {numero_solicitacoes_arquivadas_mg}\")"
      ]
    },
    {
      "cell_type": "markdown",
      "metadata": {},
      "source": [
        "# EX 2.3"
      ]
    },
    {
      "cell_type": "code",
      "execution_count": 40,
      "metadata": {
        "id": "uTxKVG1dS-pt"
      },
      "outputs": [],
      "source": [
        "dados_bahia = consultar_dados_pvl('BA', 'Município')"
      ]
    },
    {
      "cell_type": "code",
      "execution_count": 41,
      "metadata": {},
      "outputs": [],
      "source": [
        "solicitacoes_deferidas_bahia = dados_bahia[dados_bahia['status'] == 'Deferido']"
      ]
    },
    {
      "cell_type": "code",
      "execution_count": 45,
      "metadata": {},
      "outputs": [],
      "source": [
        "solicitacoes_por_municipio = solicitacoes_deferidas_bahia.groupby('interessado').size()"
      ]
    },
    {
      "cell_type": "code",
      "execution_count": 46,
      "metadata": {},
      "outputs": [],
      "source": [
        "municipio_mais_solicitacoes_deferidas = solicitacoes_por_municipio.idxmax()"
      ]
    },
    {
      "cell_type": "code",
      "execution_count": 47,
      "metadata": {},
      "outputs": [],
      "source": [
        "numero_solicitacoes_deferidas_municipio_mais = solicitacoes_por_municipio.max()"
      ]
    },
    {
      "cell_type": "code",
      "execution_count": 48,
      "metadata": {},
      "outputs": [
        {
          "name": "stdout",
          "output_type": "stream",
          "text": [
            "O município da Bahia com mais solicitações deferidas é: Luís Eduardo Magalhães\n",
            "O número de solicitações deferidas para esse município é: 16\n"
          ]
        }
      ],
      "source": [
        "print(f\"O município da Bahia com mais solicitações deferidas é: {municipio_mais_solicitacoes_deferidas}\")\n",
        "print(f\"O número de solicitações deferidas para esse município é: {numero_solicitacoes_deferidas_municipio_mais}\")"
      ]
    },
    {
      "cell_type": "markdown",
      "metadata": {},
      "source": [
        "# EX 2.4"
      ]
    },
    {
      "cell_type": "code",
      "execution_count": 49,
      "metadata": {
        "id": "fHp0wjD5S-pt"
      },
      "outputs": [],
      "source": [
        "dados_estado_bahia = dados_bahia[dados_bahia['tipo_interessado'] == 'Estado']"
      ]
    },
    {
      "cell_type": "code",
      "execution_count": 50,
      "metadata": {},
      "outputs": [],
      "source": [
        "dados_estado_bahia.to_csv('solicitacoes_bahia_estado.csv', index=False)"
      ]
    },
    {
      "cell_type": "code",
      "execution_count": 51,
      "metadata": {},
      "outputs": [
        {
          "name": "stdout",
          "output_type": "stream",
          "text": [
            "Arquivo CSV salvo com sucesso!\n"
          ]
        }
      ],
      "source": [
        "print(\"Arquivo CSV salvo com sucesso!\")"
      ]
    }
  ],
  "metadata": {
    "colab": {
      "provenance": []
    },
    "kernelspec": {
      "display_name": "Python 3",
      "language": "python",
      "name": "python3"
    },
    "language_info": {
      "codemirror_mode": {
        "name": "ipython",
        "version": 3
      },
      "file_extension": ".py",
      "mimetype": "text/x-python",
      "name": "python",
      "nbconvert_exporter": "python",
      "pygments_lexer": "ipython3",
      "version": "3.12.4"
    }
  },
  "nbformat": 4,
  "nbformat_minor": 0
}
