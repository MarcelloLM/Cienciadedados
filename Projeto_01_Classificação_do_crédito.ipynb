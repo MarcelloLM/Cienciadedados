





<!DOCTYPE html>
<html lang="en" data-color-mode="auto" data-light-theme="light" data-dark-theme="dark" data-a11y-animated-images="system">
  <head>
    <meta charset="utf-8">
  <link rel="dns-prefetch" href="https://github.githubassets.com">
  <link rel="dns-prefetch" href="https://avatars.githubusercontent.com">
  <link rel="dns-prefetch" href="https://github-cloud.s3.amazonaws.com">
  <link rel="dns-prefetch" href="https://user-images.githubusercontent.com/">
  <link rel="preconnect" href="https://github.githubassets.com" crossorigin>
  <link rel="preconnect" href="https://avatars.githubusercontent.com">

  


  <link crossorigin="anonymous" media="all" rel="stylesheet" href="https://github.githubassets.com/assets/light-0946cdc16f15.css" /><link crossorigin="anonymous" media="all" rel="stylesheet" href="https://github.githubassets.com/assets/dark-3946c959759a.css" /><link data-color-theme="dark_dimmed" crossorigin="anonymous" media="all" rel="stylesheet" data-href="https://github.githubassets.com/assets/dark_dimmed-9b9a8c91acc5.css" /><link data-color-theme="dark_high_contrast" crossorigin="anonymous" media="all" rel="stylesheet" data-href="https://github.githubassets.com/assets/dark_high_contrast-11302a585e33.css" /><link data-color-theme="dark_colorblind" crossorigin="anonymous" media="all" rel="stylesheet" data-href="https://github.githubassets.com/assets/dark_colorblind-1a4564ab0fbf.css" /><link data-color-theme="light_colorblind" crossorigin="anonymous" media="all" rel="stylesheet" data-href="https://github.githubassets.com/assets/light_colorblind-12a8b2aa9101.css" /><link data-color-theme="light_high_contrast" crossorigin="anonymous" media="all" rel="stylesheet" data-href="https://github.githubassets.com/assets/light_high_contrast-5924a648f3e7.css" /><link data-color-theme="light_tritanopia" crossorigin="anonymous" media="all" rel="stylesheet" data-href="https://github.githubassets.com/assets/light_tritanopia-05358496cb79.css" /><link data-color-theme="dark_tritanopia" crossorigin="anonymous" media="all" rel="stylesheet" data-href="https://github.githubassets.com/assets/dark_tritanopia-aad6b801a158.css" />
    <link crossorigin="anonymous" media="all" rel="stylesheet" href="https://github.githubassets.com/assets/primer-primitives-fb1d51d1ef66.css" />
    <link crossorigin="anonymous" media="all" rel="stylesheet" href="https://github.githubassets.com/assets/primer-57c312e484b2.css" />
    <link crossorigin="anonymous" media="all" rel="stylesheet" href="https://github.githubassets.com/assets/global-0d04dfcdc794.css" />
    <link crossorigin="anonymous" media="all" rel="stylesheet" href="https://github.githubassets.com/assets/github-c7a3a0ac71d4.css" />
  <link crossorigin="anonymous" media="all" rel="stylesheet" href="https://github.githubassets.com/assets/code-536dffbfff5a.css" />



  <script crossorigin="anonymous" defer="defer" type="application/javascript" src="https://github.githubassets.com/assets/wp-runtime-377d421cc9f7.js"></script>
<script crossorigin="anonymous" defer="defer" type="application/javascript" src="https://github.githubassets.com/assets/vendors-node_modules_stacktrace-parser_dist_stack-trace-parser_esm_js-node_modules_github_bro-a4c183-ae93d3fba59c.js"></script>
<script crossorigin="anonymous" defer="defer" type="application/javascript" src="https://github.githubassets.com/assets/ui_packages_failbot_failbot_ts-e38c93eab86e.js"></script>
<script crossorigin="anonymous" defer="defer" type="application/javascript" src="https://github.githubassets.com/assets/environment-de3997b81651.js"></script>
<script crossorigin="anonymous" defer="defer" type="application/javascript" src="https://github.githubassets.com/assets/vendors-node_modules_github_selector-observer_dist_index_esm_js-2646a2c533e3.js"></script>
<script crossorigin="anonymous" defer="defer" type="application/javascript" src="https://github.githubassets.com/assets/vendors-node_modules_github_relative-time-element_dist_index_js-99e288659d4f.js"></script>
<script crossorigin="anonymous" defer="defer" type="application/javascript" src="https://github.githubassets.com/assets/vendors-node_modules_fzy_js_index_js-node_modules_github_markdown-toolbar-element_dist_index_js-e3de700a4c9d.js"></script>
<script crossorigin="anonymous" defer="defer" type="application/javascript" src="https://github.githubassets.com/assets/vendors-node_modules_delegated-events_dist_index_js-node_modules_github_auto-complete-element-5b3870-ff38694180c6.js"></script>
<script crossorigin="anonymous" defer="defer" type="application/javascript" src="https://github.githubassets.com/assets/vendors-node_modules_github_file-attachment-element_dist_index_js-node_modules_github_text-ex-3415a8-7ecc10fb88d0.js"></script>
<script crossorigin="anonymous" defer="defer" type="application/javascript" src="https://github.githubassets.com/assets/vendors-node_modules_github_filter-input-element_dist_index_js-node_modules_github_remote-inp-8873b7-5771678648e0.js"></script>
<script crossorigin="anonymous" defer="defer" type="application/javascript" src="https://github.githubassets.com/assets/vendors-node_modules_primer_view-components_app_components_primer_primer_js-node_modules_gith-3af896-ba2b2ef33e4b.js"></script>
<script crossorigin="anonymous" defer="defer" type="application/javascript" src="https://github.githubassets.com/assets/github-elements-7b037525f59f.js"></script>
<script crossorigin="anonymous" defer="defer" type="application/javascript" src="https://github.githubassets.com/assets/element-registry-8f404beaf269.js"></script>
<script crossorigin="anonymous" defer="defer" type="application/javascript" src="https://github.githubassets.com/assets/vendors-node_modules_lit-html_lit-html_js-9d9fe1859ce5.js"></script>
<script crossorigin="anonymous" defer="defer" type="application/javascript" src="https://github.githubassets.com/assets/vendors-node_modules_github_mini-throttle_dist_index_js-node_modules_github_alive-client_dist-bf5aa2-424aa982deef.js"></script>
<script crossorigin="anonymous" defer="defer" type="application/javascript" src="https://github.githubassets.com/assets/vendors-node_modules_github_turbo_dist_turbo_es2017-esm_js-ba0e4d5b3207.js"></script>
<script crossorigin="anonymous" defer="defer" type="application/javascript" src="https://github.githubassets.com/assets/vendors-node_modules_color-convert_index_js-node_modules_github_jtml_lib_index_js-40bf234a19dc.js"></script>
<script crossorigin="anonymous" defer="defer" type="application/javascript" src="https://github.githubassets.com/assets/vendors-node_modules_github_remote-form_dist_index_js-node_modules_scroll-anchoring_dist_scro-52dc4b-e1e33bfc0b7e.js"></script>
<script crossorigin="anonymous" defer="defer" type="application/javascript" src="https://github.githubassets.com/assets/vendors-node_modules_github_paste-markdown_dist_index_esm_js-node_modules_github_quote-select-743f1d-1b20d530fbf0.js"></script>
<script crossorigin="anonymous" defer="defer" type="application/javascript" src="https://github.githubassets.com/assets/app_assets_modules_github_updatable-content_ts-dadb69f79923.js"></script>
<script crossorigin="anonymous" defer="defer" type="application/javascript" src="https://github.githubassets.com/assets/app_assets_modules_github_behaviors_keyboard-shortcuts-helper_ts-app_assets_modules_github_be-f5afdb-3f05df4c282b.js"></script>
<script crossorigin="anonymous" defer="defer" type="application/javascript" src="https://github.githubassets.com/assets/app_assets_modules_github_blob-anchor_ts-app_assets_modules_github_code-editor_ts-app_assets_-8128e1-65aa849c94d7.js"></script>
<script crossorigin="anonymous" defer="defer" type="application/javascript" src="https://github.githubassets.com/assets/app_assets_modules_github_sticky-scroll-into-view_ts-1d145b63ed56.js"></script>
<script crossorigin="anonymous" defer="defer" type="application/javascript" src="https://github.githubassets.com/assets/app_assets_modules_github_behaviors_ajax-error_ts-app_assets_modules_github_behaviors_include-2e2258-dae7d38e0248.js"></script>
<script crossorigin="anonymous" defer="defer" type="application/javascript" src="https://github.githubassets.com/assets/app_assets_modules_github_behaviors_commenting_edit_ts-app_assets_modules_github_behaviors_ht-83c235-c97eacdef68a.js"></script>
<script crossorigin="anonymous" defer="defer" type="application/javascript" src="https://github.githubassets.com/assets/behaviors-d1b433c1b6c2.js"></script>
<script crossorigin="anonymous" defer="defer" type="application/javascript" src="https://github.githubassets.com/assets/vendors-node_modules_delegated-events_dist_index_js-node_modules_github_catalyst_lib_index_js-623425af41e1.js"></script>
<script crossorigin="anonymous" defer="defer" type="application/javascript" src="https://github.githubassets.com/assets/notifications-global-4dc6f295cc92.js"></script>
<script crossorigin="anonymous" defer="defer" type="application/javascript" src="https://github.githubassets.com/assets/code-menu-da1cefc25b0a.js"></script>
  
  <script crossorigin="anonymous" defer="defer" type="application/javascript" src="https://github.githubassets.com/assets/react-lib-26cb888452e9.js"></script>
<script crossorigin="anonymous" defer="defer" type="application/javascript" src="https://github.githubassets.com/assets/vendors-node_modules_primer_octicons-react_dist_index_esm_js-node_modules_primer_react_lib-es-ca6dae-a1133077cb2e.js"></script>
<script crossorigin="anonymous" defer="defer" type="application/javascript" src="https://github.githubassets.com/assets/vendors-node_modules_primer_react_lib-esm_Button_index_js-node_modules_primer_react_lib-esm_L-5634ab-42e8568c9a37.js"></script>
<script crossorigin="anonymous" defer="defer" type="application/javascript" src="https://github.githubassets.com/assets/vendors-node_modules_primer_behaviors_dist_esm_focus-zone_js-d55308df5023.js"></script>
<script crossorigin="anonymous" defer="defer" type="application/javascript" src="https://github.githubassets.com/assets/vendors-node_modules_primer_react_lib-esm_ActionList_index_js-node_modules_primer_react_lib-e-d264d6-f9d3bc6f32ea.js"></script>
<script crossorigin="anonymous" defer="defer" type="application/javascript" src="https://github.githubassets.com/assets/vendors-node_modules_dompurify_dist_purify_js-64d590970fa6.js"></script>
<script crossorigin="anonymous" defer="defer" type="application/javascript" src="https://github.githubassets.com/assets/vendors-node_modules_primer_react_lib-esm_ActionMenu_js-9f46ef9292fe.js"></script>
<script crossorigin="anonymous" defer="defer" type="application/javascript" src="https://github.githubassets.com/assets/vendors-node_modules_primer_behaviors_dist_esm_scroll-into-view_js-node_modules_primer_react_-04bb1b-dadff286ba44.js"></script>
<script crossorigin="anonymous" defer="defer" type="application/javascript" src="https://github.githubassets.com/assets/vendors-node_modules_primer_react_lib-esm_FormControl_FormControl_js-a0b171a7401f.js"></script>
<script crossorigin="anonymous" defer="defer" type="application/javascript" src="https://github.githubassets.com/assets/vendors-node_modules_primer_react_lib-esm_Dialog_ConfirmationDialog_js-node_modules_primer_re-3d8a84-e777e763812a.js"></script>
<script crossorigin="anonymous" defer="defer" type="application/javascript" src="https://github.githubassets.com/assets/vendors-node_modules_primer_react_lib-esm_PageLayout_PageLayout_js-4fa99e9ebc43.js"></script>
<script crossorigin="anonymous" defer="defer" type="application/javascript" src="https://github.githubassets.com/assets/vendors-node_modules_primer_react_lib-esm_TreeView_TreeView_js-24fd33d383d9.js"></script>
<script crossorigin="anonymous" defer="defer" type="application/javascript" src="https://github.githubassets.com/assets/vendors-node_modules_primer_react_lib-esm_Avatar_Avatar_js-node_modules_primer_react_lib-esm_-9d76dd-90f908d64068.js"></script>
<script crossorigin="anonymous" defer="defer" type="application/javascript" src="https://github.githubassets.com/assets/vendors-node_modules_github_blackbird-parser_dist_blackbird_js-fcd9d30e9b7e.js"></script>
<script crossorigin="anonymous" defer="defer" type="application/javascript" src="https://github.githubassets.com/assets/vendors-node_modules_primer_react_lib-esm_UnderlineNav2_index_js-node_modules_react-router-do-3a0e98-3da6649648f5.js"></script>
<script crossorigin="anonymous" defer="defer" type="application/javascript" src="https://github.githubassets.com/assets/vendors-node_modules_primer_react_lib-esm_AvatarStack_AvatarStack_js-node_modules_primer_reac-528269-51c7de1de076.js"></script>
<script crossorigin="anonymous" defer="defer" type="application/javascript" src="https://github.githubassets.com/assets/vendors-node_modules_primer_react_lib-esm_Button_LinkButton_js-node_modules_primer_react_lib--6e3f86-46f1f5d7b3f6.js"></script>
<script crossorigin="anonymous" defer="defer" type="application/javascript" src="https://github.githubassets.com/assets/ui_packages_react-core_deferred-registry_ts-ui_packages_react-core_AppContextProvider_tsx-ui_-ffd985-18d5698b6549.js"></script>
<script crossorigin="anonymous" defer="defer" type="application/javascript" src="https://github.githubassets.com/assets/ui_packages_react-core_Entry_tsx-8c7cce1646a4.js"></script>
<script crossorigin="anonymous" defer="defer" type="application/javascript" src="https://github.githubassets.com/assets/ui_packages_paths_path_ts-ui_packages_verified-fetch_verified-fetch_ts-ui_packages_safe-html_-d7e3f1-8681e57cea17.js"></script>
<script crossorigin="anonymous" defer="defer" type="application/javascript" src="https://github.githubassets.com/assets/app_assets_modules_react-shared_RefSelector_RefSelector_tsx-0ade0381bf11.js"></script>
<script crossorigin="anonymous" defer="defer" type="application/javascript" src="https://github.githubassets.com/assets/app_assets_modules_blackbird-monolith_hooks_use-navigate-to-query_ts-app_assets_modules_black-182e14-4606bbb51ec6.js"></script>
<script crossorigin="anonymous" defer="defer" type="application/javascript" src="https://github.githubassets.com/assets/ui_packages_trusted-types-policies_policy_ts-ui_packages_trusted-types_trusted-types_ts-app_a-af1c83-c0b6ae48f7ea.js"></script>
<script crossorigin="anonymous" defer="defer" type="application/javascript" src="https://github.githubassets.com/assets/react-code-view-3986245d6fec.js"></script>


  <title>Classifica-ao-do-credito-/Projeto_01_Classificação_do_crédito.ipynb at main · MarcelloLM/Classifica-ao-do-credito-</title>



  <meta name="route-pattern" content="/:user_id/:repository/blob/*name(/*path)">

    
  <meta name="current-catalog-service-hash" content="581425c0eaaa5e5e53c5b736f58a14dbe5d38b0be425901738ad0670bd1d5a33">


  <meta name="request-id" content="E673:4B30:1EF2ADE:2207F8D:645E2796" data-turbo-transient="true" /><meta name="html-safe-nonce" content="bd8a644c442886b51f85bee989cb16bdb390908e9738981612672e8abe711891" data-turbo-transient="true" /><meta name="visitor-payload" content="eyJyZWZlcnJlciI6Imh0dHBzOi8vZ2l0aHViLmNvbS9NYXJjZWxsb0xNL0NsYXNzaWZpY2EtYW8tZG8tY3JlZGl0by0iLCJyZXF1ZXN0X2lkIjoiRTY3Mzo0QjMwOjFFRjJBREU6MjIwN0Y4RDo2NDVFMjc5NiIsInZpc2l0b3JfaWQiOiI3NDAyMDcwMjA1ODE4NjE4OTM2IiwicmVnaW9uX2VkZ2UiOiJicmF6aWxzb3V0aCIsInJlZ2lvbl9yZW5kZXIiOiJpYWQifQ==" data-turbo-transient="true" /><meta name="visitor-hmac" content="9bb0a5eb0d07f6fdaf95040e7008f40cfdea73b27580ef4684a3e6c6b1ef95a0" data-turbo-transient="true" />


    <meta name="hovercard-subject-tag" content="repository:620038112" data-turbo-transient>


  <meta name="github-keyboard-shortcuts" content="repository,source-code,file-tree" data-turbo-transient="true" />
  

  <meta name="selected-link" value="repo_source" data-turbo-transient>
  <link rel="assets" href="https://github.githubassets.com/">

    <meta name="google-site-verification" content="c1kuD-K2HIVF635lypcsWPoD4kilo5-jA_wBFyT4uMY">
  <meta name="google-site-verification" content="KT5gs8h0wvaagLKAVWq8bbeNwnZZK1r1XQysX3xurLU">
  <meta name="google-site-verification" content="ZzhVyEFwb7w3e0-uOTltm8Jsck2F5StVihD0exw2fsA">
  <meta name="google-site-verification" content="GXs5KoUUkNCoaAZn7wPN-t01Pywp9M3sEjnt_3_ZWPc">
  <meta name="google-site-verification" content="Apib7-x98H0j5cPqHWwSMm6dNU4GmODRoqxLiDzdx9I">

<meta name="octolytics-url" content="https://collector.github.com/github/collect" /><meta name="octolytics-actor-id" content="106484381" /><meta name="octolytics-actor-login" content="MarcelloLM" /><meta name="octolytics-actor-hash" content="9750732fe8a1dc0f4beff2bdf72e61ab08e69cc44630fc6197fbcda62e867496" />

  <meta name="analytics-location" content="/&lt;user-name&gt;/&lt;repo-name&gt;/blob/show" data-turbo-transient="true" />

  




  

    <meta name="user-login" content="MarcelloLM">

  <link rel="sudo-modal" href="/sessions/sudo_modal">

    <meta name="viewport" content="width=device-width">
    
      <meta name="description" content="Contribute to MarcelloLM/Classifica-ao-do-credito- development by creating an account on GitHub.">
      <link rel="search" type="application/opensearchdescription+xml" href="/opensearch.xml" title="GitHub">
    <link rel="fluid-icon" href="https://github.com/fluidicon.png" title="GitHub">
    <meta property="fb:app_id" content="1401488693436528">
    <meta name="apple-itunes-app" content="app-id=1477376905" />
      <meta name="twitter:image:src" content="https://opengraph.githubassets.com/fe67a4c0c1e1b1a9c1df76ee5d9d9a0947b5112a60e4eca6cc33fdcd0ae75137/MarcelloLM/Classifica-ao-do-credito-" /><meta name="twitter:site" content="@github" /><meta name="twitter:card" content="summary_large_image" /><meta name="twitter:title" content="Classifica-ao-do-credito-/Projeto_01_Classificação_do_crédito.ipynb at main · MarcelloLM/Classifica-ao-do-credito-" /><meta name="twitter:description" content="Contribute to MarcelloLM/Classifica-ao-do-credito- development by creating an account on GitHub." />
      <meta property="og:image" content="https://opengraph.githubassets.com/fe67a4c0c1e1b1a9c1df76ee5d9d9a0947b5112a60e4eca6cc33fdcd0ae75137/MarcelloLM/Classifica-ao-do-credito-" /><meta property="og:image:alt" content="Contribute to MarcelloLM/Classifica-ao-do-credito- development by creating an account on GitHub." /><meta property="og:image:width" content="1200" /><meta property="og:image:height" content="600" /><meta property="og:site_name" content="GitHub" /><meta property="og:type" content="object" /><meta property="og:title" content="Classifica-ao-do-credito-/Projeto_01_Classificação_do_crédito.ipynb at main · MarcelloLM/Classifica-ao-do-credito-" /><meta property="og:url" content="https://github.com/MarcelloLM/Classifica-ao-do-credito-" /><meta property="og:description" content="Contribute to MarcelloLM/Classifica-ao-do-credito- development by creating an account on GitHub." />
      

      <link rel="shared-web-socket" href="wss://alive.github.com/_sockets/u/106484381/ws?session=eyJ2IjoiVjMiLCJ1IjoxMDY0ODQzODEsInMiOjExMTAwOTIzMDEsImMiOjMzODg2MTAzNTEsInQiOjE2ODM4OTIxMjN9--98d32ee8becf8b58a6d997ad4436fe78460b0828d5028555c9fa2d737508e56c" data-refresh-url="/_alive" data-session-id="e629916af211804d0b0bc93e234868046f677ebd856a43524e5a502ec3e01337">
      <link rel="shared-web-socket-src" href="/assets-cdn/worker/socket-worker-71e98f781d79.js">


        <meta name="hostname" content="github.com">


      <meta name="keyboard-shortcuts-preference" content="all">

        <meta name="expected-hostname" content="github.com">

    <meta name="enabled-features" content="TURBO_EXPERIMENT_RISKY,IMAGE_METRIC_TRACKING,GEOJSON_AZURE_MAPS">


  <meta http-equiv="x-pjax-version" content="3807c417764ef84ea7031968fd961b802b0cb95a11ee99ccfca958ed7b1d7914" data-turbo-track="reload">
  <meta http-equiv="x-pjax-csp-version" content="0db263f9a873141d8256f783c35f244c06d490aacc3b680f99794dd8fd59fb59" data-turbo-track="reload">
  <meta http-equiv="x-pjax-css-version" content="e8aa01474d0c779a222d3c578e207f1c2a3df88c4896c35f0c67bac5015a1869" data-turbo-track="reload">
  <meta http-equiv="x-pjax-js-version" content="f70ea5b9052274af7e78261f6d80aa2ae693009e3f178b2df9ff5f579348cca6" data-turbo-track="reload">

  <meta name="turbo-cache-control" content="no-preview" data-turbo-transient="">

      <meta name="turbo-cache-control" content="no-cache" data-turbo-transient>
    <meta data-hydrostats="publish">

  <meta name="go-import" content="github.com/MarcelloLM/Classifica-ao-do-credito- git https://github.com/MarcelloLM/Classifica-ao-do-credito-.git">

  <meta name="octolytics-dimension-user_id" content="106484381" /><meta name="octolytics-dimension-user_login" content="MarcelloLM" /><meta name="octolytics-dimension-repository_id" content="620038112" /><meta name="octolytics-dimension-repository_nwo" content="MarcelloLM/Classifica-ao-do-credito-" /><meta name="octolytics-dimension-repository_public" content="true" /><meta name="octolytics-dimension-repository_is_fork" content="false" /><meta name="octolytics-dimension-repository_network_root_id" content="620038112" /><meta name="octolytics-dimension-repository_network_root_nwo" content="MarcelloLM/Classifica-ao-do-credito-" />



  <meta name="turbo-body-classes" content="logged-in env-production page-responsive">


  <meta name="browser-stats-url" content="https://api.github.com/_private/browser/stats">

  <meta name="browser-errors-url" content="https://api.github.com/_private/browser/errors">

  <meta name="browser-optimizely-client-errors-url" content="https://api.github.com/_private/browser/optimizely_client/errors">

  <link rel="mask-icon" href="https://github.githubassets.com/pinned-octocat.svg" color="#000000">
  <link rel="alternate icon" class="js-site-favicon" type="image/png" href="https://github.githubassets.com/favicons/favicon.png">
  <link rel="icon" class="js-site-favicon" type="image/svg+xml" href="https://github.githubassets.com/favicons/favicon.svg">

<meta name="theme-color" content="#1e2327">
<meta name="color-scheme" content="light dark" />


  <link rel="manifest" href="/manifest.json" crossOrigin="use-credentials">

  </head>

  <body class="logged-in env-production page-responsive" style="word-wrap: break-word;">
    <div data-turbo-body class="logged-in env-production page-responsive" style="word-wrap: break-word;">
      


    <div class="position-relative js-header-wrapper ">
      <a href="#start-of-content" class="p-3 color-bg-accent-emphasis color-fg-on-emphasis show-on-focus js-skip-to-content">Skip to content</a>
      <span data-view-component="true" class="progress-pjax-loader Progress position-fixed width-full">
    <span style="width: 0%;" data-view-component="true" class="Progress-item progress-pjax-loader-bar left-0 top-0 color-bg-accent-emphasis"></span>
</span>      
      


        <script crossorigin="anonymous" defer="defer" type="application/javascript" src="https://github.githubassets.com/assets/vendors-node_modules_allex_crc32_lib_crc32_esm_js-node_modules_github_mini-throttle_dist_deco-26fa0f-02e7ed68dae1.js"></script>
<script crossorigin="anonymous" defer="defer" type="application/javascript" src="https://github.githubassets.com/assets/vendors-node_modules_github_clipboard-copy-element_dist_index_esm_js-node_modules_delegated-e-b37f7d-a9177ba414f2.js"></script>
<script crossorigin="anonymous" defer="defer" type="application/javascript" src="https://github.githubassets.com/assets/app_assets_modules_github_command-palette_items_help-item_ts-app_assets_modules_github_comman-48ad9d-beffe41c24a7.js"></script>
<script crossorigin="anonymous" defer="defer" type="application/javascript" src="https://github.githubassets.com/assets/command-palette-c2a5f7e7eb12.js"></script>

            <header class="Header js-details-container Details px-3 px-md-4 px-lg-5 flex-wrap flex-md-nowrap" role="banner">

    <div class="Header-item mt-n1 mb-n1  d-none d-md-flex">
      <a
  class="Header-link"
  href="https://github.com/"
  data-hotkey="g d"
  aria-label="Homepage "
  data-turbo="false"
  data-analytics-event="{&quot;category&quot;:&quot;Header&quot;,&quot;action&quot;:&quot;go to dashboard&quot;,&quot;label&quot;:&quot;icon:logo&quot;}"
>
  <svg height="32" aria-hidden="true" viewBox="0 0 16 16" version="1.1" width="32" data-view-component="true" class="octicon octicon-mark-github v-align-middle">
    <path d="M8 0c4.42 0 8 3.58 8 8a8.013 8.013 0 0 1-5.45 7.59c-.4.08-.55-.17-.55-.38 0-.27.01-1.13.01-2.2 0-.75-.25-1.23-.54-1.48 1.78-.2 3.65-.88 3.65-3.95 0-.88-.31-1.59-.82-2.15.08-.2.36-1.02-.08-2.12 0 0-.67-.22-2.2.82-.64-.18-1.32-.27-2-.27-.68 0-1.36.09-2 .27-1.53-1.03-2.2-.82-2.2-.82-.44 1.1-.16 1.92-.08 2.12-.51.56-.82 1.28-.82 2.15 0 3.06 1.86 3.75 3.64 3.95-.23.2-.44.55-.51 1.07-.46.21-1.61.55-2.33-.66-.15-.24-.6-.83-1.23-.82-.67.01-.27.38.01.53.34.19.73.9.82 1.13.16.45.68 1.31 2.69.94 0 .67.01 1.3.01 1.49 0 .21-.15.45-.55.38A7.995 7.995 0 0 1 0 8c0-4.42 3.58-8 8-8Z"></path>
</svg>
</a>

    </div>

    <div class="Header-item d-md-none">
        <button aria-label="Toggle navigation" aria-expanded="false" type="button" data-view-component="true" class="Header-link js-details-target btn-link">    <svg aria-hidden="true" height="24" viewBox="0 0 16 16" version="1.1" width="24" data-view-component="true" class="octicon octicon-three-bars">
    <path d="M1 2.75A.75.75 0 0 1 1.75 2h12.5a.75.75 0 0 1 0 1.5H1.75A.75.75 0 0 1 1 2.75Zm0 5A.75.75 0 0 1 1.75 7h12.5a.75.75 0 0 1 0 1.5H1.75A.75.75 0 0 1 1 7.75ZM1.75 12h12.5a.75.75 0 0 1 0 1.5H1.75a.75.75 0 0 1 0-1.5Z"></path>
</svg>
</button>    </div>

    <div class="Header-item Header-item--full flex-column flex-md-row width-full flex-order-2 flex-md-order-none mr-0 mt-3 mt-md-0 Details-content--hidden-not-important d-md-flex">
              


<template id="search-icon">
  <svg aria-hidden="true" height="16" viewBox="0 0 16 16" version="1.1" width="16" data-view-component="true" class="octicon octicon-search">
    <path d="M10.68 11.74a6 6 0 0 1-7.922-8.982 6 6 0 0 1 8.982 7.922l3.04 3.04a.749.749 0 0 1-.326 1.275.749.749 0 0 1-.734-.215ZM11.5 7a4.499 4.499 0 1 0-8.997 0A4.499 4.499 0 0 0 11.5 7Z"></path>
</svg>
</template>

<template id="code-icon">
  <svg aria-hidden="true" height="16" viewBox="0 0 16 16" version="1.1" width="16" data-view-component="true" class="octicon octicon-code">
    <path d="m11.28 3.22 4.25 4.25a.75.75 0 0 1 0 1.06l-4.25 4.25a.749.749 0 0 1-1.275-.326.749.749 0 0 1 .215-.734L13.94 8l-3.72-3.72a.749.749 0 0 1 .326-1.275.749.749 0 0 1 .734.215Zm-6.56 0a.751.751 0 0 1 1.042.018.751.751 0 0 1 .018 1.042L2.06 8l3.72 3.72a.749.749 0 0 1-.326 1.275.749.749 0 0 1-.734-.215L.47 8.53a.75.75 0 0 1 0-1.06Z"></path>
</svg>
</template>

<template id="file-code-icon">
  <svg aria-hidden="true" height="16" viewBox="0 0 16 16" version="1.1" width="16" data-view-component="true" class="octicon octicon-file-code">
    <path d="M4 1.75C4 .784 4.784 0 5.75 0h5.586c.464 0 .909.184 1.237.513l2.914 2.914c.329.328.513.773.513 1.237v8.586A1.75 1.75 0 0 1 14.25 15h-9a.75.75 0 0 1 0-1.5h9a.25.25 0 0 0 .25-.25V6h-2.75A1.75 1.75 0 0 1 10 4.25V1.5H5.75a.25.25 0 0 0-.25.25v2.5a.75.75 0 0 1-1.5 0Zm1.72 4.97a.75.75 0 0 1 1.06 0l2 2a.75.75 0 0 1 0 1.06l-2 2a.749.749 0 0 1-1.275-.326.749.749 0 0 1 .215-.734l1.47-1.47-1.47-1.47a.75.75 0 0 1 0-1.06ZM3.28 7.78 1.81 9.25l1.47 1.47a.751.751 0 0 1-.018 1.042.751.751 0 0 1-1.042.018l-2-2a.75.75 0 0 1 0-1.06l2-2a.751.751 0 0 1 1.042.018.751.751 0 0 1 .018 1.042Zm8.22-6.218V4.25c0 .138.112.25.25.25h2.688l-.011-.013-2.914-2.914-.013-.011Z"></path>
</svg>
</template>

<template id="history-icon">
  <svg aria-hidden="true" height="16" viewBox="0 0 16 16" version="1.1" width="16" data-view-component="true" class="octicon octicon-history">
    <path d="m.427 1.927 1.215 1.215a8.002 8.002 0 1 1-1.6 5.685.75.75 0 1 1 1.493-.154 6.5 6.5 0 1 0 1.18-4.458l1.358 1.358A.25.25 0 0 1 3.896 6H.25A.25.25 0 0 1 0 5.75V2.104a.25.25 0 0 1 .427-.177ZM7.75 4a.75.75 0 0 1 .75.75v2.992l2.028.812a.75.75 0 0 1-.557 1.392l-2.5-1A.751.751 0 0 1 7 8.25v-3.5A.75.75 0 0 1 7.75 4Z"></path>
</svg>
</template>

<template id="repo-icon">
  <svg aria-hidden="true" height="16" viewBox="0 0 16 16" version="1.1" width="16" data-view-component="true" class="octicon octicon-repo">
    <path d="M2 2.5A2.5 2.5 0 0 1 4.5 0h8.75a.75.75 0 0 1 .75.75v12.5a.75.75 0 0 1-.75.75h-2.5a.75.75 0 0 1 0-1.5h1.75v-2h-8a1 1 0 0 0-.714 1.7.75.75 0 1 1-1.072 1.05A2.495 2.495 0 0 1 2 11.5Zm10.5-1h-8a1 1 0 0 0-1 1v6.708A2.486 2.486 0 0 1 4.5 9h8ZM5 12.25a.25.25 0 0 1 .25-.25h3.5a.25.25 0 0 1 .25.25v3.25a.25.25 0 0 1-.4.2l-1.45-1.087a.249.249 0 0 0-.3 0L5.4 15.7a.25.25 0 0 1-.4-.2Z"></path>
</svg>
</template>

<template id="bookmark-icon">
  <svg aria-hidden="true" height="16" viewBox="0 0 16 16" version="1.1" width="16" data-view-component="true" class="octicon octicon-bookmark">
    <path d="M3 2.75C3 1.784 3.784 1 4.75 1h6.5c.966 0 1.75.784 1.75 1.75v11.5a.75.75 0 0 1-1.227.579L8 11.722l-3.773 3.107A.751.751 0 0 1 3 14.25Zm1.75-.25a.25.25 0 0 0-.25.25v9.91l3.023-2.489a.75.75 0 0 1 .954 0l3.023 2.49V2.75a.25.25 0 0 0-.25-.25Z"></path>
</svg>
</template>

<template id="plus-circle-icon">
  <svg aria-hidden="true" height="16" viewBox="0 0 16 16" version="1.1" width="16" data-view-component="true" class="octicon octicon-plus-circle">
    <path d="M8 0a8 8 0 1 1 0 16A8 8 0 0 1 8 0ZM1.5 8a6.5 6.5 0 1 0 13 0 6.5 6.5 0 0 0-13 0Zm7.25-3.25v2.5h2.5a.75.75 0 0 1 0 1.5h-2.5v2.5a.75.75 0 0 1-1.5 0v-2.5h-2.5a.75.75 0 0 1 0-1.5h2.5v-2.5a.75.75 0 0 1 1.5 0Z"></path>
</svg>
</template>

<template id="circle-icon">
  <svg aria-hidden="true" height="16" viewBox="0 0 16 16" version="1.1" width="16" data-view-component="true" class="octicon octicon-dot-fill">
    <path d="M8 4a4 4 0 1 1 0 8 4 4 0 0 1 0-8Z"></path>
</svg>
</template>

<template id="trash-icon">
  <svg aria-hidden="true" height="16" viewBox="0 0 16 16" version="1.1" width="16" data-view-component="true" class="octicon octicon-trash">
    <path d="M11 1.75V3h2.25a.75.75 0 0 1 0 1.5H2.75a.75.75 0 0 1 0-1.5H5V1.75C5 .784 5.784 0 6.75 0h2.5C10.216 0 11 .784 11 1.75ZM4.496 6.675l.66 6.6a.25.25 0 0 0 .249.225h5.19a.25.25 0 0 0 .249-.225l.66-6.6a.75.75 0 0 1 1.492.149l-.66 6.6A1.748 1.748 0 0 1 10.595 15h-5.19a1.75 1.75 0 0 1-1.741-1.575l-.66-6.6a.75.75 0 1 1 1.492-.15ZM6.5 1.75V3h3V1.75a.25.25 0 0 0-.25-.25h-2.5a.25.25 0 0 0-.25.25Z"></path>
</svg>
</template>

<template id="team-icon">
  <svg aria-hidden="true" height="16" viewBox="0 0 16 16" version="1.1" width="16" data-view-component="true" class="octicon octicon-people">
    <path d="M2 5.5a3.5 3.5 0 1 1 5.898 2.549 5.508 5.508 0 0 1 3.034 4.084.75.75 0 1 1-1.482.235 4 4 0 0 0-7.9 0 .75.75 0 0 1-1.482-.236A5.507 5.507 0 0 1 3.102 8.05 3.493 3.493 0 0 1 2 5.5ZM11 4a3.001 3.001 0 0 1 2.22 5.018 5.01 5.01 0 0 1 2.56 3.012.749.749 0 0 1-.885.954.752.752 0 0 1-.549-.514 3.507 3.507 0 0 0-2.522-2.372.75.75 0 0 1-.574-.73v-.352a.75.75 0 0 1 .416-.672A1.5 1.5 0 0 0 11 5.5.75.75 0 0 1 11 4Zm-5.5-.5a2 2 0 1 0-.001 3.999A2 2 0 0 0 5.5 3.5Z"></path>
</svg>
</template>

<template id="project-icon">
  <svg aria-hidden="true" height="16" viewBox="0 0 16 16" version="1.1" width="16" data-view-component="true" class="octicon octicon-project">
    <path d="M1.75 0h12.5C15.216 0 16 .784 16 1.75v12.5A1.75 1.75 0 0 1 14.25 16H1.75A1.75 1.75 0 0 1 0 14.25V1.75C0 .784.784 0 1.75 0ZM1.5 1.75v12.5c0 .138.112.25.25.25h12.5a.25.25 0 0 0 .25-.25V1.75a.25.25 0 0 0-.25-.25H1.75a.25.25 0 0 0-.25.25ZM11.75 3a.75.75 0 0 1 .75.75v7.5a.75.75 0 0 1-1.5 0v-7.5a.75.75 0 0 1 .75-.75Zm-8.25.75a.75.75 0 0 1 1.5 0v5.5a.75.75 0 0 1-1.5 0ZM8 3a.75.75 0 0 1 .75.75v3.5a.75.75 0 0 1-1.5 0v-3.5A.75.75 0 0 1 8 3Z"></path>
</svg>
</template>

<template id="pencil-icon">
  <svg aria-hidden="true" height="16" viewBox="0 0 16 16" version="1.1" width="16" data-view-component="true" class="octicon octicon-pencil">
    <path d="M11.013 1.427a1.75 1.75 0 0 1 2.474 0l1.086 1.086a1.75 1.75 0 0 1 0 2.474l-8.61 8.61c-.21.21-.47.364-.756.445l-3.251.93a.75.75 0 0 1-.927-.928l.929-3.25c.081-.286.235-.547.445-.758l8.61-8.61Zm.176 4.823L9.75 4.81l-6.286 6.287a.253.253 0 0 0-.064.108l-.558 1.953 1.953-.558a.253.253 0 0 0 .108-.064Zm1.238-3.763a.25.25 0 0 0-.354 0L10.811 3.75l1.439 1.44 1.263-1.263a.25.25 0 0 0 0-.354Z"></path>
</svg>
</template>

<qbsearch-input class="search-input" data-scope="repo:MarcelloLM/Classifica-ao-do-credito-" data-custom-scopes-path="/search/custom_scopes" data-delete-custom-scopes-csrf="MabroqMoZ5j0fitlpznITfpIgc_RTJYBdRti-a-4ZBjndIj3uqBCpWkf4rU8oTvWwC12owz7WGsvAHRB_Dsv3Q" data-max-custom-scopes="10" data-header-redesign-enabled="false" data-initial-value="" data-blackbird-suggestions-path="/search/suggestions" data-jump-to-suggestions-path="/_graphql/GetSuggestedNavigationDestinations" data-current-repository="MarcelloLM/Classifica-ao-do-credito-" data-current-org="" data-current-owner="MarcelloLM">
  <div
    class="search-input-container search-with-dialog position-relative d-flex flex-row flex-items-center mr-4 rounded"
    data-action="click:qbsearch-input#searchInputContainerClicked"
  >
      <button
        type="button"
        class="header-search-button placeholder  input-button form-control d-flex flex-1 flex-self-stretch flex-items-center no-wrap width-full py-0 pl-2 pr-0 text-left border-0 box-shadow-none"
        data-target="qbsearch-input.inputButton"
        placeholder="Search or jump to..."
        data-hotkey=s,/
        autocapitalize="off"
        data-action="click:qbsearch-input#handleExpand"
      >
        <div class="mr-2 color-fg-muted">
          <svg aria-hidden="true" height="16" viewBox="0 0 16 16" version="1.1" width="16" data-view-component="true" class="octicon octicon-search">
    <path d="M10.68 11.74a6 6 0 0 1-7.922-8.982 6 6 0 0 1 8.982 7.922l3.04 3.04a.749.749 0 0 1-.326 1.275.749.749 0 0 1-.734-.215ZM11.5 7a4.499 4.499 0 1 0-8.997 0A4.499 4.499 0 0 0 11.5 7Z"></path>
</svg>
        </div>
        <span class="flex-1" data-target="qbsearch-input.inputButtonText">Search or jump to...</span>
          <div class="d-flex" data-target="qbsearch-input.hotkeyIndicator">
            <svg xmlns="http://www.w3.org/2000/svg" width="22" height="20" aria-hidden="true" class="mr-1"><path fill="none" stroke="#979A9C" opacity=".4" d="M3.5.5h12c1.7 0 3 1.3 3 3v13c0 1.7-1.3 3-3 3h-12c-1.7 0-3-1.3-3-3v-13c0-1.7 1.3-3 3-3z"></path><path fill="#979A9C" d="M11.8 6L8 15.1h-.9L10.8 6h1z"></path></svg>

          </div>
      </button>

    <input type="hidden" name="type" class="js-site-search-type-field">

    
<div class="Overlay--hidden " data-modal-dialog-overlay>
  <modal-dialog data-action="close:qbsearch-input#handleClose cancel:qbsearch-input#handleClose" data-target="qbsearch-input.searchSuggestionsDialog" role="dialog" id="search-suggestions-dialog" aria-modal="true" aria-labelledby="search-suggestions-dialog-header" data-view-component="true" class="Overlay Overlay--width-large Overlay--height-auto">
      <h1 id="search-suggestions-dialog-header" class="sr-only">Search code, repositories, users, issues, pull requests...</h1>
    <div class="Overlay-body Overlay-body--paddingNone">
      
          <div data-view-component="true">        <div class="search-suggestions position-absolute width-full color-shadow-large border color-fg-default color-bg-default overflow-hidden d-flex flex-column query-builder-container"
          style="border-radius: 12px;"
          data-target="qbsearch-input.queryBuilderContainer"
          hidden
        >
          <!-- '"` --><!-- </textarea></xmp> --></option></form><form id="query-builder-test-form" action="" accept-charset="UTF-8" method="get">
  <query-builder data-target="qbsearch-input.queryBuilder" id="query-builder-query-builder-test" data-filter-key=":" data-view-component="true" class="QueryBuilder search-query-builder">
    <div class="FormControl FormControl--fullWidth">
      <label id="query-builder-test-label" for="query-builder-test" class="FormControl-label sr-only">
        Search
      </label>
      <div class="QueryBuilder-StyledInput width-fit" data-target="query-builder.styledInput">
          <span id="query-builder-test-leadingvisual-wrap" class="FormControl-input-leadingVisualWrap QueryBuilder-leadingVisualWrap">
            <svg aria-hidden="true" height="16" viewBox="0 0 16 16" version="1.1" width="16" data-view-component="true" class="octicon octicon-search FormControl-input-leadingVisual">
    <path d="M10.68 11.74a6 6 0 0 1-7.922-8.982 6 6 0 0 1 8.982 7.922l3.04 3.04a.749.749 0 0 1-.326 1.275.749.749 0 0 1-.734-.215ZM11.5 7a4.499 4.499 0 1 0-8.997 0A4.499 4.499 0 0 0 11.5 7Z"></path>
</svg>
          </span>
        <div data-target="query-builder.styledInputContainer" class="QueryBuilder-StyledInputContainer">
          <div
            aria-hidden="true"
            class="QueryBuilder-StyledInputContent"
            data-target="query-builder.styledInputContent"
          ></div>
          <div class="QueryBuilder-InputWrapper">
            <div aria-hidden="true" class="QueryBuilder-Sizer" data-target="query-builder.sizer"></div>
            <input id="query-builder-test" name="query-builder-test" value="" autocomplete="off" type="text" role="combobox" spellcheck="false" aria-expanded="false" data-target="query-builder.input" data-action="
          input:query-builder#inputChange
          blur:query-builder#inputBlur
          keydown:query-builder#inputKeydown
          focus:query-builder#inputFocus
        " data-view-component="true" class="FormControl-input QueryBuilder-Input FormControl-medium" />
          </div>
        </div>
          <span class="sr-only" id="query-builder-test-clear">Clear</span>
          
  <button role="button" id="query-builder-test-clear-button" aria-labelledby="query-builder-test-clear query-builder-test-label" data-target="query-builder.clearButton" data-action="
                click:query-builder#clear
                focus:query-builder#clearButtonFocus
                blur:query-builder#clearButtonBlur
              " variant="small" hidden="hidden" type="button" data-view-component="true" class="Button Button--iconOnly Button--invisible Button--medium mr-1 px-2 py-0 d-flex flex-items-center rounded-1 color-fg-muted">    <svg aria-hidden="true" height="16" viewBox="0 0 16 16" version="1.1" width="16" data-view-component="true" class="octicon octicon-x-circle-fill Button-visual">
    <path d="M2.343 13.657A8 8 0 1 1 13.658 2.343 8 8 0 0 1 2.343 13.657ZM6.03 4.97a.751.751 0 0 0-1.042.018.751.751 0 0 0-.018 1.042L6.94 8 4.97 9.97a.749.749 0 0 0 .326 1.275.749.749 0 0 0 .734-.215L8 9.06l1.97 1.97a.749.749 0 0 0 1.275-.326.749.749 0 0 0-.215-.734L9.06 8l1.97-1.97a.749.749 0 0 0-.326-1.275.749.749 0 0 0-.734.215L8 6.94Z"></path>
</svg>
</button>  

      </div>
      <template id="search-icon">
  <svg aria-hidden="true" height="16" viewBox="0 0 16 16" version="1.1" width="16" data-view-component="true" class="octicon octicon-search">
    <path d="M10.68 11.74a6 6 0 0 1-7.922-8.982 6 6 0 0 1 8.982 7.922l3.04 3.04a.749.749 0 0 1-.326 1.275.749.749 0 0 1-.734-.215ZM11.5 7a4.499 4.499 0 1 0-8.997 0A4.499 4.499 0 0 0 11.5 7Z"></path>
</svg>
</template>

<template id="code-icon">
  <svg aria-hidden="true" height="16" viewBox="0 0 16 16" version="1.1" width="16" data-view-component="true" class="octicon octicon-code">
    <path d="m11.28 3.22 4.25 4.25a.75.75 0 0 1 0 1.06l-4.25 4.25a.749.749 0 0 1-1.275-.326.749.749 0 0 1 .215-.734L13.94 8l-3.72-3.72a.749.749 0 0 1 .326-1.275.749.749 0 0 1 .734.215Zm-6.56 0a.751.751 0 0 1 1.042.018.751.751 0 0 1 .018 1.042L2.06 8l3.72 3.72a.749.749 0 0 1-.326 1.275.749.749 0 0 1-.734-.215L.47 8.53a.75.75 0 0 1 0-1.06Z"></path>
</svg>
</template>

<template id="file-code-icon">
  <svg aria-hidden="true" height="16" viewBox="0 0 16 16" version="1.1" width="16" data-view-component="true" class="octicon octicon-file-code">
    <path d="M4 1.75C4 .784 4.784 0 5.75 0h5.586c.464 0 .909.184 1.237.513l2.914 2.914c.329.328.513.773.513 1.237v8.586A1.75 1.75 0 0 1 14.25 15h-9a.75.75 0 0 1 0-1.5h9a.25.25 0 0 0 .25-.25V6h-2.75A1.75 1.75 0 0 1 10 4.25V1.5H5.75a.25.25 0 0 0-.25.25v2.5a.75.75 0 0 1-1.5 0Zm1.72 4.97a.75.75 0 0 1 1.06 0l2 2a.75.75 0 0 1 0 1.06l-2 2a.749.749 0 0 1-1.275-.326.749.749 0 0 1 .215-.734l1.47-1.47-1.47-1.47a.75.75 0 0 1 0-1.06ZM3.28 7.78 1.81 9.25l1.47 1.47a.751.751 0 0 1-.018 1.042.751.751 0 0 1-1.042.018l-2-2a.75.75 0 0 1 0-1.06l2-2a.751.751 0 0 1 1.042.018.751.751 0 0 1 .018 1.042Zm8.22-6.218V4.25c0 .138.112.25.25.25h2.688l-.011-.013-2.914-2.914-.013-.011Z"></path>
</svg>
</template>

<template id="history-icon">
  <svg aria-hidden="true" height="16" viewBox="0 0 16 16" version="1.1" width="16" data-view-component="true" class="octicon octicon-history">
    <path d="m.427 1.927 1.215 1.215a8.002 8.002 0 1 1-1.6 5.685.75.75 0 1 1 1.493-.154 6.5 6.5 0 1 0 1.18-4.458l1.358 1.358A.25.25 0 0 1 3.896 6H.25A.25.25 0 0 1 0 5.75V2.104a.25.25 0 0 1 .427-.177ZM7.75 4a.75.75 0 0 1 .75.75v2.992l2.028.812a.75.75 0 0 1-.557 1.392l-2.5-1A.751.751 0 0 1 7 8.25v-3.5A.75.75 0 0 1 7.75 4Z"></path>
</svg>
</template>

<template id="repo-icon">
  <svg aria-hidden="true" height="16" viewBox="0 0 16 16" version="1.1" width="16" data-view-component="true" class="octicon octicon-repo">
    <path d="M2 2.5A2.5 2.5 0 0 1 4.5 0h8.75a.75.75 0 0 1 .75.75v12.5a.75.75 0 0 1-.75.75h-2.5a.75.75 0 0 1 0-1.5h1.75v-2h-8a1 1 0 0 0-.714 1.7.75.75 0 1 1-1.072 1.05A2.495 2.495 0 0 1 2 11.5Zm10.5-1h-8a1 1 0 0 0-1 1v6.708A2.486 2.486 0 0 1 4.5 9h8ZM5 12.25a.25.25 0 0 1 .25-.25h3.5a.25.25 0 0 1 .25.25v3.25a.25.25 0 0 1-.4.2l-1.45-1.087a.249.249 0 0 0-.3 0L5.4 15.7a.25.25 0 0 1-.4-.2Z"></path>
</svg>
</template>

<template id="bookmark-icon">
  <svg aria-hidden="true" height="16" viewBox="0 0 16 16" version="1.1" width="16" data-view-component="true" class="octicon octicon-bookmark">
    <path d="M3 2.75C3 1.784 3.784 1 4.75 1h6.5c.966 0 1.75.784 1.75 1.75v11.5a.75.75 0 0 1-1.227.579L8 11.722l-3.773 3.107A.751.751 0 0 1 3 14.25Zm1.75-.25a.25.25 0 0 0-.25.25v9.91l3.023-2.489a.75.75 0 0 1 .954 0l3.023 2.49V2.75a.25.25 0 0 0-.25-.25Z"></path>
</svg>
</template>

<template id="plus-circle-icon">
  <svg aria-hidden="true" height="16" viewBox="0 0 16 16" version="1.1" width="16" data-view-component="true" class="octicon octicon-plus-circle">
    <path d="M8 0a8 8 0 1 1 0 16A8 8 0 0 1 8 0ZM1.5 8a6.5 6.5 0 1 0 13 0 6.5 6.5 0 0 0-13 0Zm7.25-3.25v2.5h2.5a.75.75 0 0 1 0 1.5h-2.5v2.5a.75.75 0 0 1-1.5 0v-2.5h-2.5a.75.75 0 0 1 0-1.5h2.5v-2.5a.75.75 0 0 1 1.5 0Z"></path>
</svg>
</template>

<template id="circle-icon">
  <svg aria-hidden="true" height="16" viewBox="0 0 16 16" version="1.1" width="16" data-view-component="true" class="octicon octicon-dot-fill">
    <path d="M8 4a4 4 0 1 1 0 8 4 4 0 0 1 0-8Z"></path>
</svg>
</template>

<template id="trash-icon">
  <svg aria-hidden="true" height="16" viewBox="0 0 16 16" version="1.1" width="16" data-view-component="true" class="octicon octicon-trash">
    <path d="M11 1.75V3h2.25a.75.75 0 0 1 0 1.5H2.75a.75.75 0 0 1 0-1.5H5V1.75C5 .784 5.784 0 6.75 0h2.5C10.216 0 11 .784 11 1.75ZM4.496 6.675l.66 6.6a.25.25 0 0 0 .249.225h5.19a.25.25 0 0 0 .249-.225l.66-6.6a.75.75 0 0 1 1.492.149l-.66 6.6A1.748 1.748 0 0 1 10.595 15h-5.19a1.75 1.75 0 0 1-1.741-1.575l-.66-6.6a.75.75 0 1 1 1.492-.15ZM6.5 1.75V3h3V1.75a.25.25 0 0 0-.25-.25h-2.5a.25.25 0 0 0-.25.25Z"></path>
</svg>
</template>

<template id="team-icon">
  <svg aria-hidden="true" height="16" viewBox="0 0 16 16" version="1.1" width="16" data-view-component="true" class="octicon octicon-people">
    <path d="M2 5.5a3.5 3.5 0 1 1 5.898 2.549 5.508 5.508 0 0 1 3.034 4.084.75.75 0 1 1-1.482.235 4 4 0 0 0-7.9 0 .75.75 0 0 1-1.482-.236A5.507 5.507 0 0 1 3.102 8.05 3.493 3.493 0 0 1 2 5.5ZM11 4a3.001 3.001 0 0 1 2.22 5.018 5.01 5.01 0 0 1 2.56 3.012.749.749 0 0 1-.885.954.752.752 0 0 1-.549-.514 3.507 3.507 0 0 0-2.522-2.372.75.75 0 0 1-.574-.73v-.352a.75.75 0 0 1 .416-.672A1.5 1.5 0 0 0 11 5.5.75.75 0 0 1 11 4Zm-5.5-.5a2 2 0 1 0-.001 3.999A2 2 0 0 0 5.5 3.5Z"></path>
</svg>
</template>

<template id="project-icon">
  <svg aria-hidden="true" height="16" viewBox="0 0 16 16" version="1.1" width="16" data-view-component="true" class="octicon octicon-project">
    <path d="M1.75 0h12.5C15.216 0 16 .784 16 1.75v12.5A1.75 1.75 0 0 1 14.25 16H1.75A1.75 1.75 0 0 1 0 14.25V1.75C0 .784.784 0 1.75 0ZM1.5 1.75v12.5c0 .138.112.25.25.25h12.5a.25.25 0 0 0 .25-.25V1.75a.25.25 0 0 0-.25-.25H1.75a.25.25 0 0 0-.25.25ZM11.75 3a.75.75 0 0 1 .75.75v7.5a.75.75 0 0 1-1.5 0v-7.5a.75.75 0 0 1 .75-.75Zm-8.25.75a.75.75 0 0 1 1.5 0v5.5a.75.75 0 0 1-1.5 0ZM8 3a.75.75 0 0 1 .75.75v3.5a.75.75 0 0 1-1.5 0v-3.5A.75.75 0 0 1 8 3Z"></path>
</svg>
</template>

<template id="pencil-icon">
  <svg aria-hidden="true" height="16" viewBox="0 0 16 16" version="1.1" width="16" data-view-component="true" class="octicon octicon-pencil">
    <path d="M11.013 1.427a1.75 1.75 0 0 1 2.474 0l1.086 1.086a1.75 1.75 0 0 1 0 2.474l-8.61 8.61c-.21.21-.47.364-.756.445l-3.251.93a.75.75 0 0 1-.927-.928l.929-3.25c.081-.286.235-.547.445-.758l8.61-8.61Zm.176 4.823L9.75 4.81l-6.286 6.287a.253.253 0 0 0-.064.108l-.558 1.953 1.953-.558a.253.253 0 0 0 .108-.064Zm1.238-3.763a.25.25 0 0 0-.354 0L10.811 3.75l1.439 1.44 1.263-1.263a.25.25 0 0 0 0-.354Z"></path>
</svg>
</template>

        <div class="position-relative">
                <ul
                  role="listbox"
                  class="ActionListWrap QueryBuilder-ListWrap"
                  aria-label="Suggestions"
                  data-action="
                    combobox-commit:query-builder#comboboxCommit
                    mousedown:query-builder#resultsMousedown
                  "
                  data-target="query-builder.resultsList"
                  data-persist-list=false
                  id="query-builder-test-results"
                ></ul>
        </div>
    </div>
    <div data-target="query-builder.screenReaderFeedback" aria-live="polite" aria-atomic="true" class="sr-only"></div>
</query-builder></form>
          <div class="d-flex flex-row color-fg-muted px-3 text-small color-bg-default search-feedback-prompt">
            <a target="_blank" href="https://docs.github.com/en/search-github/github-code-search/understanding-github-code-search-syntax" data-view-component="true" class="color-fg-accent text-normal ml-2">
              Search syntax tips
</a>            <div class="d-flex flex-1"></div>
              <button data-action="click:qbsearch-input#showFeedbackDialog" type="button" data-view-component="true" class="Button--link Button--medium Button color-fg-accent text-normal ml-2">    <span class="Button-content">
      <span class="Button-label">Give feedback</span>
    </span>
</button>  
          </div>
        </div>
</div>

    </div>
</modal-dialog></div>
  </div>
  <div data-action="click:qbsearch-input#retract" class="dark-backdrop position-fixed width-full" hidden data-target="qbsearch-input.darkBackdrop"></div>
  <div class="color-fg-default">
    
<div class="Overlay--hidden Overlay-backdrop--center" data-modal-dialog-overlay>
  <modal-dialog data-target="qbsearch-input.feedbackDialog" data-action="close:qbsearch-input#handleDialogClose cancel:qbsearch-input#handleDialogClose" role="dialog" id="feedback-dialog" aria-modal="true" aria-disabled="true" aria-describedby="feedback-dialog-title feedback-dialog-description" data-view-component="true" class="Overlay Overlay-whenNarrow Overlay--size-medium Overlay--motion-scaleFade">
    <div data-view-component="true" class="Overlay-header">
  <div class="Overlay-headerContentWrap">
    <div class="Overlay-titleWrap">
      <h1 class="Overlay-title " id="feedback-dialog-title">
        Provide feedback
      </h1>
    </div>
    <div class="Overlay-actionWrap">
      <button data-close-dialog-id="feedback-dialog" aria-label="Close" type="button" data-view-component="true" class="close-button Overlay-closeButton"><svg aria-hidden="true" height="16" viewBox="0 0 16 16" version="1.1" width="16" data-view-component="true" class="octicon octicon-x">
    <path d="M3.72 3.72a.75.75 0 0 1 1.06 0L8 6.94l3.22-3.22a.749.749 0 0 1 1.275.326.749.749 0 0 1-.215.734L9.06 8l3.22 3.22a.749.749 0 0 1-.326 1.275.749.749 0 0 1-.734-.215L8 9.06l-3.22 3.22a.751.751 0 0 1-1.042-.018.751.751 0 0 1-.018-1.042L6.94 8 3.72 4.78a.75.75 0 0 1 0-1.06Z"></path>
</svg></button>
    </div>
  </div>
</div>
      <div data-view-component="true" class="Overlay-body">        <!-- '"` --><!-- </textarea></xmp> --></option></form><form id="code-search-feedback-form" data-turbo="false" action="/search/feedback" accept-charset="UTF-8" method="post"><input type="hidden" name="authenticity_token" value="ebf9oIWUvFobbl8pc2RMXntCFim0FK4Y2AzKzpI3GPNjDB-V5i25w6w5vxmB3jTTGk1zuIIMDKLKoMc1zvnHhQ" />
          <p>We read every piece of feedback, and take your input very seriously.</p>
          <textarea name="feedback" class="form-control width-full mb-2" style="height: 120px" id="feedback"></textarea>
          <input name="include_email" id="include_email" aria-label="Include my email address so I can be contacted" class="form-control mr-2" type="checkbox">
          <label for="include_email" style="font-weight: normal">Include my email address so I can be contacted</label>
</form></div>
      <div data-view-component="true" class="Overlay-footer Overlay-footer--alignEnd">          <button data-close-dialog-id="feedback-dialog" type="button" data-view-component="true" class="btn">    Cancel
</button>
          <button form="code-search-feedback-form" data-action="click:qbsearch-input#submitFeedback" type="submit" data-view-component="true" class="btn-primary btn">    Submit feedback
</button>
</div>
</modal-dialog></div>

    <custom-scopes data-target="qbsearch-input.customScopesManager">
    
<div class="Overlay--hidden Overlay-backdrop--center" data-modal-dialog-overlay>
  <modal-dialog data-target="custom-scopes.customScopesModalDialog" data-action="close:qbsearch-input#handleDialogClose cancel:qbsearch-input#handleDialogClose" role="dialog" id="custom-scopes-dialog" aria-modal="true" aria-disabled="true" aria-describedby="custom-scopes-dialog-title custom-scopes-dialog-description" data-view-component="true" class="Overlay Overlay-whenNarrow Overlay--size-medium Overlay--motion-scaleFade">
    <div data-view-component="true" class="Overlay-header Overlay-header--divided">
  <div class="Overlay-headerContentWrap">
    <div class="Overlay-titleWrap">
      <h1 class="Overlay-title " id="custom-scopes-dialog-title">
        Saved searches
      </h1>
        <h2 id="custom-scopes-dialog-description" class="Overlay-description">Use saved searches to filter your results more quickly</h2>
    </div>
    <div class="Overlay-actionWrap">
      <button data-close-dialog-id="custom-scopes-dialog" aria-label="Close" type="button" data-view-component="true" class="close-button Overlay-closeButton"><svg aria-hidden="true" height="16" viewBox="0 0 16 16" version="1.1" width="16" data-view-component="true" class="octicon octicon-x">
    <path d="M3.72 3.72a.75.75 0 0 1 1.06 0L8 6.94l3.22-3.22a.749.749 0 0 1 1.275.326.749.749 0 0 1-.215.734L9.06 8l3.22 3.22a.749.749 0 0 1-.326 1.275.749.749 0 0 1-.734-.215L8 9.06l-3.22 3.22a.751.751 0 0 1-1.042-.018.751.751 0 0 1-.018-1.042L6.94 8 3.72 4.78a.75.75 0 0 1 0-1.06Z"></path>
</svg></button>
    </div>
  </div>
</div>
      <div data-view-component="true" class="Overlay-body">        <div data-target="custom-scopes.customScopesModalDialogFlash"></div>

        <div hidden class="create-custom-scope-form" data-target="custom-scopes.createCustomScopeForm">
        <!-- '"` --><!-- </textarea></xmp> --></option></form><form id="custom-scopes-dialog-form" data-turbo="false" action="/search/custom_scopes" accept-charset="UTF-8" method="post"><input type="hidden" name="authenticity_token" value="nUi7X9rxkP4HLbFLMv6_VZdSrzNCFhQVDipo-tCVv0ZUrygbMx8iHyVWuCRB9zo0Sc0TNFnfWRR-yEox9DLdPA" />
          <div data-target="custom-scopes.customScopesModalDialogFlash"></div>

          <input type="hidden" id="custom_scope_id" name="custom_scope_id" data-target="custom-scopes.customScopesIdField">

          <div class="form-group">
            <label for="custom_scope_name">Name</label>
            <auto-check src="/search/custom_scopes/check_name" required>
              <input
                type="text"
                name="custom_scope_name"
                id="custom_scope_name"
                data-target="custom-scopes.customScopesNameField"
                class="form-control"
                autocomplete="off"
                placeholder="github-ruby"
                required
                maxlength="50">
              <input type="hidden" value="xZNbGYxSkfALCyMxaZCBeHjPhGkj5oaE6tcWU1D0eCrRgpo97v0ABd4k_v7T0zREz3dHqXP7xNlIoydfrQjrvw" data-csrf="true" />
            </auto-check>
          </div>

          <div class="form-group">
            <label for="custom_scope_query">Query</label>
            <input
              type="text"
              name="custom_scope_query"
              id="custom_scope_query"
              data-target="custom-scopes.customScopesQueryField"
              class="form-control"
              autocomplete="off"
              placeholder="(repo:mona/a OR repo:mona/b) AND lang:python"
              required
              maxlength="500">
          </div>

          <p class="text-small color-fg-muted">
            To see all available qualifiers, see our <a href="https://docs.github.com/en/search-github/github-code-search/understanding-github-code-search-syntax">documentation</a>.
          </p>
</form>        </div>

        <div data-target="custom-scopes.manageCustomScopesForm">
          <div data-target="custom-scopes.list"></div>
        </div>

</div>
      <div data-view-component="true" class="Overlay-footer Overlay-footer--alignEnd Overlay-footer--divided">          <button data-action="click:custom-scopes#customScopesCancel" type="button" data-view-component="true" class="btn">    Cancel
</button>
          <button form="custom-scopes-dialog-form" data-action="click:custom-scopes#customScopesSubmit" data-target="custom-scopes.customScopesSubmitButton" type="submit" data-view-component="true" class="btn-primary btn">    Create saved search
</button>
</div>
</modal-dialog></div>
    </custom-scopes>
  </div>
</qbsearch-input><input type="hidden" value="w5oyrdAe88ytEFnOC5uZ2XwRB3oaXpQ49fJNAhcyu7lXV2nv2Hoi-KlEpGjYWEku5Z6ZZ0oCKZmcZmewoYheIg" data-csrf="true" class="js-data-jump-to-suggestions-path-csrf" />

        <nav id="global-nav" class="d-flex flex-column flex-md-row flex-self-stretch flex-md-self-auto" aria-label="Global">
    <a class="Header-link py-md-3 d-block d-md-none py-2 border-top border-md-top-0 border-white-fade" data-ga-click="Header, click, Nav menu - item:dashboard:user" aria-label="Dashboard" data-turbo="false" href="/dashboard">Dashboard</a>

  <a class="js-selected-navigation-item Header-link mt-md-n3 mb-md-n3 py-2 py-md-3 mr-0 mr-md-3 border-top border-md-top-0 border-white-fade" data-hotkey="g p" data-ga-click="Header, click, Nav menu - item:pulls context:user" aria-label="Pull requests you created" data-turbo="false" data-selected-links="/pulls /pulls/assigned /pulls/mentioned /pulls" href="/pulls">
      Pull<span class="d-inline d-md-none d-lg-inline"> request</span>s
</a>
  <a class="js-selected-navigation-item Header-link mt-md-n3 mb-md-n3 py-2 py-md-3 mr-0 mr-md-3 border-top border-md-top-0 border-white-fade" data-hotkey="g i" data-ga-click="Header, click, Nav menu - item:issues context:user" aria-label="Issues you created" data-turbo="false" data-selected-links="/issues /issues/assigned /issues/mentioned /issues" href="/issues">Issues</a>

      <a class="js-selected-navigation-item Header-link mt-md-n3 mb-md-n3 py-2 py-md-3 mr-0 mr-md-3 border-top border-md-top-0 border-white-fade" data-ga-click="Header, click, Nav menu - item:workspaces context:user" data-turbo="false" data-selected-links="/codespaces /codespaces" href="/codespaces">Codespaces</a>

    <div class="d-flex position-relative">
      <a class="js-selected-navigation-item Header-link flex-auto mt-md-n3 mb-md-n3 py-2 py-md-3 mr-0 mr-md-3 border-top border-md-top-0 border-white-fade" data-ga-click="Header, click, Nav menu - item:marketplace context:user" data-octo-click="marketplace_click" data-octo-dimensions="location:nav_bar" data-turbo="false" data-selected-links=" /marketplace" href="/marketplace">Marketplace</a>
    </div>

  <a class="js-selected-navigation-item Header-link mt-md-n3 mb-md-n3 py-2 py-md-3 mr-0 mr-md-3 border-top border-md-top-0 border-white-fade" data-ga-click="Header, click, Nav menu - item:explore" data-turbo="false" data-selected-links="/explore /trending /trending/developers /integrations /integrations/feature/code /integrations/feature/collaborate /integrations/feature/ship showcases showcases_search showcases_landing /explore" href="/explore">Explore</a>

      <a class="js-selected-navigation-item Header-link d-block d-md-none py-2 py-md-3 border-top border-md-top-0 border-white-fade" data-ga-click="Header, click, Nav menu - item:Sponsors" data-hydro-click="{&quot;event_type&quot;:&quot;sponsors.button_click&quot;,&quot;payload&quot;:{&quot;button&quot;:&quot;HEADER_SPONSORS_DASHBOARD&quot;,&quot;sponsorable_login&quot;:&quot;MarcelloLM&quot;,&quot;originating_url&quot;:&quot;https://github.com/MarcelloLM/Classifica-ao-do-credito-/blob/main/Projeto_01_Classifica%C3%A7%C3%A3o_do_cr%C3%A9dito.ipynb&quot;,&quot;user_id&quot;:106484381}}" data-hydro-click-hmac="9a607fda36ba93a98e681dc2a8162677dede14577e6ed2c82b0d0c7140a6382e" data-turbo="false" data-selected-links=" /sponsors/accounts" href="/sponsors/accounts">Sponsors</a>

    <a class="Header-link d-block d-md-none mr-0 mr-md-3 py-2 py-md-3 border-top border-md-top-0 border-white-fade" data-turbo="false" href="/settings/profile">Settings</a>

    <a class="Header-link d-block d-md-none mr-0 mr-md-3 py-2 py-md-3 border-top border-md-top-0 border-white-fade" data-turbo="false" href="/MarcelloLM">
      <img class="avatar avatar-user" loading="lazy" decoding="async" src="https://avatars.githubusercontent.com/u/106484381?s=40&amp;v=4" width="20" height="20" alt="@MarcelloLM" />
      MarcelloLM
</a>
    <!-- '"` --><!-- </textarea></xmp> --></option></form><form data-turbo="false" action="/logout" accept-charset="UTF-8" method="post"><input type="hidden" name="authenticity_token" value="mOYVgAtEFu1323eIy90jQw6V0VIJXPcniyBrmazpeHjs85uUrpeShJ9Bhsm0ggHg5nSh_oHk2FQ453-zyqMFdg" />
      <button
        type="submit"
        class="Header-link mr-0 mr-md-3 py-2 py-md-3 border-top border-md-top-0 border-white-fade d-md-none btn-link d-block width-full text-left"
        style="padding-left: 2px;"
        data-analytics-event="{&quot;category&quot;:&quot;Header&quot;,&quot;action&quot;:&quot;sign out&quot;,&quot;label&quot;:&quot;icon:logout&quot;}"
      >
        <svg aria-hidden="true" height="16" viewBox="0 0 16 16" version="1.1" width="16" data-view-component="true" class="octicon octicon-sign-out v-align-middle">
    <path d="M2 2.75C2 1.784 2.784 1 3.75 1h2.5a.75.75 0 0 1 0 1.5h-2.5a.25.25 0 0 0-.25.25v10.5c0 .138.112.25.25.25h2.5a.75.75 0 0 1 0 1.5h-2.5A1.75 1.75 0 0 1 2 13.25Zm10.44 4.5-1.97-1.97a.749.749 0 0 1 .326-1.275.749.749 0 0 1 .734.215l3.25 3.25a.75.75 0 0 1 0 1.06l-3.25 3.25a.749.749 0 0 1-1.275-.326.749.749 0 0 1 .215-.734l1.97-1.97H6.75a.75.75 0 0 1 0-1.5Z"></path>
</svg>
        Sign out
      </button>
</form></nav>

    </div>

    <div class="Header-item Header-item--full flex-justify-center d-md-none position-relative">
        <a
  class="Header-link"
  href="https://github.com/"
  data-hotkey="g d"
  aria-label="Homepage "
  data-turbo="false"
  data-analytics-event="{&quot;category&quot;:&quot;Header&quot;,&quot;action&quot;:&quot;go to dashboard&quot;,&quot;label&quot;:&quot;icon:logo&quot;}"
>
  <svg height="32" aria-hidden="true" viewBox="0 0 16 16" version="1.1" width="32" data-view-component="true" class="octicon octicon-mark-github v-align-middle">
    <path d="M8 0c4.42 0 8 3.58 8 8a8.013 8.013 0 0 1-5.45 7.59c-.4.08-.55-.17-.55-.38 0-.27.01-1.13.01-2.2 0-.75-.25-1.23-.54-1.48 1.78-.2 3.65-.88 3.65-3.95 0-.88-.31-1.59-.82-2.15.08-.2.36-1.02-.08-2.12 0 0-.67-.22-2.2.82-.64-.18-1.32-.27-2-.27-.68 0-1.36.09-2 .27-1.53-1.03-2.2-.82-2.2-.82-.44 1.1-.16 1.92-.08 2.12-.51.56-.82 1.28-.82 2.15 0 3.06 1.86 3.75 3.64 3.95-.23.2-.44.55-.51 1.07-.46.21-1.61.55-2.33-.66-.15-.24-.6-.83-1.23-.82-.67.01-.27.38.01.53.34.19.73.9.82 1.13.16.45.68 1.31 2.69.94 0 .67.01 1.3.01 1.49 0 .21-.15.45-.55.38A7.995 7.995 0 0 1 0 8c0-4.42 3.58-8 8-8Z"></path>
</svg>
</a>

    </div>

    <div class="Header-item mr-0 mr-md-3 flex-order-1 flex-md-order-none">
        

<notification-indicator data-channel="eyJjIjoibm90aWZpY2F0aW9uLWNoYW5nZWQ6MTA2NDg0MzgxIiwidCI6MTY4Mzg5MjEyM30=--f48597605c5a190d2d1b375ee85d048a6d2c8545e60af7a3529551638e8e6dc0" data-indicator-mode="none" data-tooltip-global="You have unread notifications" data-tooltip-unavailable="Notifications are unavailable at the moment." data-tooltip-none="You have no unread notifications" data-fetch-indicator-src="/notifications/indicator" data-fetch-indicator-enabled="true" data-view-component="true" class="js-socket-channel">
  <a id="AppHeader-notifications-button" href="/notifications"
    class="Header-link notification-indicator position-relative tooltipped tooltipped-sw"

    

    data-hotkey="g n"
    data-target="notification-indicator.link"
    aria-label="Notifications"

      data-analytics-event="{&quot;category&quot;:&quot;Header&quot;,&quot;action&quot;:&quot;go to notifications&quot;,&quot;label&quot;:&quot;icon:read&quot;}"
  >

    <span
      data-target="notification-indicator.badge"
      class="mail-status unread" hidden>
    </span>

      <svg aria-hidden="true" height="16" viewBox="0 0 16 16" version="1.1" width="16" data-view-component="true" class="octicon octicon-bell">
    <path d="M8 16a2 2 0 0 0 1.985-1.75c.017-.137-.097-.25-.235-.25h-3.5c-.138 0-.252.113-.235.25A2 2 0 0 0 8 16ZM3 5a5 5 0 0 1 10 0v2.947c0 .05.015.098.042.139l1.703 2.555A1.519 1.519 0 0 1 13.482 13H2.518a1.516 1.516 0 0 1-1.263-2.36l1.703-2.554A.255.255 0 0 0 3 7.947Zm5-3.5A3.5 3.5 0 0 0 4.5 5v2.947c0 .346-.102.683-.294.97l-1.703 2.556a.017.017 0 0 0-.003.01l.001.006c0 .002.002.004.004.006l.006.004.007.001h10.964l.007-.001.006-.004.004-.006.001-.007a.017.017 0 0 0-.003-.01l-1.703-2.554a1.745 1.745 0 0 1-.294-.97V5A3.5 3.5 0 0 0 8 1.5Z"></path>
</svg>
  </a>

</notification-indicator>
    </div>


    <div class="Header-item position-relative d-none d-md-flex">
        <details class="details-overlay details-reset">
  <summary
    class="Header-link"
    aria-label="Create new…"
    data-analytics-event="{&quot;category&quot;:&quot;Header&quot;,&quot;action&quot;:&quot;create new&quot;,&quot;label&quot;:&quot;icon:add&quot;}"
  >
    <svg aria-hidden="true" height="16" viewBox="0 0 16 16" version="1.1" width="16" data-view-component="true" class="octicon octicon-plus">
    <path d="M7.75 2a.75.75 0 0 1 .75.75V7h4.25a.75.75 0 0 1 0 1.5H8.5v4.25a.75.75 0 0 1-1.5 0V8.5H2.75a.75.75 0 0 1 0-1.5H7V2.75A.75.75 0 0 1 7.75 2Z"></path>
</svg> <span class="dropdown-caret"></span>
  </summary>
  <details-menu class="dropdown-menu dropdown-menu-sw">
    
<a role="menuitem" class="dropdown-item" href="/new" data-ga-click="Header, create new repository">
  New repository
</a>

  <a role="menuitem" class="dropdown-item" href="/new/import" data-ga-click="Header, import a repository">
    Import repository
  </a>

  <a role="menuitem" class="dropdown-item" href="/codespaces/new">
    New codespace
  </a>

<a role="menuitem" class="dropdown-item" href="https://gist.github.com/" data-ga-click="Header, create new gist">
  New gist
</a>

  <a role="menuitem" class="dropdown-item" href="/organizations/new" data-ga-click="Header, create new organization">
    New organization
  </a>



  </details-menu>
</details>

    </div>

    <div class="Header-item position-relative mr-0 d-none d-md-flex">
        
  <details class="details-overlay details-reset js-feature-preview-indicator-container" data-feature-preview-indicator-src="/users/MarcelloLM/feature_preview/indicator_check">

  <summary
    class="Header-link"
    aria-label="View profile and more"
    data-analytics-event="{&quot;category&quot;:&quot;Header&quot;,&quot;action&quot;:&quot;show menu&quot;,&quot;label&quot;:&quot;icon:avatar&quot;}"
  >
    <img src="https://avatars.githubusercontent.com/u/106484381?s=40&amp;v=4" alt="@MarcelloLM" size="20" height="20" width="20" data-view-component="true" class="avatar avatar-small circle" />
      <span class="unread-indicator js-feature-preview-indicator" style="top: 1px;" hidden></span>
    <span class="dropdown-caret"></span>
  </summary>
  <details-menu
      class="dropdown-menu dropdown-menu-sw"
      style="width: 180px"
      
      preload>
      <include-fragment src="/users/106484381/menu" loading="lazy">
        <p class="text-center mt-3" data-hide-on-error>
          <svg style="box-sizing: content-box; color: var(--color-icon-primary);" width="32" height="32" viewBox="0 0 16 16" fill="none" data-view-component="true" class="anim-rotate">
  <circle cx="8" cy="8" r="7" stroke="currentColor" stroke-opacity="0.25" stroke-width="2" vector-effect="non-scaling-stroke" />
  <path d="M15 8a7.002 7.002 0 00-7-7" stroke="currentColor" stroke-width="2" stroke-linecap="round" vector-effect="non-scaling-stroke" />
</svg>
        </p>
        <p class="ml-1 mb-2 mt-2 color-fg-default" data-show-on-error>
          <svg aria-hidden="true" height="16" viewBox="0 0 16 16" version="1.1" width="16" data-view-component="true" class="octicon octicon-alert">
    <path d="M6.457 1.047c.659-1.234 2.427-1.234 3.086 0l6.082 11.378A1.75 1.75 0 0 1 14.082 15H1.918a1.75 1.75 0 0 1-1.543-2.575Zm1.763.707a.25.25 0 0 0-.44 0L1.698 13.132a.25.25 0 0 0 .22.368h12.164a.25.25 0 0 0 .22-.368Zm.53 3.996v2.5a.75.75 0 0 1-1.5 0v-2.5a.75.75 0 0 1 1.5 0ZM9 11a1 1 0 1 1-2 0 1 1 0 0 1 2 0Z"></path>
</svg>
          Sorry, something went wrong.
        </p>
      </include-fragment>
  </details-menu>
</details>

    </div>
</header>

          
    </div>

  <div id="start-of-content" class="show-on-focus"></div>







    <div id="js-flash-container" data-turbo-replace>





  <template class="js-flash-template">
    
<div class="flash flash-full   {{ className }}">
  <div class="px-2" >
    <button autofocus class="flash-close js-flash-close" type="button" aria-label="Dismiss this message">
      <svg aria-hidden="true" height="16" viewBox="0 0 16 16" version="1.1" width="16" data-view-component="true" class="octicon octicon-x">
    <path d="M3.72 3.72a.75.75 0 0 1 1.06 0L8 6.94l3.22-3.22a.749.749 0 0 1 1.275.326.749.749 0 0 1-.215.734L9.06 8l3.22 3.22a.749.749 0 0 1-.326 1.275.749.749 0 0 1-.734-.215L8 9.06l-3.22 3.22a.751.751 0 0 1-1.042-.018.751.751 0 0 1-.018-1.042L6.94 8 3.72 4.78a.75.75 0 0 1 0-1.06Z"></path>
</svg>
    </button>
    <div aria-atomic="true" role="alert" class="js-flash-alert">
      
      <div>{{ message }}</div>

    </div>
  </div>
</div>
  </template>
</div>


    
    <notification-shelf-watcher data-base-url="https://github.com/notifications/beta/shelf" data-channel="eyJjIjoibm90aWZpY2F0aW9uLWNoYW5nZWQ6MTA2NDg0MzgxIiwidCI6MTY4Mzg5MjEyM30=--f48597605c5a190d2d1b375ee85d048a6d2c8545e60af7a3529551638e8e6dc0" data-view-component="true" class="js-socket-channel"></notification-shelf-watcher>
  <div hidden data-initial data-target="notification-shelf-watcher.placeholder"></div>






      <details
  class="details-reset details-overlay details-overlay-dark js-command-palette-dialog"
  id="command-palette-pjax-container"
  data-turbo-replace
>
  <summary aria-label="command palette trigger" tabindex="-1"></summary>
  <details-dialog class="command-palette-details-dialog d-flex flex-column flex-justify-center height-fit" aria-label="command palette">
    <command-palette
      class="command-palette color-bg-default rounded-3 border color-shadow-small"
      return-to=/MarcelloLM/Classifica-ao-do-credito-/blob/main/Projeto_01_Classifica%C3%A7%C3%A3o_do_cr%C3%A9dito.ipynb
      user-id="106484381"
      activation-hotkey="Mod+k,Mod+Alt+k"
      command-mode-hotkey="Mod+Shift+k"
      data-action="
        command-palette-input-ready:command-palette#inputReady
        command-palette-page-stack-updated:command-palette#updateInputScope
        itemsUpdated:command-palette#itemsUpdated
        keydown:command-palette#onKeydown
        loadingStateChanged:command-palette#loadingStateChanged
        selectedItemChanged:command-palette#selectedItemChanged
        pageFetchError:command-palette#pageFetchError
      ">

        <command-palette-mode
          data-char="#"
            data-scope-types="[&quot;&quot;]"
            data-placeholder="Search issues and pull requests"
        ></command-palette-mode>
        <command-palette-mode
          data-char="#"
            data-scope-types="[&quot;owner&quot;,&quot;repository&quot;]"
            data-placeholder="Search issues, pull requests, discussions, and projects"
        ></command-palette-mode>
        <command-palette-mode
          data-char="!"
            data-scope-types="[&quot;owner&quot;,&quot;repository&quot;]"
            data-placeholder="Search projects"
        ></command-palette-mode>
        <command-palette-mode
          data-char="@"
            data-scope-types="[&quot;&quot;]"
            data-placeholder="Search or jump to a user, organization, or repository"
        ></command-palette-mode>
        <command-palette-mode
          data-char="@"
            data-scope-types="[&quot;owner&quot;]"
            data-placeholder="Search or jump to a repository"
        ></command-palette-mode>
        <command-palette-mode
          data-char="/"
            data-scope-types="[&quot;repository&quot;]"
            data-placeholder="Search files"
        ></command-palette-mode>
        <command-palette-mode
          data-char="?"
        ></command-palette-mode>
        <command-palette-mode
          data-char="&gt;"
            data-placeholder="Run a command"
        ></command-palette-mode>
        <command-palette-mode
          data-char=""
            data-scope-types="[&quot;&quot;]"
            data-placeholder="Search or jump to..."
        ></command-palette-mode>
        <command-palette-mode
          data-char=""
            data-scope-types="[&quot;owner&quot;]"
            data-placeholder="Search or jump to..."
        ></command-palette-mode>
      <command-palette-mode
        class="js-command-palette-default-mode"
        data-char=""
        data-placeholder="Search or jump to..."
      ></command-palette-mode>

      <command-palette-input placeholder="Search or jump to..."

        data-action="
          command-palette-input:command-palette#onInput
          command-palette-select:command-palette#onSelect
          command-palette-descope:command-palette#onDescope
          command-palette-cleared:command-palette#onInputClear
        "
      >
        <div class="js-search-icon d-flex flex-items-center mr-2" style="height: 26px">
          <svg aria-hidden="true" height="16" viewBox="0 0 16 16" version="1.1" width="16" data-view-component="true" class="octicon octicon-search color-fg-muted">
    <path d="M10.68 11.74a6 6 0 0 1-7.922-8.982 6 6 0 0 1 8.982 7.922l3.04 3.04a.749.749 0 0 1-.326 1.275.749.749 0 0 1-.734-.215ZM11.5 7a4.499 4.499 0 1 0-8.997 0A4.499 4.499 0 0 0 11.5 7Z"></path>
</svg>
        </div>
        <div class="js-spinner d-flex flex-items-center mr-2 color-fg-muted" hidden>
          <svg aria-label="Loading" class="anim-rotate" viewBox="0 0 16 16" fill="none" width="16" height="16">
            <circle
              cx="8"
              cy="8"
              r="7"
              stroke="currentColor"
              stroke-opacity="0.25"
              stroke-width="2"
              vector-effect="non-scaling-stroke"
            ></circle>
            <path
              d="M15 8a7.002 7.002 0 00-7-7"
              stroke="currentColor"
              stroke-width="2"
              stroke-linecap="round"
              vector-effect="non-scaling-stroke"
            ></path>
          </svg>
        </div>
        <command-palette-scope >
          <div data-target="command-palette-scope.placeholder" hidden class="color-fg-subtle">/&nbsp;&nbsp;<span class="text-semibold color-fg-default">...</span>&nbsp;&nbsp;/&nbsp;&nbsp;</div>
              <command-palette-token
                data-text="MarcelloLM"
                data-id="U_kgDOBljSnQ"
                data-type="owner"
                data-value="MarcelloLM"
                data-targets="command-palette-scope.tokens"
                class="color-fg-default text-semibold"
                style="white-space:nowrap;line-height:20px;"
                >MarcelloLM<span class="color-fg-subtle text-normal">&nbsp;&nbsp;/&nbsp;&nbsp;</span></command-palette-token>
              <command-palette-token
                data-text="Classifica-ao-do-credito-"
                data-id="R_kgDOJPUH4A"
                data-type="repository"
                data-value="Classifica-ao-do-credito-"
                data-targets="command-palette-scope.tokens"
                class="color-fg-default text-semibold"
                style="white-space:nowrap;line-height:20px;"
                >Classifica-ao-do-...<span class="color-fg-subtle text-normal">&nbsp;&nbsp;/&nbsp;&nbsp;</span></command-palette-token>
        </command-palette-scope>
        <div class="command-palette-input-group flex-1 form-control border-0 box-shadow-none" style="z-index: 0">
          <div class="command-palette-typeahead position-absolute d-flex flex-items-center Truncate">
            <span class="typeahead-segment input-mirror" data-target="command-palette-input.mirror"></span>
            <span class="Truncate-text" data-target="command-palette-input.typeaheadText"></span>
            <span class="typeahead-segment" data-target="command-palette-input.typeaheadPlaceholder"></span>
          </div>
          <input
            class="js-overlay-input typeahead-input d-none"
            disabled
            tabindex="-1"
            aria-label="Hidden input for typeahead"
          >
          <input
            type="text"
            autocomplete="off"
            autocorrect="off"
            autocapitalize="off"
            spellcheck="false"
            class="js-input typeahead-input form-control border-0 box-shadow-none input-block width-full no-focus-indicator"
            aria-label="Command palette input"
            aria-haspopup="listbox"
            aria-expanded="false"
            aria-autocomplete="list"
            aria-controls="command-palette-page-stack"
            role="combobox"
            data-action="
              input:command-palette-input#onInput
              keydown:command-palette-input#onKeydown
            "
          >
        </div>
          <div data-view-component="true" class="position-relative d-inline-block">
    <button aria-keyshortcuts="Control+Backspace" data-action="click:command-palette-input#onClear keypress:command-palette-input#onClear" data-target="command-palette-input.clearButton" id="command-palette-clear-button" hidden="hidden" type="button" data-view-component="true" class="btn-octicon command-palette-input-clear-button">      <svg aria-hidden="true" height="16" viewBox="0 0 16 16" version="1.1" width="16" data-view-component="true" class="octicon octicon-x-circle-fill">
    <path d="M2.343 13.657A8 8 0 1 1 13.658 2.343 8 8 0 0 1 2.343 13.657ZM6.03 4.97a.751.751 0 0 0-1.042.018.751.751 0 0 0-.018 1.042L6.94 8 4.97 9.97a.749.749 0 0 0 .326 1.275.749.749 0 0 0 .734-.215L8 9.06l1.97 1.97a.749.749 0 0 0 1.275-.326.749.749 0 0 0-.215-.734L9.06 8l1.97-1.97a.749.749 0 0 0-.326-1.275.749.749 0 0 0-.734.215L8 6.94Z"></path>
</svg>
</button>    <tool-tip id="tooltip-2d053f94-1815-4530-bee6-44b13c63d3a7" for="command-palette-clear-button" data-direction="w" data-type="label" data-view-component="true" class="sr-only position-absolute">Clear Command Palette</tool-tip>
</div>
      </command-palette-input>

      <command-palette-page-stack
        data-default-scope-id="R_kgDOJPUH4A"
        data-default-scope-type="Repository"
        data-action="command-palette-page-octicons-cached:command-palette-page-stack#cacheOcticons"
      >
          <command-palette-tip
            class="color-fg-muted f6 px-3 py-1 my-2"
              data-scope-types="[&quot;&quot;,&quot;owner&quot;,&quot;repository&quot;]"
            data-mode=""
            data-value="">
            <div class="d-flex flex-items-start flex-justify-between">
              <div>
                <span class="text-bold">Tip:</span>
                  Type <kbd class="hx_kbd">#</kbd> to search pull requests
              </div>
              <div class="ml-2 flex-shrink-0">
                Type <kbd class="hx_kbd">?</kbd> for help and tips
              </div>
            </div>
          </command-palette-tip>
          <command-palette-tip
            class="color-fg-muted f6 px-3 py-1 my-2"
              data-scope-types="[&quot;&quot;,&quot;owner&quot;,&quot;repository&quot;]"
            data-mode=""
            data-value="">
            <div class="d-flex flex-items-start flex-justify-between">
              <div>
                <span class="text-bold">Tip:</span>
                  Type <kbd class="hx_kbd">#</kbd> to search issues
              </div>
              <div class="ml-2 flex-shrink-0">
                Type <kbd class="hx_kbd">?</kbd> for help and tips
              </div>
            </div>
          </command-palette-tip>
          <command-palette-tip
            class="color-fg-muted f6 px-3 py-1 my-2"
              data-scope-types="[&quot;owner&quot;,&quot;repository&quot;]"
            data-mode=""
            data-value="">
            <div class="d-flex flex-items-start flex-justify-between">
              <div>
                <span class="text-bold">Tip:</span>
                  Type <kbd class="hx_kbd">#</kbd> to search discussions
              </div>
              <div class="ml-2 flex-shrink-0">
                Type <kbd class="hx_kbd">?</kbd> for help and tips
              </div>
            </div>
          </command-palette-tip>
          <command-palette-tip
            class="color-fg-muted f6 px-3 py-1 my-2"
              data-scope-types="[&quot;owner&quot;,&quot;repository&quot;]"
            data-mode=""
            data-value="">
            <div class="d-flex flex-items-start flex-justify-between">
              <div>
                <span class="text-bold">Tip:</span>
                  Type <kbd class="hx_kbd">!</kbd> to search projects
              </div>
              <div class="ml-2 flex-shrink-0">
                Type <kbd class="hx_kbd">?</kbd> for help and tips
              </div>
            </div>
          </command-palette-tip>
          <command-palette-tip
            class="color-fg-muted f6 px-3 py-1 my-2"
              data-scope-types="[&quot;owner&quot;]"
            data-mode=""
            data-value="">
            <div class="d-flex flex-items-start flex-justify-between">
              <div>
                <span class="text-bold">Tip:</span>
                  Type <kbd class="hx_kbd">@</kbd> to search teams
              </div>
              <div class="ml-2 flex-shrink-0">
                Type <kbd class="hx_kbd">?</kbd> for help and tips
              </div>
            </div>
          </command-palette-tip>
          <command-palette-tip
            class="color-fg-muted f6 px-3 py-1 my-2"
              data-scope-types="[&quot;&quot;]"
            data-mode=""
            data-value="">
            <div class="d-flex flex-items-start flex-justify-between">
              <div>
                <span class="text-bold">Tip:</span>
                  Type <kbd class="hx_kbd">@</kbd> to search people and organizations
              </div>
              <div class="ml-2 flex-shrink-0">
                Type <kbd class="hx_kbd">?</kbd> for help and tips
              </div>
            </div>
          </command-palette-tip>
          <command-palette-tip
            class="color-fg-muted f6 px-3 py-1 my-2"
              data-scope-types="[&quot;&quot;,&quot;owner&quot;,&quot;repository&quot;]"
            data-mode=""
            data-value="">
            <div class="d-flex flex-items-start flex-justify-between">
              <div>
                <span class="text-bold">Tip:</span>
                  Type <kbd class="hx_kbd">&gt;</kbd> to activate command mode
              </div>
              <div class="ml-2 flex-shrink-0">
                Type <kbd class="hx_kbd">?</kbd> for help and tips
              </div>
            </div>
          </command-palette-tip>
          <command-palette-tip
            class="color-fg-muted f6 px-3 py-1 my-2"
              data-scope-types="[&quot;&quot;,&quot;owner&quot;,&quot;repository&quot;]"
            data-mode=""
            data-value="">
            <div class="d-flex flex-items-start flex-justify-between">
              <div>
                <span class="text-bold">Tip:</span>
                  Go to your accessibility settings to change your keyboard shortcuts
              </div>
              <div class="ml-2 flex-shrink-0">
                Type <kbd class="hx_kbd">?</kbd> for help and tips
              </div>
            </div>
          </command-palette-tip>
          <command-palette-tip
            class="color-fg-muted f6 px-3 py-1 my-2"
              data-scope-types="[&quot;&quot;,&quot;owner&quot;,&quot;repository&quot;]"
            data-mode="#"
            data-value="">
            <div class="d-flex flex-items-start flex-justify-between">
              <div>
                <span class="text-bold">Tip:</span>
                  Type author:@me to search your content
              </div>
              <div class="ml-2 flex-shrink-0">
                Type <kbd class="hx_kbd">?</kbd> for help and tips
              </div>
            </div>
          </command-palette-tip>
          <command-palette-tip
            class="color-fg-muted f6 px-3 py-1 my-2"
              data-scope-types="[&quot;&quot;,&quot;owner&quot;,&quot;repository&quot;]"
            data-mode="#"
            data-value="">
            <div class="d-flex flex-items-start flex-justify-between">
              <div>
                <span class="text-bold">Tip:</span>
                  Type is:pr to filter to pull requests
              </div>
              <div class="ml-2 flex-shrink-0">
                Type <kbd class="hx_kbd">?</kbd> for help and tips
              </div>
            </div>
          </command-palette-tip>
          <command-palette-tip
            class="color-fg-muted f6 px-3 py-1 my-2"
              data-scope-types="[&quot;&quot;,&quot;owner&quot;,&quot;repository&quot;]"
            data-mode="#"
            data-value="">
            <div class="d-flex flex-items-start flex-justify-between">
              <div>
                <span class="text-bold">Tip:</span>
                  Type is:issue to filter to issues
              </div>
              <div class="ml-2 flex-shrink-0">
                Type <kbd class="hx_kbd">?</kbd> for help and tips
              </div>
            </div>
          </command-palette-tip>
          <command-palette-tip
            class="color-fg-muted f6 px-3 py-1 my-2"
              data-scope-types="[&quot;owner&quot;,&quot;repository&quot;]"
            data-mode="#"
            data-value="">
            <div class="d-flex flex-items-start flex-justify-between">
              <div>
                <span class="text-bold">Tip:</span>
                  Type is:project to filter to projects
              </div>
              <div class="ml-2 flex-shrink-0">
                Type <kbd class="hx_kbd">?</kbd> for help and tips
              </div>
            </div>
          </command-palette-tip>
          <command-palette-tip
            class="color-fg-muted f6 px-3 py-1 my-2"
              data-scope-types="[&quot;&quot;,&quot;owner&quot;,&quot;repository&quot;]"
            data-mode="#"
            data-value="">
            <div class="d-flex flex-items-start flex-justify-between">
              <div>
                <span class="text-bold">Tip:</span>
                  Type is:open to filter to open content
              </div>
              <div class="ml-2 flex-shrink-0">
                Type <kbd class="hx_kbd">?</kbd> for help and tips
              </div>
            </div>
          </command-palette-tip>
        <command-palette-tip class="mx-3 my-2 flash flash-error d-flex flex-items-center" data-scope-types="*" data-on-error>
          <div>
            <svg aria-hidden="true" height="16" viewBox="0 0 16 16" version="1.1" width="16" data-view-component="true" class="octicon octicon-alert">
    <path d="M6.457 1.047c.659-1.234 2.427-1.234 3.086 0l6.082 11.378A1.75 1.75 0 0 1 14.082 15H1.918a1.75 1.75 0 0 1-1.543-2.575Zm1.763.707a.25.25 0 0 0-.44 0L1.698 13.132a.25.25 0 0 0 .22.368h12.164a.25.25 0 0 0 .22-.368Zm.53 3.996v2.5a.75.75 0 0 1-1.5 0v-2.5a.75.75 0 0 1 1.5 0ZM9 11a1 1 0 1 1-2 0 1 1 0 0 1 2 0Z"></path>
</svg>
          </div>
          <div class="px-2">
            We’ve encountered an error and some results aren't available at this time. Type a new search or try again later.
          </div>
        </command-palette-tip>
        <command-palette-tip class="h4 color-fg-default pl-3 pb-2 pt-3" data-on-empty data-scope-types="*" data-match-mode="[^?]|^$">
          No results matched your search
        </command-palette-tip>

        <div hidden>

            <div data-targets="command-palette-page-stack.localOcticons" data-octicon-id="arrow-right-color-fg-muted">
              <svg height="16" class="octicon octicon-arrow-right color-fg-muted" viewBox="0 0 16 16" version="1.1" width="16" aria-hidden="true"><path d="M8.22 2.97a.75.75 0 0 1 1.06 0l4.25 4.25a.75.75 0 0 1 0 1.06l-4.25 4.25a.751.751 0 0 1-1.042-.018.751.751 0 0 1-.018-1.042l2.97-2.97H3.75a.75.75 0 0 1 0-1.5h7.44L8.22 4.03a.75.75 0 0 1 0-1.06Z"></path></svg>
            </div>
            <div data-targets="command-palette-page-stack.localOcticons" data-octicon-id="arrow-right-color-fg-default">
              <svg height="16" class="octicon octicon-arrow-right color-fg-default" viewBox="0 0 16 16" version="1.1" width="16" aria-hidden="true"><path d="M8.22 2.97a.75.75 0 0 1 1.06 0l4.25 4.25a.75.75 0 0 1 0 1.06l-4.25 4.25a.751.751 0 0 1-1.042-.018.751.751 0 0 1-.018-1.042l2.97-2.97H3.75a.75.75 0 0 1 0-1.5h7.44L8.22 4.03a.75.75 0 0 1 0-1.06Z"></path></svg>
            </div>
            <div data-targets="command-palette-page-stack.localOcticons" data-octicon-id="codespaces-color-fg-muted">
              <svg height="16" class="octicon octicon-codespaces color-fg-muted" viewBox="0 0 16 16" version="1.1" width="16" aria-hidden="true"><path d="M0 11.25c0-.966.784-1.75 1.75-1.75h12.5c.966 0 1.75.784 1.75 1.75v3A1.75 1.75 0 0 1 14.25 16H1.75A1.75 1.75 0 0 1 0 14.25Zm2-9.5C2 .784 2.784 0 3.75 0h8.5C13.216 0 14 .784 14 1.75v5a1.75 1.75 0 0 1-1.75 1.75h-8.5A1.75 1.75 0 0 1 2 6.75Zm1.75-.25a.25.25 0 0 0-.25.25v5c0 .138.112.25.25.25h8.5a.25.25 0 0 0 .25-.25v-5a.25.25 0 0 0-.25-.25Zm-2 9.5a.25.25 0 0 0-.25.25v3c0 .138.112.25.25.25h12.5a.25.25 0 0 0 .25-.25v-3a.25.25 0 0 0-.25-.25Z"></path><path d="M7 12.75a.75.75 0 0 1 .75-.75h4.5a.75.75 0 0 1 0 1.5h-4.5a.75.75 0 0 1-.75-.75Zm-4 0a.75.75 0 0 1 .75-.75h.5a.75.75 0 0 1 0 1.5h-.5a.75.75 0 0 1-.75-.75Z"></path></svg>
            </div>
            <div data-targets="command-palette-page-stack.localOcticons" data-octicon-id="copy-color-fg-muted">
              <svg height="16" class="octicon octicon-copy color-fg-muted" viewBox="0 0 16 16" version="1.1" width="16" aria-hidden="true"><path d="M0 6.75C0 5.784.784 5 1.75 5h1.5a.75.75 0 0 1 0 1.5h-1.5a.25.25 0 0 0-.25.25v7.5c0 .138.112.25.25.25h7.5a.25.25 0 0 0 .25-.25v-1.5a.75.75 0 0 1 1.5 0v1.5A1.75 1.75 0 0 1 9.25 16h-7.5A1.75 1.75 0 0 1 0 14.25Z"></path><path d="M5 1.75C5 .784 5.784 0 6.75 0h7.5C15.216 0 16 .784 16 1.75v7.5A1.75 1.75 0 0 1 14.25 11h-7.5A1.75 1.75 0 0 1 5 9.25Zm1.75-.25a.25.25 0 0 0-.25.25v7.5c0 .138.112.25.25.25h7.5a.25.25 0 0 0 .25-.25v-7.5a.25.25 0 0 0-.25-.25Z"></path></svg>
            </div>
            <div data-targets="command-palette-page-stack.localOcticons" data-octicon-id="dash-color-fg-muted">
              <svg height="16" class="octicon octicon-dash color-fg-muted" viewBox="0 0 16 16" version="1.1" width="16" aria-hidden="true"><path d="M2 7.75A.75.75 0 0 1 2.75 7h10a.75.75 0 0 1 0 1.5h-10A.75.75 0 0 1 2 7.75Z"></path></svg>
            </div>
            <div data-targets="command-palette-page-stack.localOcticons" data-octicon-id="file-color-fg-muted">
              <svg height="16" class="octicon octicon-file color-fg-muted" viewBox="0 0 16 16" version="1.1" width="16" aria-hidden="true"><path d="M2 1.75C2 .784 2.784 0 3.75 0h6.586c.464 0 .909.184 1.237.513l2.914 2.914c.329.328.513.773.513 1.237v9.586A1.75 1.75 0 0 1 13.25 16h-9.5A1.75 1.75 0 0 1 2 14.25Zm1.75-.25a.25.25 0 0 0-.25.25v12.5c0 .138.112.25.25.25h9.5a.25.25 0 0 0 .25-.25V6h-2.75A1.75 1.75 0 0 1 9 4.25V1.5Zm6.75.062V4.25c0 .138.112.25.25.25h2.688l-.011-.013-2.914-2.914-.013-.011Z"></path></svg>
            </div>
            <div data-targets="command-palette-page-stack.localOcticons" data-octicon-id="gear-color-fg-muted">
              <svg height="16" class="octicon octicon-gear color-fg-muted" viewBox="0 0 16 16" version="1.1" width="16" aria-hidden="true"><path d="M8 0a8.2 8.2 0 0 1 .701.031C9.444.095 9.99.645 10.16 1.29l.288 1.107c.018.066.079.158.212.224.231.114.454.243.668.386.123.082.233.09.299.071l1.103-.303c.644-.176 1.392.021 1.82.63.27.385.506.792.704 1.218.315.675.111 1.422-.364 1.891l-.814.806c-.049.048-.098.147-.088.294.016.257.016.515 0 .772-.01.147.038.246.088.294l.814.806c.475.469.679 1.216.364 1.891a7.977 7.977 0 0 1-.704 1.217c-.428.61-1.176.807-1.82.63l-1.102-.302c-.067-.019-.177-.011-.3.071a5.909 5.909 0 0 1-.668.386c-.133.066-.194.158-.211.224l-.29 1.106c-.168.646-.715 1.196-1.458 1.26a8.006 8.006 0 0 1-1.402 0c-.743-.064-1.289-.614-1.458-1.26l-.289-1.106c-.018-.066-.079-.158-.212-.224a5.738 5.738 0 0 1-.668-.386c-.123-.082-.233-.09-.299-.071l-1.103.303c-.644.176-1.392-.021-1.82-.63a8.12 8.12 0 0 1-.704-1.218c-.315-.675-.111-1.422.363-1.891l.815-.806c.05-.048.098-.147.088-.294a6.214 6.214 0 0 1 0-.772c.01-.147-.038-.246-.088-.294l-.815-.806C.635 6.045.431 5.298.746 4.623a7.92 7.92 0 0 1 .704-1.217c.428-.61 1.176-.807 1.82-.63l1.102.302c.067.019.177.011.3-.071.214-.143.437-.272.668-.386.133-.066.194-.158.211-.224l.29-1.106C6.009.645 6.556.095 7.299.03 7.53.01 7.764 0 8 0Zm-.571 1.525c-.036.003-.108.036-.137.146l-.289 1.105c-.147.561-.549.967-.998 1.189-.173.086-.34.183-.5.29-.417.278-.97.423-1.529.27l-1.103-.303c-.109-.03-.175.016-.195.045-.22.312-.412.644-.573.99-.014.031-.021.11.059.19l.815.806c.411.406.562.957.53 1.456a4.709 4.709 0 0 0 0 .582c.032.499-.119 1.05-.53 1.456l-.815.806c-.081.08-.073.159-.059.19.162.346.353.677.573.989.02.03.085.076.195.046l1.102-.303c.56-.153 1.113-.008 1.53.27.161.107.328.204.501.29.447.222.85.629.997 1.189l.289 1.105c.029.109.101.143.137.146a6.6 6.6 0 0 0 1.142 0c.036-.003.108-.036.137-.146l.289-1.105c.147-.561.549-.967.998-1.189.173-.086.34-.183.5-.29.417-.278.97-.423 1.529-.27l1.103.303c.109.029.175-.016.195-.045.22-.313.411-.644.573-.99.014-.031.021-.11-.059-.19l-.815-.806c-.411-.406-.562-.957-.53-1.456a4.709 4.709 0 0 0 0-.582c-.032-.499.119-1.05.53-1.456l.815-.806c.081-.08.073-.159.059-.19a6.464 6.464 0 0 0-.573-.989c-.02-.03-.085-.076-.195-.046l-1.102.303c-.56.153-1.113.008-1.53-.27a4.44 4.44 0 0 0-.501-.29c-.447-.222-.85-.629-.997-1.189l-.289-1.105c-.029-.11-.101-.143-.137-.146a6.6 6.6 0 0 0-1.142 0ZM11 8a3 3 0 1 1-6 0 3 3 0 0 1 6 0ZM9.5 8a1.5 1.5 0 1 0-3.001.001A1.5 1.5 0 0 0 9.5 8Z"></path></svg>
            </div>
            <div data-targets="command-palette-page-stack.localOcticons" data-octicon-id="lock-color-fg-muted">
              <svg height="16" class="octicon octicon-lock color-fg-muted" viewBox="0 0 16 16" version="1.1" width="16" aria-hidden="true"><path d="M4 4a4 4 0 0 1 8 0v2h.25c.966 0 1.75.784 1.75 1.75v5.5A1.75 1.75 0 0 1 12.25 15h-8.5A1.75 1.75 0 0 1 2 13.25v-5.5C2 6.784 2.784 6 3.75 6H4Zm8.25 3.5h-8.5a.25.25 0 0 0-.25.25v5.5c0 .138.112.25.25.25h8.5a.25.25 0 0 0 .25-.25v-5.5a.25.25 0 0 0-.25-.25ZM10.5 6V4a2.5 2.5 0 1 0-5 0v2Z"></path></svg>
            </div>
            <div data-targets="command-palette-page-stack.localOcticons" data-octicon-id="moon-color-fg-muted">
              <svg height="16" class="octicon octicon-moon color-fg-muted" viewBox="0 0 16 16" version="1.1" width="16" aria-hidden="true"><path d="M9.598 1.591a.749.749 0 0 1 .785-.175 7.001 7.001 0 1 1-8.967 8.967.75.75 0 0 1 .961-.96 5.5 5.5 0 0 0 7.046-7.046.75.75 0 0 1 .175-.786Zm1.616 1.945a7 7 0 0 1-7.678 7.678 5.499 5.499 0 1 0 7.678-7.678Z"></path></svg>
            </div>
            <div data-targets="command-palette-page-stack.localOcticons" data-octicon-id="person-color-fg-muted">
              <svg height="16" class="octicon octicon-person color-fg-muted" viewBox="0 0 16 16" version="1.1" width="16" aria-hidden="true"><path d="M10.561 8.073a6.005 6.005 0 0 1 3.432 5.142.75.75 0 1 1-1.498.07 4.5 4.5 0 0 0-8.99 0 .75.75 0 0 1-1.498-.07 6.004 6.004 0 0 1 3.431-5.142 3.999 3.999 0 1 1 5.123 0ZM10.5 5a2.5 2.5 0 1 0-5 0 2.5 2.5 0 0 0 5 0Z"></path></svg>
            </div>
            <div data-targets="command-palette-page-stack.localOcticons" data-octicon-id="pencil-color-fg-muted">
              <svg height="16" class="octicon octicon-pencil color-fg-muted" viewBox="0 0 16 16" version="1.1" width="16" aria-hidden="true"><path d="M11.013 1.427a1.75 1.75 0 0 1 2.474 0l1.086 1.086a1.75 1.75 0 0 1 0 2.474l-8.61 8.61c-.21.21-.47.364-.756.445l-3.251.93a.75.75 0 0 1-.927-.928l.929-3.25c.081-.286.235-.547.445-.758l8.61-8.61Zm.176 4.823L9.75 4.81l-6.286 6.287a.253.253 0 0 0-.064.108l-.558 1.953 1.953-.558a.253.253 0 0 0 .108-.064Zm1.238-3.763a.25.25 0 0 0-.354 0L10.811 3.75l1.439 1.44 1.263-1.263a.25.25 0 0 0 0-.354Z"></path></svg>
            </div>
            <div data-targets="command-palette-page-stack.localOcticons" data-octicon-id="issue-opened-open">
              <svg height="16" class="octicon octicon-issue-opened open" viewBox="0 0 16 16" version="1.1" width="16" aria-hidden="true"><path d="M8 9.5a1.5 1.5 0 1 0 0-3 1.5 1.5 0 0 0 0 3Z"></path><path d="M8 0a8 8 0 1 1 0 16A8 8 0 0 1 8 0ZM1.5 8a6.5 6.5 0 1 0 13 0 6.5 6.5 0 0 0-13 0Z"></path></svg>
            </div>
            <div data-targets="command-palette-page-stack.localOcticons" data-octicon-id="git-pull-request-draft-color-fg-muted">
              <svg height="16" class="octicon octicon-git-pull-request-draft color-fg-muted" viewBox="0 0 16 16" version="1.1" width="16" aria-hidden="true"><path d="M3.25 1A2.25 2.25 0 0 1 4 5.372v5.256a2.251 2.251 0 1 1-1.5 0V5.372A2.251 2.251 0 0 1 3.25 1Zm9.5 14a2.25 2.25 0 1 1 0-4.5 2.25 2.25 0 0 1 0 4.5ZM2.5 3.25a.75.75 0 1 0 1.5 0 .75.75 0 0 0-1.5 0ZM3.25 12a.75.75 0 1 0 0 1.5.75.75 0 0 0 0-1.5Zm9.5 0a.75.75 0 1 0 0 1.5.75.75 0 0 0 0-1.5ZM14 7.5a1.25 1.25 0 1 1-2.5 0 1.25 1.25 0 0 1 2.5 0Zm0-4.25a1.25 1.25 0 1 1-2.5 0 1.25 1.25 0 0 1 2.5 0Z"></path></svg>
            </div>
            <div data-targets="command-palette-page-stack.localOcticons" data-octicon-id="search-color-fg-muted">
              <svg height="16" class="octicon octicon-search color-fg-muted" viewBox="0 0 16 16" version="1.1" width="16" aria-hidden="true"><path d="M10.68 11.74a6 6 0 0 1-7.922-8.982 6 6 0 0 1 8.982 7.922l3.04 3.04a.749.749 0 0 1-.326 1.275.749.749 0 0 1-.734-.215ZM11.5 7a4.499 4.499 0 1 0-8.997 0A4.499 4.499 0 0 0 11.5 7Z"></path></svg>
            </div>
            <div data-targets="command-palette-page-stack.localOcticons" data-octicon-id="sun-color-fg-muted">
              <svg height="16" class="octicon octicon-sun color-fg-muted" viewBox="0 0 16 16" version="1.1" width="16" aria-hidden="true"><path d="M8 12a4 4 0 1 1 0-8 4 4 0 0 1 0 8Zm0-1.5a2.5 2.5 0 1 0 0-5 2.5 2.5 0 0 0 0 5Zm5.657-8.157a.75.75 0 0 1 0 1.061l-1.061 1.06a.749.749 0 0 1-1.275-.326.749.749 0 0 1 .215-.734l1.06-1.06a.75.75 0 0 1 1.06 0Zm-9.193 9.193a.75.75 0 0 1 0 1.06l-1.06 1.061a.75.75 0 1 1-1.061-1.06l1.06-1.061a.75.75 0 0 1 1.061 0ZM8 0a.75.75 0 0 1 .75.75v1.5a.75.75 0 0 1-1.5 0V.75A.75.75 0 0 1 8 0ZM3 8a.75.75 0 0 1-.75.75H.75a.75.75 0 0 1 0-1.5h1.5A.75.75 0 0 1 3 8Zm13 0a.75.75 0 0 1-.75.75h-1.5a.75.75 0 0 1 0-1.5h1.5A.75.75 0 0 1 16 8Zm-8 5a.75.75 0 0 1 .75.75v1.5a.75.75 0 0 1-1.5 0v-1.5A.75.75 0 0 1 8 13Zm3.536-1.464a.75.75 0 0 1 1.06 0l1.061 1.06a.75.75 0 0 1-1.06 1.061l-1.061-1.06a.75.75 0 0 1 0-1.061ZM2.343 2.343a.75.75 0 0 1 1.061 0l1.06 1.061a.751.751 0 0 1-.018 1.042.751.751 0 0 1-1.042.018l-1.06-1.06a.75.75 0 0 1 0-1.06Z"></path></svg>
            </div>
            <div data-targets="command-palette-page-stack.localOcticons" data-octicon-id="sync-color-fg-muted">
              <svg height="16" class="octicon octicon-sync color-fg-muted" viewBox="0 0 16 16" version="1.1" width="16" aria-hidden="true"><path d="M1.705 8.005a.75.75 0 0 1 .834.656 5.5 5.5 0 0 0 9.592 2.97l-1.204-1.204a.25.25 0 0 1 .177-.427h3.646a.25.25 0 0 1 .25.25v3.646a.25.25 0 0 1-.427.177l-1.38-1.38A7.002 7.002 0 0 1 1.05 8.84a.75.75 0 0 1 .656-.834ZM8 2.5a5.487 5.487 0 0 0-4.131 1.869l1.204 1.204A.25.25 0 0 1 4.896 6H1.25A.25.25 0 0 1 1 5.75V2.104a.25.25 0 0 1 .427-.177l1.38 1.38A7.002 7.002 0 0 1 14.95 7.16a.75.75 0 0 1-1.49.178A5.5 5.5 0 0 0 8 2.5Z"></path></svg>
            </div>
            <div data-targets="command-palette-page-stack.localOcticons" data-octicon-id="trash-color-fg-muted">
              <svg height="16" class="octicon octicon-trash color-fg-muted" viewBox="0 0 16 16" version="1.1" width="16" aria-hidden="true"><path d="M11 1.75V3h2.25a.75.75 0 0 1 0 1.5H2.75a.75.75 0 0 1 0-1.5H5V1.75C5 .784 5.784 0 6.75 0h2.5C10.216 0 11 .784 11 1.75ZM4.496 6.675l.66 6.6a.25.25 0 0 0 .249.225h5.19a.25.25 0 0 0 .249-.225l.66-6.6a.75.75 0 0 1 1.492.149l-.66 6.6A1.748 1.748 0 0 1 10.595 15h-5.19a1.75 1.75 0 0 1-1.741-1.575l-.66-6.6a.75.75 0 1 1 1.492-.15ZM6.5 1.75V3h3V1.75a.25.25 0 0 0-.25-.25h-2.5a.25.25 0 0 0-.25.25Z"></path></svg>
            </div>
            <div data-targets="command-palette-page-stack.localOcticons" data-octicon-id="key-color-fg-muted">
              <svg height="16" class="octicon octicon-key color-fg-muted" viewBox="0 0 16 16" version="1.1" width="16" aria-hidden="true"><path d="M10.5 0a5.499 5.499 0 1 1-1.288 10.848l-.932.932a.749.749 0 0 1-.53.22H7v.75a.749.749 0 0 1-.22.53l-.5.5a.749.749 0 0 1-.53.22H5v.75a.749.749 0 0 1-.22.53l-.5.5a.749.749 0 0 1-.53.22h-2A1.75 1.75 0 0 1 0 14.25v-2c0-.199.079-.389.22-.53l4.932-4.932A5.5 5.5 0 0 1 10.5 0Zm-4 5.5c-.001.431.069.86.205 1.269a.75.75 0 0 1-.181.768L1.5 12.56v1.69c0 .138.112.25.25.25h1.69l.06-.06v-1.19a.75.75 0 0 1 .75-.75h1.19l.06-.06v-1.19a.75.75 0 0 1 .75-.75h1.19l1.023-1.025a.75.75 0 0 1 .768-.18A4 4 0 1 0 6.5 5.5ZM11 6a1 1 0 1 1 0-2 1 1 0 0 1 0 2Z"></path></svg>
            </div>
            <div data-targets="command-palette-page-stack.localOcticons" data-octicon-id="comment-discussion-color-fg-muted">
              <svg height="16" class="octicon octicon-comment-discussion color-fg-muted" viewBox="0 0 16 16" version="1.1" width="16" aria-hidden="true"><path d="M1.75 1h8.5c.966 0 1.75.784 1.75 1.75v5.5A1.75 1.75 0 0 1 10.25 10H7.061l-2.574 2.573A1.458 1.458 0 0 1 2 11.543V10h-.25A1.75 1.75 0 0 1 0 8.25v-5.5C0 1.784.784 1 1.75 1ZM1.5 2.75v5.5c0 .138.112.25.25.25h1a.75.75 0 0 1 .75.75v2.19l2.72-2.72a.749.749 0 0 1 .53-.22h3.5a.25.25 0 0 0 .25-.25v-5.5a.25.25 0 0 0-.25-.25h-8.5a.25.25 0 0 0-.25.25Zm13 2a.25.25 0 0 0-.25-.25h-.5a.75.75 0 0 1 0-1.5h.5c.966 0 1.75.784 1.75 1.75v5.5A1.75 1.75 0 0 1 14.25 12H14v1.543a1.458 1.458 0 0 1-2.487 1.03L9.22 12.28a.749.749 0 0 1 .326-1.275.749.749 0 0 1 .734.215l2.22 2.22v-2.19a.75.75 0 0 1 .75-.75h1a.25.25 0 0 0 .25-.25Z"></path></svg>
            </div>
            <div data-targets="command-palette-page-stack.localOcticons" data-octicon-id="bell-color-fg-muted">
              <svg height="16" class="octicon octicon-bell color-fg-muted" viewBox="0 0 16 16" version="1.1" width="16" aria-hidden="true"><path d="M8 16a2 2 0 0 0 1.985-1.75c.017-.137-.097-.25-.235-.25h-3.5c-.138 0-.252.113-.235.25A2 2 0 0 0 8 16ZM3 5a5 5 0 0 1 10 0v2.947c0 .05.015.098.042.139l1.703 2.555A1.519 1.519 0 0 1 13.482 13H2.518a1.516 1.516 0 0 1-1.263-2.36l1.703-2.554A.255.255 0 0 0 3 7.947Zm5-3.5A3.5 3.5 0 0 0 4.5 5v2.947c0 .346-.102.683-.294.97l-1.703 2.556a.017.017 0 0 0-.003.01l.001.006c0 .002.002.004.004.006l.006.004.007.001h10.964l.007-.001.006-.004.004-.006.001-.007a.017.017 0 0 0-.003-.01l-1.703-2.554a1.745 1.745 0 0 1-.294-.97V5A3.5 3.5 0 0 0 8 1.5Z"></path></svg>
            </div>
            <div data-targets="command-palette-page-stack.localOcticons" data-octicon-id="bell-slash-color-fg-muted">
              <svg height="16" class="octicon octicon-bell-slash color-fg-muted" viewBox="0 0 16 16" version="1.1" width="16" aria-hidden="true"><path d="m4.182 4.31.016.011 10.104 7.316.013.01 1.375.996a.75.75 0 1 1-.88 1.214L13.626 13H2.518a1.516 1.516 0 0 1-1.263-2.36l1.703-2.554A.255.255 0 0 0 3 7.947V5.305L.31 3.357a.75.75 0 1 1 .88-1.214Zm7.373 7.19L4.5 6.391v1.556c0 .346-.102.683-.294.97l-1.703 2.556a.017.017 0 0 0-.003.01c0 .005.002.009.005.012l.006.004.007.001ZM8 1.5c-.997 0-1.895.416-2.534 1.086A.75.75 0 1 1 4.38 1.55 5 5 0 0 1 13 5v2.373a.75.75 0 0 1-1.5 0V5A3.5 3.5 0 0 0 8 1.5ZM8 16a2 2 0 0 1-1.985-1.75c-.017-.137.097-.25.235-.25h3.5c.138 0 .252.113.235.25A2 2 0 0 1 8 16Z"></path></svg>
            </div>
            <div data-targets="command-palette-page-stack.localOcticons" data-octicon-id="paintbrush-color-fg-muted">
              <svg height="16" class="octicon octicon-paintbrush color-fg-muted" viewBox="0 0 16 16" version="1.1" width="16" aria-hidden="true"><path d="M11.134 1.535c.7-.509 1.416-.942 2.076-1.155.649-.21 1.463-.267 2.069.34.603.601.568 1.411.368 2.07-.202.668-.624 1.39-1.125 2.096-1.011 1.424-2.496 2.987-3.775 4.249-1.098 1.084-2.132 1.839-3.04 2.3a3.744 3.744 0 0 1-1.055 3.217c-.431.431-1.065.691-1.657.861-.614.177-1.294.287-1.914.357A21.151 21.151 0 0 1 .797 16H.743l.007-.75H.749L.742 16a.75.75 0 0 1-.743-.742l.743-.008-.742.007v-.054a21.25 21.25 0 0 1 .13-2.284c.067-.647.187-1.287.358-1.914.17-.591.43-1.226.86-1.657a3.746 3.746 0 0 1 3.227-1.054c.466-.893 1.225-1.907 2.314-2.982 1.271-1.255 2.833-2.75 4.245-3.777ZM1.62 13.089c-.051.464-.086.929-.104 1.395.466-.018.932-.053 1.396-.104a10.511 10.511 0 0 0 1.668-.309c.526-.151.856-.325 1.011-.48a2.25 2.25 0 1 0-3.182-3.182c-.155.155-.329.485-.48 1.01a10.515 10.515 0 0 0-.309 1.67Zm10.396-10.34c-1.224.89-2.605 2.189-3.822 3.384l1.718 1.718c1.21-1.205 2.51-2.597 3.387-3.833.47-.662.78-1.227.912-1.662.134-.444.032-.551.009-.575h-.001V1.78c-.014-.014-.113-.113-.548.027-.432.14-.995.462-1.655.942Zm-4.832 7.266-.001.001a9.859 9.859 0 0 0 1.63-1.142L7.155 7.216a9.7 9.7 0 0 0-1.161 1.607c.482.302.889.71 1.19 1.192Z"></path></svg>
            </div>

            <command-palette-item-group
              data-group-id="top"
              data-group-title="Top result"
              data-group-hint=""
              data-group-limits="{}"
              data-default-priority="0"
            >
            </command-palette-item-group>
            <command-palette-item-group
              data-group-id="commands"
              data-group-title="Commands"
              data-group-hint="Type &gt; to filter"
              data-group-limits="{&quot;static_items_page&quot;:50,&quot;issue&quot;:50,&quot;pull_request&quot;:50,&quot;discussion&quot;:50}"
              data-default-priority="1"
            >
            </command-palette-item-group>
            <command-palette-item-group
              data-group-id="global_commands"
              data-group-title="Global Commands"
              data-group-hint="Type &gt; to filter"
              data-group-limits="{&quot;issue&quot;:0,&quot;pull_request&quot;:0,&quot;discussion&quot;:0}"
              data-default-priority="2"
            >
            </command-palette-item-group>
            <command-palette-item-group
              data-group-id="this_page"
              data-group-title="This Page"
              data-group-hint=""
              data-group-limits="{}"
              data-default-priority="3"
            >
            </command-palette-item-group>
            <command-palette-item-group
              data-group-id="files"
              data-group-title="Files"
              data-group-hint=""
              data-group-limits="{}"
              data-default-priority="4"
            >
            </command-palette-item-group>
            <command-palette-item-group
              data-group-id="default"
              data-group-title="Default"
              data-group-hint=""
              data-group-limits="{&quot;static_items_page&quot;:50}"
              data-default-priority="5"
            >
            </command-palette-item-group>
            <command-palette-item-group
              data-group-id="pages"
              data-group-title="Pages"
              data-group-hint=""
              data-group-limits="{&quot;repository&quot;:10}"
              data-default-priority="6"
            >
            </command-palette-item-group>
            <command-palette-item-group
              data-group-id="access_policies"
              data-group-title="Access Policies"
              data-group-hint=""
              data-group-limits="{}"
              data-default-priority="7"
            >
            </command-palette-item-group>
            <command-palette-item-group
              data-group-id="organizations"
              data-group-title="Organizations"
              data-group-hint=""
              data-group-limits="{}"
              data-default-priority="8"
            >
            </command-palette-item-group>
            <command-palette-item-group
              data-group-id="repositories"
              data-group-title="Repositories"
              data-group-hint=""
              data-group-limits="{}"
              data-default-priority="9"
            >
            </command-palette-item-group>
            <command-palette-item-group
              data-group-id="references"
              data-group-title="Issues, pull requests, and discussions"
              data-group-hint="Type # to filter"
              data-group-limits="{}"
              data-default-priority="10"
            >
            </command-palette-item-group>
            <command-palette-item-group
              data-group-id="teams"
              data-group-title="Teams"
              data-group-hint=""
              data-group-limits="{}"
              data-default-priority="11"
            >
            </command-palette-item-group>
            <command-palette-item-group
              data-group-id="users"
              data-group-title="Users"
              data-group-hint=""
              data-group-limits="{}"
              data-default-priority="12"
            >
            </command-palette-item-group>
            <command-palette-item-group
              data-group-id="memex_projects"
              data-group-title="Projects"
              data-group-hint=""
              data-group-limits="{}"
              data-default-priority="13"
            >
            </command-palette-item-group>
            <command-palette-item-group
              data-group-id="projects"
              data-group-title="Projects (classic)"
              data-group-hint=""
              data-group-limits="{}"
              data-default-priority="14"
            >
            </command-palette-item-group>
            <command-palette-item-group
              data-group-id="footer"
              data-group-title="Footer"
              data-group-hint=""
              data-group-limits="{}"
              data-default-priority="15"
            >
            </command-palette-item-group>
            <command-palette-item-group
              data-group-id="modes_help"
              data-group-title="Modes"
              data-group-hint=""
              data-group-limits="{}"
              data-default-priority="16"
            >
            </command-palette-item-group>
            <command-palette-item-group
              data-group-id="filters_help"
              data-group-title="Use filters in issues, pull requests, discussions, and projects"
              data-group-hint=""
              data-group-limits="{}"
              data-default-priority="17"
            >
            </command-palette-item-group>

            <command-palette-page
              data-page-title="MarcelloLM"
              data-scope-id="U_kgDOBljSnQ"
              data-scope-type="owner"
              data-targets="command-palette-page-stack.defaultPages"
              hidden
            >
            </command-palette-page>
            <command-palette-page
              data-page-title="Classifica-ao-do-credito-"
              data-scope-id="R_kgDOJPUH4A"
              data-scope-type="repository"
              data-targets="command-palette-page-stack.defaultPages"
              hidden
            >
            </command-palette-page>
        </div>

        <command-palette-page data-is-root>
        </command-palette-page>
          <command-palette-page
            data-page-title="MarcelloLM"
            data-scope-id="U_kgDOBljSnQ"
            data-scope-type="owner"
          >
          </command-palette-page>
          <command-palette-page
            data-page-title="Classifica-ao-do-credito-"
            data-scope-id="R_kgDOJPUH4A"
            data-scope-type="repository"
          >
          </command-palette-page>
      </command-palette-page-stack>

      <server-defined-provider data-type="search-links" data-targets="command-palette.serverDefinedProviderElements"></server-defined-provider>
      <server-defined-provider data-type="help" data-targets="command-palette.serverDefinedProviderElements">
          <command-palette-help
            data-group="modes_help"
              data-prefix="#"
              data-scope-types="[&quot;&quot;]"
          >
            <span data-target="command-palette-help.titleElement">Search for <strong>issues</strong> and <strong>pull requests</strong></span>
              <span data-target="command-palette-help.hintElement">
                <kbd class="hx_kbd">#</kbd>
              </span>
          </command-palette-help>
          <command-palette-help
            data-group="modes_help"
              data-prefix="#"
              data-scope-types="[&quot;owner&quot;,&quot;repository&quot;]"
          >
            <span data-target="command-palette-help.titleElement">Search for <strong>issues, pull requests, discussions,</strong> and <strong>projects</strong></span>
              <span data-target="command-palette-help.hintElement">
                <kbd class="hx_kbd">#</kbd>
              </span>
          </command-palette-help>
          <command-palette-help
            data-group="modes_help"
              data-prefix="@"
              data-scope-types="[&quot;&quot;]"
          >
            <span data-target="command-palette-help.titleElement">Search for <strong>organizations, repositories,</strong> and <strong>users</strong></span>
              <span data-target="command-palette-help.hintElement">
                <kbd class="hx_kbd">@</kbd>
              </span>
          </command-palette-help>
          <command-palette-help
            data-group="modes_help"
              data-prefix="!"
              data-scope-types="[&quot;owner&quot;,&quot;repository&quot;]"
          >
            <span data-target="command-palette-help.titleElement">Search for <strong>projects</strong></span>
              <span data-target="command-palette-help.hintElement">
                <kbd class="hx_kbd">!</kbd>
              </span>
          </command-palette-help>
          <command-palette-help
            data-group="modes_help"
              data-prefix="/"
              data-scope-types="[&quot;repository&quot;]"
          >
            <span data-target="command-palette-help.titleElement">Search for <strong>files</strong></span>
              <span data-target="command-palette-help.hintElement">
                <kbd class="hx_kbd">/</kbd>
              </span>
          </command-palette-help>
          <command-palette-help
            data-group="modes_help"
              data-prefix="&gt;"
          >
            <span data-target="command-palette-help.titleElement">Activate <strong>command mode</strong></span>
              <span data-target="command-palette-help.hintElement">
                <kbd class="hx_kbd">&gt;</kbd>
              </span>
          </command-palette-help>
          <command-palette-help
            data-group="filters_help"
              data-prefix="# author:@me"
          >
            <span data-target="command-palette-help.titleElement">Search your issues, pull requests, and discussions</span>
              <span data-target="command-palette-help.hintElement">
                <kbd class="hx_kbd"># author:@me</kbd>
              </span>
          </command-palette-help>
          <command-palette-help
            data-group="filters_help"
              data-prefix="# author:@me"
          >
            <span data-target="command-palette-help.titleElement">Search your issues, pull requests, and discussions</span>
              <span data-target="command-palette-help.hintElement">
                <kbd class="hx_kbd"># author:@me</kbd>
              </span>
          </command-palette-help>
          <command-palette-help
            data-group="filters_help"
              data-prefix="# is:pr"
          >
            <span data-target="command-palette-help.titleElement">Filter to pull requests</span>
              <span data-target="command-palette-help.hintElement">
                <kbd class="hx_kbd"># is:pr</kbd>
              </span>
          </command-palette-help>
          <command-palette-help
            data-group="filters_help"
              data-prefix="# is:issue"
          >
            <span data-target="command-palette-help.titleElement">Filter to issues</span>
              <span data-target="command-palette-help.hintElement">
                <kbd class="hx_kbd"># is:issue</kbd>
              </span>
          </command-palette-help>
          <command-palette-help
            data-group="filters_help"
              data-prefix="# is:discussion"
              data-scope-types="[&quot;owner&quot;,&quot;repository&quot;]"
          >
            <span data-target="command-palette-help.titleElement">Filter to discussions</span>
              <span data-target="command-palette-help.hintElement">
                <kbd class="hx_kbd"># is:discussion</kbd>
              </span>
          </command-palette-help>
          <command-palette-help
            data-group="filters_help"
              data-prefix="# is:project"
              data-scope-types="[&quot;owner&quot;,&quot;repository&quot;]"
          >
            <span data-target="command-palette-help.titleElement">Filter to projects</span>
              <span data-target="command-palette-help.hintElement">
                <kbd class="hx_kbd"># is:project</kbd>
              </span>
          </command-palette-help>
          <command-palette-help
            data-group="filters_help"
              data-prefix="# is:open"
          >
            <span data-target="command-palette-help.titleElement">Filter to open issues, pull requests, and discussions</span>
              <span data-target="command-palette-help.hintElement">
                <kbd class="hx_kbd"># is:open</kbd>
              </span>
          </command-palette-help>
      </server-defined-provider>

        <server-defined-provider
          data-type="commands"
          data-fetch-debounce="0"
            data-src="/command_palette/commands"
          data-supported-modes="[]"
            data-supports-commands
          
          data-targets="command-palette.serverDefinedProviderElements"
          ></server-defined-provider>
        <server-defined-provider
          data-type="prefetched"
          data-fetch-debounce="0"
            data-src="/command_palette/jump_to_page_navigation"
          data-supported-modes="[&quot;&quot;]"
            data-supported-scope-types="[&quot;&quot;,&quot;owner&quot;,&quot;repository&quot;]"
          
          data-targets="command-palette.serverDefinedProviderElements"
          ></server-defined-provider>
        <server-defined-provider
          data-type="remote"
          data-fetch-debounce="200"
            data-src="/command_palette/issues"
          data-supported-modes="[&quot;#&quot;,&quot;#&quot;]"
            data-supported-scope-types="[&quot;owner&quot;,&quot;repository&quot;,&quot;&quot;]"
          
          data-targets="command-palette.serverDefinedProviderElements"
          ></server-defined-provider>
        <server-defined-provider
          data-type="remote"
          data-fetch-debounce="200"
            data-src="/command_palette/jump_to"
          data-supported-modes="[&quot;@&quot;,&quot;@&quot;]"
            data-supported-scope-types="[&quot;&quot;,&quot;owner&quot;]"
          
          data-targets="command-palette.serverDefinedProviderElements"
          ></server-defined-provider>
        <server-defined-provider
          data-type="remote"
          data-fetch-debounce="200"
            data-src="/command_palette/jump_to_members_only"
          data-supported-modes="[&quot;@&quot;,&quot;@&quot;,&quot;&quot;,&quot;&quot;]"
            data-supported-scope-types="[&quot;&quot;,&quot;owner&quot;]"
          
          data-targets="command-palette.serverDefinedProviderElements"
          ></server-defined-provider>
        <server-defined-provider
          data-type="prefetched"
          data-fetch-debounce="0"
            data-src="/command_palette/jump_to_members_only_prefetched"
          data-supported-modes="[&quot;@&quot;,&quot;@&quot;,&quot;&quot;,&quot;&quot;]"
            data-supported-scope-types="[&quot;&quot;,&quot;owner&quot;]"
          
          data-targets="command-palette.serverDefinedProviderElements"
          ></server-defined-provider>
        <server-defined-provider
          data-type="files"
          data-fetch-debounce="0"
            data-src="/command_palette/files"
          data-supported-modes="[&quot;/&quot;]"
            data-supported-scope-types="[&quot;repository&quot;]"
          
          data-targets="command-palette.serverDefinedProviderElements"
          ></server-defined-provider>
        <server-defined-provider
          data-type="remote"
          data-fetch-debounce="200"
            data-src="/command_palette/discussions"
          data-supported-modes="[&quot;#&quot;]"
            data-supported-scope-types="[&quot;owner&quot;,&quot;repository&quot;]"
          
          data-targets="command-palette.serverDefinedProviderElements"
          ></server-defined-provider>
        <server-defined-provider
          data-type="remote"
          data-fetch-debounce="200"
            data-src="/command_palette/projects"
          data-supported-modes="[&quot;#&quot;,&quot;!&quot;]"
            data-supported-scope-types="[&quot;owner&quot;,&quot;repository&quot;]"
          
          data-targets="command-palette.serverDefinedProviderElements"
          ></server-defined-provider>
        <server-defined-provider
          data-type="prefetched"
          data-fetch-debounce="0"
            data-src="/command_palette/recent_issues"
          data-supported-modes="[&quot;#&quot;,&quot;#&quot;]"
            data-supported-scope-types="[&quot;owner&quot;,&quot;repository&quot;,&quot;&quot;]"
          
          data-targets="command-palette.serverDefinedProviderElements"
          ></server-defined-provider>
        <server-defined-provider
          data-type="remote"
          data-fetch-debounce="200"
            data-src="/command_palette/teams"
          data-supported-modes="[&quot;@&quot;,&quot;&quot;]"
            data-supported-scope-types="[&quot;owner&quot;]"
          
          data-targets="command-palette.serverDefinedProviderElements"
          ></server-defined-provider>
        <server-defined-provider
          data-type="remote"
          data-fetch-debounce="200"
            data-src="/command_palette/name_with_owner_repository"
          data-supported-modes="[&quot;@&quot;,&quot;@&quot;,&quot;&quot;,&quot;&quot;]"
            data-supported-scope-types="[&quot;&quot;,&quot;owner&quot;]"
          
          data-targets="command-palette.serverDefinedProviderElements"
          ></server-defined-provider>
    </command-palette>
  </details-dialog>
</details>

<div class="position-fixed bottom-0 left-0 ml-5 mb-5 js-command-palette-toasts" style="z-index: 1000">
  <div hidden class="Toast Toast--loading">
    <span class="Toast-icon">
      <svg class="Toast--spinner" viewBox="0 0 32 32" width="18" height="18" aria-hidden="true">
        <path
          fill="#959da5"
          d="M16 0 A16 16 0 0 0 16 32 A16 16 0 0 0 16 0 M16 4 A12 12 0 0 1 16 28 A12 12 0 0 1 16 4"
        />
        <path fill="#ffffff" d="M16 0 A16 16 0 0 1 32 16 L28 16 A12 12 0 0 0 16 4z"></path>
      </svg>
    </span>
    <span class="Toast-content"></span>
  </div>

  <div hidden class="anim-fade-in fast Toast Toast--error">
    <span class="Toast-icon">
      <svg aria-hidden="true" height="16" viewBox="0 0 16 16" version="1.1" width="16" data-view-component="true" class="octicon octicon-stop">
    <path d="M4.47.22A.749.749 0 0 1 5 0h6c.199 0 .389.079.53.22l4.25 4.25c.141.14.22.331.22.53v6a.749.749 0 0 1-.22.53l-4.25 4.25A.749.749 0 0 1 11 16H5a.749.749 0 0 1-.53-.22L.22 11.53A.749.749 0 0 1 0 11V5c0-.199.079-.389.22-.53Zm.84 1.28L1.5 5.31v5.38l3.81 3.81h5.38l3.81-3.81V5.31L10.69 1.5ZM8 4a.75.75 0 0 1 .75.75v3.5a.75.75 0 0 1-1.5 0v-3.5A.75.75 0 0 1 8 4Zm0 8a1 1 0 1 1 0-2 1 1 0 0 1 0 2Z"></path>
</svg>
    </span>
    <span class="Toast-content"></span>
  </div>

  <div hidden class="anim-fade-in fast Toast Toast--warning">
    <span class="Toast-icon">
      <svg aria-hidden="true" height="16" viewBox="0 0 16 16" version="1.1" width="16" data-view-component="true" class="octicon octicon-alert">
    <path d="M6.457 1.047c.659-1.234 2.427-1.234 3.086 0l6.082 11.378A1.75 1.75 0 0 1 14.082 15H1.918a1.75 1.75 0 0 1-1.543-2.575Zm1.763.707a.25.25 0 0 0-.44 0L1.698 13.132a.25.25 0 0 0 .22.368h12.164a.25.25 0 0 0 .22-.368Zm.53 3.996v2.5a.75.75 0 0 1-1.5 0v-2.5a.75.75 0 0 1 1.5 0ZM9 11a1 1 0 1 1-2 0 1 1 0 0 1 2 0Z"></path>
</svg>
    </span>
    <span class="Toast-content"></span>
  </div>


  <div hidden class="anim-fade-in fast Toast Toast--success">
    <span class="Toast-icon">
      <svg aria-hidden="true" height="16" viewBox="0 0 16 16" version="1.1" width="16" data-view-component="true" class="octicon octicon-check">
    <path d="M13.78 4.22a.75.75 0 0 1 0 1.06l-7.25 7.25a.75.75 0 0 1-1.06 0L2.22 9.28a.751.751 0 0 1 .018-1.042.751.751 0 0 1 1.042-.018L6 10.94l6.72-6.72a.75.75 0 0 1 1.06 0Z"></path>
</svg>
    </span>
    <span class="Toast-content"></span>
  </div>

  <div hidden class="anim-fade-in fast Toast">
    <span class="Toast-icon">
      <svg aria-hidden="true" height="16" viewBox="0 0 16 16" version="1.1" width="16" data-view-component="true" class="octicon octicon-info">
    <path d="M0 8a8 8 0 1 1 16 0A8 8 0 0 1 0 8Zm8-6.5a6.5 6.5 0 1 0 0 13 6.5 6.5 0 0 0 0-13ZM6.5 7.75A.75.75 0 0 1 7.25 7h1a.75.75 0 0 1 .75.75v2.75h.25a.75.75 0 0 1 0 1.5h-2a.75.75 0 0 1 0-1.5h.25v-2h-.25a.75.75 0 0 1-.75-.75ZM8 6a1 1 0 1 1 0-2 1 1 0 0 1 0 2Z"></path>
</svg>
    </span>
    <span class="Toast-content"></span>
  </div>
</div>


  <div
    class="application-main "
    data-commit-hovercards-enabled
    data-discussion-hovercards-enabled
    data-issue-and-pr-hovercards-enabled
  >
        <div itemscope itemtype="http://schema.org/SoftwareSourceCode" class="">
    <main id="js-repo-pjax-container" >
      
      






  
  <div id="repository-container-header"  class="pt-3 hide-full-screen" style="background-color: var(--color-page-header-bg);" data-turbo-replace>

      <div class="d-flex flex-wrap flex-justify-end mb-3  px-3 px-md-4 px-lg-5" style="gap: 1rem;">

        <div class="flex-auto min-width-0 width-fit mr-3">
            
  <div class=" d-flex flex-wrap flex-items-center wb-break-word f3 text-normal">
      <svg aria-hidden="true" height="16" viewBox="0 0 16 16" version="1.1" width="16" data-view-component="true" class="octicon octicon-repo color-fg-muted mr-2">
    <path d="M2 2.5A2.5 2.5 0 0 1 4.5 0h8.75a.75.75 0 0 1 .75.75v12.5a.75.75 0 0 1-.75.75h-2.5a.75.75 0 0 1 0-1.5h1.75v-2h-8a1 1 0 0 0-.714 1.7.75.75 0 1 1-1.072 1.05A2.495 2.495 0 0 1 2 11.5Zm10.5-1h-8a1 1 0 0 0-1 1v6.708A2.486 2.486 0 0 1 4.5 9h8ZM5 12.25a.25.25 0 0 1 .25-.25h3.5a.25.25 0 0 1 .25.25v3.25a.25.25 0 0 1-.4.2l-1.45-1.087a.249.249 0 0 0-.3 0L5.4 15.7a.25.25 0 0 1-.4-.2Z"></path>
</svg>
    
    <span class="author flex-self-stretch" itemprop="author">
      <a class="url fn" rel="author" data-hovercard-type="user" data-hovercard-url="/users/MarcelloLM/hovercard" data-octo-click="hovercard-link-click" data-octo-dimensions="link_type:self" href="/MarcelloLM">
        MarcelloLM
</a>    </span>
    <span class="mx-1 flex-self-stretch color-fg-muted">/</span>
    <strong itemprop="name" class="mr-2 flex-self-stretch">
      <a data-pjax="#repo-content-pjax-container" data-turbo-frame="repo-content-turbo-frame" href="/MarcelloLM/Classifica-ao-do-credito-">Classifica-ao-do-credito-</a>
    </strong>

    <span></span><span class="Label Label--secondary v-align-middle mr-1">Public</span>
  </div>


        </div>

        <div id="repository-details-container" data-turbo-replace>
            <ul class="pagehead-actions flex-shrink-0 d-none d-md-inline" style="padding: 2px 0;">
    
      <li>
  <div class="float-left" >
    <!-- '"` --><!-- </textarea></xmp> --></option></form><form data-turbo="false" action="/MarcelloLM/Classifica-ao-do-credito-/profile_pin" accept-charset="UTF-8" method="post"><input type="hidden" name="authenticity_token" value="rVYoKBo4vVIWk8Ur4kuSm-qL1JNA6bm0xCxu_DWccqfSHmiQSU-g5DqKkd_-e-HSvjGEXNN2waZdG0QoGw40kQ" autocomplete="off" />
        <button title="Pin this repository to your profile" type="submit" data-view-component="true" class="btn-sm btn">    <svg aria-hidden="true" height="16" viewBox="0 0 16 16" version="1.1" width="16" data-view-component="true" class="octicon octicon-pin mr-2">
    <path d="M4.456.734a1.75 1.75 0 0 1 2.826.504l.613 1.327a3.08 3.08 0 0 0 2.084 1.707l2.454.584c1.332.317 1.8 1.972.832 2.94L11.06 10l3.72 3.72a.748.748 0 0 1-.332 1.265.75.75 0 0 1-.729-.205L10 11.06l-2.204 2.205c-.968.968-2.623.5-2.94-.832l-.584-2.454a3.08 3.08 0 0 0-1.707-2.084l-1.327-.613a1.75 1.75 0 0 1-.504-2.826ZM5.92 1.866a.253.253 0 0 0-.183-.142.251.251 0 0 0-.221.07L1.794 5.516a.251.251 0 0 0-.07.221c.015.08.068.149.142.183l1.328.613A4.582 4.582 0 0 1 5.73 9.63l.584 2.454a.251.251 0 0 0 .42.12l5.47-5.47a.25.25 0 0 0-.12-.42L9.63 5.73a4.583 4.583 0 0 1-3.098-2.537Z"></path>
</svg>Pin
</button></form>  </div>
</li>


  <li>
        <include-fragment loading="lazy" src="/notifications/620038112/watch_subscription?aria_id_prefix=repository-details&amp;button_block=false&amp;show_count=true">
    <div data-hide-on-error>
        
            <button disabled="disabled" aria-label="Watching a repository" type="button" data-view-component="true" class="tooltipped tooltipped-n Button--secondary Button--small Button">    <span class="Button-content">
        <span class="Button-visual Button-leadingVisual">
          <svg aria-hidden="true" height="16" viewBox="0 0 16 16" version="1.1" width="16" data-view-component="true" class="octicon octicon-eye">
    <path d="M8 2c1.981 0 3.671.992 4.933 2.078 1.27 1.091 2.187 2.345 2.637 3.023a1.62 1.62 0 0 1 0 1.798c-.45.678-1.367 1.932-2.637 3.023C11.67 13.008 9.981 14 8 14c-1.981 0-3.671-.992-4.933-2.078C1.797 10.83.88 9.576.43 8.898a1.62 1.62 0 0 1 0-1.798c.45-.677 1.367-1.931 2.637-3.022C4.33 2.992 6.019 2 8 2ZM1.679 7.932a.12.12 0 0 0 0 .136c.411.622 1.241 1.75 2.366 2.717C5.176 11.758 6.527 12.5 8 12.5c1.473 0 2.825-.742 3.955-1.715 1.124-.967 1.954-2.096 2.366-2.717a.12.12 0 0 0 0-.136c-.412-.621-1.242-1.75-2.366-2.717C10.824 4.242 9.473 3.5 8 3.5c-1.473 0-2.825.742-3.955 1.715-1.124.967-1.954 2.096-2.366 2.717ZM8 10a2 2 0 1 1-.001-3.999A2 2 0 0 1 8 10Z"></path>
</svg>
        </span>
      <span class="Button-label">Watch</span>
    </span>
</button>  

    </div>
    <p data-show-on-error hidden>
        
          <span class="d-flex pt-1">
            <svg aria-hidden="true" height="16" viewBox="0 0 16 16" version="1.1" width="16" data-view-component="true" class="octicon octicon-alert mr-1">
    <path d="M6.457 1.047c.659-1.234 2.427-1.234 3.086 0l6.082 11.378A1.75 1.75 0 0 1 14.082 15H1.918a1.75 1.75 0 0 1-1.543-2.575Zm1.763.707a.25.25 0 0 0-.44 0L1.698 13.132a.25.25 0 0 0 .22.368h12.164a.25.25 0 0 0 .22-.368Zm.53 3.996v2.5a.75.75 0 0 1-1.5 0v-2.5a.75.75 0 0 1 1.5 0ZM9 11a1 1 0 1 1-2 0 1 1 0 0 1 2 0Z"></path>
</svg>
            Couldn't load subscription status.&nbsp;
              <button data-retry-button="" type="button" data-view-component="true" class="Button--link Button--medium Button">    <span class="Button-content">
      <span class="Button-label">Retry</span>
    </span>
</button>  

          </span>

    </p>
  </include-fragment>
  </li>

  <li>
        <div data-view-component="true" class="d-flex">
        <div data-view-component="true" class="position-relative d-inline-block">
    <button icon="repo-forked" id="fork-button" aria-disabled="true" type="button" data-view-component="true" class="btn-sm btn BtnGroup-item border-right-0">      <svg aria-hidden="true" height="16" viewBox="0 0 16 16" version="1.1" width="16" data-view-component="true" class="octicon octicon-repo-forked mr-2">
    <path d="M5 5.372v.878c0 .414.336.75.75.75h4.5a.75.75 0 0 0 .75-.75v-.878a2.25 2.25 0 1 1 1.5 0v.878a2.25 2.25 0 0 1-2.25 2.25h-1.5v2.128a2.251 2.251 0 1 1-1.5 0V8.5h-1.5A2.25 2.25 0 0 1 3.5 6.25v-.878a2.25 2.25 0 1 1 1.5 0ZM5 3.25a.75.75 0 1 0-1.5 0 .75.75 0 0 0 1.5 0Zm6.75.75a.75.75 0 1 0 0-1.5.75.75 0 0 0 0 1.5Zm-3 8.75a.75.75 0 1 0-1.5 0 .75.75 0 0 0 1.5 0Z"></path>
</svg>Fork
        <span id="repo-network-counter" data-pjax-replace="true" data-turbo-replace="true" title="0" data-view-component="true" class="Counter">0</span>
</button>    <tool-tip id="tooltip-dcf9e489-29d7-46cc-bcf4-baa735282920" for="fork-button" data-direction="s" data-type="description" data-view-component="true" class="sr-only position-absolute">Cannot fork because you own this repository and are not a member of any organizations.</tool-tip>
</div>
      <details group_item="true" id="my-forks-menu-620038112" data-view-component="true" class="details-reset details-overlay BtnGroup-parent d-inline-block position-relative">
              <summary aria-label="See your forks of this repository" data-view-component="true" class="btn-sm btn BtnGroup-item px-2 float-none">    <svg aria-hidden="true" height="16" viewBox="0 0 16 16" version="1.1" width="16" data-view-component="true" class="octicon octicon-triangle-down">
    <path d="m4.427 7.427 3.396 3.396a.25.25 0 0 0 .354 0l3.396-3.396A.25.25 0 0 0 11.396 7H4.604a.25.25 0 0 0-.177.427Z"></path>
</svg>
</summary>
  <details-menu
    class="SelectMenu right-0"
      src="/MarcelloLM/Classifica-ao-do-credito-/my_forks_menu_content?can_fork=false"
      
      role="menu"
      
>
    <div class="SelectMenu-modal">
        <button class="SelectMenu-closeButton position-absolute right-0 m-2" type="button" aria-label="Close menu" data-toggle-for="details-1199f5">
          <svg aria-hidden="true" height="16" viewBox="0 0 16 16" version="1.1" width="16" data-view-component="true" class="octicon octicon-x">
    <path d="M3.72 3.72a.75.75 0 0 1 1.06 0L8 6.94l3.22-3.22a.749.749 0 0 1 1.275.326.749.749 0 0 1-.215.734L9.06 8l3.22 3.22a.749.749 0 0 1-.326 1.275.749.749 0 0 1-.734-.215L8 9.06l-3.22 3.22a.751.751 0 0 1-1.042-.018.751.751 0 0 1-.018-1.042L6.94 8 3.72 4.78a.75.75 0 0 1 0-1.06Z"></path>
</svg>
        </button>
      <div
        id="filter-menu-1199f5"
        class="d-flex flex-column flex-1 overflow-hidden"
>
        <div
          class="SelectMenu-list"
          >

            <include-fragment class="SelectMenu-loading" aria-label="Loading">
              <svg role="menuitem" style="box-sizing: content-box; color: var(--color-icon-primary);" width="32" height="32" viewBox="0 0 16 16" fill="none" data-view-component="true" class="anim-rotate">
  <circle cx="8" cy="8" r="7" stroke="currentColor" stroke-opacity="0.25" stroke-width="2" vector-effect="non-scaling-stroke" />
  <path d="M15 8a7.002 7.002 0 00-7-7" stroke="currentColor" stroke-width="2" stroke-linecap="round" vector-effect="non-scaling-stroke" />
</svg>
            </include-fragment>
        </div>
        
      </div>
    </div>
  </details-menu>
</details></div>
  </li>

  <li>
        <template class="js-unstar-confirmation-dialog-template">
  <div class="Box-header">
    <h2 class="Box-title">Unstar this repository?</h2>
  </div>
  <div class="Box-body">
    <p class="mb-3">
      This will remove {{ repoNameWithOwner }} from the {{ listsWithCount }} that it's been added to.
    </p>
    <div class="form-actions">
      <!-- '"` --><!-- </textarea></xmp> --></option></form><form class="js-social-confirmation-form" data-turbo="false" action="{{ confirmUrl }}" accept-charset="UTF-8" method="post">
        <input type="hidden" name="authenticity_token" value="{{ confirmCsrfToken }}">
        <input type="hidden" name="confirm" value="true">
          <button data-close-dialog="true" type="submit" data-view-component="true" class="btn-danger btn width-full">    Unstar
</button>
</form>    </div>
  </div>
</template>

  <div data-view-component="true" class="js-toggler-container js-social-container starring-container d-flex">
    <div data-view-component="true" class="starred BtnGroup flex-1">
      <!-- '"` --><!-- </textarea></xmp> --></option></form><form class="js-social-form BtnGroup-parent flex-auto js-deferred-toggler-target" data-turbo="false" action="/MarcelloLM/Classifica-ao-do-credito-/unstar" accept-charset="UTF-8" method="post"><input type="hidden" name="authenticity_token" value="mPjhdi7J5Iv-0Y51PySimGXhkSJSjt2IIP7q-Ov2uRbCYdVi4VTVLDCvZAHHbQn4ygIKqS7Yz5Ke6OsTEBOUPA" autocomplete="off" />
          <input type="hidden" value="VGGhRc9SpIW4hTvNTOEXcZ6qJYctvVB43BShvWtErvEO-JVRAM-VInb70bm0qLwRMUm-DFHrQmJiAqBWkKGD2w" data-csrf="true" class="js-confirm-csrf-token" />
        <input type="hidden" name="context" value="repository">
          <button data-hydro-click="{&quot;event_type&quot;:&quot;repository.click&quot;,&quot;payload&quot;:{&quot;target&quot;:&quot;UNSTAR_BUTTON&quot;,&quot;repository_id&quot;:620038112,&quot;originating_url&quot;:&quot;https://github.com/MarcelloLM/Classifica-ao-do-credito-/blob/main/Projeto_01_Classifica%C3%A7%C3%A3o_do_cr%C3%A9dito.ipynb&quot;,&quot;user_id&quot;:106484381}}" data-hydro-click-hmac="87584176fd6c0604c20f7543d4d881c06404887c1af70d2a4e5ba2a44d2712de" data-ga-click="Repository, click unstar button, action:blob#show; text:Unstar" aria-label="Unstar this repository (0)" type="submit" data-view-component="true" class="rounded-left-2 btn-sm btn BtnGroup-item">    <svg aria-hidden="true" height="16" viewBox="0 0 16 16" version="1.1" width="16" data-view-component="true" class="octicon octicon-star-fill starred-button-icon d-inline-block mr-2">
    <path d="M8 .25a.75.75 0 0 1 .673.418l1.882 3.815 4.21.612a.75.75 0 0 1 .416 1.279l-3.046 2.97.719 4.192a.751.751 0 0 1-1.088.791L8 12.347l-3.766 1.98a.75.75 0 0 1-1.088-.79l.72-4.194L.818 6.374a.75.75 0 0 1 .416-1.28l4.21-.611L7.327.668A.75.75 0 0 1 8 .25Z"></path>
</svg><span data-view-component="true" class="d-inline">
              Starred
</span>              <span id="repo-stars-counter-unstar" aria-label="0 users starred this repository" data-singular-suffix="user starred this repository" data-plural-suffix="users starred this repository" data-turbo-replace="true" title="0" data-view-component="true" class="Counter js-social-count">0</span>
</button></form>        <details id="details-user-list-620038112-starred" data-view-component="true" class="details-reset details-overlay BtnGroup-parent js-user-list-menu d-inline-block position-relative">
        <summary aria-label="Add this repository to a list" data-view-component="true" class="btn-sm btn BtnGroup-item px-2 float-none">    <svg aria-hidden="true" height="16" viewBox="0 0 16 16" version="1.1" width="16" data-view-component="true" class="octicon octicon-triangle-down">
    <path d="m4.427 7.427 3.396 3.396a.25.25 0 0 0 .354 0l3.396-3.396A.25.25 0 0 0 11.396 7H4.604a.25.25 0 0 0-.177.427Z"></path>
</svg>
</summary>
  <details-menu
    class="SelectMenu right-0"
      src="/MarcelloLM/Classifica-ao-do-credito-/lists"
      
      role="menu"
      
>
    <div class="SelectMenu-modal">
        <button class="SelectMenu-closeButton position-absolute right-0 m-2" type="button" aria-label="Close menu" data-toggle-for="details-3a3b81">
          <svg aria-hidden="true" height="16" viewBox="0 0 16 16" version="1.1" width="16" data-view-component="true" class="octicon octicon-x">
    <path d="M3.72 3.72a.75.75 0 0 1 1.06 0L8 6.94l3.22-3.22a.749.749 0 0 1 1.275.326.749.749 0 0 1-.215.734L9.06 8l3.22 3.22a.749.749 0 0 1-.326 1.275.749.749 0 0 1-.734-.215L8 9.06l-3.22 3.22a.751.751 0 0 1-1.042-.018.751.751 0 0 1-.018-1.042L6.94 8 3.72 4.78a.75.75 0 0 1 0-1.06Z"></path>
</svg>
        </button>
      <div
        id="filter-menu-3a3b81"
        class="d-flex flex-column flex-1 overflow-hidden"
>
        <div
          class="SelectMenu-list"
          >

            <include-fragment class="SelectMenu-loading" aria-label="Loading">
              <svg role="menuitem" style="box-sizing: content-box; color: var(--color-icon-primary);" width="32" height="32" viewBox="0 0 16 16" fill="none" data-view-component="true" class="anim-rotate">
  <circle cx="8" cy="8" r="7" stroke="currentColor" stroke-opacity="0.25" stroke-width="2" vector-effect="non-scaling-stroke" />
  <path d="M15 8a7.002 7.002 0 00-7-7" stroke="currentColor" stroke-width="2" stroke-linecap="round" vector-effect="non-scaling-stroke" />
</svg>
            </include-fragment>
        </div>
        
      </div>
    </div>
  </details-menu>
</details>
</div>
    <div data-view-component="true" class="unstarred BtnGroup flex-1">
      <!-- '"` --><!-- </textarea></xmp> --></option></form><form class="js-social-form BtnGroup-parent flex-auto" data-turbo="false" action="/MarcelloLM/Classifica-ao-do-credito-/star" accept-charset="UTF-8" method="post"><input type="hidden" name="authenticity_token" value="_hdjMgTf8DvxA1qO1q87gl-GeNYi-eyDrNh-Y6Qm_OSpoCMCFN-_HS-tCB6etdzOMBqpjWfpnflDczrhsAUZcw" autocomplete="off" />
        <input type="hidden" name="context" value="repository">
          <button data-hydro-click="{&quot;event_type&quot;:&quot;repository.click&quot;,&quot;payload&quot;:{&quot;target&quot;:&quot;STAR_BUTTON&quot;,&quot;repository_id&quot;:620038112,&quot;originating_url&quot;:&quot;https://github.com/MarcelloLM/Classifica-ao-do-credito-/blob/main/Projeto_01_Classifica%C3%A7%C3%A3o_do_cr%C3%A9dito.ipynb&quot;,&quot;user_id&quot;:106484381}}" data-hydro-click-hmac="e266448a8c234c4a54bfd325fffe24a82dc20e18b6d5afbdb614e71367cf8a95" data-ga-click="Repository, click star button, action:blob#show; text:Star" aria-label="Star this repository (0)" type="submit" data-view-component="true" class="js-toggler-target rounded-left-2 btn-sm btn BtnGroup-item">    <svg aria-hidden="true" height="16" viewBox="0 0 16 16" version="1.1" width="16" data-view-component="true" class="octicon octicon-star d-inline-block mr-2">
    <path d="M8 .25a.75.75 0 0 1 .673.418l1.882 3.815 4.21.612a.75.75 0 0 1 .416 1.279l-3.046 2.97.719 4.192a.751.751 0 0 1-1.088.791L8 12.347l-3.766 1.98a.75.75 0 0 1-1.088-.79l.72-4.194L.818 6.374a.75.75 0 0 1 .416-1.28l4.21-.611L7.327.668A.75.75 0 0 1 8 .25Zm0 2.445L6.615 5.5a.75.75 0 0 1-.564.41l-3.097.45 2.24 2.184a.75.75 0 0 1 .216.664l-.528 3.084 2.769-1.456a.75.75 0 0 1 .698 0l2.77 1.456-.53-3.084a.75.75 0 0 1 .216-.664l2.24-2.183-3.096-.45a.75.75 0 0 1-.564-.41L8 2.694Z"></path>
</svg><span data-view-component="true" class="d-inline">
              Star
</span>              <span id="repo-stars-counter-star" aria-label="0 users starred this repository" data-singular-suffix="user starred this repository" data-plural-suffix="users starred this repository" data-turbo-replace="true" title="0" data-view-component="true" class="Counter js-social-count">0</span>
</button></form>        <details id="details-user-list-620038112-unstarred" data-view-component="true" class="details-reset details-overlay BtnGroup-parent js-user-list-menu d-inline-block position-relative">
        <summary aria-label="Add this repository to a list" data-view-component="true" class="btn-sm btn BtnGroup-item px-2 float-none">    <svg aria-hidden="true" height="16" viewBox="0 0 16 16" version="1.1" width="16" data-view-component="true" class="octicon octicon-triangle-down">
    <path d="m4.427 7.427 3.396 3.396a.25.25 0 0 0 .354 0l3.396-3.396A.25.25 0 0 0 11.396 7H4.604a.25.25 0 0 0-.177.427Z"></path>
</svg>
</summary>
  <details-menu
    class="SelectMenu right-0"
      src="/MarcelloLM/Classifica-ao-do-credito-/lists"
      
      role="menu"
      
>
    <div class="SelectMenu-modal">
        <button class="SelectMenu-closeButton position-absolute right-0 m-2" type="button" aria-label="Close menu" data-toggle-for="details-21f889">
          <svg aria-hidden="true" height="16" viewBox="0 0 16 16" version="1.1" width="16" data-view-component="true" class="octicon octicon-x">
    <path d="M3.72 3.72a.75.75 0 0 1 1.06 0L8 6.94l3.22-3.22a.749.749 0 0 1 1.275.326.749.749 0 0 1-.215.734L9.06 8l3.22 3.22a.749.749 0 0 1-.326 1.275.749.749 0 0 1-.734-.215L8 9.06l-3.22 3.22a.751.751 0 0 1-1.042-.018.751.751 0 0 1-.018-1.042L6.94 8 3.72 4.78a.75.75 0 0 1 0-1.06Z"></path>
</svg>
        </button>
      <div
        id="filter-menu-21f889"
        class="d-flex flex-column flex-1 overflow-hidden"
>
        <div
          class="SelectMenu-list"
          >

            <include-fragment class="SelectMenu-loading" aria-label="Loading">
              <svg role="menuitem" style="box-sizing: content-box; color: var(--color-icon-primary);" width="32" height="32" viewBox="0 0 16 16" fill="none" data-view-component="true" class="anim-rotate">
  <circle cx="8" cy="8" r="7" stroke="currentColor" stroke-opacity="0.25" stroke-width="2" vector-effect="non-scaling-stroke" />
  <path d="M15 8a7.002 7.002 0 00-7-7" stroke="currentColor" stroke-width="2" stroke-linecap="round" vector-effect="non-scaling-stroke" />
</svg>
            </include-fragment>
        </div>
        
      </div>
    </div>
  </details-menu>
</details>
</div></div>
  </li>


    

</ul>

        </div>
      </div>

        <div id="responsive-meta-container" data-turbo-replace>
</div>


          <nav data-pjax="#js-repo-pjax-container" aria-label="Repository" data-view-component="true" class="js-repo-nav js-sidenav-container-pjax js-responsive-underlinenav overflow-hidden UnderlineNav px-3 px-md-4 px-lg-5">

  <ul data-view-component="true" class="UnderlineNav-body list-style-none">
      <li data-view-component="true" class="d-inline-flex">
  <a id="code-tab" href="/MarcelloLM/Classifica-ao-do-credito-" data-tab-item="i0code-tab" data-selected-links="repo_source repo_downloads repo_commits repo_releases repo_tags repo_branches repo_packages repo_deployments /MarcelloLM/Classifica-ao-do-credito-" data-pjax="#repo-content-pjax-container" data-turbo-frame="repo-content-turbo-frame" data-hotkey="g c" data-analytics-event="{&quot;category&quot;:&quot;Underline navbar&quot;,&quot;action&quot;:&quot;Click tab&quot;,&quot;label&quot;:&quot;Code&quot;,&quot;target&quot;:&quot;UNDERLINE_NAV.TAB&quot;}" aria-current="page" data-view-component="true" class="UnderlineNav-item no-wrap js-responsive-underlinenav-item js-selected-navigation-item selected">
    
              <svg aria-hidden="true" height="16" viewBox="0 0 16 16" version="1.1" width="16" data-view-component="true" class="octicon octicon-code UnderlineNav-octicon d-none d-sm-inline">
    <path d="m11.28 3.22 4.25 4.25a.75.75 0 0 1 0 1.06l-4.25 4.25a.749.749 0 0 1-1.275-.326.749.749 0 0 1 .215-.734L13.94 8l-3.72-3.72a.749.749 0 0 1 .326-1.275.749.749 0 0 1 .734.215Zm-6.56 0a.751.751 0 0 1 1.042.018.751.751 0 0 1 .018 1.042L2.06 8l3.72 3.72a.749.749 0 0 1-.326 1.275.749.749 0 0 1-.734-.215L.47 8.53a.75.75 0 0 1 0-1.06Z"></path>
</svg>
        <span data-content="Code">Code</span>
          <span id="code-repo-tab-count" data-pjax-replace="" data-turbo-replace="" title="Not available" data-view-component="true" class="Counter"></span>


    
</a></li>
      <li data-view-component="true" class="d-inline-flex">
  <a id="issues-tab" href="/MarcelloLM/Classifica-ao-do-credito-/issues" data-tab-item="i1issues-tab" data-selected-links="repo_issues repo_labels repo_milestones /MarcelloLM/Classifica-ao-do-credito-/issues" data-pjax="#repo-content-pjax-container" data-turbo-frame="repo-content-turbo-frame" data-hotkey="g i" data-analytics-event="{&quot;category&quot;:&quot;Underline navbar&quot;,&quot;action&quot;:&quot;Click tab&quot;,&quot;label&quot;:&quot;Issues&quot;,&quot;target&quot;:&quot;UNDERLINE_NAV.TAB&quot;}" data-view-component="true" class="UnderlineNav-item no-wrap js-responsive-underlinenav-item js-selected-navigation-item">
    
              <svg aria-hidden="true" height="16" viewBox="0 0 16 16" version="1.1" width="16" data-view-component="true" class="octicon octicon-issue-opened UnderlineNav-octicon d-none d-sm-inline">
    <path d="M8 9.5a1.5 1.5 0 1 0 0-3 1.5 1.5 0 0 0 0 3Z"></path><path d="M8 0a8 8 0 1 1 0 16A8 8 0 0 1 8 0ZM1.5 8a6.5 6.5 0 1 0 13 0 6.5 6.5 0 0 0-13 0Z"></path>
</svg>
        <span data-content="Issues">Issues</span>
          <span id="issues-repo-tab-count" data-pjax-replace="" data-turbo-replace="" title="0" hidden="hidden" data-view-component="true" class="Counter">0</span>


    
</a></li>
      <li data-view-component="true" class="d-inline-flex">
  <a id="pull-requests-tab" href="/MarcelloLM/Classifica-ao-do-credito-/pulls" data-tab-item="i2pull-requests-tab" data-selected-links="repo_pulls checks /MarcelloLM/Classifica-ao-do-credito-/pulls" data-pjax="#repo-content-pjax-container" data-turbo-frame="repo-content-turbo-frame" data-hotkey="g p" data-analytics-event="{&quot;category&quot;:&quot;Underline navbar&quot;,&quot;action&quot;:&quot;Click tab&quot;,&quot;label&quot;:&quot;Pull requests&quot;,&quot;target&quot;:&quot;UNDERLINE_NAV.TAB&quot;}" data-view-component="true" class="UnderlineNav-item no-wrap js-responsive-underlinenav-item js-selected-navigation-item">
    
              <svg aria-hidden="true" height="16" viewBox="0 0 16 16" version="1.1" width="16" data-view-component="true" class="octicon octicon-git-pull-request UnderlineNav-octicon d-none d-sm-inline">
    <path d="M1.5 3.25a2.25 2.25 0 1 1 3 2.122v5.256a2.251 2.251 0 1 1-1.5 0V5.372A2.25 2.25 0 0 1 1.5 3.25Zm5.677-.177L9.573.677A.25.25 0 0 1 10 .854V2.5h1A2.5 2.5 0 0 1 13.5 5v5.628a2.251 2.251 0 1 1-1.5 0V5a1 1 0 0 0-1-1h-1v1.646a.25.25 0 0 1-.427.177L7.177 3.427a.25.25 0 0 1 0-.354ZM3.75 2.5a.75.75 0 1 0 0 1.5.75.75 0 0 0 0-1.5Zm0 9.5a.75.75 0 1 0 0 1.5.75.75 0 0 0 0-1.5Zm8.25.75a.75.75 0 1 0 1.5 0 .75.75 0 0 0-1.5 0Z"></path>
</svg>
        <span data-content="Pull requests">Pull requests</span>
          <span id="pull-requests-repo-tab-count" data-pjax-replace="" data-turbo-replace="" title="0" hidden="hidden" data-view-component="true" class="Counter">0</span>


    
</a></li>
      <li data-view-component="true" class="d-inline-flex">
  <a id="actions-tab" href="/MarcelloLM/Classifica-ao-do-credito-/actions" data-tab-item="i3actions-tab" data-selected-links="repo_actions /MarcelloLM/Classifica-ao-do-credito-/actions" data-pjax="#repo-content-pjax-container" data-turbo-frame="repo-content-turbo-frame" data-hotkey="g a" data-analytics-event="{&quot;category&quot;:&quot;Underline navbar&quot;,&quot;action&quot;:&quot;Click tab&quot;,&quot;label&quot;:&quot;Actions&quot;,&quot;target&quot;:&quot;UNDERLINE_NAV.TAB&quot;}" data-view-component="true" class="UnderlineNav-item no-wrap js-responsive-underlinenav-item js-selected-navigation-item">
    
              <svg aria-hidden="true" height="16" viewBox="0 0 16 16" version="1.1" width="16" data-view-component="true" class="octicon octicon-play UnderlineNav-octicon d-none d-sm-inline">
    <path d="M8 0a8 8 0 1 1 0 16A8 8 0 0 1 8 0ZM1.5 8a6.5 6.5 0 1 0 13 0 6.5 6.5 0 0 0-13 0Zm4.879-2.773 4.264 2.559a.25.25 0 0 1 0 .428l-4.264 2.559A.25.25 0 0 1 6 10.559V5.442a.25.25 0 0 1 .379-.215Z"></path>
</svg>
        <span data-content="Actions">Actions</span>
          <span id="actions-repo-tab-count" data-pjax-replace="" data-turbo-replace="" title="Not available" data-view-component="true" class="Counter"></span>


    
</a></li>
      <li data-view-component="true" class="d-inline-flex">
  <a id="projects-tab" href="/MarcelloLM/Classifica-ao-do-credito-/projects" data-tab-item="i4projects-tab" data-selected-links="repo_projects new_repo_project repo_project /MarcelloLM/Classifica-ao-do-credito-/projects" data-pjax="#repo-content-pjax-container" data-turbo-frame="repo-content-turbo-frame" data-hotkey="g b" data-analytics-event="{&quot;category&quot;:&quot;Underline navbar&quot;,&quot;action&quot;:&quot;Click tab&quot;,&quot;label&quot;:&quot;Projects&quot;,&quot;target&quot;:&quot;UNDERLINE_NAV.TAB&quot;}" data-view-component="true" class="UnderlineNav-item no-wrap js-responsive-underlinenav-item js-selected-navigation-item">
    
              <svg aria-hidden="true" height="16" viewBox="0 0 16 16" version="1.1" width="16" data-view-component="true" class="octicon octicon-table UnderlineNav-octicon d-none d-sm-inline">
    <path d="M0 1.75C0 .784.784 0 1.75 0h12.5C15.216 0 16 .784 16 1.75v12.5A1.75 1.75 0 0 1 14.25 16H1.75A1.75 1.75 0 0 1 0 14.25ZM6.5 6.5v8h7.75a.25.25 0 0 0 .25-.25V6.5Zm8-1.5V1.75a.25.25 0 0 0-.25-.25H6.5V5Zm-13 1.5v7.75c0 .138.112.25.25.25H5v-8ZM5 5V1.5H1.75a.25.25 0 0 0-.25.25V5Z"></path>
</svg>
        <span data-content="Projects">Projects</span>
          <span id="projects-repo-tab-count" data-pjax-replace="" data-turbo-replace="" title="0" hidden="hidden" data-view-component="true" class="Counter">0</span>


    
</a></li>
      <li data-view-component="true" class="d-inline-flex">
  <a id="wiki-tab" href="/MarcelloLM/Classifica-ao-do-credito-/wiki" data-tab-item="i5wiki-tab" data-selected-links="repo_wiki /MarcelloLM/Classifica-ao-do-credito-/wiki" data-pjax="#repo-content-pjax-container" data-turbo-frame="repo-content-turbo-frame" data-hotkey="g w" data-analytics-event="{&quot;category&quot;:&quot;Underline navbar&quot;,&quot;action&quot;:&quot;Click tab&quot;,&quot;label&quot;:&quot;Wiki&quot;,&quot;target&quot;:&quot;UNDERLINE_NAV.TAB&quot;}" data-view-component="true" class="UnderlineNav-item no-wrap js-responsive-underlinenav-item js-selected-navigation-item">
    
              <svg aria-hidden="true" height="16" viewBox="0 0 16 16" version="1.1" width="16" data-view-component="true" class="octicon octicon-book UnderlineNav-octicon d-none d-sm-inline">
    <path d="M0 1.75A.75.75 0 0 1 .75 1h4.253c1.227 0 2.317.59 3 1.501A3.743 3.743 0 0 1 11.006 1h4.245a.75.75 0 0 1 .75.75v10.5a.75.75 0 0 1-.75.75h-4.507a2.25 2.25 0 0 0-1.591.659l-.622.621a.75.75 0 0 1-1.06 0l-.622-.621A2.25 2.25 0 0 0 5.258 13H.75a.75.75 0 0 1-.75-.75Zm7.251 10.324.004-5.073-.002-2.253A2.25 2.25 0 0 0 5.003 2.5H1.5v9h3.757a3.75 3.75 0 0 1 1.994.574ZM8.755 4.75l-.004 7.322a3.752 3.752 0 0 1 1.992-.572H14.5v-9h-3.495a2.25 2.25 0 0 0-2.25 2.25Z"></path>
</svg>
        <span data-content="Wiki">Wiki</span>
          <span id="wiki-repo-tab-count" data-pjax-replace="" data-turbo-replace="" title="Not available" data-view-component="true" class="Counter"></span>


    
</a></li>
      <li data-view-component="true" class="d-inline-flex">
  <a id="security-tab" href="/MarcelloLM/Classifica-ao-do-credito-/security" data-tab-item="i6security-tab" data-selected-links="security overview alerts policy token_scanning code_scanning /MarcelloLM/Classifica-ao-do-credito-/security" data-pjax="#repo-content-pjax-container" data-turbo-frame="repo-content-turbo-frame" data-hotkey="g s" data-analytics-event="{&quot;category&quot;:&quot;Underline navbar&quot;,&quot;action&quot;:&quot;Click tab&quot;,&quot;label&quot;:&quot;Security&quot;,&quot;target&quot;:&quot;UNDERLINE_NAV.TAB&quot;}" data-view-component="true" class="UnderlineNav-item no-wrap js-responsive-underlinenav-item js-selected-navigation-item">
    
              <svg aria-hidden="true" height="16" viewBox="0 0 16 16" version="1.1" width="16" data-view-component="true" class="octicon octicon-shield UnderlineNav-octicon d-none d-sm-inline">
    <path d="M7.467.133a1.748 1.748 0 0 1 1.066 0l5.25 1.68A1.75 1.75 0 0 1 15 3.48V7c0 1.566-.32 3.182-1.303 4.682-.983 1.498-2.585 2.813-5.032 3.855a1.697 1.697 0 0 1-1.33 0c-2.447-1.042-4.049-2.357-5.032-3.855C1.32 10.182 1 8.566 1 7V3.48a1.75 1.75 0 0 1 1.217-1.667Zm.61 1.429a.25.25 0 0 0-.153 0l-5.25 1.68a.25.25 0 0 0-.174.238V7c0 1.358.275 2.666 1.057 3.86.784 1.194 2.121 2.34 4.366 3.297a.196.196 0 0 0 .154 0c2.245-.956 3.582-2.104 4.366-3.298C13.225 9.666 13.5 8.36 13.5 7V3.48a.251.251 0 0 0-.174-.237l-5.25-1.68ZM8.75 4.75v3a.75.75 0 0 1-1.5 0v-3a.75.75 0 0 1 1.5 0ZM9 10.5a1 1 0 1 1-2 0 1 1 0 0 1 2 0Z"></path>
</svg>
        <span data-content="Security">Security</span>
          <include-fragment src="/MarcelloLM/Classifica-ao-do-credito-/security/overall-count" accept="text/fragment+html"></include-fragment>

    
</a></li>
      <li data-view-component="true" class="d-inline-flex">
  <a id="insights-tab" href="/MarcelloLM/Classifica-ao-do-credito-/pulse" data-tab-item="i7insights-tab" data-selected-links="repo_graphs repo_contributors dependency_graph dependabot_updates pulse people community /MarcelloLM/Classifica-ao-do-credito-/pulse" data-pjax="#repo-content-pjax-container" data-turbo-frame="repo-content-turbo-frame" data-analytics-event="{&quot;category&quot;:&quot;Underline navbar&quot;,&quot;action&quot;:&quot;Click tab&quot;,&quot;label&quot;:&quot;Insights&quot;,&quot;target&quot;:&quot;UNDERLINE_NAV.TAB&quot;}" data-view-component="true" class="UnderlineNav-item no-wrap js-responsive-underlinenav-item js-selected-navigation-item">
    
              <svg aria-hidden="true" height="16" viewBox="0 0 16 16" version="1.1" width="16" data-view-component="true" class="octicon octicon-graph UnderlineNav-octicon d-none d-sm-inline">
    <path d="M1.5 1.75V13.5h13.75a.75.75 0 0 1 0 1.5H.75a.75.75 0 0 1-.75-.75V1.75a.75.75 0 0 1 1.5 0Zm14.28 2.53-5.25 5.25a.75.75 0 0 1-1.06 0L7 7.06 4.28 9.78a.751.751 0 0 1-1.042-.018.751.751 0 0 1-.018-1.042l3.25-3.25a.75.75 0 0 1 1.06 0L10 7.94l4.72-4.72a.751.751 0 0 1 1.042.018.751.751 0 0 1 .018 1.042Z"></path>
</svg>
        <span data-content="Insights">Insights</span>
          <span id="insights-repo-tab-count" data-pjax-replace="" data-turbo-replace="" title="Not available" data-view-component="true" class="Counter"></span>


    
</a></li>
      <li data-view-component="true" class="d-inline-flex">
  <a id="settings-tab" href="/MarcelloLM/Classifica-ao-do-credito-/settings" data-tab-item="i8settings-tab" data-selected-links="code_review_limits codespaces_repository_settings collaborators custom_tabs hooks integration_installations interaction_limits issue_template_editor key_links_settings notifications repo_actions_settings repo_announcements repo_branch_settings repo_keys_settings repo_pages_settings repo_rule_insights repo_rulesets repo_protected_tags_settings repo_settings reported_content repo_custom_properties repository_actions_settings_add_new_runner repository_actions_settings_general repository_actions_settings_runners repository_environments role_details secrets secrets_settings_actions secrets_settings_codespaces secrets_settings_dependabot security_analysis /MarcelloLM/Classifica-ao-do-credito-/settings" data-pjax="#repo-content-pjax-container" data-turbo-frame="repo-content-turbo-frame" data-analytics-event="{&quot;category&quot;:&quot;Underline navbar&quot;,&quot;action&quot;:&quot;Click tab&quot;,&quot;label&quot;:&quot;Settings&quot;,&quot;target&quot;:&quot;UNDERLINE_NAV.TAB&quot;}" data-view-component="true" class="UnderlineNav-item no-wrap js-responsive-underlinenav-item js-selected-navigation-item">
    
              <svg aria-hidden="true" height="16" viewBox="0 0 16 16" version="1.1" width="16" data-view-component="true" class="octicon octicon-gear UnderlineNav-octicon d-none d-sm-inline">
    <path d="M8 0a8.2 8.2 0 0 1 .701.031C9.444.095 9.99.645 10.16 1.29l.288 1.107c.018.066.079.158.212.224.231.114.454.243.668.386.123.082.233.09.299.071l1.103-.303c.644-.176 1.392.021 1.82.63.27.385.506.792.704 1.218.315.675.111 1.422-.364 1.891l-.814.806c-.049.048-.098.147-.088.294.016.257.016.515 0 .772-.01.147.038.246.088.294l.814.806c.475.469.679 1.216.364 1.891a7.977 7.977 0 0 1-.704 1.217c-.428.61-1.176.807-1.82.63l-1.102-.302c-.067-.019-.177-.011-.3.071a5.909 5.909 0 0 1-.668.386c-.133.066-.194.158-.211.224l-.29 1.106c-.168.646-.715 1.196-1.458 1.26a8.006 8.006 0 0 1-1.402 0c-.743-.064-1.289-.614-1.458-1.26l-.289-1.106c-.018-.066-.079-.158-.212-.224a5.738 5.738 0 0 1-.668-.386c-.123-.082-.233-.09-.299-.071l-1.103.303c-.644.176-1.392-.021-1.82-.63a8.12 8.12 0 0 1-.704-1.218c-.315-.675-.111-1.422.363-1.891l.815-.806c.05-.048.098-.147.088-.294a6.214 6.214 0 0 1 0-.772c.01-.147-.038-.246-.088-.294l-.815-.806C.635 6.045.431 5.298.746 4.623a7.92 7.92 0 0 1 .704-1.217c.428-.61 1.176-.807 1.82-.63l1.102.302c.067.019.177.011.3-.071.214-.143.437-.272.668-.386.133-.066.194-.158.211-.224l.29-1.106C6.009.645 6.556.095 7.299.03 7.53.01 7.764 0 8 0Zm-.571 1.525c-.036.003-.108.036-.137.146l-.289 1.105c-.147.561-.549.967-.998 1.189-.173.086-.34.183-.5.29-.417.278-.97.423-1.529.27l-1.103-.303c-.109-.03-.175.016-.195.045-.22.312-.412.644-.573.99-.014.031-.021.11.059.19l.815.806c.411.406.562.957.53 1.456a4.709 4.709 0 0 0 0 .582c.032.499-.119 1.05-.53 1.456l-.815.806c-.081.08-.073.159-.059.19.162.346.353.677.573.989.02.03.085.076.195.046l1.102-.303c.56-.153 1.113-.008 1.53.27.161.107.328.204.501.29.447.222.85.629.997 1.189l.289 1.105c.029.109.101.143.137.146a6.6 6.6 0 0 0 1.142 0c.036-.003.108-.036.137-.146l.289-1.105c.147-.561.549-.967.998-1.189.173-.086.34-.183.5-.29.417-.278.97-.423 1.529-.27l1.103.303c.109.029.175-.016.195-.045.22-.313.411-.644.573-.99.014-.031.021-.11-.059-.19l-.815-.806c-.411-.406-.562-.957-.53-1.456a4.709 4.709 0 0 0 0-.582c-.032-.499.119-1.05.53-1.456l.815-.806c.081-.08.073-.159.059-.19a6.464 6.464 0 0 0-.573-.989c-.02-.03-.085-.076-.195-.046l-1.102.303c-.56.153-1.113.008-1.53-.27a4.44 4.44 0 0 0-.501-.29c-.447-.222-.85-.629-.997-1.189l-.289-1.105c-.029-.11-.101-.143-.137-.146a6.6 6.6 0 0 0-1.142 0ZM11 8a3 3 0 1 1-6 0 3 3 0 0 1 6 0ZM9.5 8a1.5 1.5 0 1 0-3.001.001A1.5 1.5 0 0 0 9.5 8Z"></path>
</svg>
        <span data-content="Settings">Settings</span>
          <span id="settings-repo-tab-count" data-pjax-replace="" data-turbo-replace="" title="Not available" data-view-component="true" class="Counter"></span>


    
</a></li>
</ul>
    <div style="visibility:hidden;" data-view-component="true" class="UnderlineNav-actions js-responsive-underlinenav-overflow position-absolute pr-3 pr-md-4 pr-lg-5 right-0">      <details data-view-component="true" class="details-overlay details-reset position-relative">
  <summary role="button" data-view-component="true">          <div class="UnderlineNav-item mr-0 border-0">
            <svg aria-hidden="true" height="16" viewBox="0 0 16 16" version="1.1" width="16" data-view-component="true" class="octicon octicon-kebab-horizontal">
    <path d="M8 9a1.5 1.5 0 1 0 0-3 1.5 1.5 0 0 0 0 3ZM1.5 9a1.5 1.5 0 1 0 0-3 1.5 1.5 0 0 0 0 3Zm13 0a1.5 1.5 0 1 0 0-3 1.5 1.5 0 0 0 0 3Z"></path>
</svg>
            <span class="sr-only">More</span>
          </div>
</summary>
  <details-menu role="menu" data-view-component="true" class="dropdown-menu dropdown-menu-sw">          <ul>
              <li data-menu-item="i0code-tab" hidden>
                <a role="menuitem" class="js-selected-navigation-item selected dropdown-item" aria-current="page" data-selected-links="repo_source repo_downloads repo_commits repo_releases repo_tags repo_branches repo_packages repo_deployments /MarcelloLM/Classifica-ao-do-credito-" href="/MarcelloLM/Classifica-ao-do-credito-">
                  Code
</a>              </li>
              <li data-menu-item="i1issues-tab" hidden>
                <a role="menuitem" class="js-selected-navigation-item dropdown-item" data-selected-links="repo_issues repo_labels repo_milestones /MarcelloLM/Classifica-ao-do-credito-/issues" href="/MarcelloLM/Classifica-ao-do-credito-/issues">
                  Issues
</a>              </li>
              <li data-menu-item="i2pull-requests-tab" hidden>
                <a role="menuitem" class="js-selected-navigation-item dropdown-item" data-selected-links="repo_pulls checks /MarcelloLM/Classifica-ao-do-credito-/pulls" href="/MarcelloLM/Classifica-ao-do-credito-/pulls">
                  Pull requests
</a>              </li>
              <li data-menu-item="i3actions-tab" hidden>
                <a role="menuitem" class="js-selected-navigation-item dropdown-item" data-selected-links="repo_actions /MarcelloLM/Classifica-ao-do-credito-/actions" href="/MarcelloLM/Classifica-ao-do-credito-/actions">
                  Actions
</a>              </li>
              <li data-menu-item="i4projects-tab" hidden>
                <a role="menuitem" class="js-selected-navigation-item dropdown-item" data-selected-links="repo_projects new_repo_project repo_project /MarcelloLM/Classifica-ao-do-credito-/projects" href="/MarcelloLM/Classifica-ao-do-credito-/projects">
                  Projects
</a>              </li>
              <li data-menu-item="i5wiki-tab" hidden>
                <a role="menuitem" class="js-selected-navigation-item dropdown-item" data-selected-links="repo_wiki /MarcelloLM/Classifica-ao-do-credito-/wiki" href="/MarcelloLM/Classifica-ao-do-credito-/wiki">
                  Wiki
</a>              </li>
              <li data-menu-item="i6security-tab" hidden>
                <a role="menuitem" class="js-selected-navigation-item dropdown-item" data-selected-links="security overview alerts policy token_scanning code_scanning /MarcelloLM/Classifica-ao-do-credito-/security" href="/MarcelloLM/Classifica-ao-do-credito-/security">
                  Security
</a>              </li>
              <li data-menu-item="i7insights-tab" hidden>
                <a role="menuitem" class="js-selected-navigation-item dropdown-item" data-selected-links="repo_graphs repo_contributors dependency_graph dependabot_updates pulse people community /MarcelloLM/Classifica-ao-do-credito-/pulse" href="/MarcelloLM/Classifica-ao-do-credito-/pulse">
                  Insights
</a>              </li>
              <li data-menu-item="i8settings-tab" hidden>
                <a role="menuitem" class="js-selected-navigation-item dropdown-item" data-selected-links="code_review_limits codespaces_repository_settings collaborators custom_tabs hooks integration_installations interaction_limits issue_template_editor key_links_settings notifications repo_actions_settings repo_announcements repo_branch_settings repo_keys_settings repo_pages_settings repo_rule_insights repo_rulesets repo_protected_tags_settings repo_settings reported_content repo_custom_properties repository_actions_settings_add_new_runner repository_actions_settings_general repository_actions_settings_runners repository_environments role_details secrets secrets_settings_actions secrets_settings_codespaces secrets_settings_dependabot security_analysis /MarcelloLM/Classifica-ao-do-credito-/settings" href="/MarcelloLM/Classifica-ao-do-credito-/settings">
                  Settings
</a>              </li>
          </ul>
</details-menu>
</details></div>
</nav>

  </div>

  



<turbo-frame id="repo-content-turbo-frame" target="_top" data-turbo-action="advance" class="">
    <div id="repo-content-pjax-container" class="repository-content " >
      <a href="https://github.dev/" class="d-none js-github-dev-shortcut" data-hotkey=".">Open in github.dev</a>
  <a href="https://github.dev/" class="d-none js-github-dev-new-tab-shortcut" data-hotkey="Shift+.,Shift+&gt;,&gt;" target="_blank">Open in a new github.dev tab</a>
    <a class="d-none" data-hotkey="," target="_blank" href="/codespaces/new/MarcelloLM/Classifica-ao-do-credito-/tree/main?resume=1">Open in codespace</a>



    
      
    





<react-app
  app-name="react-code-view"
  initial-path="/MarcelloLM/Classifica-ao-do-credito-/blob/main/Projeto_01_Classifica%C3%A7%C3%A3o_do_cr%C3%A9dito.ipynb"
  style="min-height: calc(100vh - 62px)"
  data-ssr="false"
  data-lazy="false"
  data-alternate="false"
>
  
  <script type="application/json" data-target="react-app.embeddedData">{"payload":{"allShortcutsEnabled":true,"fileTree":{"":{"items":[{"name":"Projeto_01_Classificação_do_crédito.ipynb","path":"Projeto_01_Classificação_do_crédito.ipynb","contentType":"file"},{"name":"demo01.csv","path":"demo01.csv","contentType":"file"}],"totalCount":2}},"fileTreeProcessingTime":1.448034,"foldersToFetch":[],"reducedMotionEnabled":"system","repo":{"id":620038112,"defaultBranch":"main","name":"Classifica-ao-do-credito-","ownerLogin":"MarcelloLM","currentUserCanPush":true,"isFork":false,"isEmpty":false,"createdAt":"2023-03-27T19:56:31.000-03:00","ownerAvatar":"https://avatars.githubusercontent.com/u/106484381?v=4","public":true,"private":false},"refInfo":{"name":"main","listCacheKey":"v0:1679957842.5715","canEdit":true,"refType":"branch","currentOid":"1b109ee0e0721defc739543c847a774ac6a7f927"},"path":"Projeto_01_Classificação_do_crédito.ipynb","currentUser":{"id":106484381,"login":"MarcelloLM","userEmail":"marcelingames007@gmail.com"},"blob":{"rawBlob":"{\n  \"cells\": [\n    {\n      \"cell_type\": \"markdown\",\n      \"metadata\": {\n        \"id\": \"LftvMEmRN1ar\"\n      },\n      \"source\": [\n        \"# \u003cspan style=\\\"color:blue\\\"\u003e Projeto 01 - Concessão de cartões de crédito \u003c/span\u003e\\n\",\n        \"\u003cspan style=\\\"color:blue\\\"\u003e Este notebook é semelhante ao visto em vídeo, mas contém células azuis como esta, que trazem instruções para a sua atividade.\u003c/span\u003e\\n\",\n        \"\\n\",\n        \"\u003cspan style=\\\"color:blue\\\"\u003eApós realizar as tarefas indicadas, você vai fazer o upload do seu arquivo no GitHub e enviar o link para a EBAC, ou alternativamente, fazer o upload do arquivo na plataforma da EBAC. Recomendamos o github, pois assim você já vai montando o seu portfólio.\u003c/span\u003e\"\n      ]\n    },\n    {\n      \"cell_type\": \"markdown\",\n      \"metadata\": {\n        \"id\": \"EKVOy5-wN1au\"\n      },\n      \"source\": [\n        \"## Etapa 1 CRISP - DM: Entendimento do negócio\\n\",\n        \"\\n\",\n        \"Como primeira etapa do CRISP-DM, vamos entender do que se trata o negócio, e quais os objetivos. \\n\",\n        \"\\n\",\n        \"Este é um problema de concessão de cartões de crédito, publicado no [Kaggle](https://www.kaggle.com/), uma plataforma que promove desafios de ciência de dados, oferecendo prêmios em dinheiro para os melhores colocados. O link original está [aqui](https://www.kaggle.com/rikdifos/credit-card-approval-prediction).  \\n\",\n        \"  \\n\",\n        \"Essa é uma base de proponentes de cartão de crédito, nosso objetivo é construir um modelo preditivo para identificar o risco de inadimplência (tipicamente definida pela ocorrência de um atraso maior ou igual a 90 em um horizonte de 12 meses) através de variáveis que podem ser observadas na data da avaliação do crédito (tipicamente quando o cliente solicita o cartão).\\n\",\n        \"\\n\",\n        \"Atividades do CRISP-DM:\\n\",\n        \"\\n\",\n        \"- Objetivos do negócio\\n\",\n        \"Note que o objetivo aqui é que o modelo sirva o mutuário (o cliente) para que avalie suas próprias decisões, e não a instituição de crédito.\\n\",\n        \"- Objetivos da modelagem\\n\",\n        \"O objetivo está bem definido: desenvolver o melhor modelo preditivo de modo a auxiliar o mutuário a tomar suas próprias decisões referentes a crédito.\\n\",\n        \"  \\n\",\n        \"Nessa etapa também se avalia a situação da empresa/segmento/assunto de modo a se entender o tamanho do público, relevância, problemas presentes e todos os detalhes do processo gerador do fenômeno em questão, e portanto dos dados.\\n\",\n        \"\\n\",\n        \"Também é nessa etapa que se constrói um planejamento do projeto.\"\n      ]\n    },\n    {\n      \"cell_type\": \"markdown\",\n      \"metadata\": {\n        \"id\": \"QjppzKMPN1av\"\n      },\n      \"source\": [\n        \"## Etapa 2 Crisp-DM: Entendimento dos dados\\n\",\n        \"A segunda etapa é o entendimento dos dados. Foram fornecidas 15 variáveis mais a variável resposta (em negrito na tabela). O significado de cada uma dessas variáveis se encontra na tabela.\\n\",\n        \"\\n\",\n        \"#### Dicionário de dados\\n\",\n        \"\\n\",\n        \"Os dados estão dispostos em uma tabela com uma linha para cada cliente, e uma coluna para cada variável armazenando as características desses clientes. Colocamos uma cópia o dicionário de dados (explicação dessas variáveis) abaixo neste notebook:\\n\",\n        \"\\n\",\n        \"| Variable Name            | Description                                         | Tipo  |\\n\",\n        \"| ------------------------ |:---------------------------------------------------:| -----:|\\n\",\n        \"| sexo| M = 'Masculino'; F = 'Feminino' |M/F|\\n\",\n        \"| posse_de_veiculo| Y = 'possui'; N = 'não possui' |Y/N|\\n\",\n        \"| posse_de_imovel| Y = 'possui'; N = 'não possui' |Y/N|\\n\",\n        \"| qtd_filhos| Quantidade de filhos |inteiro|\\n\",\n        \"| tipo_renda|Tipo de renda (ex: assaliariado, autônomo etc) | texto |\\n\",\n        \"| educacao| Nível de educação (ex: secundário, superior etc) |texto|\\n\",\n        \"| estado_civil | Estado civil (ex: solteiro, casado etc)| texto |\\n\",\n        \"| tipo_residencia | tipo de residência (ex: casa/apartamento, com os pais etc) | texto |\\n\",\n        \"| idade | idade em anos |inteiro|\\n\",\n        \"| tempo de emprego | tempo de emprego em anos |inteiro|\\n\",\n        \"| possui_celular | Indica se possui celular (1 = sim, 0 = não) |binária|\\n\",\n        \"| possui_fone_comercial | Indica se possui telefone comercial (1 = sim, 0 = não) |binária|\\n\",\n        \"| possui_fone | Indica se possui telefone (1 = sim, 0 = não) |binária|\\n\",\n        \"| possui_email | Indica se possui e-mail (1 = sim, 0 = não) |binária|\\n\",\n        \"| qt_pessoas_residencia | quantidade de pessoas na residência |inteiro|\\n\",\n        \"| **mau** | indicadora de mau pagador (True = mau, False = bom) |binária|\\n\",\n        \"\\n\",\n        \"\\n\",\n        \"\\n\"\n      ]\n    },\n    {\n      \"cell_type\": \"markdown\",\n      \"metadata\": {\n        \"id\": \"LetPxn-fN1aw\"\n      },\n      \"source\": [\n        \"#### Carregando os pacotes\\n\",\n        \"É considerado uma boa prática carregar os pacotes que serão utilizados como a primeira coisa do programa.\"\n      ]\n    },\n    {\n      \"cell_type\": \"code\",\n      \"execution_count\": 1,\n      \"metadata\": {\n        \"id\": \"fvYYPsF5N1aw\"\n      },\n      \"outputs\": [],\n      \"source\": [\n        \"import pandas as pd\\n\",\n        \"\\n\",\n        \"import seaborn as sns\\n\",\n        \"import matplotlib.pyplot as plt\\n\",\n        \"\\n\",\n        \"from sklearn.model_selection import train_test_split\\n\",\n        \"from sklearn import metrics\\n\",\n        \"from sklearn.ensemble import RandomForestClassifier\"\n      ]\n    },\n    {\n      \"cell_type\": \"markdown\",\n      \"metadata\": {\n        \"id\": \"yp2Wi-1JN1ax\"\n      },\n      \"source\": [\n        \"#### Carregando os dados\\n\",\n        \"O comando pd.read_csv é um comando da biblioteca pandas (pd.) e carrega os dados do arquivo csv indicado para um objeto *dataframe* do pandas.\"\n      ]\n    },\n    {\n      \"cell_type\": \"code\",\n      \"execution_count\": 2,\n      \"metadata\": {\n        \"colab\": {\n          \"base_uri\": \"https://localhost:8080/\",\n          \"height\": 478\n        },\n        \"id\": \"W-6M51haN1ax\",\n        \"outputId\": \"a07d3e98-6f36-4ce5-a157-24abc2ad1bd0\"\n      },\n      \"outputs\": [\n        {\n          \"output_type\": \"stream\",\n          \"name\": \"stdout\",\n          \"text\": [\n            \"Número de linhas e colunas da tabela: (16650, 16)\\n\"\n          ]\n        },\n        {\n          \"output_type\": \"execute_result\",\n          \"data\": {\n            \"text/plain\": [\n              \"  sexo posse_de_veiculo posse_de_imovel  qtd_filhos            tipo_renda  \\\\\\n\",\n              \"0    M                Y               Y           0               Working   \\n\",\n              \"1    F                N               Y           0  Commercial associate   \\n\",\n              \"2    F                N               Y           0  Commercial associate   \\n\",\n              \"3    M                Y               Y           0               Working   \\n\",\n              \"4    F                Y               N           0               Working   \\n\",\n              \"\\n\",\n              \"                        educacao          estado_civil    tipo_residencia  \\\\\\n\",\n              \"0  Secondary / secondary special               Married  House / apartment   \\n\",\n              \"1  Secondary / secondary special  Single / not married  House / apartment   \\n\",\n              \"2  Secondary / secondary special  Single / not married  House / apartment   \\n\",\n              \"3               Higher education               Married  House / apartment   \\n\",\n              \"4              Incomplete higher               Married  House / apartment   \\n\",\n              \"\\n\",\n              \"       idade  tempo_emprego  possui_celular  possui_fone_comercial  \\\\\\n\",\n              \"0  58.832877       3.106849               1                      0   \\n\",\n              \"1  52.356164       8.358904               1                      0   \\n\",\n              \"2  52.356164       8.358904               1                      0   \\n\",\n              \"3  46.224658       2.106849               1                      1   \\n\",\n              \"4  29.230137       3.021918               1                      0   \\n\",\n              \"\\n\",\n              \"   possui_fone  possui_email  qt_pessoas_residencia    mau  \\n\",\n              \"0            0             0                    2.0  False  \\n\",\n              \"1            1             1                    1.0  False  \\n\",\n              \"2            1             1                    1.0  False  \\n\",\n              \"3            1             1                    2.0  False  \\n\",\n              \"4            0             0                    2.0  False  \"\n            ],\n            \"text/html\": [\n              \"\\n\",\n              \"  \u003cdiv id=\\\"df-aab9a0c5-dd7a-430b-a43e-ca935a5dffc9\\\"\u003e\\n\",\n              \"    \u003cdiv class=\\\"colab-df-container\\\"\u003e\\n\",\n              \"      \u003cdiv\u003e\\n\",\n              \"\u003cstyle scoped\u003e\\n\",\n              \"    .dataframe tbody tr th:only-of-type {\\n\",\n              \"        vertical-align: middle;\\n\",\n              \"    }\\n\",\n              \"\\n\",\n              \"    .dataframe tbody tr th {\\n\",\n              \"        vertical-align: top;\\n\",\n              \"    }\\n\",\n              \"\\n\",\n              \"    .dataframe thead th {\\n\",\n              \"        text-align: right;\\n\",\n              \"    }\\n\",\n              \"\u003c/style\u003e\\n\",\n              \"\u003ctable border=\\\"1\\\" class=\\\"dataframe\\\"\u003e\\n\",\n              \"  \u003cthead\u003e\\n\",\n              \"    \u003ctr style=\\\"text-align: right;\\\"\u003e\\n\",\n              \"      \u003cth\u003e\u003c/th\u003e\\n\",\n              \"      \u003cth\u003esexo\u003c/th\u003e\\n\",\n              \"      \u003cth\u003eposse_de_veiculo\u003c/th\u003e\\n\",\n              \"      \u003cth\u003eposse_de_imovel\u003c/th\u003e\\n\",\n              \"      \u003cth\u003eqtd_filhos\u003c/th\u003e\\n\",\n              \"      \u003cth\u003etipo_renda\u003c/th\u003e\\n\",\n              \"      \u003cth\u003eeducacao\u003c/th\u003e\\n\",\n              \"      \u003cth\u003eestado_civil\u003c/th\u003e\\n\",\n              \"      \u003cth\u003etipo_residencia\u003c/th\u003e\\n\",\n              \"      \u003cth\u003eidade\u003c/th\u003e\\n\",\n              \"      \u003cth\u003etempo_emprego\u003c/th\u003e\\n\",\n              \"      \u003cth\u003epossui_celular\u003c/th\u003e\\n\",\n              \"      \u003cth\u003epossui_fone_comercial\u003c/th\u003e\\n\",\n              \"      \u003cth\u003epossui_fone\u003c/th\u003e\\n\",\n              \"      \u003cth\u003epossui_email\u003c/th\u003e\\n\",\n              \"      \u003cth\u003eqt_pessoas_residencia\u003c/th\u003e\\n\",\n              \"      \u003cth\u003emau\u003c/th\u003e\\n\",\n              \"    \u003c/tr\u003e\\n\",\n              \"  \u003c/thead\u003e\\n\",\n              \"  \u003ctbody\u003e\\n\",\n              \"    \u003ctr\u003e\\n\",\n              \"      \u003cth\u003e0\u003c/th\u003e\\n\",\n              \"      \u003ctd\u003eM\u003c/td\u003e\\n\",\n              \"      \u003ctd\u003eY\u003c/td\u003e\\n\",\n              \"      \u003ctd\u003eY\u003c/td\u003e\\n\",\n              \"      \u003ctd\u003e0\u003c/td\u003e\\n\",\n              \"      \u003ctd\u003eWorking\u003c/td\u003e\\n\",\n              \"      \u003ctd\u003eSecondary / secondary special\u003c/td\u003e\\n\",\n              \"      \u003ctd\u003eMarried\u003c/td\u003e\\n\",\n              \"      \u003ctd\u003eHouse / apartment\u003c/td\u003e\\n\",\n              \"      \u003ctd\u003e58.832877\u003c/td\u003e\\n\",\n              \"      \u003ctd\u003e3.106849\u003c/td\u003e\\n\",\n              \"      \u003ctd\u003e1\u003c/td\u003e\\n\",\n              \"      \u003ctd\u003e0\u003c/td\u003e\\n\",\n              \"      \u003ctd\u003e0\u003c/td\u003e\\n\",\n              \"      \u003ctd\u003e0\u003c/td\u003e\\n\",\n              \"      \u003ctd\u003e2.0\u003c/td\u003e\\n\",\n              \"      \u003ctd\u003eFalse\u003c/td\u003e\\n\",\n              \"    \u003c/tr\u003e\\n\",\n              \"    \u003ctr\u003e\\n\",\n              \"      \u003cth\u003e1\u003c/th\u003e\\n\",\n              \"      \u003ctd\u003eF\u003c/td\u003e\\n\",\n              \"      \u003ctd\u003eN\u003c/td\u003e\\n\",\n              \"      \u003ctd\u003eY\u003c/td\u003e\\n\",\n              \"      \u003ctd\u003e0\u003c/td\u003e\\n\",\n              \"      \u003ctd\u003eCommercial associate\u003c/td\u003e\\n\",\n              \"      \u003ctd\u003eSecondary / secondary special\u003c/td\u003e\\n\",\n              \"      \u003ctd\u003eSingle / not married\u003c/td\u003e\\n\",\n              \"      \u003ctd\u003eHouse / apartment\u003c/td\u003e\\n\",\n              \"      \u003ctd\u003e52.356164\u003c/td\u003e\\n\",\n              \"      \u003ctd\u003e8.358904\u003c/td\u003e\\n\",\n              \"      \u003ctd\u003e1\u003c/td\u003e\\n\",\n              \"      \u003ctd\u003e0\u003c/td\u003e\\n\",\n              \"      \u003ctd\u003e1\u003c/td\u003e\\n\",\n              \"      \u003ctd\u003e1\u003c/td\u003e\\n\",\n              \"      \u003ctd\u003e1.0\u003c/td\u003e\\n\",\n              \"      \u003ctd\u003eFalse\u003c/td\u003e\\n\",\n              \"    \u003c/tr\u003e\\n\",\n              \"    \u003ctr\u003e\\n\",\n              \"      \u003cth\u003e2\u003c/th\u003e\\n\",\n              \"      \u003ctd\u003eF\u003c/td\u003e\\n\",\n              \"      \u003ctd\u003eN\u003c/td\u003e\\n\",\n              \"      \u003ctd\u003eY\u003c/td\u003e\\n\",\n              \"      \u003ctd\u003e0\u003c/td\u003e\\n\",\n              \"      \u003ctd\u003eCommercial associate\u003c/td\u003e\\n\",\n              \"      \u003ctd\u003eSecondary / secondary special\u003c/td\u003e\\n\",\n              \"      \u003ctd\u003eSingle / not married\u003c/td\u003e\\n\",\n              \"      \u003ctd\u003eHouse / apartment\u003c/td\u003e\\n\",\n              \"      \u003ctd\u003e52.356164\u003c/td\u003e\\n\",\n              \"      \u003ctd\u003e8.358904\u003c/td\u003e\\n\",\n              \"      \u003ctd\u003e1\u003c/td\u003e\\n\",\n              \"      \u003ctd\u003e0\u003c/td\u003e\\n\",\n              \"      \u003ctd\u003e1\u003c/td\u003e\\n\",\n              \"      \u003ctd\u003e1\u003c/td\u003e\\n\",\n              \"      \u003ctd\u003e1.0\u003c/td\u003e\\n\",\n              \"      \u003ctd\u003eFalse\u003c/td\u003e\\n\",\n              \"    \u003c/tr\u003e\\n\",\n              \"    \u003ctr\u003e\\n\",\n              \"      \u003cth\u003e3\u003c/th\u003e\\n\",\n              \"      \u003ctd\u003eM\u003c/td\u003e\\n\",\n              \"      \u003ctd\u003eY\u003c/td\u003e\\n\",\n              \"      \u003ctd\u003eY\u003c/td\u003e\\n\",\n              \"      \u003ctd\u003e0\u003c/td\u003e\\n\",\n              \"      \u003ctd\u003eWorking\u003c/td\u003e\\n\",\n              \"      \u003ctd\u003eHigher education\u003c/td\u003e\\n\",\n              \"      \u003ctd\u003eMarried\u003c/td\u003e\\n\",\n              \"      \u003ctd\u003eHouse / apartment\u003c/td\u003e\\n\",\n              \"      \u003ctd\u003e46.224658\u003c/td\u003e\\n\",\n              \"      \u003ctd\u003e2.106849\u003c/td\u003e\\n\",\n              \"      \u003ctd\u003e1\u003c/td\u003e\\n\",\n              \"      \u003ctd\u003e1\u003c/td\u003e\\n\",\n              \"      \u003ctd\u003e1\u003c/td\u003e\\n\",\n              \"      \u003ctd\u003e1\u003c/td\u003e\\n\",\n              \"      \u003ctd\u003e2.0\u003c/td\u003e\\n\",\n              \"      \u003ctd\u003eFalse\u003c/td\u003e\\n\",\n              \"    \u003c/tr\u003e\\n\",\n              \"    \u003ctr\u003e\\n\",\n              \"      \u003cth\u003e4\u003c/th\u003e\\n\",\n              \"      \u003ctd\u003eF\u003c/td\u003e\\n\",\n              \"      \u003ctd\u003eY\u003c/td\u003e\\n\",\n              \"      \u003ctd\u003eN\u003c/td\u003e\\n\",\n              \"      \u003ctd\u003e0\u003c/td\u003e\\n\",\n              \"      \u003ctd\u003eWorking\u003c/td\u003e\\n\",\n              \"      \u003ctd\u003eIncomplete higher\u003c/td\u003e\\n\",\n              \"      \u003ctd\u003eMarried\u003c/td\u003e\\n\",\n              \"      \u003ctd\u003eHouse / apartment\u003c/td\u003e\\n\",\n              \"      \u003ctd\u003e29.230137\u003c/td\u003e\\n\",\n              \"      \u003ctd\u003e3.021918\u003c/td\u003e\\n\",\n              \"      \u003ctd\u003e1\u003c/td\u003e\\n\",\n              \"      \u003ctd\u003e0\u003c/td\u003e\\n\",\n              \"      \u003ctd\u003e0\u003c/td\u003e\\n\",\n              \"      \u003ctd\u003e0\u003c/td\u003e\\n\",\n              \"      \u003ctd\u003e2.0\u003c/td\u003e\\n\",\n              \"      \u003ctd\u003eFalse\u003c/td\u003e\\n\",\n              \"    \u003c/tr\u003e\\n\",\n              \"  \u003c/tbody\u003e\\n\",\n              \"\u003c/table\u003e\\n\",\n              \"\u003c/div\u003e\\n\",\n              \"      \u003cbutton class=\\\"colab-df-convert\\\" onclick=\\\"convertToInteractive('df-aab9a0c5-dd7a-430b-a43e-ca935a5dffc9')\\\"\\n\",\n              \"              title=\\\"Convert this dataframe to an interactive table.\\\"\\n\",\n              \"              style=\\\"display:none;\\\"\u003e\\n\",\n              \"        \\n\",\n              \"  \u003csvg xmlns=\\\"http://www.w3.org/2000/svg\\\" height=\\\"24px\\\"viewBox=\\\"0 0 24 24\\\"\\n\",\n              \"       width=\\\"24px\\\"\u003e\\n\",\n              \"    \u003cpath d=\\\"M0 0h24v24H0V0z\\\" fill=\\\"none\\\"/\u003e\\n\",\n              \"    \u003cpath d=\\\"M18.56 5.44l.94 2.06.94-2.06 2.06-.94-2.06-.94-.94-2.06-.94 2.06-2.06.94zm-11 1L8.5 8.5l.94-2.06 2.06-.94-2.06-.94L8.5 2.5l-.94 2.06-2.06.94zm10 10l.94 2.06.94-2.06 2.06-.94-2.06-.94-.94-2.06-.94 2.06-2.06.94z\\\"/\u003e\u003cpath d=\\\"M17.41 7.96l-1.37-1.37c-.4-.4-.92-.59-1.43-.59-.52 0-1.04.2-1.43.59L10.3 9.45l-7.72 7.72c-.78.78-.78 2.05 0 2.83L4 21.41c.39.39.9.59 1.41.59.51 0 1.02-.2 1.41-.59l7.78-7.78 2.81-2.81c.8-.78.8-2.07 0-2.86zM5.41 20L4 18.59l7.72-7.72 1.47 1.35L5.41 20z\\\"/\u003e\\n\",\n              \"  \u003c/svg\u003e\\n\",\n              \"      \u003c/button\u003e\\n\",\n              \"      \\n\",\n              \"  \u003cstyle\u003e\\n\",\n              \"    .colab-df-container {\\n\",\n              \"      display:flex;\\n\",\n              \"      flex-wrap:wrap;\\n\",\n              \"      gap: 12px;\\n\",\n              \"    }\\n\",\n              \"\\n\",\n              \"    .colab-df-convert {\\n\",\n              \"      background-color: #E8F0FE;\\n\",\n              \"      border: none;\\n\",\n              \"      border-radius: 50%;\\n\",\n              \"      cursor: pointer;\\n\",\n              \"      display: none;\\n\",\n              \"      fill: #1967D2;\\n\",\n              \"      height: 32px;\\n\",\n              \"      padding: 0 0 0 0;\\n\",\n              \"      width: 32px;\\n\",\n              \"    }\\n\",\n              \"\\n\",\n              \"    .colab-df-convert:hover {\\n\",\n              \"      background-color: #E2EBFA;\\n\",\n              \"      box-shadow: 0px 1px 2px rgba(60, 64, 67, 0.3), 0px 1px 3px 1px rgba(60, 64, 67, 0.15);\\n\",\n              \"      fill: #174EA6;\\n\",\n              \"    }\\n\",\n              \"\\n\",\n              \"    [theme=dark] .colab-df-convert {\\n\",\n              \"      background-color: #3B4455;\\n\",\n              \"      fill: #D2E3FC;\\n\",\n              \"    }\\n\",\n              \"\\n\",\n              \"    [theme=dark] .colab-df-convert:hover {\\n\",\n              \"      background-color: #434B5C;\\n\",\n              \"      box-shadow: 0px 1px 3px 1px rgba(0, 0, 0, 0.15);\\n\",\n              \"      filter: drop-shadow(0px 1px 2px rgba(0, 0, 0, 0.3));\\n\",\n              \"      fill: #FFFFFF;\\n\",\n              \"    }\\n\",\n              \"  \u003c/style\u003e\\n\",\n              \"\\n\",\n              \"      \u003cscript\u003e\\n\",\n              \"        const buttonEl =\\n\",\n              \"          document.querySelector('#df-aab9a0c5-dd7a-430b-a43e-ca935a5dffc9 button.colab-df-convert');\\n\",\n              \"        buttonEl.style.display =\\n\",\n              \"          google.colab.kernel.accessAllowed ? 'block' : 'none';\\n\",\n              \"\\n\",\n              \"        async function convertToInteractive(key) {\\n\",\n              \"          const element = document.querySelector('#df-aab9a0c5-dd7a-430b-a43e-ca935a5dffc9');\\n\",\n              \"          const dataTable =\\n\",\n              \"            await google.colab.kernel.invokeFunction('convertToInteractive',\\n\",\n              \"                                                     [key], {});\\n\",\n              \"          if (!dataTable) return;\\n\",\n              \"\\n\",\n              \"          const docLinkHtml = 'Like what you see? Visit the ' +\\n\",\n              \"            '\u003ca target=\\\"_blank\\\" href=https://colab.research.google.com/notebooks/data_table.ipynb\u003edata table notebook\u003c/a\u003e'\\n\",\n              \"            + ' to learn more about interactive tables.';\\n\",\n              \"          element.innerHTML = '';\\n\",\n              \"          dataTable['output_type'] = 'display_data';\\n\",\n              \"          await google.colab.output.renderOutput(dataTable, element);\\n\",\n              \"          const docLink = document.createElement('div');\\n\",\n              \"          docLink.innerHTML = docLinkHtml;\\n\",\n              \"          element.appendChild(docLink);\\n\",\n              \"        }\\n\",\n              \"      \u003c/script\u003e\\n\",\n              \"    \u003c/div\u003e\\n\",\n              \"  \u003c/div\u003e\\n\",\n              \"  \"\n            ]\n          },\n          \"metadata\": {},\n          \"execution_count\": 2\n        }\n      ],\n      \"source\": [\n        \"# Observe que demo01.csv está na mesma pasta que este notebook\\n\",\n        \"# do contrário, seria necessário indicar a pasta no nome do arquivo\\n\",\n        \"df = pd.read_csv('demo01.csv')\\n\",\n        \"print (\\\"Número de linhas e colunas da tabela: {}\\\".format(df.shape))\\n\",\n        \"\\n\",\n        \"df.head()\"\n      ]\n    },\n    {\n      \"cell_type\": \"markdown\",\n      \"metadata\": {\n        \"id\": \"JPk5F_IjN1ay\"\n      },\n      \"source\": [\n        \"#### Entendimento dos dados - Univariada\\n\",\n        \"Nesta etapa tipicamente avaliamos a distribuição de todas as variáveis. Nesta demonstração vamos ver a variável resposta e dois exemplos de univariada apenas. Mas sinta-se à vontade para tentar observar outras variáveis.\"\n      ]\n    },\n    {\n      \"cell_type\": \"code\",\n      \"execution_count\": 3,\n      \"metadata\": {\n        \"colab\": {\n          \"base_uri\": \"https://localhost:8080/\"\n        },\n        \"id\": \"pu70n0e8N1ay\",\n        \"outputId\": \"742b95f5-623a-4bf8-e02d-dfee53631836\"\n      },\n      \"outputs\": [\n        {\n          \"output_type\": \"stream\",\n          \"name\": \"stdout\",\n          \"text\": [\n            \"False    16260\\n\",\n            \"True       390\\n\",\n            \"Name: mau, dtype: int64\\n\",\n            \"\\n\",\n            \"Taxa de inadimplentes:\\n\",\n            \"0.023423423423423424\\n\"\n          ]\n        }\n      ],\n      \"source\": [\n        \"print(df['mau'].value_counts())\\n\",\n        \"print(\\\"\\\\nTaxa de inadimplentes:\\\")\\n\",\n        \"print(df['mau'].mean())\"\n      ]\n    },\n    {\n      \"cell_type\": \"code\",\n      \"execution_count\": 4,\n      \"metadata\": {\n        \"colab\": {\n          \"base_uri\": \"https://localhost:8080/\",\n          \"height\": 281\n        },\n        \"id\": \"JzBu6bumN1az\",\n        \"outputId\": \"f7939e99-a11c-4f40-e2aa-c697223435e4\"\n      },\n      \"outputs\": [\n        {\n          \"output_type\": \"display_data\",\n          \"data\": {\n            \"text/plain\": [\n              \"\u003cFigure size 432x288 with 1 Axes\u003e\"\n            ],\n            \"image/png\": \"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\\n\"\n          },\n          \"metadata\": {\n            \"needs_background\": \"light\"\n          }\n        }\n      ],\n      \"source\": [\n        \"var = 'mau'\\n\",\n        \"grafico_barras = df[var].value_counts().plot.bar()\"\n      ]\n    },\n    {\n      \"cell_type\": \"markdown\",\n      \"metadata\": {\n        \"id\": \"3HykKoeVN1az\"\n      },\n      \"source\": [\n        \"### \u003cspan style=\\\"color:blue\\\"\u003eTarefa 01 - gráfico de barras\u003c/span\u003e\\n\",\n        \"\u003cspan style=\\\"color:blue\\\"\u003e Com base no código da célula anterior, construa um gráfico de barras para pelo menos duas outras variáveis. \\n\",\n        \"**Dica:** Não tente usar as variáveis ```tempo_emprego``` e ```idade``` pois o gráfico de barras dessa forma como construímos não é adequado para elas. \u003c/span\u003e\"\n      ]\n    },\n    {\n      \"cell_type\": \"code\",\n      \"source\": [\n        \"plt.clf()\\n\",\n        \"var = \\\"sexo\\\"\\n\",\n        \"\\n\",\n        \"sns.displot(df, x = var, bins = 50)\\n\",\n        \"plt.show()\"\n      ],\n      \"metadata\": {\n        \"colab\": {\n          \"base_uri\": \"https://localhost:8080/\",\n          \"height\": 386\n        },\n        \"id\": \"WqSGP4k-PPRF\",\n        \"outputId\": \"36a5f803-ce5a-4345-a022-d29d324d371e\"\n      },\n      \"execution_count\": 13,\n      \"outputs\": [\n        {\n          \"output_type\": \"display_data\",\n          \"data\": {\n            \"text/plain\": [\n              \"\u003cFigure size 432x288 with 0 Axes\u003e\"\n            ]\n          },\n          \"metadata\": {}\n        },\n        {\n          \"output_type\": \"display_data\",\n          \"data\": {\n            \"text/plain\": [\n              \"\u003cFigure size 360x360 with 1 Axes\u003e\"\n            ],\n            \"image/png\": \"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\\n\"\n          },\n          \"metadata\": {\n            \"needs_background\": \"light\"\n          }\n        }\n      ]\n    },\n    {\n      \"cell_type\": \"code\",\n      \"execution_count\": 5,\n      \"metadata\": {\n        \"colab\": {\n          \"base_uri\": \"https://localhost:8080/\",\n          \"height\": 386\n        },\n        \"id\": \"X0B_2t0KN1az\",\n        \"outputId\": \"9cad201c-61c3-49f6-97e1-1d175ac6e860\"\n      },\n      \"outputs\": [\n        {\n          \"output_type\": \"display_data\",\n          \"data\": {\n            \"text/plain\": [\n              \"\u003cFigure size 432x288 with 0 Axes\u003e\"\n            ]\n          },\n          \"metadata\": {}\n        },\n        {\n          \"output_type\": \"display_data\",\n          \"data\": {\n            \"text/plain\": [\n              \"\u003cFigure size 360x360 with 1 Axes\u003e\"\n            ],\n            \"image/png\": \"iVBORw0KGgoAAAANSUhEUgAAAWAAAAFgCAYAAACFYaNMAAAAOXRFWHRTb2Z0d2FyZQBNYXRwbG90bGliIHZlcnNpb24zLjcuMSwgaHR0cHM6Ly9tYXRwbG90bGliLm9yZy/bCgiHAAAACXBIWXMAAAsTAAALEwEAmpwYAAAYpklEQVR4nO3df7RdZX3n8ffHpKCtaPiRUkhwEcdoRW2nNgItTkeICwLahq4ixelIRCQzioxalxZK18JRWdVRS9WpWgRGcKwIqANVBCOi7XTJj4DIT9EUiiQoJASw6ogT+M4f58lwEm+Sy03Ofe7Nfb/WOuvu/d17n/08bvxk32f/uKkqJEmT7ym9GyBJM5UBLEmdGMCS1IkBLEmdGMCS1Mns3g2YbEuWLKkrrriidzMkzSwZqzjjzoDXrVvXuwmSBMzAAJakqcIAlqRODGBJ6sQAlqRODGBJ6sQAlqRODGBJ6sQAlqRORhbASc5L8kCSW4dq70/ynSQ3J/lCkjlDy05LsirJnUmOGKovabVVSU4dqi9Icm2rfzbJLqPqiySNwijPgD8JLNmstgJ4YVX9BvBd4DSAJAcAxwEvaNt8NMmsJLOAvwGOBA4AXt3WBXgfcFZVPQd4CDhxhH2RpB1uZAFcVf8ArN+s9pWq2tBmrwHmt+mlwIVV9WhV3Q2sAg5sn1VVdVdV/Ry4EFiaJMBhwCVt+/OBo0fVF0kahZ5jwK8Dvtym5wH3Di1b3Wpbqu8JPDwU5hvrY0qyPMnKJCvXrl27g5ovSdunSwAnOR3YAHx6MvZXVWdX1aKqWjR37tzJ2KUkbdOkv44yyWuBVwKL64m/CLoG2G9otfmtxhbqDwJzksxuZ8HD60vSk3LSKW/jvnUPb1Lbd685fOIjHxzpfic1gJMsAd4B/Puq+unQosuAv0vyV8C+wELgOgbv0FyYZAGDgD0O+A9VVUmuBo5hMC68DLh08noiaWdy37qH2e3Q129au/qcke93lLehfQb4JvC8JKuTnAj8d2A3YEWSm5J8HKCqbgMuAm4HrgBOrqrH2tntm4ArgTuAi9q6AH8G/GmSVQzGhM8dVV8kaRRGdgZcVa8eo7zFkKyqM4Ezx6hfDlw+Rv0uBndJSNK05JNwktSJASxJnRjAktSJASxJnRjAktSJASxJnRjAktSJASxJnRjAktSJASxJnRjAktSJASxJnRjAktSJASxJnRjAktSJASxJnRjAktSJASxJnRjAktSJASxJnRjAktSJASxJnRjAktSJASxJnRjAktSJASxJnRjAktSJASxJnRjAktSJASxJnRjAktSJASxJnRjAktSJASxJnRjAktSJASxJnRjAktSJASxJnRjAktSJASxJnYwsgJOcl+SBJLcO1fZIsiLJ99rP3Vs9ST6cZFWSm5O8eGibZW397yVZNlT/7SS3tG0+nCSj6oskjcIoz4A/CSzZrHYqcFVVLQSuavMARwIL22c58DEYBDZwBnAQcCBwxsbQbuucNLTd5vuSpCltZAFcVf8ArN+svBQ4v02fDxw9VL+gBq4B5iTZBzgCWFFV66vqIWAFsKQte0ZVXVNVBVww9F2SNC1M9hjw3lX1gzb9Q2DvNj0PuHdovdWttrX66jHqY0qyPMnKJCvXrl27fT2QpB2k20W4duZak7Svs6tqUVUtmjt37mTsUpK2abID+P42fED7+UCrrwH2G1pvfqttrT5/jLokTRuTHcCXARvvZFgGXDpUP77dDXEw8EgbqrgSODzJ7u3i2+HAlW3Zj5Ic3O5+OH7ouyRpWpg9qi9O8hngZcBeSVYzuJvhvcBFSU4E7gGObatfDhwFrAJ+CpwAUFXrk7wbuL6t966q2nhh740M7rR4GvDl9pGkaWNkAVxVr97CosVjrFvAyVv4nvOA88aorwReuD1tlKSefBJOkjoxgCWpEwNYkjoxgCWpEwNYkjoxgCWpEwNYkjoxgCWpEwNYkjoxgCWpEwNYkjoxgCWpEwNYkjoxgCWpEwNYkjoxgCWpEwNYkjoxgCWpEwNYkjoxgCWpEwNYkjoxgCWpEwNYkjoxgCWpEwNYkjoxgCWpEwNYkjoxgCWpEwNYkjoxgCWpEwNYkjoxgCWpEwNYkjoxgCWpEwNYkjoxgCWpEwNYkjoxgCWpEwNYkjoxgCWpky4BnOStSW5LcmuSzyR5apIFSa5NsirJZ5Ps0tbdtc2vasv3H/qe01r9ziRH9OiLJE3UpAdwknnAfwEWVdULgVnAccD7gLOq6jnAQ8CJbZMTgYda/ay2HkkOaNu9AFgCfDTJrMnsiyRtj15DELOBpyWZDfwy8APgMOCStvx84Og2vbTN05YvTpJWv7CqHq2qu4FVwIGT03xJ2n6THsBVtQb4APB9BsH7CHAD8HBVbWirrQbmtel5wL1t2w1t/T2H62Nss4kky5OsTLJy7dq1O7ZDkjRBPYYgdmdw9roA2Bf4FQZDCCNTVWdX1aKqWjR37txR7kqSxq3HEMTLgburam1V/V/g88AhwJw2JAEwH1jTptcA+wG05c8EHhyuj7GNJE15PQL4+8DBSX65jeUuBm4HrgaOaessAy5t05e1edryr1VVtfpx7S6JBcBC4LpJ6oMkbbfZ215lx6qqa5NcAtwIbAC+BZwNfAm4MMl7Wu3ctsm5wKeSrALWM7jzgaq6LclFDMJ7A3ByVT02qZ2RpO0w6QEMUFVnAGdsVr6LMe5iqKqfAa/awvecCZy5wxsoSZPAJ+EkqRMDWJI6MYAlqRMDWJI6MYAlqRMDWJI6MYAlqRMDWJI6MYAlqRMDWJI6MYAlqRMDWJI6MYAlqRMDWJI6MYAlqRMDWJI6MYAlqRMDWJI6MYAlqRMDWJI6MYAlqRMDWJI6MYAlqRMDWJI6GVcAJzlkPDVJ0viN9wz4I+OsSZLGafbWFib5HeB3gblJ/nRo0TOAWaNsmCTt7LYawMAuwNPbersN1X8EHDOqRknSTLDVAK6qbwDfSPLJqrpnktokSTPCts6AN9o1ydnA/sPbVNVho2iUJM0E4w3gi4GPA+cAj42uOZI0c4w3gDdU1cdG2hJJmmHGexva3yd5Y5J9kuyx8TPSlknSTm68Z8DL2s+3D9UKePaObY4kzRzjCuCqWjDqhkjSTDOuAE5y/Fj1qrpgxzZHkmaO8Q5BvGRo+qnAYuBGwACWpAka7xDEKcPzSeYAF46iQZI0U0z0dZQ/ARwXlqTtMN4x4L9ncNcDDF7C83zgolE1SpJmgvGOAX9gaHoDcE9VrZ7oTtsQxjnACxkE++uAO4HPMnjc+V+AY6vqoSQBPgQcBfwUeG1V3di+ZxnwF+1r31NV50+0TZI02cY1BNFeyvMdBm9E2x34+Xbu90PAFVX168BvAncApwJXVdVC4Ko2D3AksLB9lgMfA2gPgpwBHAQcCJyRZPftbJckTZrx/kWMY4HrgFcBxwLXJpnQ6yiTPBP4PeBcgKr6eVU9DCwFNp7Bng8c3aaXAhfUwDXAnCT7AEcAK6pqfVU9BKwAlkykTZLUw3iHIE4HXlJVDwAkmQt8FbhkAvtcAKwF/keS3wRuAN4M7F1VP2jr/BDYu03PA+4d2n51q22p/guSLGdw9syznvWsCTRZkna88d4F8ZSN4ds8+CS23dxs4MXAx6rqtxjcUXHq8ApVVTxx0W+7VdXZVbWoqhbNnTt3R32tJG2X8YboFUmuTPLaJK8FvgRcPsF9rgZWV9W1bf4SBoF8fxtaoP3cGPhrgP2Gtp/faluqS9K0sNUATvKcJIdU1duBvwV+o32+CZw9kR1W1Q+Be5M8r5UWA7cDl/HES3+WAZe26cuA4zNwMPBIG6q4Ejg8ye7t4tvhrSZJ08K2xoD/GjgNoKo+D3weIMmL2rLfn+B+TwE+nWQX4C7gBAb/GFyU5ETgHgYX+2Bwpn0UsIrBbWgntPasT/Ju4Pq23ruqav0E2yNJk25bAbx3Vd2yebGqbkmy/0R3WlU3AYvGWLR4jHULOHkL33MecN5E2yFJPW1rDHjOVpY9bQe2Q5JmnG0F8MokJ21eTPJ6BrePSZImaFtDEG8BvpDkT3gicBcBuwB/OMJ2SdJOb6sBXFX3A7+b5FAG720A+FJVfW3kLZOkndx43wd8NXD1iNsiSTPKRJ9mkyRtJwNYkjoxgCWpEwNYkjoxgCWpEwNYkjoxgCWpEwNYkjoxgCWpEwNYkjoxgCWpEwNYkjoxgCWpEwNYkjoxgCWpEwNYkjoxgCWpEwNYkjoxgCWpEwNYkjoxgCWpEwNYkjoxgCWpEwNYkjoxgCWpEwNYkjoxgCWpEwNYkjoxgCWpEwNYkjoxgCWpEwNYkjoxgCWpEwNYkjoxgCWpk24BnGRWkm8l+WKbX5Dk2iSrknw2yS6tvmubX9WW7z/0Hae1+p1JjujUFUmakJ5nwG8G7hiafx9wVlU9B3gIOLHVTwQeavWz2nokOQA4DngBsAT4aJJZk9R2SdpuXQI4yXzgFcA5bT7AYcAlbZXzgaPb9NI2T1u+uK2/FLiwqh6tqruBVcCBk9IBSdoBep0B/zXwDuDxNr8n8HBVbWjzq4F5bXoecC9AW/5IW///18fYZhNJlidZmWTl2rVrd2A3JGniJj2Ak7wSeKCqbpisfVbV2VW1qKoWzZ07d7J2K0lbNbvDPg8B/iDJUcBTgWcAHwLmJJndznLnA2va+muA/YDVSWYDzwQeHKpvNLyNJE15k34GXFWnVdX8qtqfwUW0r1XVnwBXA8e01ZYBl7bpy9o8bfnXqqpa/bh2l8QCYCFw3SR1Q5K2W48z4C35M+DCJO8BvgWc2+rnAp9KsgpYzyC0qarbklwE3A5sAE6uqscmv9mSNDFdA7iqvg58vU3fxRh3MVTVz4BXbWH7M4EzR9dCSRodn4STpE4MYEnqxACWpE4MYEnqxACWpE4MYEnqxACWpE4MYEnqxACWpE4MYEnqxACWpE4MYEnqxACWpE4MYEnqxACWpE4MYEnqxACWpE4MYEnqxACWpE4MYEnqxACWpE4MYEnqxACWpE4MYEnqZHbvBkwHJ53yNu5b9/AmtX33msMnPvLBPg2StFMwgMfhvnUPs9uhr9+0dvU5nVojaWfhEIQkdWIAS1InBrAkdWIAS1InBrAkdWIAS1InBrAkdWIAS1InBrAkdWIAS1InBrAkdWIAS1InBrAkdWIAS1Inkx7ASfZLcnWS25PcluTNrb5HkhVJvtd+7t7qSfLhJKuS3JzkxUPftayt/70kyya7L5K0PXqcAW8A3lZVBwAHAycnOQA4FbiqqhYCV7V5gCOBhe2zHPgYDAIbOAM4CDgQOGNjaEvSdDDpAVxVP6iqG9v0vwJ3APOApcD5bbXzgaPb9FLgghq4BpiTZB/gCGBFVa2vqoeAFcCSyeuJJG2frmPASfYHfgu4Fti7qn7QFv0Q2LtNzwPuHdpsdattqT7WfpYnWZlk5dq1a3dcByRpO3QL4CRPBz4HvKWqfjS8rKoKqB21r6o6u6oWVdWiuXPn7qivlaTt0iWAk/wSg/D9dFV9vpXvb0MLtJ8PtPoaYL+hzee32pbqkjQt9LgLIsC5wB1V9VdDiy4DNt7JsAy4dKh+fLsb4mDgkTZUcSVweJLd28W3w1tNkqaFHn8V+RDgNcAtSW5qtT8H3gtclORE4B7g2LbscuAoYBXwU+AEgKpan+TdwPVtvXdV1fpJ6YEk7QCTHsBV9b+BbGHx4jHWL+DkLXzXecB5O651kjR5fBJOkjoxgCWpEwNYkjoxgCWpEwNYkjoxgCWpEwNYkjoxgCWpEwNYkjoxgCWpEwNYkjrp8TIeSermpFPexn3rHt6kdvt3vstBh05+WwxgSTPKfeseZrdDX79J7We3vLVLWxyCkKRODGBJ6sQAlqRODGBJ6sQAlqRODGBJ6sQAlqRODGBJ6sQAlqRODGBJ6sQAlqRODGBJ6sQAlqRODGBJ6sQAlqROfB+wJI3h1ltv4RWvPvEX6vvuNYdPfOSDO2QfBrAkjeHn9ZRfeHE7wH1Xn7PD9uEQhCR1YgBLUicGsCR1YgBLUicGsCR1YgBLUicGsCR1YgBLUicGsCR1YgBLUifTPoCTLElyZ5JVSU7t3R5JGq9pHcBJZgF/AxwJHAC8OskBfVslSeMzrQMYOBBYVVV3VdXPgQuBpZ3bJEnjkqrq3YYJS3IMsKSqXt/mXwMcVFVv2my95cDyNvs84M4nuau9gHXb2dypYGfox87QB7AfU82o+7GuqpZsXpwRr6OsqrOBsye6fZKVVbVoBzapi52hHztDH8B+TDW9+jHdhyDWAPsNzc9vNUma8qZ7AF8PLEyyIMkuwHHAZZ3bJEnjMq2HIKpqQ5I3AVcCs4Dzquq2EexqwsMXU8zO0I+doQ9gP6aaLv2Y1hfhJGk6m+5DEJI0bRnAktTJjA/gJK9KcluSx5Ms2mzZae0R5zuTHDFUH/Px53Yx8NpW/2y7MDjpkvzbJNckuSnJyiQHtnqSfLi17+YkLx7aZlmS77XPsh7tHkuSU5J8px2j/zZUf1LHZipI8rYklWSvNj+tjkeS97djcXOSLySZM7Rs2h0PmALtq6oZ/QGez+DhjK8Di4bqBwDfBnYFFgD/zOBC36w2/Wxgl7bOAW2bi4Dj2vTHgTd06tNXgCPb9FHA14emvwwEOBi4ttX3AO5qP3dv07tPgWNzKPBVYNc2/6sTPTa9Pwxul7wSuAfYa5oej8OB2W36fcD7puvxaO3u3r4ZfwZcVXdU1VhPxi0FLqyqR6vqbmAVg0efx3z8OUmAw4BL2vbnA0ePvANjK+AZbfqZwH1teilwQQ1cA8xJsg9wBLCiqtZX1UPACuAXntrp4A3Ae6vqUYCqeqDVn9Sx6dDusZwFvIPBsdloWh2PqvpKVW1os9cwuO8epufxgCnQvhkfwFsxD7h3aH51q22pvifw8NB/oBvrPbwFeH+Se4EPAKe1+pPtU2/PBf5dG9b5RpKXtPq06keSpcCaqvr2ZoumVT828zoGZ+8wffvRvX3T+j7g8UryVeDXxlh0elVdOtnt2RG21idgMfDWqvpckmOBc4GXT2b7xmsb/ZjN4Nfwg4GXABclefYkNm/cttGPP2fw6/uUN57/ryQ5HdgAfHoy27YzmhEBXFUTCZ+tPeY8Vv1BBr9Czm5nwSN9LHprfUpyAfDmNnsxcE6b3lKf1gAv26z+9R3U1K3aRj/eAHy+BgN21yV5nMFLU57ssRm5LfUjyYsYjIt+ezBKxXzgxnZhdFodD4AkrwVeCSxuxwWm4PEYp/6vMug9ED5VPvziRbgXsOmFhbsYDNrPbtMLeGLg/gVtm4vZ9CLcGzv15Q7gZW16MXBDm34Fm170ua7V9wDuZnDBZ/c2vccUOCb/GXhXm34ug18XM5FjM1U+wL/wxEW46XY8lgC3A3M3q0/L4zEV2tf9f4TeH+APGYz9PArcD1w5tOx0BldJ76TdVdDqRwHfbctOH6o/G7iOwUWIi2lX7zv06aXADe0/qGuB3271MHiB/T8Dt7DpPziva+1eBZzQ+7i0Nu0C/E/gVuBG4LCJHpup8tksgKfb8VjV/hG8qX0+vhMcj67t81FkSerEuyAkqRMDWJI6MYAlqRMDWJI6MYAlqRMDWFNCkjlJ3ti7HdJkMoA1VcwBZlQAJ5kRT6JqywxgTRXvBf5Ne4fx+5O8Pcn17d2z/xUgyf7tfbSfTPLdJJ9O8vIk/9Tem7vxvcfvTPKpJN9s9ZNaPe27b01yS5I/3lqDRtSGlyX5xySXAbcnmdXatHE//6mt95QkH237WpHk8iTHtGWLk3yr9eG8JLuO5pBo5Ho/ieLHT1UB7A/c2qYPZ/BHEsPgJOGLwO+1dTYAL2r1G4Dz2npLgf/Vtn8ng6cAn8bg3RH3AvsCf8Tg1Y6zgL2B7wP7bKE9o2rDy4CfAAvaesuBv2jTuwIrGTwaewxwedvHrwEPtdpT23c9t21zAfCW3sfPz8Q+ngFrKjq8fb7F4BHkXwcWtmV3V9UtVfU4cBtwVQ2S6BYG4bjRpVX1f6pqHXA1g3e/vhT4TFU9VlX3A99g8Ja1yWwDDN75cPfQfo5PchODx8b3bPt5KXBxVT1eVT9s28PgjwfcXVXfbfPnM/iHQdOQY1CaigL8ZVX97SbFZH8G7+zY6PGh+cfZ9L/nzZ+xf7LP3I+yDT/ZbD+nVNWVm+3nqCfZXk1DngFrqvhXYLc2fSXwuiRPB0gyL8mvPsnvW5rkqUn2ZPBr//XAPwJ/3MZd5zI4c7xuC9uPqg1j7ecNSX6p7ee5SX4F+Cfgj9pY8N488XrKO4H9kzynzb+GwZm8piHPgDUlVNWD7ULWrQxe0fh3wDfbO3R/DPxH4LEn8ZU3M/i1fS/g3VV1X5IvAL/DYGy2gHe0X+/Has9Xkjx/BG147mbrnMNg2OLG9met1jL4U1afY/Aq0dsZjPneCDxSVT9LcgJwcbuL4noGrz7VNOTb0LTTSfJO4MdV9YHp3IYkT6+qH7cz6OuAQ7b0D4amJ8+Apanrixn86fddGJxBG747Gc+ANaO1Pxn0qc3Kj1bVQT3ao5nFAJakTrwLQpI6MYAlqRMDWJI6MYAlqRMDWJI6+X8LZg2biXje3AAAAABJRU5ErkJggg==\\n\"\n          },\n          \"metadata\": {\n            \"needs_background\": \"light\"\n          }\n        }\n      ],\n      \"source\": [\n        \"plt.clf()\\n\",\n        \"var = \\\"tempo_emprego\\\"\\n\",\n        \"\\n\",\n        \"sns.displot(df, x = var, bins = 50)\\n\",\n        \"plt.show()\"\n      ]\n    },\n    {\n      \"cell_type\": \"code\",\n      \"execution_count\": 6,\n      \"metadata\": {\n        \"id\": \"-YnZojoLN1a0\"\n      },\n      \"outputs\": [],\n      \"source\": [\n        \"# Alterando valores de -1000 pra -2, para visualizar melhor no gráfico\\n\",\n        \"var = \\\"tempo_emprego\\\"\\n\",\n        \"df.loc[df[var]\u003c0,var] = -2\"\n      ]\n    },\n    {\n      \"cell_type\": \"code\",\n      \"execution_count\": 7,\n      \"metadata\": {\n        \"colab\": {\n          \"base_uri\": \"https://localhost:8080/\",\n          \"height\": 386\n        },\n        \"id\": \"Fj2u_p_AN1a0\",\n        \"outputId\": \"8aeedf6b-ae34-474f-aa69-bc7578951f51\"\n      },\n      \"outputs\": [\n        {\n          \"output_type\": \"display_data\",\n          \"data\": {\n            \"text/plain\": [\n              \"\u003cFigure size 432x288 with 0 Axes\u003e\"\n            ]\n          },\n          \"metadata\": {}\n        },\n        {\n          \"output_type\": \"display_data\",\n          \"data\": {\n            \"text/plain\": [\n              \"\u003cFigure size 360x360 with 1 Axes\u003e\"\n            ],\n            \"image/png\": \"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\\n\"\n          },\n          \"metadata\": {\n            \"needs_background\": \"light\"\n          }\n        }\n      ],\n      \"source\": [\n        \"plt.clf()\\n\",\n        \"var = \\\"tempo_emprego\\\"\\n\",\n        \"\\n\",\n        \"sns.displot(df, x = var, bins = 50)\\n\",\n        \"plt.show()\"\n      ]\n    },\n    {\n      \"cell_type\": \"markdown\",\n      \"metadata\": {\n        \"id\": \"Y_C4iocDN1a0\"\n      },\n      \"source\": [\n        \"### \u003cspan style=\\\"color:blue\\\"\u003eTarefa 02 - Histograma \u003c/span\u003e\\n\",\n        \"\u003cspan style=\\\"color:blue\\\"\u003e Com base no código da célula anterior, construa o histograma da variavel ```Idade```.  \u003c/span\u003e\\n\"\n      ]\n    },\n    {\n      \"cell_type\": \"code\",\n      \"source\": [\n        \"plt.clf()\\n\",\n        \"var = \\\"idade\\\"\\n\",\n        \"\\n\",\n        \"sns.displot(df, x = var, bins = 50)\\n\",\n        \"plt.show()\"\n      ],\n      \"metadata\": {\n        \"colab\": {\n          \"base_uri\": \"https://localhost:8080/\",\n          \"height\": 386\n        },\n        \"id\": \"Qt0g7-6gPEzp\",\n        \"outputId\": \"3f8fffcb-14d6-482b-d607-d483923315fc\"\n      },\n      \"execution_count\": 14,\n      \"outputs\": [\n        {\n          \"output_type\": \"display_data\",\n          \"data\": {\n            \"text/plain\": [\n              \"\u003cFigure size 432x288 with 0 Axes\u003e\"\n            ]\n          },\n          \"metadata\": {}\n        },\n        {\n          \"output_type\": \"display_data\",\n          \"data\": {\n            \"text/plain\": [\n              \"\u003cFigure size 360x360 with 1 Axes\u003e\"\n            ],\n            \"image/png\": \"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\\n\"\n          },\n          \"metadata\": {\n            \"needs_background\": \"light\"\n          }\n        }\n      ]\n    },\n    {\n      \"cell_type\": \"markdown\",\n      \"metadata\": {\n        \"id\": \"19dzlvPoN1a0\"\n      },\n      \"source\": [\n        \"### Entendimento dos dados - Bivariadas\\n\",\n        \"\\n\",\n        \"Entender a alteração da inadimplência indicada pela variável resposta (```AtrasoRelevante2anos```) e as variáveis explicativas (demais). Para isto, vamos calcular a taxa de inadimplentes (qtd inadimplentes / total) para diferentes grupos definidos pelas variáveis explicativas.\\n\"\n      ]\n    },\n    {\n      \"cell_type\": \"code\",\n      \"execution_count\": 15,\n      \"metadata\": {\n        \"colab\": {\n          \"base_uri\": \"https://localhost:8080/\",\n          \"height\": 353\n        },\n        \"id\": \"3bq__1gtN1a0\",\n        \"outputId\": \"073c324f-1c7e-4289-dfa6-3f3ebcc620f5\"\n      },\n      \"outputs\": [\n        {\n          \"output_type\": \"display_data\",\n          \"data\": {\n            \"text/plain\": [\n              \"\u003cFigure size 432x288 with 1 Axes\u003e\"\n            ],\n            \"image/png\": \"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\\n\"\n          },\n          \"metadata\": {\n            \"needs_background\": \"light\"\n          }\n        }\n      ],\n      \"source\": [\n        \"var = 'idade'\\n\",\n        \"cat_srs, bins = pd.qcut(df[var], 4, retbins=True)\\n\",\n        \"g = df.groupby(cat_srs)\\n\",\n        \"biv = g['mau'].mean()\\n\",\n        \"\\n\",\n        \"ax = biv.plot.line()\\n\",\n        \"ax.set_ylabel(\\\"Proporção de inadimplentes\\\")\\n\",\n        \"ticks = plt.xticks(range(len(biv.index.values)), biv.index.values, rotation = 90)\"\n      ]\n    },\n    {\n      \"cell_type\": \"markdown\",\n      \"metadata\": {\n        \"id\": \"i2gPiS53N1a1\"\n      },\n      \"source\": [\n        \"### \u003cspan style=\\\"color:blue\\\"\u003eTarefa 03 - Bivariada \u003c/span\u003e\\n\",\n        \"\u003cspan style=\\\"color:blue\\\"\u003e Com base no código da célula anterior, construa uma análise bivariada para a variável  ```tempo_emprego```.  Em seguida, insira uma célula de markdown e conclua se a variável parece discriminar risco de crédito. \u003c/span\u003e\\n\",\n        \"\\n\"\n      ]\n    },\n    {\n      \"cell_type\": \"code\",\n      \"execution_count\": 16,\n      \"metadata\": {\n        \"colab\": {\n          \"base_uri\": \"https://localhost:8080/\",\n          \"height\": 347\n        },\n        \"id\": \"agnc3zOQN1a1\",\n        \"outputId\": \"51524e5c-89c0-4775-afdd-a5f22754ddad\"\n      },\n      \"outputs\": [\n        {\n          \"output_type\": \"display_data\",\n          \"data\": {\n            \"text/plain\": [\n              \"\u003cFigure size 432x288 with 1 Axes\u003e\"\n            ],\n            \"image/png\": \"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\\n\"\n          },\n          \"metadata\": {\n            \"needs_background\": \"light\"\n          }\n        }\n      ],\n      \"source\": [\n        \"var = 'tempo_emprego'\\n\",\n        \"cat_srs, bins = pd.qcut(df[var], 4, retbins=True)\\n\",\n        \"g = df.groupby(cat_srs)\\n\",\n        \"biv = g['mau'].mean()\\n\",\n        \"\\n\",\n        \"ax = biv.plot.line()\\n\",\n        \"ax.set_ylabel(\\\"Proporção de inadimplentes\\\")\\n\",\n        \"ticks = plt.xticks(range(len(biv.index.values)), biv.index.values, rotation = 90)\"\n      ]\n    },\n    {\n      \"cell_type\": \"markdown\",\n      \"metadata\": {\n        \"id\": \"7asXQNQXN1a1\"\n      },\n      \"source\": [\n        \"Aa variavel tempo de emprego parece discriminar risco de credito, pois esta em uma decrescente enorme. \"\n      ]\n    },\n    {\n      \"cell_type\": \"markdown\",\n      \"metadata\": {\n        \"id\": \"xMiTEGEYN1a1\"\n      },\n      \"source\": [\n        \"## Etapa 3 Crisp-DM: Preparação dos dados\\n\",\n        \"Nessa etapa realizamos tipicamente as seguintes operações com os dados:\\n\",\n        \"- seleção\\n\",\n        \"Neste caso, os dados já estão pré-selecionados\\n\",\n        \"- limpeza\\n\",\n        \"Precisaremos identificar e tratar dados faltantes\\n\",\n        \"- construção\\n\",\n        \"Neste primeiro exercício não faremos construção de novas variáveis\\n\",\n        \"- integração\\n\",\n        \"Temos apenas uma fonte de dados, não é necessário agregação\\n\",\n        \"- formatação\\n\",\n        \"Os dados já se encontram em formatos úteis\\n\",\n        \"\\n\",\n        \"Os dados já estão pré-selecionados, construídos e integrados, mas há dados faltantes que serão eliminados na próxima célula\"\n      ]\n    },\n    {\n      \"cell_type\": \"code\",\n      \"execution_count\": 17,\n      \"metadata\": {\n        \"colab\": {\n          \"base_uri\": \"https://localhost:8080/\",\n          \"height\": 551\n        },\n        \"id\": \"zxGu1OiaN1a2\",\n        \"outputId\": \"a3f10d6e-ce7f-45ca-d050-e21f8677d7bb\"\n      },\n      \"outputs\": [\n        {\n          \"output_type\": \"execute_result\",\n          \"data\": {\n            \"text/plain\": [\n              \"                          tipo  n_categorias\\n\",\n              \"sexo                    object             2\\n\",\n              \"posse_de_veiculo        object             2\\n\",\n              \"posse_de_imovel         object             2\\n\",\n              \"qtd_filhos               int64             8\\n\",\n              \"tipo_renda              object             5\\n\",\n              \"educacao                object             5\\n\",\n              \"estado_civil            object             5\\n\",\n              \"tipo_residencia         object             6\\n\",\n              \"idade                  float64          5298\\n\",\n              \"tempo_emprego          float64          3005\\n\",\n              \"possui_celular           int64             1\\n\",\n              \"possui_fone_comercial    int64             2\\n\",\n              \"possui_fone              int64             2\\n\",\n              \"possui_email             int64             2\\n\",\n              \"qt_pessoas_residencia  float64             9\\n\",\n              \"mau                       bool             2\"\n            ],\n            \"text/html\": [\n              \"\\n\",\n              \"  \u003cdiv id=\\\"df-c9a23ace-a44d-4e3c-baee-ffaa876a4b9f\\\"\u003e\\n\",\n              \"    \u003cdiv class=\\\"colab-df-container\\\"\u003e\\n\",\n              \"      \u003cdiv\u003e\\n\",\n              \"\u003cstyle scoped\u003e\\n\",\n              \"    .dataframe tbody tr th:only-of-type {\\n\",\n              \"        vertical-align: middle;\\n\",\n              \"    }\\n\",\n              \"\\n\",\n              \"    .dataframe tbody tr th {\\n\",\n              \"        vertical-align: top;\\n\",\n              \"    }\\n\",\n              \"\\n\",\n              \"    .dataframe thead th {\\n\",\n              \"        text-align: right;\\n\",\n              \"    }\\n\",\n              \"\u003c/style\u003e\\n\",\n              \"\u003ctable border=\\\"1\\\" class=\\\"dataframe\\\"\u003e\\n\",\n              \"  \u003cthead\u003e\\n\",\n              \"    \u003ctr style=\\\"text-align: right;\\\"\u003e\\n\",\n              \"      \u003cth\u003e\u003c/th\u003e\\n\",\n              \"      \u003cth\u003etipo\u003c/th\u003e\\n\",\n              \"      \u003cth\u003en_categorias\u003c/th\u003e\\n\",\n              \"    \u003c/tr\u003e\\n\",\n              \"  \u003c/thead\u003e\\n\",\n              \"  \u003ctbody\u003e\\n\",\n              \"    \u003ctr\u003e\\n\",\n              \"      \u003cth\u003esexo\u003c/th\u003e\\n\",\n              \"      \u003ctd\u003eobject\u003c/td\u003e\\n\",\n              \"      \u003ctd\u003e2\u003c/td\u003e\\n\",\n              \"    \u003c/tr\u003e\\n\",\n              \"    \u003ctr\u003e\\n\",\n              \"      \u003cth\u003eposse_de_veiculo\u003c/th\u003e\\n\",\n              \"      \u003ctd\u003eobject\u003c/td\u003e\\n\",\n              \"      \u003ctd\u003e2\u003c/td\u003e\\n\",\n              \"    \u003c/tr\u003e\\n\",\n              \"    \u003ctr\u003e\\n\",\n              \"      \u003cth\u003eposse_de_imovel\u003c/th\u003e\\n\",\n              \"      \u003ctd\u003eobject\u003c/td\u003e\\n\",\n              \"      \u003ctd\u003e2\u003c/td\u003e\\n\",\n              \"    \u003c/tr\u003e\\n\",\n              \"    \u003ctr\u003e\\n\",\n              \"      \u003cth\u003eqtd_filhos\u003c/th\u003e\\n\",\n              \"      \u003ctd\u003eint64\u003c/td\u003e\\n\",\n              \"      \u003ctd\u003e8\u003c/td\u003e\\n\",\n              \"    \u003c/tr\u003e\\n\",\n              \"    \u003ctr\u003e\\n\",\n              \"      \u003cth\u003etipo_renda\u003c/th\u003e\\n\",\n              \"      \u003ctd\u003eobject\u003c/td\u003e\\n\",\n              \"      \u003ctd\u003e5\u003c/td\u003e\\n\",\n              \"    \u003c/tr\u003e\\n\",\n              \"    \u003ctr\u003e\\n\",\n              \"      \u003cth\u003eeducacao\u003c/th\u003e\\n\",\n              \"      \u003ctd\u003eobject\u003c/td\u003e\\n\",\n              \"      \u003ctd\u003e5\u003c/td\u003e\\n\",\n              \"    \u003c/tr\u003e\\n\",\n              \"    \u003ctr\u003e\\n\",\n              \"      \u003cth\u003eestado_civil\u003c/th\u003e\\n\",\n              \"      \u003ctd\u003eobject\u003c/td\u003e\\n\",\n              \"      \u003ctd\u003e5\u003c/td\u003e\\n\",\n              \"    \u003c/tr\u003e\\n\",\n              \"    \u003ctr\u003e\\n\",\n              \"      \u003cth\u003etipo_residencia\u003c/th\u003e\\n\",\n              \"      \u003ctd\u003eobject\u003c/td\u003e\\n\",\n              \"      \u003ctd\u003e6\u003c/td\u003e\\n\",\n              \"    \u003c/tr\u003e\\n\",\n              \"    \u003ctr\u003e\\n\",\n              \"      \u003cth\u003eidade\u003c/th\u003e\\n\",\n              \"      \u003ctd\u003efloat64\u003c/td\u003e\\n\",\n              \"      \u003ctd\u003e5298\u003c/td\u003e\\n\",\n              \"    \u003c/tr\u003e\\n\",\n              \"    \u003ctr\u003e\\n\",\n              \"      \u003cth\u003etempo_emprego\u003c/th\u003e\\n\",\n              \"      \u003ctd\u003efloat64\u003c/td\u003e\\n\",\n              \"      \u003ctd\u003e3005\u003c/td\u003e\\n\",\n              \"    \u003c/tr\u003e\\n\",\n              \"    \u003ctr\u003e\\n\",\n              \"      \u003cth\u003epossui_celular\u003c/th\u003e\\n\",\n              \"      \u003ctd\u003eint64\u003c/td\u003e\\n\",\n              \"      \u003ctd\u003e1\u003c/td\u003e\\n\",\n              \"    \u003c/tr\u003e\\n\",\n              \"    \u003ctr\u003e\\n\",\n              \"      \u003cth\u003epossui_fone_comercial\u003c/th\u003e\\n\",\n              \"      \u003ctd\u003eint64\u003c/td\u003e\\n\",\n              \"      \u003ctd\u003e2\u003c/td\u003e\\n\",\n              \"    \u003c/tr\u003e\\n\",\n              \"    \u003ctr\u003e\\n\",\n              \"      \u003cth\u003epossui_fone\u003c/th\u003e\\n\",\n              \"      \u003ctd\u003eint64\u003c/td\u003e\\n\",\n              \"      \u003ctd\u003e2\u003c/td\u003e\\n\",\n              \"    \u003c/tr\u003e\\n\",\n              \"    \u003ctr\u003e\\n\",\n              \"      \u003cth\u003epossui_email\u003c/th\u003e\\n\",\n              \"      \u003ctd\u003eint64\u003c/td\u003e\\n\",\n              \"      \u003ctd\u003e2\u003c/td\u003e\\n\",\n              \"    \u003c/tr\u003e\\n\",\n              \"    \u003ctr\u003e\\n\",\n              \"      \u003cth\u003eqt_pessoas_residencia\u003c/th\u003e\\n\",\n              \"      \u003ctd\u003efloat64\u003c/td\u003e\\n\",\n              \"      \u003ctd\u003e9\u003c/td\u003e\\n\",\n              \"    \u003c/tr\u003e\\n\",\n              \"    \u003ctr\u003e\\n\",\n              \"      \u003cth\u003emau\u003c/th\u003e\\n\",\n              \"      \u003ctd\u003ebool\u003c/td\u003e\\n\",\n              \"      \u003ctd\u003e2\u003c/td\u003e\\n\",\n              \"    \u003c/tr\u003e\\n\",\n              \"  \u003c/tbody\u003e\\n\",\n              \"\u003c/table\u003e\\n\",\n              \"\u003c/div\u003e\\n\",\n              \"      \u003cbutton class=\\\"colab-df-convert\\\" onclick=\\\"convertToInteractive('df-c9a23ace-a44d-4e3c-baee-ffaa876a4b9f')\\\"\\n\",\n              \"              title=\\\"Convert this dataframe to an interactive table.\\\"\\n\",\n              \"              style=\\\"display:none;\\\"\u003e\\n\",\n              \"        \\n\",\n              \"  \u003csvg xmlns=\\\"http://www.w3.org/2000/svg\\\" height=\\\"24px\\\"viewBox=\\\"0 0 24 24\\\"\\n\",\n              \"       width=\\\"24px\\\"\u003e\\n\",\n              \"    \u003cpath d=\\\"M0 0h24v24H0V0z\\\" fill=\\\"none\\\"/\u003e\\n\",\n              \"    \u003cpath d=\\\"M18.56 5.44l.94 2.06.94-2.06 2.06-.94-2.06-.94-.94-2.06-.94 2.06-2.06.94zm-11 1L8.5 8.5l.94-2.06 2.06-.94-2.06-.94L8.5 2.5l-.94 2.06-2.06.94zm10 10l.94 2.06.94-2.06 2.06-.94-2.06-.94-.94-2.06-.94 2.06-2.06.94z\\\"/\u003e\u003cpath d=\\\"M17.41 7.96l-1.37-1.37c-.4-.4-.92-.59-1.43-.59-.52 0-1.04.2-1.43.59L10.3 9.45l-7.72 7.72c-.78.78-.78 2.05 0 2.83L4 21.41c.39.39.9.59 1.41.59.51 0 1.02-.2 1.41-.59l7.78-7.78 2.81-2.81c.8-.78.8-2.07 0-2.86zM5.41 20L4 18.59l7.72-7.72 1.47 1.35L5.41 20z\\\"/\u003e\\n\",\n              \"  \u003c/svg\u003e\\n\",\n              \"      \u003c/button\u003e\\n\",\n              \"      \\n\",\n              \"  \u003cstyle\u003e\\n\",\n              \"    .colab-df-container {\\n\",\n              \"      display:flex;\\n\",\n              \"      flex-wrap:wrap;\\n\",\n              \"      gap: 12px;\\n\",\n              \"    }\\n\",\n              \"\\n\",\n              \"    .colab-df-convert {\\n\",\n              \"      background-color: #E8F0FE;\\n\",\n              \"      border: none;\\n\",\n              \"      border-radius: 50%;\\n\",\n              \"      cursor: pointer;\\n\",\n              \"      display: none;\\n\",\n              \"      fill: #1967D2;\\n\",\n              \"      height: 32px;\\n\",\n              \"      padding: 0 0 0 0;\\n\",\n              \"      width: 32px;\\n\",\n              \"    }\\n\",\n              \"\\n\",\n              \"    .colab-df-convert:hover {\\n\",\n              \"      background-color: #E2EBFA;\\n\",\n              \"      box-shadow: 0px 1px 2px rgba(60, 64, 67, 0.3), 0px 1px 3px 1px rgba(60, 64, 67, 0.15);\\n\",\n              \"      fill: #174EA6;\\n\",\n              \"    }\\n\",\n              \"\\n\",\n              \"    [theme=dark] .colab-df-convert {\\n\",\n              \"      background-color: #3B4455;\\n\",\n              \"      fill: #D2E3FC;\\n\",\n              \"    }\\n\",\n              \"\\n\",\n              \"    [theme=dark] .colab-df-convert:hover {\\n\",\n              \"      background-color: #434B5C;\\n\",\n              \"      box-shadow: 0px 1px 3px 1px rgba(0, 0, 0, 0.15);\\n\",\n              \"      filter: drop-shadow(0px 1px 2px rgba(0, 0, 0, 0.3));\\n\",\n              \"      fill: #FFFFFF;\\n\",\n              \"    }\\n\",\n              \"  \u003c/style\u003e\\n\",\n              \"\\n\",\n              \"      \u003cscript\u003e\\n\",\n              \"        const buttonEl =\\n\",\n              \"          document.querySelector('#df-c9a23ace-a44d-4e3c-baee-ffaa876a4b9f button.colab-df-convert');\\n\",\n              \"        buttonEl.style.display =\\n\",\n              \"          google.colab.kernel.accessAllowed ? 'block' : 'none';\\n\",\n              \"\\n\",\n              \"        async function convertToInteractive(key) {\\n\",\n              \"          const element = document.querySelector('#df-c9a23ace-a44d-4e3c-baee-ffaa876a4b9f');\\n\",\n              \"          const dataTable =\\n\",\n              \"            await google.colab.kernel.invokeFunction('convertToInteractive',\\n\",\n              \"                                                     [key], {});\\n\",\n              \"          if (!dataTable) return;\\n\",\n              \"\\n\",\n              \"          const docLinkHtml = 'Like what you see? Visit the ' +\\n\",\n              \"            '\u003ca target=\\\"_blank\\\" href=https://colab.research.google.com/notebooks/data_table.ipynb\u003edata table notebook\u003c/a\u003e'\\n\",\n              \"            + ' to learn more about interactive tables.';\\n\",\n              \"          element.innerHTML = '';\\n\",\n              \"          dataTable['output_type'] = 'display_data';\\n\",\n              \"          await google.colab.output.renderOutput(dataTable, element);\\n\",\n              \"          const docLink = document.createElement('div');\\n\",\n              \"          docLink.innerHTML = docLinkHtml;\\n\",\n              \"          element.appendChild(docLink);\\n\",\n              \"        }\\n\",\n              \"      \u003c/script\u003e\\n\",\n              \"    \u003c/div\u003e\\n\",\n              \"  \u003c/div\u003e\\n\",\n              \"  \"\n            ]\n          },\n          \"metadata\": {},\n          \"execution_count\": 17\n        }\n      ],\n      \"source\": [\n        \"metadata = pd.DataFrame(df.dtypes, columns = ['tipo'])\\n\",\n        \"\\n\",\n        \"metadata['n_categorias'] = 0\\n\",\n        \"\\n\",\n        \"for var in metadata.index:\\n\",\n        \"    metadata.loc[var,'n_categorias'] = len(df.groupby([var]).size())\\n\",\n        \"    \\n\",\n        \"metadata\"\n      ]\n    },\n    {\n      \"cell_type\": \"code\",\n      \"execution_count\": 18,\n      \"metadata\": {\n        \"id\": \"XiNXUzm5N1a2\"\n      },\n      \"outputs\": [],\n      \"source\": [\n        \"def convert_dummy(df, feature,rank=0):\\n\",\n        \"    pos = pd.get_dummies(df[feature], prefix=feature)\\n\",\n        \"    mode = df[feature].value_counts().index[rank]\\n\",\n        \"    biggest = feature + '_' + str(mode)\\n\",\n        \"    pos.drop([biggest],axis=1,inplace=True)\\n\",\n        \"    df.drop([feature],axis=1,inplace=True)\\n\",\n        \"    df=df.join(pos)\\n\",\n        \"    return df\"\n      ]\n    },\n    {\n      \"cell_type\": \"code\",\n      \"execution_count\": 19,\n      \"metadata\": {\n        \"id\": \"PPtQR06oN1a2\"\n      },\n      \"outputs\": [],\n      \"source\": [\n        \"for var in metadata[metadata['tipo'] == 'object'].index:\\n\",\n        \"    df = convert_dummy(df, var)\"\n      ]\n    },\n    {\n      \"cell_type\": \"code\",\n      \"execution_count\": 20,\n      \"metadata\": {\n        \"colab\": {\n          \"base_uri\": \"https://localhost:8080/\",\n          \"height\": 505\n        },\n        \"id\": \"2oN0pI8TN1a2\",\n        \"outputId\": \"cddd0a08-4919-498b-c5f3-5eefd60dd901\"\n      },\n      \"outputs\": [\n        {\n          \"output_type\": \"execute_result\",\n          \"data\": {\n            \"text/plain\": [\n              \"       qtd_filhos      idade  tempo_emprego  possui_celular  \\\\\\n\",\n              \"0               0  58.832877       3.106849               1   \\n\",\n              \"1               0  52.356164       8.358904               1   \\n\",\n              \"2               0  52.356164       8.358904               1   \\n\",\n              \"3               0  46.224658       2.106849               1   \\n\",\n              \"4               0  29.230137       3.021918               1   \\n\",\n              \"...           ...        ...            ...             ...   \\n\",\n              \"16645           0  54.109589       9.884932               1   \\n\",\n              \"16646           0  43.389041       7.380822               1   \\n\",\n              \"16647           0  30.005479       9.800000               1   \\n\",\n              \"16648           0  30.005479       9.800000               1   \\n\",\n              \"16649           0  33.936986       3.630137               1   \\n\",\n              \"\\n\",\n              \"       possui_fone_comercial  possui_fone  possui_email  \\\\\\n\",\n              \"0                          0            0             0   \\n\",\n              \"1                          0            1             1   \\n\",\n              \"2                          0            1             1   \\n\",\n              \"3                          1            1             1   \\n\",\n              \"4                          0            0             0   \\n\",\n              \"...                      ...          ...           ...   \\n\",\n              \"16645                      0            0             0   \\n\",\n              \"16646                      1            1             0   \\n\",\n              \"16647                      1            0             0   \\n\",\n              \"16648                      1            0             0   \\n\",\n              \"16649                      0            1             1   \\n\",\n              \"\\n\",\n              \"       qt_pessoas_residencia    mau  sexo_M  ...  educacao_Lower secondary  \\\\\\n\",\n              \"0                        2.0  False       1  ...                         0   \\n\",\n              \"1                        1.0  False       0  ...                         0   \\n\",\n              \"2                        1.0  False       0  ...                         0   \\n\",\n              \"3                        2.0  False       1  ...                         0   \\n\",\n              \"4                        2.0  False       0  ...                         0   \\n\",\n              \"...                      ...    ...     ...  ...                       ...   \\n\",\n              \"16645                    2.0   True       0  ...                         0   \\n\",\n              \"16646                    2.0   True       0  ...                         0   \\n\",\n              \"16647                    2.0   True       1  ...                         0   \\n\",\n              \"16648                    2.0   True       1  ...                         0   \\n\",\n              \"16649                    2.0   True       0  ...                         0   \\n\",\n              \"\\n\",\n              \"       estado_civil_Civil marriage  estado_civil_Separated  \\\\\\n\",\n              \"0                                0                       0   \\n\",\n              \"1                                0                       0   \\n\",\n              \"2                                0                       0   \\n\",\n              \"3                                0                       0   \\n\",\n              \"4                                0                       0   \\n\",\n              \"...                            ...                     ...   \\n\",\n              \"16645                            1                       0   \\n\",\n              \"16646                            0                       0   \\n\",\n              \"16647                            0                       0   \\n\",\n              \"16648                            0                       0   \\n\",\n              \"16649                            0                       0   \\n\",\n              \"\\n\",\n              \"       estado_civil_Single / not married  estado_civil_Widow  \\\\\\n\",\n              \"0                                      0                   0   \\n\",\n              \"1                                      1                   0   \\n\",\n              \"2                                      1                   0   \\n\",\n              \"3                                      0                   0   \\n\",\n              \"4                                      0                   0   \\n\",\n              \"...                                  ...                 ...   \\n\",\n              \"16645                                  0                   0   \\n\",\n              \"16646                                  0                   0   \\n\",\n              \"16647                                  0                   0   \\n\",\n              \"16648                                  0                   0   \\n\",\n              \"16649                                  0                   0   \\n\",\n              \"\\n\",\n              \"       tipo_residencia_Co-op apartment  tipo_residencia_Municipal apartment  \\\\\\n\",\n              \"0                                    0                                    0   \\n\",\n              \"1                                    0                                    0   \\n\",\n              \"2                                    0                                    0   \\n\",\n              \"3                                    0                                    0   \\n\",\n              \"4                                    0                                    0   \\n\",\n              \"...                                ...                                  ...   \\n\",\n              \"16645                                0                                    0   \\n\",\n              \"16646                                0                                    0   \\n\",\n              \"16647                                0                                    0   \\n\",\n              \"16648                                0                                    0   \\n\",\n              \"16649                                0                                    0   \\n\",\n              \"\\n\",\n              \"       tipo_residencia_Office apartment  tipo_residencia_Rented apartment  \\\\\\n\",\n              \"0                                     0                                 0   \\n\",\n              \"1                                     0                                 0   \\n\",\n              \"2                                     0                                 0   \\n\",\n              \"3                                     0                                 0   \\n\",\n              \"4                                     0                                 0   \\n\",\n              \"...                                 ...                               ...   \\n\",\n              \"16645                                 0                                 0   \\n\",\n              \"16646                                 0                                 0   \\n\",\n              \"16647                                 0                                 0   \\n\",\n              \"16648                                 0                                 0   \\n\",\n              \"16649                                 0                                 0   \\n\",\n              \"\\n\",\n              \"       tipo_residencia_With parents  \\n\",\n              \"0                                 0  \\n\",\n              \"1                                 0  \\n\",\n              \"2                                 0  \\n\",\n              \"3                                 0  \\n\",\n              \"4                                 0  \\n\",\n              \"...                             ...  \\n\",\n              \"16645                             0  \\n\",\n              \"16646                             0  \\n\",\n              \"16647                             0  \\n\",\n              \"16648                             0  \\n\",\n              \"16649                             0  \\n\",\n              \"\\n\",\n              \"[16650 rows x 29 columns]\"\n            ],\n            \"text/html\": [\n              \"\\n\",\n              \"  \u003cdiv id=\\\"df-c19dec83-daa5-4f78-ba7b-6bb8c7154563\\\"\u003e\\n\",\n              \"    \u003cdiv class=\\\"colab-df-container\\\"\u003e\\n\",\n              \"      \u003cdiv\u003e\\n\",\n              \"\u003cstyle scoped\u003e\\n\",\n              \"    .dataframe tbody tr th:only-of-type {\\n\",\n              \"        vertical-align: middle;\\n\",\n              \"    }\\n\",\n              \"\\n\",\n              \"    .dataframe tbody tr th {\\n\",\n              \"        vertical-align: top;\\n\",\n              \"    }\\n\",\n              \"\\n\",\n              \"    .dataframe thead th {\\n\",\n              \"        text-align: right;\\n\",\n              \"    }\\n\",\n              \"\u003c/style\u003e\\n\",\n              \"\u003ctable border=\\\"1\\\" class=\\\"dataframe\\\"\u003e\\n\",\n              \"  \u003cthead\u003e\\n\",\n              \"    \u003ctr style=\\\"text-align: right;\\\"\u003e\\n\",\n              \"      \u003cth\u003e\u003c/th\u003e\\n\",\n              \"      \u003cth\u003eqtd_filhos\u003c/th\u003e\\n\",\n              \"      \u003cth\u003eidade\u003c/th\u003e\\n\",\n              \"      \u003cth\u003etempo_emprego\u003c/th\u003e\\n\",\n              \"      \u003cth\u003epossui_celular\u003c/th\u003e\\n\",\n              \"      \u003cth\u003epossui_fone_comercial\u003c/th\u003e\\n\",\n              \"      \u003cth\u003epossui_fone\u003c/th\u003e\\n\",\n              \"      \u003cth\u003epossui_email\u003c/th\u003e\\n\",\n              \"      \u003cth\u003eqt_pessoas_residencia\u003c/th\u003e\\n\",\n              \"      \u003cth\u003emau\u003c/th\u003e\\n\",\n              \"      \u003cth\u003esexo_M\u003c/th\u003e\\n\",\n              \"      \u003cth\u003e...\u003c/th\u003e\\n\",\n              \"      \u003cth\u003eeducacao_Lower secondary\u003c/th\u003e\\n\",\n              \"      \u003cth\u003eestado_civil_Civil marriage\u003c/th\u003e\\n\",\n              \"      \u003cth\u003eestado_civil_Separated\u003c/th\u003e\\n\",\n              \"      \u003cth\u003eestado_civil_Single / not married\u003c/th\u003e\\n\",\n              \"      \u003cth\u003eestado_civil_Widow\u003c/th\u003e\\n\",\n              \"      \u003cth\u003etipo_residencia_Co-op apartment\u003c/th\u003e\\n\",\n              \"      \u003cth\u003etipo_residencia_Municipal apartment\u003c/th\u003e\\n\",\n              \"      \u003cth\u003etipo_residencia_Office apartment\u003c/th\u003e\\n\",\n              \"      \u003cth\u003etipo_residencia_Rented apartment\u003c/th\u003e\\n\",\n              \"      \u003cth\u003etipo_residencia_With parents\u003c/th\u003e\\n\",\n              \"    \u003c/tr\u003e\\n\",\n              \"  \u003c/thead\u003e\\n\",\n              \"  \u003ctbody\u003e\\n\",\n              \"    \u003ctr\u003e\\n\",\n              \"      \u003cth\u003e0\u003c/th\u003e\\n\",\n              \"      \u003ctd\u003e0\u003c/td\u003e\\n\",\n              \"      \u003ctd\u003e58.832877\u003c/td\u003e\\n\",\n              \"      \u003ctd\u003e3.106849\u003c/td\u003e\\n\",\n              \"      \u003ctd\u003e1\u003c/td\u003e\\n\",\n              \"      \u003ctd\u003e0\u003c/td\u003e\\n\",\n              \"      \u003ctd\u003e0\u003c/td\u003e\\n\",\n              \"      \u003ctd\u003e0\u003c/td\u003e\\n\",\n              \"      \u003ctd\u003e2.0\u003c/td\u003e\\n\",\n              \"      \u003ctd\u003eFalse\u003c/td\u003e\\n\",\n              \"      \u003ctd\u003e1\u003c/td\u003e\\n\",\n              \"      \u003ctd\u003e...\u003c/td\u003e\\n\",\n              \"      \u003ctd\u003e0\u003c/td\u003e\\n\",\n              \"      \u003ctd\u003e0\u003c/td\u003e\\n\",\n              \"      \u003ctd\u003e0\u003c/td\u003e\\n\",\n              \"      \u003ctd\u003e0\u003c/td\u003e\\n\",\n              \"      \u003ctd\u003e0\u003c/td\u003e\\n\",\n              \"      \u003ctd\u003e0\u003c/td\u003e\\n\",\n              \"      \u003ctd\u003e0\u003c/td\u003e\\n\",\n              \"      \u003ctd\u003e0\u003c/td\u003e\\n\",\n              \"      \u003ctd\u003e0\u003c/td\u003e\\n\",\n              \"      \u003ctd\u003e0\u003c/td\u003e\\n\",\n              \"    \u003c/tr\u003e\\n\",\n              \"    \u003ctr\u003e\\n\",\n              \"      \u003cth\u003e1\u003c/th\u003e\\n\",\n              \"      \u003ctd\u003e0\u003c/td\u003e\\n\",\n              \"      \u003ctd\u003e52.356164\u003c/td\u003e\\n\",\n              \"      \u003ctd\u003e8.358904\u003c/td\u003e\\n\",\n              \"      \u003ctd\u003e1\u003c/td\u003e\\n\",\n              \"      \u003ctd\u003e0\u003c/td\u003e\\n\",\n              \"      \u003ctd\u003e1\u003c/td\u003e\\n\",\n              \"      \u003ctd\u003e1\u003c/td\u003e\\n\",\n              \"      \u003ctd\u003e1.0\u003c/td\u003e\\n\",\n              \"      \u003ctd\u003eFalse\u003c/td\u003e\\n\",\n              \"      \u003ctd\u003e0\u003c/td\u003e\\n\",\n              \"      \u003ctd\u003e...\u003c/td\u003e\\n\",\n              \"      \u003ctd\u003e0\u003c/td\u003e\\n\",\n              \"      \u003ctd\u003e0\u003c/td\u003e\\n\",\n              \"      \u003ctd\u003e0\u003c/td\u003e\\n\",\n              \"      \u003ctd\u003e1\u003c/td\u003e\\n\",\n              \"      \u003ctd\u003e0\u003c/td\u003e\\n\",\n              \"      \u003ctd\u003e0\u003c/td\u003e\\n\",\n              \"      \u003ctd\u003e0\u003c/td\u003e\\n\",\n              \"      \u003ctd\u003e0\u003c/td\u003e\\n\",\n              \"      \u003ctd\u003e0\u003c/td\u003e\\n\",\n              \"      \u003ctd\u003e0\u003c/td\u003e\\n\",\n              \"    \u003c/tr\u003e\\n\",\n              \"    \u003ctr\u003e\\n\",\n              \"      \u003cth\u003e2\u003c/th\u003e\\n\",\n              \"      \u003ctd\u003e0\u003c/td\u003e\\n\",\n              \"      \u003ctd\u003e52.356164\u003c/td\u003e\\n\",\n              \"      \u003ctd\u003e8.358904\u003c/td\u003e\\n\",\n              \"      \u003ctd\u003e1\u003c/td\u003e\\n\",\n              \"      \u003ctd\u003e0\u003c/td\u003e\\n\",\n              \"      \u003ctd\u003e1\u003c/td\u003e\\n\",\n              \"      \u003ctd\u003e1\u003c/td\u003e\\n\",\n              \"      \u003ctd\u003e1.0\u003c/td\u003e\\n\",\n              \"      \u003ctd\u003eFalse\u003c/td\u003e\\n\",\n              \"      \u003ctd\u003e0\u003c/td\u003e\\n\",\n              \"      \u003ctd\u003e...\u003c/td\u003e\\n\",\n              \"      \u003ctd\u003e0\u003c/td\u003e\\n\",\n              \"      \u003ctd\u003e0\u003c/td\u003e\\n\",\n              \"      \u003ctd\u003e0\u003c/td\u003e\\n\",\n              \"      \u003ctd\u003e1\u003c/td\u003e\\n\",\n              \"      \u003ctd\u003e0\u003c/td\u003e\\n\",\n              \"      \u003ctd\u003e0\u003c/td\u003e\\n\",\n              \"      \u003ctd\u003e0\u003c/td\u003e\\n\",\n              \"      \u003ctd\u003e0\u003c/td\u003e\\n\",\n              \"      \u003ctd\u003e0\u003c/td\u003e\\n\",\n              \"      \u003ctd\u003e0\u003c/td\u003e\\n\",\n              \"    \u003c/tr\u003e\\n\",\n              \"    \u003ctr\u003e\\n\",\n              \"      \u003cth\u003e3\u003c/th\u003e\\n\",\n              \"      \u003ctd\u003e0\u003c/td\u003e\\n\",\n              \"      \u003ctd\u003e46.224658\u003c/td\u003e\\n\",\n              \"      \u003ctd\u003e2.106849\u003c/td\u003e\\n\",\n              \"      \u003ctd\u003e1\u003c/td\u003e\\n\",\n              \"      \u003ctd\u003e1\u003c/td\u003e\\n\",\n              \"      \u003ctd\u003e1\u003c/td\u003e\\n\",\n              \"      \u003ctd\u003e1\u003c/td\u003e\\n\",\n              \"      \u003ctd\u003e2.0\u003c/td\u003e\\n\",\n              \"      \u003ctd\u003eFalse\u003c/td\u003e\\n\",\n              \"      \u003ctd\u003e1\u003c/td\u003e\\n\",\n              \"      \u003ctd\u003e...\u003c/td\u003e\\n\",\n              \"      \u003ctd\u003e0\u003c/td\u003e\\n\",\n              \"      \u003ctd\u003e0\u003c/td\u003e\\n\",\n              \"      \u003ctd\u003e0\u003c/td\u003e\\n\",\n              \"      \u003ctd\u003e0\u003c/td\u003e\\n\",\n              \"      \u003ctd\u003e0\u003c/td\u003e\\n\",\n              \"      \u003ctd\u003e0\u003c/td\u003e\\n\",\n              \"      \u003ctd\u003e0\u003c/td\u003e\\n\",\n              \"      \u003ctd\u003e0\u003c/td\u003e\\n\",\n              \"      \u003ctd\u003e0\u003c/td\u003e\\n\",\n              \"      \u003ctd\u003e0\u003c/td\u003e\\n\",\n              \"    \u003c/tr\u003e\\n\",\n              \"    \u003ctr\u003e\\n\",\n              \"      \u003cth\u003e4\u003c/th\u003e\\n\",\n              \"      \u003ctd\u003e0\u003c/td\u003e\\n\",\n              \"      \u003ctd\u003e29.230137\u003c/td\u003e\\n\",\n              \"      \u003ctd\u003e3.021918\u003c/td\u003e\\n\",\n              \"      \u003ctd\u003e1\u003c/td\u003e\\n\",\n              \"      \u003ctd\u003e0\u003c/td\u003e\\n\",\n              \"      \u003ctd\u003e0\u003c/td\u003e\\n\",\n              \"      \u003ctd\u003e0\u003c/td\u003e\\n\",\n              \"      \u003ctd\u003e2.0\u003c/td\u003e\\n\",\n              \"      \u003ctd\u003eFalse\u003c/td\u003e\\n\",\n              \"      \u003ctd\u003e0\u003c/td\u003e\\n\",\n              \"      \u003ctd\u003e...\u003c/td\u003e\\n\",\n              \"      \u003ctd\u003e0\u003c/td\u003e\\n\",\n              \"      \u003ctd\u003e0\u003c/td\u003e\\n\",\n              \"      \u003ctd\u003e0\u003c/td\u003e\\n\",\n              \"      \u003ctd\u003e0\u003c/td\u003e\\n\",\n              \"      \u003ctd\u003e0\u003c/td\u003e\\n\",\n              \"      \u003ctd\u003e0\u003c/td\u003e\\n\",\n              \"      \u003ctd\u003e0\u003c/td\u003e\\n\",\n              \"      \u003ctd\u003e0\u003c/td\u003e\\n\",\n              \"      \u003ctd\u003e0\u003c/td\u003e\\n\",\n              \"      \u003ctd\u003e0\u003c/td\u003e\\n\",\n              \"    \u003c/tr\u003e\\n\",\n              \"    \u003ctr\u003e\\n\",\n              \"      \u003cth\u003e...\u003c/th\u003e\\n\",\n              \"      \u003ctd\u003e...\u003c/td\u003e\\n\",\n              \"      \u003ctd\u003e...\u003c/td\u003e\\n\",\n              \"      \u003ctd\u003e...\u003c/td\u003e\\n\",\n              \"      \u003ctd\u003e...\u003c/td\u003e\\n\",\n              \"      \u003ctd\u003e...\u003c/td\u003e\\n\",\n              \"      \u003ctd\u003e...\u003c/td\u003e\\n\",\n              \"      \u003ctd\u003e...\u003c/td\u003e\\n\",\n              \"      \u003ctd\u003e...\u003c/td\u003e\\n\",\n              \"      \u003ctd\u003e...\u003c/td\u003e\\n\",\n              \"      \u003ctd\u003e...\u003c/td\u003e\\n\",\n              \"      \u003ctd\u003e...\u003c/td\u003e\\n\",\n              \"      \u003ctd\u003e...\u003c/td\u003e\\n\",\n              \"      \u003ctd\u003e...\u003c/td\u003e\\n\",\n              \"      \u003ctd\u003e...\u003c/td\u003e\\n\",\n              \"      \u003ctd\u003e...\u003c/td\u003e\\n\",\n              \"      \u003ctd\u003e...\u003c/td\u003e\\n\",\n              \"      \u003ctd\u003e...\u003c/td\u003e\\n\",\n              \"      \u003ctd\u003e...\u003c/td\u003e\\n\",\n              \"      \u003ctd\u003e...\u003c/td\u003e\\n\",\n              \"      \u003ctd\u003e...\u003c/td\u003e\\n\",\n              \"      \u003ctd\u003e...\u003c/td\u003e\\n\",\n              \"    \u003c/tr\u003e\\n\",\n              \"    \u003ctr\u003e\\n\",\n              \"      \u003cth\u003e16645\u003c/th\u003e\\n\",\n              \"      \u003ctd\u003e0\u003c/td\u003e\\n\",\n              \"      \u003ctd\u003e54.109589\u003c/td\u003e\\n\",\n              \"      \u003ctd\u003e9.884932\u003c/td\u003e\\n\",\n              \"      \u003ctd\u003e1\u003c/td\u003e\\n\",\n              \"      \u003ctd\u003e0\u003c/td\u003e\\n\",\n              \"      \u003ctd\u003e0\u003c/td\u003e\\n\",\n              \"      \u003ctd\u003e0\u003c/td\u003e\\n\",\n              \"      \u003ctd\u003e2.0\u003c/td\u003e\\n\",\n              \"      \u003ctd\u003eTrue\u003c/td\u003e\\n\",\n              \"      \u003ctd\u003e0\u003c/td\u003e\\n\",\n              \"      \u003ctd\u003e...\u003c/td\u003e\\n\",\n              \"      \u003ctd\u003e0\u003c/td\u003e\\n\",\n              \"      \u003ctd\u003e1\u003c/td\u003e\\n\",\n              \"      \u003ctd\u003e0\u003c/td\u003e\\n\",\n              \"      \u003ctd\u003e0\u003c/td\u003e\\n\",\n              \"      \u003ctd\u003e0\u003c/td\u003e\\n\",\n              \"      \u003ctd\u003e0\u003c/td\u003e\\n\",\n              \"      \u003ctd\u003e0\u003c/td\u003e\\n\",\n              \"      \u003ctd\u003e0\u003c/td\u003e\\n\",\n              \"      \u003ctd\u003e0\u003c/td\u003e\\n\",\n              \"      \u003ctd\u003e0\u003c/td\u003e\\n\",\n              \"    \u003c/tr\u003e\\n\",\n              \"    \u003ctr\u003e\\n\",\n              \"      \u003cth\u003e16646\u003c/th\u003e\\n\",\n              \"      \u003ctd\u003e0\u003c/td\u003e\\n\",\n              \"      \u003ctd\u003e43.389041\u003c/td\u003e\\n\",\n              \"      \u003ctd\u003e7.380822\u003c/td\u003e\\n\",\n              \"      \u003ctd\u003e1\u003c/td\u003e\\n\",\n              \"      \u003ctd\u003e1\u003c/td\u003e\\n\",\n              \"      \u003ctd\u003e1\u003c/td\u003e\\n\",\n              \"      \u003ctd\u003e0\u003c/td\u003e\\n\",\n              \"      \u003ctd\u003e2.0\u003c/td\u003e\\n\",\n              \"      \u003ctd\u003eTrue\u003c/td\u003e\\n\",\n              \"      \u003ctd\u003e0\u003c/td\u003e\\n\",\n              \"      \u003ctd\u003e...\u003c/td\u003e\\n\",\n              \"      \u003ctd\u003e0\u003c/td\u003e\\n\",\n              \"      \u003ctd\u003e0\u003c/td\u003e\\n\",\n              \"      \u003ctd\u003e0\u003c/td\u003e\\n\",\n              \"      \u003ctd\u003e0\u003c/td\u003e\\n\",\n              \"      \u003ctd\u003e0\u003c/td\u003e\\n\",\n              \"      \u003ctd\u003e0\u003c/td\u003e\\n\",\n              \"      \u003ctd\u003e0\u003c/td\u003e\\n\",\n              \"      \u003ctd\u003e0\u003c/td\u003e\\n\",\n              \"      \u003ctd\u003e0\u003c/td\u003e\\n\",\n              \"      \u003ctd\u003e0\u003c/td\u003e\\n\",\n              \"    \u003c/tr\u003e\\n\",\n              \"    \u003ctr\u003e\\n\",\n              \"      \u003cth\u003e16647\u003c/th\u003e\\n\",\n              \"      \u003ctd\u003e0\u003c/td\u003e\\n\",\n              \"      \u003ctd\u003e30.005479\u003c/td\u003e\\n\",\n              \"      \u003ctd\u003e9.800000\u003c/td\u003e\\n\",\n              \"      \u003ctd\u003e1\u003c/td\u003e\\n\",\n              \"      \u003ctd\u003e1\u003c/td\u003e\\n\",\n              \"      \u003ctd\u003e0\u003c/td\u003e\\n\",\n              \"      \u003ctd\u003e0\u003c/td\u003e\\n\",\n              \"      \u003ctd\u003e2.0\u003c/td\u003e\\n\",\n              \"      \u003ctd\u003eTrue\u003c/td\u003e\\n\",\n              \"      \u003ctd\u003e1\u003c/td\u003e\\n\",\n              \"      \u003ctd\u003e...\u003c/td\u003e\\n\",\n              \"      \u003ctd\u003e0\u003c/td\u003e\\n\",\n              \"      \u003ctd\u003e0\u003c/td\u003e\\n\",\n              \"      \u003ctd\u003e0\u003c/td\u003e\\n\",\n              \"      \u003ctd\u003e0\u003c/td\u003e\\n\",\n              \"      \u003ctd\u003e0\u003c/td\u003e\\n\",\n              \"      \u003ctd\u003e0\u003c/td\u003e\\n\",\n              \"      \u003ctd\u003e0\u003c/td\u003e\\n\",\n              \"      \u003ctd\u003e0\u003c/td\u003e\\n\",\n              \"      \u003ctd\u003e0\u003c/td\u003e\\n\",\n              \"      \u003ctd\u003e0\u003c/td\u003e\\n\",\n              \"    \u003c/tr\u003e\\n\",\n              \"    \u003ctr\u003e\\n\",\n              \"      \u003cth\u003e16648\u003c/th\u003e\\n\",\n              \"      \u003ctd\u003e0\u003c/td\u003e\\n\",\n              \"      \u003ctd\u003e30.005479\u003c/td\u003e\\n\",\n              \"      \u003ctd\u003e9.800000\u003c/td\u003e\\n\",\n              \"      \u003ctd\u003e1\u003c/td\u003e\\n\",\n              \"      \u003ctd\u003e1\u003c/td\u003e\\n\",\n              \"      \u003ctd\u003e0\u003c/td\u003e\\n\",\n              \"      \u003ctd\u003e0\u003c/td\u003e\\n\",\n              \"      \u003ctd\u003e2.0\u003c/td\u003e\\n\",\n              \"      \u003ctd\u003eTrue\u003c/td\u003e\\n\",\n              \"      \u003ctd\u003e1\u003c/td\u003e\\n\",\n              \"      \u003ctd\u003e...\u003c/td\u003e\\n\",\n              \"      \u003ctd\u003e0\u003c/td\u003e\\n\",\n              \"      \u003ctd\u003e0\u003c/td\u003e\\n\",\n              \"      \u003ctd\u003e0\u003c/td\u003e\\n\",\n              \"      \u003ctd\u003e0\u003c/td\u003e\\n\",\n              \"      \u003ctd\u003e0\u003c/td\u003e\\n\",\n              \"      \u003ctd\u003e0\u003c/td\u003e\\n\",\n              \"      \u003ctd\u003e0\u003c/td\u003e\\n\",\n              \"      \u003ctd\u003e0\u003c/td\u003e\\n\",\n              \"      \u003ctd\u003e0\u003c/td\u003e\\n\",\n              \"      \u003ctd\u003e0\u003c/td\u003e\\n\",\n              \"    \u003c/tr\u003e\\n\",\n              \"    \u003ctr\u003e\\n\",\n              \"      \u003cth\u003e16649\u003c/th\u003e\\n\",\n              \"      \u003ctd\u003e0\u003c/td\u003e\\n\",\n              \"      \u003ctd\u003e33.936986\u003c/td\u003e\\n\",\n              \"      \u003ctd\u003e3.630137\u003c/td\u003e\\n\",\n              \"      \u003ctd\u003e1\u003c/td\u003e\\n\",\n              \"      \u003ctd\u003e0\u003c/td\u003e\\n\",\n              \"      \u003ctd\u003e1\u003c/td\u003e\\n\",\n              \"      \u003ctd\u003e1\u003c/td\u003e\\n\",\n              \"      \u003ctd\u003e2.0\u003c/td\u003e\\n\",\n              \"      \u003ctd\u003eTrue\u003c/td\u003e\\n\",\n              \"      \u003ctd\u003e0\u003c/td\u003e\\n\",\n              \"      \u003ctd\u003e...\u003c/td\u003e\\n\",\n              \"      \u003ctd\u003e0\u003c/td\u003e\\n\",\n              \"      \u003ctd\u003e0\u003c/td\u003e\\n\",\n              \"      \u003ctd\u003e0\u003c/td\u003e\\n\",\n              \"      \u003ctd\u003e0\u003c/td\u003e\\n\",\n              \"      \u003ctd\u003e0\u003c/td\u003e\\n\",\n              \"      \u003ctd\u003e0\u003c/td\u003e\\n\",\n              \"      \u003ctd\u003e0\u003c/td\u003e\\n\",\n              \"      \u003ctd\u003e0\u003c/td\u003e\\n\",\n              \"      \u003ctd\u003e0\u003c/td\u003e\\n\",\n              \"      \u003ctd\u003e0\u003c/td\u003e\\n\",\n              \"    \u003c/tr\u003e\\n\",\n              \"  \u003c/tbody\u003e\\n\",\n              \"\u003c/table\u003e\\n\",\n              \"\u003cp\u003e16650 rows × 29 columns\u003c/p\u003e\\n\",\n              \"\u003c/div\u003e\\n\",\n              \"      \u003cbutton class=\\\"colab-df-convert\\\" onclick=\\\"convertToInteractive('df-c19dec83-daa5-4f78-ba7b-6bb8c7154563')\\\"\\n\",\n              \"              title=\\\"Convert this dataframe to an interactive table.\\\"\\n\",\n              \"              style=\\\"display:none;\\\"\u003e\\n\",\n              \"        \\n\",\n              \"  \u003csvg xmlns=\\\"http://www.w3.org/2000/svg\\\" height=\\\"24px\\\"viewBox=\\\"0 0 24 24\\\"\\n\",\n              \"       width=\\\"24px\\\"\u003e\\n\",\n              \"    \u003cpath d=\\\"M0 0h24v24H0V0z\\\" fill=\\\"none\\\"/\u003e\\n\",\n              \"    \u003cpath d=\\\"M18.56 5.44l.94 2.06.94-2.06 2.06-.94-2.06-.94-.94-2.06-.94 2.06-2.06.94zm-11 1L8.5 8.5l.94-2.06 2.06-.94-2.06-.94L8.5 2.5l-.94 2.06-2.06.94zm10 10l.94 2.06.94-2.06 2.06-.94-2.06-.94-.94-2.06-.94 2.06-2.06.94z\\\"/\u003e\u003cpath d=\\\"M17.41 7.96l-1.37-1.37c-.4-.4-.92-.59-1.43-.59-.52 0-1.04.2-1.43.59L10.3 9.45l-7.72 7.72c-.78.78-.78 2.05 0 2.83L4 21.41c.39.39.9.59 1.41.59.51 0 1.02-.2 1.41-.59l7.78-7.78 2.81-2.81c.8-.78.8-2.07 0-2.86zM5.41 20L4 18.59l7.72-7.72 1.47 1.35L5.41 20z\\\"/\u003e\\n\",\n              \"  \u003c/svg\u003e\\n\",\n              \"      \u003c/button\u003e\\n\",\n              \"      \\n\",\n              \"  \u003cstyle\u003e\\n\",\n              \"    .colab-df-container {\\n\",\n              \"      display:flex;\\n\",\n              \"      flex-wrap:wrap;\\n\",\n              \"      gap: 12px;\\n\",\n              \"    }\\n\",\n              \"\\n\",\n              \"    .colab-df-convert {\\n\",\n              \"      background-color: #E8F0FE;\\n\",\n              \"      border: none;\\n\",\n              \"      border-radius: 50%;\\n\",\n              \"      cursor: pointer;\\n\",\n              \"      display: none;\\n\",\n              \"      fill: #1967D2;\\n\",\n              \"      height: 32px;\\n\",\n              \"      padding: 0 0 0 0;\\n\",\n              \"      width: 32px;\\n\",\n              \"    }\\n\",\n              \"\\n\",\n              \"    .colab-df-convert:hover {\\n\",\n              \"      background-color: #E2EBFA;\\n\",\n              \"      box-shadow: 0px 1px 2px rgba(60, 64, 67, 0.3), 0px 1px 3px 1px rgba(60, 64, 67, 0.15);\\n\",\n              \"      fill: #174EA6;\\n\",\n              \"    }\\n\",\n              \"\\n\",\n              \"    [theme=dark] .colab-df-convert {\\n\",\n              \"      background-color: #3B4455;\\n\",\n              \"      fill: #D2E3FC;\\n\",\n              \"    }\\n\",\n              \"\\n\",\n              \"    [theme=dark] .colab-df-convert:hover {\\n\",\n              \"      background-color: #434B5C;\\n\",\n              \"      box-shadow: 0px 1px 3px 1px rgba(0, 0, 0, 0.15);\\n\",\n              \"      filter: drop-shadow(0px 1px 2px rgba(0, 0, 0, 0.3));\\n\",\n              \"      fill: #FFFFFF;\\n\",\n              \"    }\\n\",\n              \"  \u003c/style\u003e\\n\",\n              \"\\n\",\n              \"      \u003cscript\u003e\\n\",\n              \"        const buttonEl =\\n\",\n              \"          document.querySelector('#df-c19dec83-daa5-4f78-ba7b-6bb8c7154563 button.colab-df-convert');\\n\",\n              \"        buttonEl.style.display =\\n\",\n              \"          google.colab.kernel.accessAllowed ? 'block' : 'none';\\n\",\n              \"\\n\",\n              \"        async function convertToInteractive(key) {\\n\",\n              \"          const element = document.querySelector('#df-c19dec83-daa5-4f78-ba7b-6bb8c7154563');\\n\",\n              \"          const dataTable =\\n\",\n              \"            await google.colab.kernel.invokeFunction('convertToInteractive',\\n\",\n              \"                                                     [key], {});\\n\",\n              \"          if (!dataTable) return;\\n\",\n              \"\\n\",\n              \"          const docLinkHtml = 'Like what you see? Visit the ' +\\n\",\n              \"            '\u003ca target=\\\"_blank\\\" href=https://colab.research.google.com/notebooks/data_table.ipynb\u003edata table notebook\u003c/a\u003e'\\n\",\n              \"            + ' to learn more about interactive tables.';\\n\",\n              \"          element.innerHTML = '';\\n\",\n              \"          dataTable['output_type'] = 'display_data';\\n\",\n              \"          await google.colab.output.renderOutput(dataTable, element);\\n\",\n              \"          const docLink = document.createElement('div');\\n\",\n              \"          docLink.innerHTML = docLinkHtml;\\n\",\n              \"          element.appendChild(docLink);\\n\",\n              \"        }\\n\",\n              \"      \u003c/script\u003e\\n\",\n              \"    \u003c/div\u003e\\n\",\n              \"  \u003c/div\u003e\\n\",\n              \"  \"\n            ]\n          },\n          \"metadata\": {},\n          \"execution_count\": 20\n        }\n      ],\n      \"source\": [\n        \"df\"\n      ]\n    },\n    {\n      \"cell_type\": \"markdown\",\n      \"metadata\": {\n        \"id\": \"H447KrbRN1a3\"\n      },\n      \"source\": [\n        \"## Etapa 4 Crisp-DM: Modelagem\\n\",\n        \"Nessa etapa que realizaremos a construção do modelo. Os passos típicos são:\\n\",\n        \"- Selecionar a técnica de modelagem\\n\",\n        \"Utilizaremos a técnica de floresta aleatória (**random forest**), pois é uma técnica bastante versátil e robusta que captura bem padrões complexos nos dados, relativamente fácil de se usar e que costuma produzir excelentes resultados para uma classificação como estas. Vamos ver esse algoritmo em detalhes mais adiante no curso, mas pense nele por enquanto como uma regra complexa baseada nas variáveis explicativas que classifica o indivíduo como inadimplente ou não. Mais adiante no curso vamos extrair mais dessa técnica.\\n\",\n        \"- Desenho do teste\\n\",\n        \"Antes de rodar o modelo precisamos construir um desenho do teste que será realizado. Para desenvolver um modelo como este, é considerado uma boa prática dividir a base em duas, uma chamada ```treinamento```, onde o algoritmo 'aprende', e outra chamada ```teste```, onde o algoritmo é avaliado. Essa prática fornece uma métrica de avaliação mais fidedigna do algoritmo, falaremos mais detalhes em lições futuras.\\n\",\n        \"- Avaliação do modelo\\n\",\n        \"Faremos a avaliação do nosso modelo através do percentual de acerto, avaliando a classificação do modelo (inadimplente e não inadimplente) e comparando com o estado real armazenado na variável resposta (```AtrasoRelevante2anos```). Esse percentual de acerto é frequentemente chamado de acurácia (**obs:** nunca usar assertividade... a**ss**ertivo não é aquele que a**c**erta, e sim \\\"*adj.: em que o locutor declara algo, positivo ou negativo, do qual assume inteiramente a validade; declarativo*.\\\" a**C**ertivo está errado ;)\\n\",\n        \"#### Dividindo a base em treino e teste\\n\",\n        \"\\n\"\n      ]\n    },\n    {\n      \"cell_type\": \"code\",\n      \"execution_count\": 21,\n      \"metadata\": {\n        \"id\": \"W3vxdGRdN1a3\"\n      },\n      \"outputs\": [],\n      \"source\": [\n        \"# Tirando a v. resposta da base de treinamento\\n\",\n        \"x = df.drop(\\\"mau\\\",axis = 1)\\n\",\n        \"y = df[\\\"mau\\\"]\\n\",\n        \"\\n\",\n        \"# Tirando ID da base de treinamento e teste\\n\",\n        \"x_train, x_test, y_train, y_test = train_test_split(x, y)\"\n      ]\n    },\n    {\n      \"cell_type\": \"code\",\n      \"execution_count\": 22,\n      \"metadata\": {\n        \"colab\": {\n          \"base_uri\": \"https://localhost:8080/\",\n          \"height\": 505\n        },\n        \"id\": \"G3Wl29GLN1a4\",\n        \"outputId\": \"f797aa35-03ab-4b4d-a7e2-235569826a76\"\n      },\n      \"outputs\": [\n        {\n          \"output_type\": \"execute_result\",\n          \"data\": {\n            \"text/plain\": [\n              \"       qtd_filhos      idade  tempo_emprego  possui_celular  \\\\\\n\",\n              \"14020           2  43.572603      10.375342               1   \\n\",\n              \"12851           2  31.671233       1.279452               1   \\n\",\n              \"7583            0  49.424658      13.186301               1   \\n\",\n              \"6212            0  51.490411      17.419178               1   \\n\",\n              \"10328           0  54.030137       4.216438               1   \\n\",\n              \"...           ...        ...            ...             ...   \\n\",\n              \"8735            2  35.126027      15.498630               1   \\n\",\n              \"5595            0  40.183562       2.871233               1   \\n\",\n              \"10463           0  33.254795       0.547945               1   \\n\",\n              \"8879            0  54.131507       5.046575               1   \\n\",\n              \"6015            0  57.084932      -2.000000               1   \\n\",\n              \"\\n\",\n              \"       possui_fone_comercial  possui_fone  possui_email  \\\\\\n\",\n              \"14020                      0            0             0   \\n\",\n              \"12851                      1            0             0   \\n\",\n              \"7583                       0            0             0   \\n\",\n              \"6212                       0            0             0   \\n\",\n              \"10328                      0            0             0   \\n\",\n              \"...                      ...          ...           ...   \\n\",\n              \"8735                       0            0             0   \\n\",\n              \"5595                       1            1             0   \\n\",\n              \"10463                      0            0             0   \\n\",\n              \"8879                       0            1             0   \\n\",\n              \"6015                       0            0             0   \\n\",\n              \"\\n\",\n              \"       qt_pessoas_residencia  sexo_M  posse_de_veiculo_Y  ...  \\\\\\n\",\n              \"14020                    4.0       1                   1  ...   \\n\",\n              \"12851                    4.0       0                   0  ...   \\n\",\n              \"7583                     1.0       0                   0  ...   \\n\",\n              \"6212                     2.0       0                   0  ...   \\n\",\n              \"10328                    2.0       0                   0  ...   \\n\",\n              \"...                      ...     ...                 ...  ...   \\n\",\n              \"8735                     4.0       0                   0  ...   \\n\",\n              \"5595                     2.0       0                   0  ...   \\n\",\n              \"10463                    2.0       0                   1  ...   \\n\",\n              \"8879                     1.0       0                   0  ...   \\n\",\n              \"6015                     2.0       1                   1  ...   \\n\",\n              \"\\n\",\n              \"       educacao_Lower secondary  estado_civil_Civil marriage  \\\\\\n\",\n              \"14020                         0                            0   \\n\",\n              \"12851                         0                            0   \\n\",\n              \"7583                          0                            0   \\n\",\n              \"6212                          0                            0   \\n\",\n              \"10328                         0                            0   \\n\",\n              \"...                         ...                          ...   \\n\",\n              \"8735                          0                            0   \\n\",\n              \"5595                          0                            0   \\n\",\n              \"10463                         0                            0   \\n\",\n              \"8879                          0                            0   \\n\",\n              \"6015                          0                            0   \\n\",\n              \"\\n\",\n              \"       estado_civil_Separated  estado_civil_Single / not married  \\\\\\n\",\n              \"14020                       0                                  0   \\n\",\n              \"12851                       0                                  0   \\n\",\n              \"7583                        0                                  0   \\n\",\n              \"6212                        0                                  0   \\n\",\n              \"10328                       0                                  0   \\n\",\n              \"...                       ...                                ...   \\n\",\n              \"8735                        0                                  0   \\n\",\n              \"5595                        0                                  0   \\n\",\n              \"10463                       0                                  0   \\n\",\n              \"8879                        1                                  0   \\n\",\n              \"6015                        0                                  0   \\n\",\n              \"\\n\",\n              \"       estado_civil_Widow  tipo_residencia_Co-op apartment  \\\\\\n\",\n              \"14020                   0                                0   \\n\",\n              \"12851                   0                                0   \\n\",\n              \"7583                    1                                0   \\n\",\n              \"6212                    0                                0   \\n\",\n              \"10328                   0                                0   \\n\",\n              \"...                   ...                              ...   \\n\",\n              \"8735                    0                                0   \\n\",\n              \"5595                    0                                0   \\n\",\n              \"10463                   0                                0   \\n\",\n              \"8879                    0                                0   \\n\",\n              \"6015                    0                                0   \\n\",\n              \"\\n\",\n              \"       tipo_residencia_Municipal apartment  tipo_residencia_Office apartment  \\\\\\n\",\n              \"14020                                    0                                 0   \\n\",\n              \"12851                                    0                                 0   \\n\",\n              \"7583                                     0                                 0   \\n\",\n              \"6212                                     0                                 0   \\n\",\n              \"10328                                    0                                 0   \\n\",\n              \"...                                    ...                               ...   \\n\",\n              \"8735                                     0                                 0   \\n\",\n              \"5595                                     0                                 0   \\n\",\n              \"10463                                    0                                 0   \\n\",\n              \"8879                                     0                                 0   \\n\",\n              \"6015                                     0                                 0   \\n\",\n              \"\\n\",\n              \"       tipo_residencia_Rented apartment  tipo_residencia_With parents  \\n\",\n              \"14020                                 0                             0  \\n\",\n              \"12851                                 0                             0  \\n\",\n              \"7583                                  0                             0  \\n\",\n              \"6212                                  0                             0  \\n\",\n              \"10328                                 0                             1  \\n\",\n              \"...                                 ...                           ...  \\n\",\n              \"8735                                  0                             0  \\n\",\n              \"5595                                  0                             0  \\n\",\n              \"10463                                 0                             1  \\n\",\n              \"8879                                  0                             0  \\n\",\n              \"6015                                  0                             0  \\n\",\n              \"\\n\",\n              \"[12487 rows x 28 columns]\"\n            ],\n            \"text/html\": [\n              \"\\n\",\n              \"  \u003cdiv id=\\\"df-4661909b-91fe-4fe8-ba86-8fc45a09dbd0\\\"\u003e\\n\",\n              \"    \u003cdiv class=\\\"colab-df-container\\\"\u003e\\n\",\n              \"      \u003cdiv\u003e\\n\",\n              \"\u003cstyle scoped\u003e\\n\",\n              \"    .dataframe tbody tr th:only-of-type {\\n\",\n              \"        vertical-align: middle;\\n\",\n              \"    }\\n\",\n              \"\\n\",\n              \"    .dataframe tbody tr th {\\n\",\n              \"        vertical-align: top;\\n\",\n              \"    }\\n\",\n              \"\\n\",\n              \"    .dataframe thead th {\\n\",\n              \"        text-align: right;\\n\",\n              \"    }\\n\",\n              \"\u003c/style\u003e\\n\",\n              \"\u003ctable border=\\\"1\\\" class=\\\"dataframe\\\"\u003e\\n\",\n              \"  \u003cthead\u003e\\n\",\n              \"    \u003ctr style=\\\"text-align: right;\\\"\u003e\\n\",\n              \"      \u003cth\u003e\u003c/th\u003e\\n\",\n              \"      \u003cth\u003eqtd_filhos\u003c/th\u003e\\n\",\n              \"      \u003cth\u003eidade\u003c/th\u003e\\n\",\n              \"      \u003cth\u003etempo_emprego\u003c/th\u003e\\n\",\n              \"      \u003cth\u003epossui_celular\u003c/th\u003e\\n\",\n              \"      \u003cth\u003epossui_fone_comercial\u003c/th\u003e\\n\",\n              \"      \u003cth\u003epossui_fone\u003c/th\u003e\\n\",\n              \"      \u003cth\u003epossui_email\u003c/th\u003e\\n\",\n              \"      \u003cth\u003eqt_pessoas_residencia\u003c/th\u003e\\n\",\n              \"      \u003cth\u003esexo_M\u003c/th\u003e\\n\",\n              \"      \u003cth\u003eposse_de_veiculo_Y\u003c/th\u003e\\n\",\n              \"      \u003cth\u003e...\u003c/th\u003e\\n\",\n              \"      \u003cth\u003eeducacao_Lower secondary\u003c/th\u003e\\n\",\n              \"      \u003cth\u003eestado_civil_Civil marriage\u003c/th\u003e\\n\",\n              \"      \u003cth\u003eestado_civil_Separated\u003c/th\u003e\\n\",\n              \"      \u003cth\u003eestado_civil_Single / not married\u003c/th\u003e\\n\",\n              \"      \u003cth\u003eestado_civil_Widow\u003c/th\u003e\\n\",\n              \"      \u003cth\u003etipo_residencia_Co-op apartment\u003c/th\u003e\\n\",\n              \"      \u003cth\u003etipo_residencia_Municipal apartment\u003c/th\u003e\\n\",\n              \"      \u003cth\u003etipo_residencia_Office apartment\u003c/th\u003e\\n\",\n              \"      \u003cth\u003etipo_residencia_Rented apartment\u003c/th\u003e\\n\",\n              \"      \u003cth\u003etipo_residencia_With parents\u003c/th\u003e\\n\",\n              \"    \u003c/tr\u003e\\n\",\n              \"  \u003c/thead\u003e\\n\",\n              \"  \u003ctbody\u003e\\n\",\n              \"    \u003ctr\u003e\\n\",\n              \"      \u003cth\u003e14020\u003c/th\u003e\\n\",\n              \"      \u003ctd\u003e2\u003c/td\u003e\\n\",\n              \"      \u003ctd\u003e43.572603\u003c/td\u003e\\n\",\n              \"      \u003ctd\u003e10.375342\u003c/td\u003e\\n\",\n              \"      \u003ctd\u003e1\u003c/td\u003e\\n\",\n              \"      \u003ctd\u003e0\u003c/td\u003e\\n\",\n              \"      \u003ctd\u003e0\u003c/td\u003e\\n\",\n              \"      \u003ctd\u003e0\u003c/td\u003e\\n\",\n              \"      \u003ctd\u003e4.0\u003c/td\u003e\\n\",\n              \"      \u003ctd\u003e1\u003c/td\u003e\\n\",\n              \"      \u003ctd\u003e1\u003c/td\u003e\\n\",\n              \"      \u003ctd\u003e...\u003c/td\u003e\\n\",\n              \"      \u003ctd\u003e0\u003c/td\u003e\\n\",\n              \"      \u003ctd\u003e0\u003c/td\u003e\\n\",\n              \"      \u003ctd\u003e0\u003c/td\u003e\\n\",\n              \"      \u003ctd\u003e0\u003c/td\u003e\\n\",\n              \"      \u003ctd\u003e0\u003c/td\u003e\\n\",\n              \"      \u003ctd\u003e0\u003c/td\u003e\\n\",\n              \"      \u003ctd\u003e0\u003c/td\u003e\\n\",\n              \"      \u003ctd\u003e0\u003c/td\u003e\\n\",\n              \"      \u003ctd\u003e0\u003c/td\u003e\\n\",\n              \"      \u003ctd\u003e0\u003c/td\u003e\\n\",\n              \"    \u003c/tr\u003e\\n\",\n              \"    \u003ctr\u003e\\n\",\n              \"      \u003cth\u003e12851\u003c/th\u003e\\n\",\n              \"      \u003ctd\u003e2\u003c/td\u003e\\n\",\n              \"      \u003ctd\u003e31.671233\u003c/td\u003e\\n\",\n              \"      \u003ctd\u003e1.279452\u003c/td\u003e\\n\",\n              \"      \u003ctd\u003e1\u003c/td\u003e\\n\",\n              \"      \u003ctd\u003e1\u003c/td\u003e\\n\",\n              \"      \u003ctd\u003e0\u003c/td\u003e\\n\",\n              \"      \u003ctd\u003e0\u003c/td\u003e\\n\",\n              \"      \u003ctd\u003e4.0\u003c/td\u003e\\n\",\n              \"      \u003ctd\u003e0\u003c/td\u003e\\n\",\n              \"      \u003ctd\u003e0\u003c/td\u003e\\n\",\n              \"      \u003ctd\u003e...\u003c/td\u003e\\n\",\n              \"      \u003ctd\u003e0\u003c/td\u003e\\n\",\n              \"      \u003ctd\u003e0\u003c/td\u003e\\n\",\n              \"      \u003ctd\u003e0\u003c/td\u003e\\n\",\n              \"      \u003ctd\u003e0\u003c/td\u003e\\n\",\n              \"      \u003ctd\u003e0\u003c/td\u003e\\n\",\n              \"      \u003ctd\u003e0\u003c/td\u003e\\n\",\n              \"      \u003ctd\u003e0\u003c/td\u003e\\n\",\n              \"      \u003ctd\u003e0\u003c/td\u003e\\n\",\n              \"      \u003ctd\u003e0\u003c/td\u003e\\n\",\n              \"      \u003ctd\u003e0\u003c/td\u003e\\n\",\n              \"    \u003c/tr\u003e\\n\",\n              \"    \u003ctr\u003e\\n\",\n              \"      \u003cth\u003e7583\u003c/th\u003e\\n\",\n              \"      \u003ctd\u003e0\u003c/td\u003e\\n\",\n              \"      \u003ctd\u003e49.424658\u003c/td\u003e\\n\",\n              \"      \u003ctd\u003e13.186301\u003c/td\u003e\\n\",\n              \"      \u003ctd\u003e1\u003c/td\u003e\\n\",\n              \"      \u003ctd\u003e0\u003c/td\u003e\\n\",\n              \"      \u003ctd\u003e0\u003c/td\u003e\\n\",\n              \"      \u003ctd\u003e0\u003c/td\u003e\\n\",\n              \"      \u003ctd\u003e1.0\u003c/td\u003e\\n\",\n              \"      \u003ctd\u003e0\u003c/td\u003e\\n\",\n              \"      \u003ctd\u003e0\u003c/td\u003e\\n\",\n              \"      \u003ctd\u003e...\u003c/td\u003e\\n\",\n              \"      \u003ctd\u003e0\u003c/td\u003e\\n\",\n              \"      \u003ctd\u003e0\u003c/td\u003e\\n\",\n              \"      \u003ctd\u003e0\u003c/td\u003e\\n\",\n              \"      \u003ctd\u003e0\u003c/td\u003e\\n\",\n              \"      \u003ctd\u003e1\u003c/td\u003e\\n\",\n              \"      \u003ctd\u003e0\u003c/td\u003e\\n\",\n              \"      \u003ctd\u003e0\u003c/td\u003e\\n\",\n              \"      \u003ctd\u003e0\u003c/td\u003e\\n\",\n              \"      \u003ctd\u003e0\u003c/td\u003e\\n\",\n              \"      \u003ctd\u003e0\u003c/td\u003e\\n\",\n              \"    \u003c/tr\u003e\\n\",\n              \"    \u003ctr\u003e\\n\",\n              \"      \u003cth\u003e6212\u003c/th\u003e\\n\",\n              \"      \u003ctd\u003e0\u003c/td\u003e\\n\",\n              \"      \u003ctd\u003e51.490411\u003c/td\u003e\\n\",\n              \"      \u003ctd\u003e17.419178\u003c/td\u003e\\n\",\n              \"      \u003ctd\u003e1\u003c/td\u003e\\n\",\n              \"      \u003ctd\u003e0\u003c/td\u003e\\n\",\n              \"      \u003ctd\u003e0\u003c/td\u003e\\n\",\n              \"      \u003ctd\u003e0\u003c/td\u003e\\n\",\n              \"      \u003ctd\u003e2.0\u003c/td\u003e\\n\",\n              \"      \u003ctd\u003e0\u003c/td\u003e\\n\",\n              \"      \u003ctd\u003e0\u003c/td\u003e\\n\",\n              \"      \u003ctd\u003e...\u003c/td\u003e\\n\",\n              \"      \u003ctd\u003e0\u003c/td\u003e\\n\",\n              \"      \u003ctd\u003e0\u003c/td\u003e\\n\",\n              \"      \u003ctd\u003e0\u003c/td\u003e\\n\",\n              \"      \u003ctd\u003e0\u003c/td\u003e\\n\",\n              \"      \u003ctd\u003e0\u003c/td\u003e\\n\",\n              \"      \u003ctd\u003e0\u003c/td\u003e\\n\",\n              \"      \u003ctd\u003e0\u003c/td\u003e\\n\",\n              \"      \u003ctd\u003e0\u003c/td\u003e\\n\",\n              \"      \u003ctd\u003e0\u003c/td\u003e\\n\",\n              \"      \u003ctd\u003e0\u003c/td\u003e\\n\",\n              \"    \u003c/tr\u003e\\n\",\n              \"    \u003ctr\u003e\\n\",\n              \"      \u003cth\u003e10328\u003c/th\u003e\\n\",\n              \"      \u003ctd\u003e0\u003c/td\u003e\\n\",\n              \"      \u003ctd\u003e54.030137\u003c/td\u003e\\n\",\n              \"      \u003ctd\u003e4.216438\u003c/td\u003e\\n\",\n              \"      \u003ctd\u003e1\u003c/td\u003e\\n\",\n              \"      \u003ctd\u003e0\u003c/td\u003e\\n\",\n              \"      \u003ctd\u003e0\u003c/td\u003e\\n\",\n              \"      \u003ctd\u003e0\u003c/td\u003e\\n\",\n              \"      \u003ctd\u003e2.0\u003c/td\u003e\\n\",\n              \"      \u003ctd\u003e0\u003c/td\u003e\\n\",\n              \"      \u003ctd\u003e0\u003c/td\u003e\\n\",\n              \"      \u003ctd\u003e...\u003c/td\u003e\\n\",\n              \"      \u003ctd\u003e0\u003c/td\u003e\\n\",\n              \"      \u003ctd\u003e0\u003c/td\u003e\\n\",\n              \"      \u003ctd\u003e0\u003c/td\u003e\\n\",\n              \"      \u003ctd\u003e0\u003c/td\u003e\\n\",\n              \"      \u003ctd\u003e0\u003c/td\u003e\\n\",\n              \"      \u003ctd\u003e0\u003c/td\u003e\\n\",\n              \"      \u003ctd\u003e0\u003c/td\u003e\\n\",\n              \"      \u003ctd\u003e0\u003c/td\u003e\\n\",\n              \"      \u003ctd\u003e0\u003c/td\u003e\\n\",\n              \"      \u003ctd\u003e1\u003c/td\u003e\\n\",\n              \"    \u003c/tr\u003e\\n\",\n              \"    \u003ctr\u003e\\n\",\n              \"      \u003cth\u003e...\u003c/th\u003e\\n\",\n              \"      \u003ctd\u003e...\u003c/td\u003e\\n\",\n              \"      \u003ctd\u003e...\u003c/td\u003e\\n\",\n              \"      \u003ctd\u003e...\u003c/td\u003e\\n\",\n              \"      \u003ctd\u003e...\u003c/td\u003e\\n\",\n              \"      \u003ctd\u003e...\u003c/td\u003e\\n\",\n              \"      \u003ctd\u003e...\u003c/td\u003e\\n\",\n              \"      \u003ctd\u003e...\u003c/td\u003e\\n\",\n              \"      \u003ctd\u003e...\u003c/td\u003e\\n\",\n              \"      \u003ctd\u003e...\u003c/td\u003e\\n\",\n              \"      \u003ctd\u003e...\u003c/td\u003e\\n\",\n              \"      \u003ctd\u003e...\u003c/td\u003e\\n\",\n              \"      \u003ctd\u003e...\u003c/td\u003e\\n\",\n              \"      \u003ctd\u003e...\u003c/td\u003e\\n\",\n              \"      \u003ctd\u003e...\u003c/td\u003e\\n\",\n              \"      \u003ctd\u003e...\u003c/td\u003e\\n\",\n              \"      \u003ctd\u003e...\u003c/td\u003e\\n\",\n              \"      \u003ctd\u003e...\u003c/td\u003e\\n\",\n              \"      \u003ctd\u003e...\u003c/td\u003e\\n\",\n              \"      \u003ctd\u003e...\u003c/td\u003e\\n\",\n              \"      \u003ctd\u003e...\u003c/td\u003e\\n\",\n              \"      \u003ctd\u003e...\u003c/td\u003e\\n\",\n              \"    \u003c/tr\u003e\\n\",\n              \"    \u003ctr\u003e\\n\",\n              \"      \u003cth\u003e8735\u003c/th\u003e\\n\",\n              \"      \u003ctd\u003e2\u003c/td\u003e\\n\",\n              \"      \u003ctd\u003e35.126027\u003c/td\u003e\\n\",\n              \"      \u003ctd\u003e15.498630\u003c/td\u003e\\n\",\n              \"      \u003ctd\u003e1\u003c/td\u003e\\n\",\n              \"      \u003ctd\u003e0\u003c/td\u003e\\n\",\n              \"      \u003ctd\u003e0\u003c/td\u003e\\n\",\n              \"      \u003ctd\u003e0\u003c/td\u003e\\n\",\n              \"      \u003ctd\u003e4.0\u003c/td\u003e\\n\",\n              \"      \u003ctd\u003e0\u003c/td\u003e\\n\",\n              \"      \u003ctd\u003e0\u003c/td\u003e\\n\",\n              \"      \u003ctd\u003e...\u003c/td\u003e\\n\",\n              \"      \u003ctd\u003e0\u003c/td\u003e\\n\",\n              \"      \u003ctd\u003e0\u003c/td\u003e\\n\",\n              \"      \u003ctd\u003e0\u003c/td\u003e\\n\",\n              \"      \u003ctd\u003e0\u003c/td\u003e\\n\",\n              \"      \u003ctd\u003e0\u003c/td\u003e\\n\",\n              \"      \u003ctd\u003e0\u003c/td\u003e\\n\",\n              \"      \u003ctd\u003e0\u003c/td\u003e\\n\",\n              \"      \u003ctd\u003e0\u003c/td\u003e\\n\",\n              \"      \u003ctd\u003e0\u003c/td\u003e\\n\",\n              \"      \u003ctd\u003e0\u003c/td\u003e\\n\",\n              \"    \u003c/tr\u003e\\n\",\n              \"    \u003ctr\u003e\\n\",\n              \"      \u003cth\u003e5595\u003c/th\u003e\\n\",\n              \"      \u003ctd\u003e0\u003c/td\u003e\\n\",\n              \"      \u003ctd\u003e40.183562\u003c/td\u003e\\n\",\n              \"      \u003ctd\u003e2.871233\u003c/td\u003e\\n\",\n              \"      \u003ctd\u003e1\u003c/td\u003e\\n\",\n              \"      \u003ctd\u003e1\u003c/td\u003e\\n\",\n              \"      \u003ctd\u003e1\u003c/td\u003e\\n\",\n              \"      \u003ctd\u003e0\u003c/td\u003e\\n\",\n              \"      \u003ctd\u003e2.0\u003c/td\u003e\\n\",\n              \"      \u003ctd\u003e0\u003c/td\u003e\\n\",\n              \"      \u003ctd\u003e0\u003c/td\u003e\\n\",\n              \"      \u003ctd\u003e...\u003c/td\u003e\\n\",\n              \"      \u003ctd\u003e0\u003c/td\u003e\\n\",\n              \"      \u003ctd\u003e0\u003c/td\u003e\\n\",\n              \"      \u003ctd\u003e0\u003c/td\u003e\\n\",\n              \"      \u003ctd\u003e0\u003c/td\u003e\\n\",\n              \"      \u003ctd\u003e0\u003c/td\u003e\\n\",\n              \"      \u003ctd\u003e0\u003c/td\u003e\\n\",\n              \"      \u003ctd\u003e0\u003c/td\u003e\\n\",\n              \"      \u003ctd\u003e0\u003c/td\u003e\\n\",\n              \"      \u003ctd\u003e0\u003c/td\u003e\\n\",\n              \"      \u003ctd\u003e0\u003c/td\u003e\\n\",\n              \"    \u003c/tr\u003e\\n\",\n              \"    \u003ctr\u003e\\n\",\n              \"      \u003cth\u003e10463\u003c/th\u003e\\n\",\n              \"      \u003ctd\u003e0\u003c/td\u003e\\n\",\n              \"      \u003ctd\u003e33.254795\u003c/td\u003e\\n\",\n              \"      \u003ctd\u003e0.547945\u003c/td\u003e\\n\",\n              \"      \u003ctd\u003e1\u003c/td\u003e\\n\",\n              \"      \u003ctd\u003e0\u003c/td\u003e\\n\",\n              \"      \u003ctd\u003e0\u003c/td\u003e\\n\",\n              \"      \u003ctd\u003e0\u003c/td\u003e\\n\",\n              \"      \u003ctd\u003e2.0\u003c/td\u003e\\n\",\n              \"      \u003ctd\u003e0\u003c/td\u003e\\n\",\n              \"      \u003ctd\u003e1\u003c/td\u003e\\n\",\n              \"      \u003ctd\u003e...\u003c/td\u003e\\n\",\n              \"      \u003ctd\u003e0\u003c/td\u003e\\n\",\n              \"      \u003ctd\u003e0\u003c/td\u003e\\n\",\n              \"      \u003ctd\u003e0\u003c/td\u003e\\n\",\n              \"      \u003ctd\u003e0\u003c/td\u003e\\n\",\n              \"      \u003ctd\u003e0\u003c/td\u003e\\n\",\n              \"      \u003ctd\u003e0\u003c/td\u003e\\n\",\n              \"      \u003ctd\u003e0\u003c/td\u003e\\n\",\n              \"      \u003ctd\u003e0\u003c/td\u003e\\n\",\n              \"      \u003ctd\u003e0\u003c/td\u003e\\n\",\n              \"      \u003ctd\u003e1\u003c/td\u003e\\n\",\n              \"    \u003c/tr\u003e\\n\",\n              \"    \u003ctr\u003e\\n\",\n              \"      \u003cth\u003e8879\u003c/th\u003e\\n\",\n              \"      \u003ctd\u003e0\u003c/td\u003e\\n\",\n              \"      \u003ctd\u003e54.131507\u003c/td\u003e\\n\",\n              \"      \u003ctd\u003e5.046575\u003c/td\u003e\\n\",\n              \"      \u003ctd\u003e1\u003c/td\u003e\\n\",\n              \"      \u003ctd\u003e0\u003c/td\u003e\\n\",\n              \"      \u003ctd\u003e1\u003c/td\u003e\\n\",\n              \"      \u003ctd\u003e0\u003c/td\u003e\\n\",\n              \"      \u003ctd\u003e1.0\u003c/td\u003e\\n\",\n              \"      \u003ctd\u003e0\u003c/td\u003e\\n\",\n              \"      \u003ctd\u003e0\u003c/td\u003e\\n\",\n              \"      \u003ctd\u003e...\u003c/td\u003e\\n\",\n              \"      \u003ctd\u003e0\u003c/td\u003e\\n\",\n              \"      \u003ctd\u003e0\u003c/td\u003e\\n\",\n              \"      \u003ctd\u003e1\u003c/td\u003e\\n\",\n              \"      \u003ctd\u003e0\u003c/td\u003e\\n\",\n              \"      \u003ctd\u003e0\u003c/td\u003e\\n\",\n              \"      \u003ctd\u003e0\u003c/td\u003e\\n\",\n              \"      \u003ctd\u003e0\u003c/td\u003e\\n\",\n              \"      \u003ctd\u003e0\u003c/td\u003e\\n\",\n              \"      \u003ctd\u003e0\u003c/td\u003e\\n\",\n              \"      \u003ctd\u003e0\u003c/td\u003e\\n\",\n              \"    \u003c/tr\u003e\\n\",\n              \"    \u003ctr\u003e\\n\",\n              \"      \u003cth\u003e6015\u003c/th\u003e\\n\",\n              \"      \u003ctd\u003e0\u003c/td\u003e\\n\",\n              \"      \u003ctd\u003e57.084932\u003c/td\u003e\\n\",\n              \"      \u003ctd\u003e-2.000000\u003c/td\u003e\\n\",\n              \"      \u003ctd\u003e1\u003c/td\u003e\\n\",\n              \"      \u003ctd\u003e0\u003c/td\u003e\\n\",\n              \"      \u003ctd\u003e0\u003c/td\u003e\\n\",\n              \"      \u003ctd\u003e0\u003c/td\u003e\\n\",\n              \"      \u003ctd\u003e2.0\u003c/td\u003e\\n\",\n              \"      \u003ctd\u003e1\u003c/td\u003e\\n\",\n              \"      \u003ctd\u003e1\u003c/td\u003e\\n\",\n              \"      \u003ctd\u003e...\u003c/td\u003e\\n\",\n              \"      \u003ctd\u003e0\u003c/td\u003e\\n\",\n              \"      \u003ctd\u003e0\u003c/td\u003e\\n\",\n              \"      \u003ctd\u003e0\u003c/td\u003e\\n\",\n              \"      \u003ctd\u003e0\u003c/td\u003e\\n\",\n              \"      \u003ctd\u003e0\u003c/td\u003e\\n\",\n              \"      \u003ctd\u003e0\u003c/td\u003e\\n\",\n              \"      \u003ctd\u003e0\u003c/td\u003e\\n\",\n              \"      \u003ctd\u003e0\u003c/td\u003e\\n\",\n              \"      \u003ctd\u003e0\u003c/td\u003e\\n\",\n              \"      \u003ctd\u003e0\u003c/td\u003e\\n\",\n              \"    \u003c/tr\u003e\\n\",\n              \"  \u003c/tbody\u003e\\n\",\n              \"\u003c/table\u003e\\n\",\n              \"\u003cp\u003e12487 rows × 28 columns\u003c/p\u003e\\n\",\n              \"\u003c/div\u003e\\n\",\n              \"      \u003cbutton class=\\\"colab-df-convert\\\" onclick=\\\"convertToInteractive('df-4661909b-91fe-4fe8-ba86-8fc45a09dbd0')\\\"\\n\",\n              \"              title=\\\"Convert this dataframe to an interactive table.\\\"\\n\",\n              \"              style=\\\"display:none;\\\"\u003e\\n\",\n              \"        \\n\",\n              \"  \u003csvg xmlns=\\\"http://www.w3.org/2000/svg\\\" height=\\\"24px\\\"viewBox=\\\"0 0 24 24\\\"\\n\",\n              \"       width=\\\"24px\\\"\u003e\\n\",\n              \"    \u003cpath d=\\\"M0 0h24v24H0V0z\\\" fill=\\\"none\\\"/\u003e\\n\",\n              \"    \u003cpath d=\\\"M18.56 5.44l.94 2.06.94-2.06 2.06-.94-2.06-.94-.94-2.06-.94 2.06-2.06.94zm-11 1L8.5 8.5l.94-2.06 2.06-.94-2.06-.94L8.5 2.5l-.94 2.06-2.06.94zm10 10l.94 2.06.94-2.06 2.06-.94-2.06-.94-.94-2.06-.94 2.06-2.06.94z\\\"/\u003e\u003cpath d=\\\"M17.41 7.96l-1.37-1.37c-.4-.4-.92-.59-1.43-.59-.52 0-1.04.2-1.43.59L10.3 9.45l-7.72 7.72c-.78.78-.78 2.05 0 2.83L4 21.41c.39.39.9.59 1.41.59.51 0 1.02-.2 1.41-.59l7.78-7.78 2.81-2.81c.8-.78.8-2.07 0-2.86zM5.41 20L4 18.59l7.72-7.72 1.47 1.35L5.41 20z\\\"/\u003e\\n\",\n              \"  \u003c/svg\u003e\\n\",\n              \"      \u003c/button\u003e\\n\",\n              \"      \\n\",\n              \"  \u003cstyle\u003e\\n\",\n              \"    .colab-df-container {\\n\",\n              \"      display:flex;\\n\",\n              \"      flex-wrap:wrap;\\n\",\n              \"      gap: 12px;\\n\",\n              \"    }\\n\",\n              \"\\n\",\n              \"    .colab-df-convert {\\n\",\n              \"      background-color: #E8F0FE;\\n\",\n              \"      border: none;\\n\",\n              \"      border-radius: 50%;\\n\",\n              \"      cursor: pointer;\\n\",\n              \"      display: none;\\n\",\n              \"      fill: #1967D2;\\n\",\n              \"      height: 32px;\\n\",\n              \"      padding: 0 0 0 0;\\n\",\n              \"      width: 32px;\\n\",\n              \"    }\\n\",\n              \"\\n\",\n              \"    .colab-df-convert:hover {\\n\",\n              \"      background-color: #E2EBFA;\\n\",\n              \"      box-shadow: 0px 1px 2px rgba(60, 64, 67, 0.3), 0px 1px 3px 1px rgba(60, 64, 67, 0.15);\\n\",\n              \"      fill: #174EA6;\\n\",\n              \"    }\\n\",\n              \"\\n\",\n              \"    [theme=dark] .colab-df-convert {\\n\",\n              \"      background-color: #3B4455;\\n\",\n              \"      fill: #D2E3FC;\\n\",\n              \"    }\\n\",\n              \"\\n\",\n              \"    [theme=dark] .colab-df-convert:hover {\\n\",\n              \"      background-color: #434B5C;\\n\",\n              \"      box-shadow: 0px 1px 3px 1px rgba(0, 0, 0, 0.15);\\n\",\n              \"      filter: drop-shadow(0px 1px 2px rgba(0, 0, 0, 0.3));\\n\",\n              \"      fill: #FFFFFF;\\n\",\n              \"    }\\n\",\n              \"  \u003c/style\u003e\\n\",\n              \"\\n\",\n              \"      \u003cscript\u003e\\n\",\n              \"        const buttonEl =\\n\",\n              \"          document.querySelector('#df-4661909b-91fe-4fe8-ba86-8fc45a09dbd0 button.colab-df-convert');\\n\",\n              \"        buttonEl.style.display =\\n\",\n              \"          google.colab.kernel.accessAllowed ? 'block' : 'none';\\n\",\n              \"\\n\",\n              \"        async function convertToInteractive(key) {\\n\",\n              \"          const element = document.querySelector('#df-4661909b-91fe-4fe8-ba86-8fc45a09dbd0');\\n\",\n              \"          const dataTable =\\n\",\n              \"            await google.colab.kernel.invokeFunction('convertToInteractive',\\n\",\n              \"                                                     [key], {});\\n\",\n              \"          if (!dataTable) return;\\n\",\n              \"\\n\",\n              \"          const docLinkHtml = 'Like what you see? Visit the ' +\\n\",\n              \"            '\u003ca target=\\\"_blank\\\" href=https://colab.research.google.com/notebooks/data_table.ipynb\u003edata table notebook\u003c/a\u003e'\\n\",\n              \"            + ' to learn more about interactive tables.';\\n\",\n              \"          element.innerHTML = '';\\n\",\n              \"          dataTable['output_type'] = 'display_data';\\n\",\n              \"          await google.colab.output.renderOutput(dataTable, element);\\n\",\n              \"          const docLink = document.createElement('div');\\n\",\n              \"          docLink.innerHTML = docLinkHtml;\\n\",\n              \"          element.appendChild(docLink);\\n\",\n              \"        }\\n\",\n              \"      \u003c/script\u003e\\n\",\n              \"    \u003c/div\u003e\\n\",\n              \"  \u003c/div\u003e\\n\",\n              \"  \"\n            ]\n          },\n          \"metadata\": {},\n          \"execution_count\": 22\n        }\n      ],\n      \"source\": [\n        \"x_train\"\n      ]\n    },\n    {\n      \"cell_type\": \"markdown\",\n      \"metadata\": {\n        \"id\": \"3NGYngmZN1a4\"\n      },\n      \"source\": [\n        \"### Rodando o modelo\\n\",\n        \"A função RandomForestClassifier gera a estrutura da floresta aleatória, e o parâmetro ```n_estimator``` define o número de árvores na floresta. Normalmente a acurácia do modelo tende a aumentar com o número de árvores, pelo menos até um certo limite - e aumenta também o recurso computacional demandado. Você pode alterar esse parâmetro e verificar se a acurácia do seu modelo melhora - não recomendamos valores muito altos. Vá alterando aos poucos e percebendo como o tempo aumenta com os seus recursos. Não é necessário ir muito além de umas 100 árvores.\"\n      ]\n    },\n    {\n      \"cell_type\": \"code\",\n      \"execution_count\": 23,\n      \"metadata\": {\n        \"colab\": {\n          \"base_uri\": \"https://localhost:8080/\",\n          \"height\": 75\n        },\n        \"id\": \"7u1aKVbeN1a5\",\n        \"outputId\": \"114105f9-ac09-4a6c-fa07-af1b92189b65\"\n      },\n      \"outputs\": [\n        {\n          \"output_type\": \"execute_result\",\n          \"data\": {\n            \"text/plain\": [\n              \"RandomForestClassifier(n_estimators=3)\"\n            ],\n            \"text/html\": [\n              \"\u003cstyle\u003e#sk-container-id-1 {color: black;background-color: white;}#sk-container-id-1 pre{padding: 0;}#sk-container-id-1 div.sk-toggleable {background-color: white;}#sk-container-id-1 label.sk-toggleable__label {cursor: pointer;display: block;width: 100%;margin-bottom: 0;padding: 0.3em;box-sizing: border-box;text-align: center;}#sk-container-id-1 label.sk-toggleable__label-arrow:before {content: \\\"▸\\\";float: left;margin-right: 0.25em;color: #696969;}#sk-container-id-1 label.sk-toggleable__label-arrow:hover:before {color: black;}#sk-container-id-1 div.sk-estimator:hover label.sk-toggleable__label-arrow:before {color: black;}#sk-container-id-1 div.sk-toggleable__content {max-height: 0;max-width: 0;overflow: hidden;text-align: left;background-color: #f0f8ff;}#sk-container-id-1 div.sk-toggleable__content pre {margin: 0.2em;color: black;border-radius: 0.25em;background-color: #f0f8ff;}#sk-container-id-1 input.sk-toggleable__control:checked~div.sk-toggleable__content {max-height: 200px;max-width: 100%;overflow: auto;}#sk-container-id-1 input.sk-toggleable__control:checked~label.sk-toggleable__label-arrow:before {content: \\\"▾\\\";}#sk-container-id-1 div.sk-estimator input.sk-toggleable__control:checked~label.sk-toggleable__label {background-color: #d4ebff;}#sk-container-id-1 div.sk-label input.sk-toggleable__control:checked~label.sk-toggleable__label {background-color: #d4ebff;}#sk-container-id-1 input.sk-hidden--visually {border: 0;clip: rect(1px 1px 1px 1px);clip: rect(1px, 1px, 1px, 1px);height: 1px;margin: -1px;overflow: hidden;padding: 0;position: absolute;width: 1px;}#sk-container-id-1 div.sk-estimator {font-family: monospace;background-color: #f0f8ff;border: 1px dotted black;border-radius: 0.25em;box-sizing: border-box;margin-bottom: 0.5em;}#sk-container-id-1 div.sk-estimator:hover {background-color: #d4ebff;}#sk-container-id-1 div.sk-parallel-item::after {content: \\\"\\\";width: 100%;border-bottom: 1px solid gray;flex-grow: 1;}#sk-container-id-1 div.sk-label:hover label.sk-toggleable__label {background-color: #d4ebff;}#sk-container-id-1 div.sk-serial::before {content: \\\"\\\";position: absolute;border-left: 1px solid gray;box-sizing: border-box;top: 0;bottom: 0;left: 50%;z-index: 0;}#sk-container-id-1 div.sk-serial {display: flex;flex-direction: column;align-items: center;background-color: white;padding-right: 0.2em;padding-left: 0.2em;position: relative;}#sk-container-id-1 div.sk-item {position: relative;z-index: 1;}#sk-container-id-1 div.sk-parallel {display: flex;align-items: stretch;justify-content: center;background-color: white;position: relative;}#sk-container-id-1 div.sk-item::before, #sk-container-id-1 div.sk-parallel-item::before {content: \\\"\\\";position: absolute;border-left: 1px solid gray;box-sizing: border-box;top: 0;bottom: 0;left: 50%;z-index: -1;}#sk-container-id-1 div.sk-parallel-item {display: flex;flex-direction: column;z-index: 1;position: relative;background-color: white;}#sk-container-id-1 div.sk-parallel-item:first-child::after {align-self: flex-end;width: 50%;}#sk-container-id-1 div.sk-parallel-item:last-child::after {align-self: flex-start;width: 50%;}#sk-container-id-1 div.sk-parallel-item:only-child::after {width: 0;}#sk-container-id-1 div.sk-dashed-wrapped {border: 1px dashed gray;margin: 0 0.4em 0.5em 0.4em;box-sizing: border-box;padding-bottom: 0.4em;background-color: white;}#sk-container-id-1 div.sk-label label {font-family: monospace;font-weight: bold;display: inline-block;line-height: 1.2em;}#sk-container-id-1 div.sk-label-container {text-align: center;}#sk-container-id-1 div.sk-container {/* jupyter's `normalize.less` sets `[hidden] { display: none; }` but bootstrap.min.css set `[hidden] { display: none !important; }` so we also need the `!important` here to be able to override the default hidden behavior on the sphinx rendered scikit-learn.org. See: https://github.com/scikit-learn/scikit-learn/issues/21755 */display: inline-block !important;position: relative;}#sk-container-id-1 div.sk-text-repr-fallback {display: none;}\u003c/style\u003e\u003cdiv id=\\\"sk-container-id-1\\\" class=\\\"sk-top-container\\\"\u003e\u003cdiv class=\\\"sk-text-repr-fallback\\\"\u003e\u003cpre\u003eRandomForestClassifier(n_estimators=3)\u003c/pre\u003e\u003cb\u003eIn a Jupyter environment, please rerun this cell to show the HTML representation or trust the notebook. \u003cbr /\u003eOn GitHub, the HTML representation is unable to render, please try loading this page with nbviewer.org.\u003c/b\u003e\u003c/div\u003e\u003cdiv class=\\\"sk-container\\\" hidden\u003e\u003cdiv class=\\\"sk-item\\\"\u003e\u003cdiv class=\\\"sk-estimator sk-toggleable\\\"\u003e\u003cinput class=\\\"sk-toggleable__control sk-hidden--visually\\\" id=\\\"sk-estimator-id-1\\\" type=\\\"checkbox\\\" checked\u003e\u003clabel for=\\\"sk-estimator-id-1\\\" class=\\\"sk-toggleable__label sk-toggleable__label-arrow\\\"\u003eRandomForestClassifier\u003c/label\u003e\u003cdiv class=\\\"sk-toggleable__content\\\"\u003e\u003cpre\u003eRandomForestClassifier(n_estimators=3)\u003c/pre\u003e\u003c/div\u003e\u003c/div\u003e\u003c/div\u003e\u003c/div\u003e\u003c/div\u003e\"\n            ]\n          },\n          \"metadata\": {},\n          \"execution_count\": 23\n        }\n      ],\n      \"source\": [\n        \"# Treinar uma Random Forest com 5 árvores\\n\",\n        \"\\n\",\n        \"clf = RandomForestClassifier(n_estimators=3)\\n\",\n        \"clf.fit(x_train,y_train)\"\n      ]\n    },\n    {\n      \"cell_type\": \"code\",\n      \"execution_count\": 24,\n      \"metadata\": {\n        \"colab\": {\n          \"base_uri\": \"https://localhost:8080/\"\n        },\n        \"id\": \"TC4LwqIpN1a5\",\n        \"outputId\": \"d2f30e67-05b6-40e9-fed8-9efe08829f03\"\n      },\n      \"outputs\": [\n        {\n          \"output_type\": \"stream\",\n          \"name\": \"stdout\",\n          \"text\": [\n            \"Acurácia: 97.33%\\n\"\n          ]\n        }\n      ],\n      \"source\": [\n        \"# Calculando a acuracia\\n\",\n        \"\\n\",\n        \"y_pred = clf.predict(x_test)\\n\",\n        \"acc = metrics.accuracy_score(y_test, y_pred)\\n\",\n        \"print('Acurácia: {0:.2f}%'.format(acc*100))\"\n      ]\n    },\n    {\n      \"cell_type\": \"code\",\n      \"execution_count\": 25,\n      \"metadata\": {\n        \"colab\": {\n          \"base_uri\": \"https://localhost:8080/\",\n          \"height\": 178\n        },\n        \"id\": \"zGN0teMdN1a6\",\n        \"outputId\": \"61857f51-75d5-4a98-bcc2-caecabb45c34\"\n      },\n      \"outputs\": [\n        {\n          \"output_type\": \"stream\",\n          \"name\": \"stdout\",\n          \"text\": [\n            \"0.019450522732798445\\n\",\n            \"0.38\\n\"\n          ]\n        },\n        {\n          \"output_type\": \"execute_result\",\n          \"data\": {\n            \"text/plain\": [\n              \"mau    False  True\\n\",\n              \"row_0             \\n\",\n              \"False   4033    80\\n\",\n              \"True      31    19\"\n            ],\n            \"text/html\": [\n              \"\\n\",\n              \"  \u003cdiv id=\\\"df-5a08fd49-675c-46e8-965e-a73f05ce3ab1\\\"\u003e\\n\",\n              \"    \u003cdiv class=\\\"colab-df-container\\\"\u003e\\n\",\n              \"      \u003cdiv\u003e\\n\",\n              \"\u003cstyle scoped\u003e\\n\",\n              \"    .dataframe tbody tr th:only-of-type {\\n\",\n              \"        vertical-align: middle;\\n\",\n              \"    }\\n\",\n              \"\\n\",\n              \"    .dataframe tbody tr th {\\n\",\n              \"        vertical-align: top;\\n\",\n              \"    }\\n\",\n              \"\\n\",\n              \"    .dataframe thead th {\\n\",\n              \"        text-align: right;\\n\",\n              \"    }\\n\",\n              \"\u003c/style\u003e\\n\",\n              \"\u003ctable border=\\\"1\\\" class=\\\"dataframe\\\"\u003e\\n\",\n              \"  \u003cthead\u003e\\n\",\n              \"    \u003ctr style=\\\"text-align: right;\\\"\u003e\\n\",\n              \"      \u003cth\u003emau\u003c/th\u003e\\n\",\n              \"      \u003cth\u003eFalse\u003c/th\u003e\\n\",\n              \"      \u003cth\u003eTrue\u003c/th\u003e\\n\",\n              \"    \u003c/tr\u003e\\n\",\n              \"    \u003ctr\u003e\\n\",\n              \"      \u003cth\u003erow_0\u003c/th\u003e\\n\",\n              \"      \u003cth\u003e\u003c/th\u003e\\n\",\n              \"      \u003cth\u003e\u003c/th\u003e\\n\",\n              \"    \u003c/tr\u003e\\n\",\n              \"  \u003c/thead\u003e\\n\",\n              \"  \u003ctbody\u003e\\n\",\n              \"    \u003ctr\u003e\\n\",\n              \"      \u003cth\u003eFalse\u003c/th\u003e\\n\",\n              \"      \u003ctd\u003e4033\u003c/td\u003e\\n\",\n              \"      \u003ctd\u003e80\u003c/td\u003e\\n\",\n              \"    \u003c/tr\u003e\\n\",\n              \"    \u003ctr\u003e\\n\",\n              \"      \u003cth\u003eTrue\u003c/th\u003e\\n\",\n              \"      \u003ctd\u003e31\u003c/td\u003e\\n\",\n              \"      \u003ctd\u003e19\u003c/td\u003e\\n\",\n              \"    \u003c/tr\u003e\\n\",\n              \"  \u003c/tbody\u003e\\n\",\n              \"\u003c/table\u003e\\n\",\n              \"\u003c/div\u003e\\n\",\n              \"      \u003cbutton class=\\\"colab-df-convert\\\" onclick=\\\"convertToInteractive('df-5a08fd49-675c-46e8-965e-a73f05ce3ab1')\\\"\\n\",\n              \"              title=\\\"Convert this dataframe to an interactive table.\\\"\\n\",\n              \"              style=\\\"display:none;\\\"\u003e\\n\",\n              \"        \\n\",\n              \"  \u003csvg xmlns=\\\"http://www.w3.org/2000/svg\\\" height=\\\"24px\\\"viewBox=\\\"0 0 24 24\\\"\\n\",\n              \"       width=\\\"24px\\\"\u003e\\n\",\n              \"    \u003cpath d=\\\"M0 0h24v24H0V0z\\\" fill=\\\"none\\\"/\u003e\\n\",\n              \"    \u003cpath d=\\\"M18.56 5.44l.94 2.06.94-2.06 2.06-.94-2.06-.94-.94-2.06-.94 2.06-2.06.94zm-11 1L8.5 8.5l.94-2.06 2.06-.94-2.06-.94L8.5 2.5l-.94 2.06-2.06.94zm10 10l.94 2.06.94-2.06 2.06-.94-2.06-.94-.94-2.06-.94 2.06-2.06.94z\\\"/\u003e\u003cpath d=\\\"M17.41 7.96l-1.37-1.37c-.4-.4-.92-.59-1.43-.59-.52 0-1.04.2-1.43.59L10.3 9.45l-7.72 7.72c-.78.78-.78 2.05 0 2.83L4 21.41c.39.39.9.59 1.41.59.51 0 1.02-.2 1.41-.59l7.78-7.78 2.81-2.81c.8-.78.8-2.07 0-2.86zM5.41 20L4 18.59l7.72-7.72 1.47 1.35L5.41 20z\\\"/\u003e\\n\",\n              \"  \u003c/svg\u003e\\n\",\n              \"      \u003c/button\u003e\\n\",\n              \"      \\n\",\n              \"  \u003cstyle\u003e\\n\",\n              \"    .colab-df-container {\\n\",\n              \"      display:flex;\\n\",\n              \"      flex-wrap:wrap;\\n\",\n              \"      gap: 12px;\\n\",\n              \"    }\\n\",\n              \"\\n\",\n              \"    .colab-df-convert {\\n\",\n              \"      background-color: #E8F0FE;\\n\",\n              \"      border: none;\\n\",\n              \"      border-radius: 50%;\\n\",\n              \"      cursor: pointer;\\n\",\n              \"      display: none;\\n\",\n              \"      fill: #1967D2;\\n\",\n              \"      height: 32px;\\n\",\n              \"      padding: 0 0 0 0;\\n\",\n              \"      width: 32px;\\n\",\n              \"    }\\n\",\n              \"\\n\",\n              \"    .colab-df-convert:hover {\\n\",\n              \"      background-color: #E2EBFA;\\n\",\n              \"      box-shadow: 0px 1px 2px rgba(60, 64, 67, 0.3), 0px 1px 3px 1px rgba(60, 64, 67, 0.15);\\n\",\n              \"      fill: #174EA6;\\n\",\n              \"    }\\n\",\n              \"\\n\",\n              \"    [theme=dark] .colab-df-convert {\\n\",\n              \"      background-color: #3B4455;\\n\",\n              \"      fill: #D2E3FC;\\n\",\n              \"    }\\n\",\n              \"\\n\",\n              \"    [theme=dark] .colab-df-convert:hover {\\n\",\n              \"      background-color: #434B5C;\\n\",\n              \"      box-shadow: 0px 1px 3px 1px rgba(0, 0, 0, 0.15);\\n\",\n              \"      filter: drop-shadow(0px 1px 2px rgba(0, 0, 0, 0.3));\\n\",\n              \"      fill: #FFFFFF;\\n\",\n              \"    }\\n\",\n              \"  \u003c/style\u003e\\n\",\n              \"\\n\",\n              \"      \u003cscript\u003e\\n\",\n              \"        const buttonEl =\\n\",\n              \"          document.querySelector('#df-5a08fd49-675c-46e8-965e-a73f05ce3ab1 button.colab-df-convert');\\n\",\n              \"        buttonEl.style.display =\\n\",\n              \"          google.colab.kernel.accessAllowed ? 'block' : 'none';\\n\",\n              \"\\n\",\n              \"        async function convertToInteractive(key) {\\n\",\n              \"          const element = document.querySelector('#df-5a08fd49-675c-46e8-965e-a73f05ce3ab1');\\n\",\n              \"          const dataTable =\\n\",\n              \"            await google.colab.kernel.invokeFunction('convertToInteractive',\\n\",\n              \"                                                     [key], {});\\n\",\n              \"          if (!dataTable) return;\\n\",\n              \"\\n\",\n              \"          const docLinkHtml = 'Like what you see? Visit the ' +\\n\",\n              \"            '\u003ca target=\\\"_blank\\\" href=https://colab.research.google.com/notebooks/data_table.ipynb\u003edata table notebook\u003c/a\u003e'\\n\",\n              \"            + ' to learn more about interactive tables.';\\n\",\n              \"          element.innerHTML = '';\\n\",\n              \"          dataTable['output_type'] = 'display_data';\\n\",\n              \"          await google.colab.output.renderOutput(dataTable, element);\\n\",\n              \"          const docLink = document.createElement('div');\\n\",\n              \"          docLink.innerHTML = docLinkHtml;\\n\",\n              \"          element.appendChild(docLink);\\n\",\n              \"        }\\n\",\n              \"      \u003c/script\u003e\\n\",\n              \"    \u003c/div\u003e\\n\",\n              \"  \u003c/div\u003e\\n\",\n              \"  \"\n            ]\n          },\n          \"metadata\": {},\n          \"execution_count\": 25\n        }\n      ],\n      \"source\": [\n        \"# Matriz de confusão\\n\",\n        \"\\n\",\n        \"tab = pd.crosstab(index = y_pred, columns = y_test)\\n\",\n        \"print(tab[1][0]/(tab[1][0] + tab[0][0]))\\n\",\n        \"print(tab[1][1]/(tab[1][1] + tab[0][1]))\\n\",\n        \"tab\"\n      ]\n    },\n    {\n      \"cell_type\": \"markdown\",\n      \"metadata\": {\n        \"id\": \"AQcxo4cON1a6\"\n      },\n      \"source\": [\n        \"### \u003cspan style=\\\"color:blue\\\"\u003eTarefa 04 - Bivariada \u003c/span\u003e\\n\",\n        \"\u003cspan style=\\\"color:blue\\\"\u003e Para essa tarefa, crie três células extras, copie nelas o código das três células anteriores (na mesma ordem) e altere o parâmetro ```n_estimators=``` da função ```RandomForestClassifier``` e insira uma quantidade maior que 3 nesse parâmetro. Rode as três células anteriores para calcular a acurácia do modelo e veja se você consegue uma acurácia melhor. \u003c/span\u003e\"\n      ]\n    },\n    {\n      \"cell_type\": \"code\",\n      \"execution_count\": 29,\n      \"metadata\": {\n        \"colab\": {\n          \"base_uri\": \"https://localhost:8080/\",\n          \"height\": 75\n        },\n        \"id\": \"syNhyXCON1a6\",\n        \"outputId\": \"5acae558-065c-4d93-af54-d80d0784f146\"\n      },\n      \"outputs\": [\n        {\n          \"output_type\": \"execute_result\",\n          \"data\": {\n            \"text/plain\": [\n              \"RandomForestClassifier()\"\n            ],\n            \"text/html\": [\n              \"\u003cstyle\u003e#sk-container-id-3 {color: black;background-color: white;}#sk-container-id-3 pre{padding: 0;}#sk-container-id-3 div.sk-toggleable {background-color: white;}#sk-container-id-3 label.sk-toggleable__label {cursor: pointer;display: block;width: 100%;margin-bottom: 0;padding: 0.3em;box-sizing: border-box;text-align: center;}#sk-container-id-3 label.sk-toggleable__label-arrow:before {content: \\\"▸\\\";float: left;margin-right: 0.25em;color: #696969;}#sk-container-id-3 label.sk-toggleable__label-arrow:hover:before {color: black;}#sk-container-id-3 div.sk-estimator:hover label.sk-toggleable__label-arrow:before {color: black;}#sk-container-id-3 div.sk-toggleable__content {max-height: 0;max-width: 0;overflow: hidden;text-align: left;background-color: #f0f8ff;}#sk-container-id-3 div.sk-toggleable__content pre {margin: 0.2em;color: black;border-radius: 0.25em;background-color: #f0f8ff;}#sk-container-id-3 input.sk-toggleable__control:checked~div.sk-toggleable__content {max-height: 200px;max-width: 100%;overflow: auto;}#sk-container-id-3 input.sk-toggleable__control:checked~label.sk-toggleable__label-arrow:before {content: \\\"▾\\\";}#sk-container-id-3 div.sk-estimator input.sk-toggleable__control:checked~label.sk-toggleable__label {background-color: #d4ebff;}#sk-container-id-3 div.sk-label input.sk-toggleable__control:checked~label.sk-toggleable__label {background-color: #d4ebff;}#sk-container-id-3 input.sk-hidden--visually {border: 0;clip: rect(1px 1px 1px 1px);clip: rect(1px, 1px, 1px, 1px);height: 1px;margin: -1px;overflow: hidden;padding: 0;position: absolute;width: 1px;}#sk-container-id-3 div.sk-estimator {font-family: monospace;background-color: #f0f8ff;border: 1px dotted black;border-radius: 0.25em;box-sizing: border-box;margin-bottom: 0.5em;}#sk-container-id-3 div.sk-estimator:hover {background-color: #d4ebff;}#sk-container-id-3 div.sk-parallel-item::after {content: \\\"\\\";width: 100%;border-bottom: 1px solid gray;flex-grow: 1;}#sk-container-id-3 div.sk-label:hover label.sk-toggleable__label {background-color: #d4ebff;}#sk-container-id-3 div.sk-serial::before {content: \\\"\\\";position: absolute;border-left: 1px solid gray;box-sizing: border-box;top: 0;bottom: 0;left: 50%;z-index: 0;}#sk-container-id-3 div.sk-serial {display: flex;flex-direction: column;align-items: center;background-color: white;padding-right: 0.2em;padding-left: 0.2em;position: relative;}#sk-container-id-3 div.sk-item {position: relative;z-index: 1;}#sk-container-id-3 div.sk-parallel {display: flex;align-items: stretch;justify-content: center;background-color: white;position: relative;}#sk-container-id-3 div.sk-item::before, #sk-container-id-3 div.sk-parallel-item::before {content: \\\"\\\";position: absolute;border-left: 1px solid gray;box-sizing: border-box;top: 0;bottom: 0;left: 50%;z-index: -1;}#sk-container-id-3 div.sk-parallel-item {display: flex;flex-direction: column;z-index: 1;position: relative;background-color: white;}#sk-container-id-3 div.sk-parallel-item:first-child::after {align-self: flex-end;width: 50%;}#sk-container-id-3 div.sk-parallel-item:last-child::after {align-self: flex-start;width: 50%;}#sk-container-id-3 div.sk-parallel-item:only-child::after {width: 0;}#sk-container-id-3 div.sk-dashed-wrapped {border: 1px dashed gray;margin: 0 0.4em 0.5em 0.4em;box-sizing: border-box;padding-bottom: 0.4em;background-color: white;}#sk-container-id-3 div.sk-label label {font-family: monospace;font-weight: bold;display: inline-block;line-height: 1.2em;}#sk-container-id-3 div.sk-label-container {text-align: center;}#sk-container-id-3 div.sk-container {/* jupyter's `normalize.less` sets `[hidden] { display: none; }` but bootstrap.min.css set `[hidden] { display: none !important; }` so we also need the `!important` here to be able to override the default hidden behavior on the sphinx rendered scikit-learn.org. See: https://github.com/scikit-learn/scikit-learn/issues/21755 */display: inline-block !important;position: relative;}#sk-container-id-3 div.sk-text-repr-fallback {display: none;}\u003c/style\u003e\u003cdiv id=\\\"sk-container-id-3\\\" class=\\\"sk-top-container\\\"\u003e\u003cdiv class=\\\"sk-text-repr-fallback\\\"\u003e\u003cpre\u003eRandomForestClassifier()\u003c/pre\u003e\u003cb\u003eIn a Jupyter environment, please rerun this cell to show the HTML representation or trust the notebook. \u003cbr /\u003eOn GitHub, the HTML representation is unable to render, please try loading this page with nbviewer.org.\u003c/b\u003e\u003c/div\u003e\u003cdiv class=\\\"sk-container\\\" hidden\u003e\u003cdiv class=\\\"sk-item\\\"\u003e\u003cdiv class=\\\"sk-estimator sk-toggleable\\\"\u003e\u003cinput class=\\\"sk-toggleable__control sk-hidden--visually\\\" id=\\\"sk-estimator-id-3\\\" type=\\\"checkbox\\\" checked\u003e\u003clabel for=\\\"sk-estimator-id-3\\\" class=\\\"sk-toggleable__label sk-toggleable__label-arrow\\\"\u003eRandomForestClassifier\u003c/label\u003e\u003cdiv class=\\\"sk-toggleable__content\\\"\u003e\u003cpre\u003eRandomForestClassifier()\u003c/pre\u003e\u003c/div\u003e\u003c/div\u003e\u003c/div\u003e\u003c/div\u003e\u003c/div\u003e\"\n            ]\n          },\n          \"metadata\": {},\n          \"execution_count\": 29\n        }\n      ],\n      \"source\": [\n        \"# Treinar uma Random Forest com 5 árvores\\n\",\n        \"\\n\",\n        \"clf = RandomForestClassifier(n_estimators=100)\\n\",\n        \"clf.fit(x_train,y_train)\"\n      ]\n    },\n    {\n      \"cell_type\": \"code\",\n      \"execution_count\": 30,\n      \"metadata\": {\n        \"colab\": {\n          \"base_uri\": \"https://localhost:8080/\"\n        },\n        \"id\": \"Mtn6Sm83N1a6\",\n        \"outputId\": \"ec8e79b2-97fd-4d7b-d831-c0c5e89185da\"\n      },\n      \"outputs\": [\n        {\n          \"output_type\": \"stream\",\n          \"name\": \"stdout\",\n          \"text\": [\n            \"Acurácia: 97.72%\\n\"\n          ]\n        }\n      ],\n      \"source\": [\n        \"# Calculando a acuracia\\n\",\n        \"\\n\",\n        \"y_pred = clf.predict(x_test)\\n\",\n        \"acc = metrics.accuracy_score(y_test, y_pred)\\n\",\n        \"print('Acurácia: {0:.2f}%'.format(acc*100))\"\n      ]\n    },\n    {\n      \"cell_type\": \"code\",\n      \"execution_count\": 31,\n      \"metadata\": {\n        \"colab\": {\n          \"base_uri\": \"https://localhost:8080/\",\n          \"height\": 178\n        },\n        \"id\": \"96eQs8ycN1a6\",\n        \"outputId\": \"2082412a-b992-41d2-b487-858d095bf9d6\"\n      },\n      \"outputs\": [\n        {\n          \"output_type\": \"stream\",\n          \"name\": \"stdout\",\n          \"text\": [\n            \"0.0184421256976462\\n\",\n            \"0.5476190476190477\\n\"\n          ]\n        },\n        {\n          \"output_type\": \"execute_result\",\n          \"data\": {\n            \"text/plain\": [\n              \"mau    False  True\\n\",\n              \"row_0             \\n\",\n              \"False   4045    76\\n\",\n              \"True      19    23\"\n            ],\n            \"text/html\": [\n              \"\\n\",\n              \"  \u003cdiv id=\\\"df-186013ea-c639-446d-a03b-e0de7f1da5e3\\\"\u003e\\n\",\n              \"    \u003cdiv class=\\\"colab-df-container\\\"\u003e\\n\",\n              \"      \u003cdiv\u003e\\n\",\n              \"\u003cstyle scoped\u003e\\n\",\n              \"    .dataframe tbody tr th:only-of-type {\\n\",\n              \"        vertical-align: middle;\\n\",\n              \"    }\\n\",\n              \"\\n\",\n              \"    .dataframe tbody tr th {\\n\",\n              \"        vertical-align: top;\\n\",\n              \"    }\\n\",\n              \"\\n\",\n              \"    .dataframe thead th {\\n\",\n              \"        text-align: right;\\n\",\n              \"    }\\n\",\n              \"\u003c/style\u003e\\n\",\n              \"\u003ctable border=\\\"1\\\" class=\\\"dataframe\\\"\u003e\\n\",\n              \"  \u003cthead\u003e\\n\",\n              \"    \u003ctr style=\\\"text-align: right;\\\"\u003e\\n\",\n              \"      \u003cth\u003emau\u003c/th\u003e\\n\",\n              \"      \u003cth\u003eFalse\u003c/th\u003e\\n\",\n              \"      \u003cth\u003eTrue\u003c/th\u003e\\n\",\n              \"    \u003c/tr\u003e\\n\",\n              \"    \u003ctr\u003e\\n\",\n              \"      \u003cth\u003erow_0\u003c/th\u003e\\n\",\n              \"      \u003cth\u003e\u003c/th\u003e\\n\",\n              \"      \u003cth\u003e\u003c/th\u003e\\n\",\n              \"    \u003c/tr\u003e\\n\",\n              \"  \u003c/thead\u003e\\n\",\n              \"  \u003ctbody\u003e\\n\",\n              \"    \u003ctr\u003e\\n\",\n              \"      \u003cth\u003eFalse\u003c/th\u003e\\n\",\n              \"      \u003ctd\u003e4045\u003c/td\u003e\\n\",\n              \"      \u003ctd\u003e76\u003c/td\u003e\\n\",\n              \"    \u003c/tr\u003e\\n\",\n              \"    \u003ctr\u003e\\n\",\n              \"      \u003cth\u003eTrue\u003c/th\u003e\\n\",\n              \"      \u003ctd\u003e19\u003c/td\u003e\\n\",\n              \"      \u003ctd\u003e23\u003c/td\u003e\\n\",\n              \"    \u003c/tr\u003e\\n\",\n              \"  \u003c/tbody\u003e\\n\",\n              \"\u003c/table\u003e\\n\",\n              \"\u003c/div\u003e\\n\",\n              \"      \u003cbutton class=\\\"colab-df-convert\\\" onclick=\\\"convertToInteractive('df-186013ea-c639-446d-a03b-e0de7f1da5e3')\\\"\\n\",\n              \"              title=\\\"Convert this dataframe to an interactive table.\\\"\\n\",\n              \"              style=\\\"display:none;\\\"\u003e\\n\",\n              \"        \\n\",\n              \"  \u003csvg xmlns=\\\"http://www.w3.org/2000/svg\\\" height=\\\"24px\\\"viewBox=\\\"0 0 24 24\\\"\\n\",\n              \"       width=\\\"24px\\\"\u003e\\n\",\n              \"    \u003cpath d=\\\"M0 0h24v24H0V0z\\\" fill=\\\"none\\\"/\u003e\\n\",\n              \"    \u003cpath d=\\\"M18.56 5.44l.94 2.06.94-2.06 2.06-.94-2.06-.94-.94-2.06-.94 2.06-2.06.94zm-11 1L8.5 8.5l.94-2.06 2.06-.94-2.06-.94L8.5 2.5l-.94 2.06-2.06.94zm10 10l.94 2.06.94-2.06 2.06-.94-2.06-.94-.94-2.06-.94 2.06-2.06.94z\\\"/\u003e\u003cpath d=\\\"M17.41 7.96l-1.37-1.37c-.4-.4-.92-.59-1.43-.59-.52 0-1.04.2-1.43.59L10.3 9.45l-7.72 7.72c-.78.78-.78 2.05 0 2.83L4 21.41c.39.39.9.59 1.41.59.51 0 1.02-.2 1.41-.59l7.78-7.78 2.81-2.81c.8-.78.8-2.07 0-2.86zM5.41 20L4 18.59l7.72-7.72 1.47 1.35L5.41 20z\\\"/\u003e\\n\",\n              \"  \u003c/svg\u003e\\n\",\n              \"      \u003c/button\u003e\\n\",\n              \"      \\n\",\n              \"  \u003cstyle\u003e\\n\",\n              \"    .colab-df-container {\\n\",\n              \"      display:flex;\\n\",\n              \"      flex-wrap:wrap;\\n\",\n              \"      gap: 12px;\\n\",\n              \"    }\\n\",\n              \"\\n\",\n              \"    .colab-df-convert {\\n\",\n              \"      background-color: #E8F0FE;\\n\",\n              \"      border: none;\\n\",\n              \"      border-radius: 50%;\\n\",\n              \"      cursor: pointer;\\n\",\n              \"      display: none;\\n\",\n              \"      fill: #1967D2;\\n\",\n              \"      height: 32px;\\n\",\n              \"      padding: 0 0 0 0;\\n\",\n              \"      width: 32px;\\n\",\n              \"    }\\n\",\n              \"\\n\",\n              \"    .colab-df-convert:hover {\\n\",\n              \"      background-color: #E2EBFA;\\n\",\n              \"      box-shadow: 0px 1px 2px rgba(60, 64, 67, 0.3), 0px 1px 3px 1px rgba(60, 64, 67, 0.15);\\n\",\n              \"      fill: #174EA6;\\n\",\n              \"    }\\n\",\n              \"\\n\",\n              \"    [theme=dark] .colab-df-convert {\\n\",\n              \"      background-color: #3B4455;\\n\",\n              \"      fill: #D2E3FC;\\n\",\n              \"    }\\n\",\n              \"\\n\",\n              \"    [theme=dark] .colab-df-convert:hover {\\n\",\n              \"      background-color: #434B5C;\\n\",\n              \"      box-shadow: 0px 1px 3px 1px rgba(0, 0, 0, 0.15);\\n\",\n              \"      filter: drop-shadow(0px 1px 2px rgba(0, 0, 0, 0.3));\\n\",\n              \"      fill: #FFFFFF;\\n\",\n              \"    }\\n\",\n              \"  \u003c/style\u003e\\n\",\n              \"\\n\",\n              \"      \u003cscript\u003e\\n\",\n              \"        const buttonEl =\\n\",\n              \"          document.querySelector('#df-186013ea-c639-446d-a03b-e0de7f1da5e3 button.colab-df-convert');\\n\",\n              \"        buttonEl.style.display =\\n\",\n              \"          google.colab.kernel.accessAllowed ? 'block' : 'none';\\n\",\n              \"\\n\",\n              \"        async function convertToInteractive(key) {\\n\",\n              \"          const element = document.querySelector('#df-186013ea-c639-446d-a03b-e0de7f1da5e3');\\n\",\n              \"          const dataTable =\\n\",\n              \"            await google.colab.kernel.invokeFunction('convertToInteractive',\\n\",\n              \"                                                     [key], {});\\n\",\n              \"          if (!dataTable) return;\\n\",\n              \"\\n\",\n              \"          const docLinkHtml = 'Like what you see? Visit the ' +\\n\",\n              \"            '\u003ca target=\\\"_blank\\\" href=https://colab.research.google.com/notebooks/data_table.ipynb\u003edata table notebook\u003c/a\u003e'\\n\",\n              \"            + ' to learn more about interactive tables.';\\n\",\n              \"          element.innerHTML = '';\\n\",\n              \"          dataTable['output_type'] = 'display_data';\\n\",\n              \"          await google.colab.output.renderOutput(dataTable, element);\\n\",\n              \"          const docLink = document.createElement('div');\\n\",\n              \"          docLink.innerHTML = docLinkHtml;\\n\",\n              \"          element.appendChild(docLink);\\n\",\n              \"        }\\n\",\n              \"      \u003c/script\u003e\\n\",\n              \"    \u003c/div\u003e\\n\",\n              \"  \u003c/div\u003e\\n\",\n              \"  \"\n            ]\n          },\n          \"metadata\": {},\n          \"execution_count\": 31\n        }\n      ],\n      \"source\": [\n        \"# Matriz de confusão\\n\",\n        \"\\n\",\n        \"tab = pd.crosstab(index = y_pred, columns = y_test)\\n\",\n        \"print(tab[1][0]/(tab[1][0] + tab[0][0]))\\n\",\n        \"print(tab[1][1]/(tab[1][1] + tab[0][1]))\\n\",\n        \"tab\"\n      ]\n    },\n    {\n      \"cell_type\": \"markdown\",\n      \"metadata\": {\n        \"id\": \"wsNp18YmN1a7\"\n      },\n      \"source\": [\n        \"## Etapa 5 Crisp-DM: Avaliação dos resultados\\n\",\n        \"A etapa final do CRISP. Neste casp, a nossa avaliação termina com a acurácia. Mas em problemas futuros aprofundaremos mais - a ideia seria avaliar o impacto do uso do modelo no negócio, ou seja, o quanto o resultado financeiro melhora em detrimento da utilização do modelo.\\n\",\n        \"\\n\",\n        \"Como um exemplo simples, considere que um cliente bom pagador deixa (em média) 5 '*dinheiros*' de lucro, e um mau pagador deixa (em média) 100 '*dinheiros*' de prejuízo.\\n\",\n        \"\\n\",\n        \"de acordo com a matriz de confusão:\\n\",\n        \"\\n\",\n        \"| Decisão   | lucro dos bons    | lucro dos maus | total  |\\n\",\n        \"| --------- |:-----------------:|:--------------:| ------:|\\n\",\n        \"| Aprovador | 4042 x 5          | 72 x (-100)    | 13.010 |\\n\",\n        \"| Reprovar  |  27 x 5           | 22 x (-100)    | -2.065 |\\n\",\n        \"\\n\",\n        \"Estariamos evitando, portanto, um prejuízo de -2.145 '*dinheiros*' - o que na prática significa um aumento no lucro.\\n\"\n      ]\n    },\n    {\n      \"cell_type\": \"markdown\",\n      \"metadata\": {\n        \"id\": \"QkRebomWN1a7\"\n      },\n      \"source\": [\n        \"## Etapa 6 Crisp-DM: Implantação\\n\",\n        \"Nessa etapa colocamos em uso o modelo desenvolvido, normalmente implementando o modelo desenvolvido em um motor de crédito que toma as decisões com algum nível de automação - tipicamente aprovando automaticamente clientes muito bons, negando automaticamente clientes muito ruins, e enviando os intermediários para análise manual.\"\n      ]\n    }\n  ],\n  \"metadata\": {\n    \"kernelspec\": {\n      \"display_name\": \"Python 3\",\n      \"language\": \"python\",\n      \"name\": \"python3\"\n    },\n    \"language_info\": {\n      \"codemirror_mode\": {\n        \"name\": \"ipython\",\n        \"version\": 3\n      },\n      \"file_extension\": \".py\",\n      \"mimetype\": \"text/x-python\",\n      \"name\": \"python\",\n      \"nbconvert_exporter\": \"python\",\n      \"pygments_lexer\": \"ipython3\",\n      \"version\": \"3.8.5\"\n    },\n    \"colab\": {\n      \"provenance\": []\n    }\n  },\n  \"nbformat\": 4,\n  \"nbformat_minor\": 0\n}","colorizedLines":null,"stylingDirectives":null,"csv":null,"csvError":null,"dependabotInfo":{"showConfigurationBanner":null,"configFilePath":null,"networkDependabotPath":"/MarcelloLM/Classifica-ao-do-credito-/network/updates","dismissConfigurationNoticePath":"/settings/dismiss-notice/dependabot_configuration_notice","configurationNoticeDismissed":false,"repoAlertsPath":"/MarcelloLM/Classifica-ao-do-credito-/security/dependabot","repoSecurityAndAnalysisPath":"/MarcelloLM/Classifica-ao-do-credito-/settings/security_analysis","repoOwnerIsOrg":false,"currentUserCanAdminRepo":true},"displayName":"Projeto_01_Classificação_do_crédito.ipynb","displayUrl":"https://notebooks.githubusercontent.com/view/ipynb?browser=opera\u0026bypass_fastly=true\u0026color_mode=auto\u0026commit=1b109ee0e0721defc739543c847a774ac6a7f927\u0026device=unknown_device\u0026docs_host=https%3A%2F%2Fdocs.github.com\u0026enc_url=68747470733a2f2f7261772e67697468756275736572636f6e74656e742e636f6d2f4d617263656c6c6f4c4d2f436c61737369666963612d616f2d646f2d6372656469746f2d2f316231303965653065303732316465666337333935343363383437613737346163366137663932372f50726f6a65746f5f30315f436c61737369666963612543332541372543332541336f5f646f5f63722543332541396469746f2e6970796e62\u0026logged_in=true\u0026nwo=MarcelloLM%2FClassifica-ao-do-credito-\u0026path=Projeto_01_Classifica%C3%A7%C3%A3o_do_cr%C3%A9dito.ipynb\u0026platform=windows\u0026repository_id=620038112\u0026repository_type=Repository\u0026version=98","headerInfo":{"blobSize":"203 KB","deleteInfo":{"deletePath":"https://github.com/MarcelloLM/Classifica-ao-do-credito-/delete/main/Projeto_01_Classifica%C3%A7%C3%A3o_do_cr%C3%A9dito.ipynb","deleteTooltip":"Delete this file"},"editInfo":{"editTooltip":"Edit this file"},"ghDesktopPath":"x-github-client://openRepo/https://github.com/MarcelloLM/Classifica-ao-do-credito-?branch=main\u0026filepath=Projeto_01_Classifica%C3%A7%C3%A3o_do_cr%C3%A9dito.ipynb","gitLfsPath":null,"onBranch":true,"shortPath":"e438711","siteNavLoginPath":"/login?return_to=https%3A%2F%2Fgithub.com%2FMarcelloLM%2FClassifica-ao-do-credito-%2Fblob%2Fmain%2FProjeto_01_Classifica%25C3%25A7%25C3%25A3o_do_cr%25C3%25A9dito.ipynb","isCSV":false,"isRichtext":false,"toc":null,"lineInfo":{"truncatedLoc":"2664","truncatedSloc":"2664"},"mode":"file"},"image":false,"isCodeownersFile":null,"isValidLegacyIssueTemplate":false,"issueTemplateHelpUrl":"https://docs.github.com/articles/about-issue-and-pull-request-templates","issueTemplate":null,"discussionTemplate":null,"language":"Jupyter Notebook","large":false,"loggedIn":true,"newDiscussionPath":"/MarcelloLM/Classifica-ao-do-credito-/discussions/new","newIssuePath":"/MarcelloLM/Classifica-ao-do-credito-/issues/new","planSupportInfo":{"repoIsFork":null,"repoOwnedByCurrentUser":null,"requestFullPath":"/MarcelloLM/Classifica-ao-do-credito-/blob/main/Projeto_01_Classifica%C3%A7%C3%A3o_do_cr%C3%A9dito.ipynb","showFreeOrgGatedFeatureMessage":null,"showPlanSupportBanner":null,"upgradeDataAttributes":null,"upgradePath":null},"publishBannersInfo":{"dismissActionNoticePath":"/settings/dismiss-notice/publish_action_from_dockerfile","dismissStackNoticePath":"/settings/dismiss-notice/publish_stack_from_file","releasePath":"/MarcelloLM/Classifica-ao-do-credito-/releases/new?marketplace=true","showPublishActionBanner":false,"showPublishStackBanner":false},"renderImageOrRaw":false,"richText":null,"renderedFileInfo":{"identityUUID":"0e082991-87bd-4d24-be99-bfd7c03ae9a8","renderFileType":"ipynb","size":207702},"tabSize":8,"topBannersInfo":{"overridingGlobalFundingFile":false,"globalPreferredFundingPath":null,"repoOwner":"MarcelloLM","repoName":"Classifica-ao-do-credito-","showInvalidCitationWarning":false,"citationHelpUrl":"https://docs.github.com/en/github/creating-cloning-and-archiving-repositories/creating-a-repository-on-github/about-citation-files","showDependabotConfigurationBanner":null,"actionsOnboardingTip":null},"truncated":false,"viewable":true,"workflowRedirectUrl":null,"symbols":{"timedOut":false,"notAnalyzed":true,"symbols":[]}},"csrf_tokens":{"/MarcelloLM/Classifica-ao-do-credito-/branches":{"post":"C67MwO3Wde-WsvSf6gfvrekZEFZRDXdsDXvsUga1J19DmxXfccz2fU09mlxv1Kqffjqq2MbnOWhaLfuFM7lA7g"}}},"title":"Classifica-ao-do-credito-/Projeto_01_Classificação_do_crédito.ipynb at main · MarcelloLM/Classifica-ao-do-credito-","locale":"en","appPayload":{"helpUrl":"https://docs.github.com","findFileWorkerPath":"/assets-cdn/worker/find-file-worker-848bb9a5da17.js","findInFileWorkerPath":"/assets-cdn/worker/find-in-file-worker-8812f8040df6.js","githubDevUrl":"https://github.dev/","enabled_features":{"virtualize_file_tree":true,"react_repos_overview":false,"repos_new_shortcut_enabled":false,"blob_navigation_cursor":true,"keep_symbols_closed":true,"code_nav_ui_events":false,"ref_selector_v2":false,"codeview_codemirror_next":false}}}</script>
  <div data-target="react-app.reactRoot"></div>
</react-app>
</turbo-frame>



  </div>

</turbo-frame>

    </main>
  </div>

  </div>

          <footer class="footer width-full container-xl p-responsive" role="contentinfo">
  <h2 class='sr-only'>Footer</h2>

  <div class="position-relative d-flex flex-items-center pb-2 f6 color-fg-muted border-top color-border-muted flex-column-reverse flex-lg-row flex-wrap flex-lg-nowrap mt-6 pt-6">
    <div class="list-style-none d-flex flex-wrap col-0 col-lg-2 flex-justify-start flex-lg-justify-between mb-2 mb-lg-0">
      <div class="mt-2 mt-lg-0 d-flex flex-items-center">
        <a aria-label="Homepage" title="GitHub" class="footer-octicon mr-2" href="https://github.com">
          <svg aria-hidden="true" height="24" viewBox="0 0 16 16" version="1.1" width="24" data-view-component="true" class="octicon octicon-mark-github">
    <path d="M8 0c4.42 0 8 3.58 8 8a8.013 8.013 0 0 1-5.45 7.59c-.4.08-.55-.17-.55-.38 0-.27.01-1.13.01-2.2 0-.75-.25-1.23-.54-1.48 1.78-.2 3.65-.88 3.65-3.95 0-.88-.31-1.59-.82-2.15.08-.2.36-1.02-.08-2.12 0 0-.67-.22-2.2.82-.64-.18-1.32-.27-2-.27-.68 0-1.36.09-2 .27-1.53-1.03-2.2-.82-2.2-.82-.44 1.1-.16 1.92-.08 2.12-.51.56-.82 1.28-.82 2.15 0 3.06 1.86 3.75 3.64 3.95-.23.2-.44.55-.51 1.07-.46.21-1.61.55-2.33-.66-.15-.24-.6-.83-1.23-.82-.67.01-.27.38.01.53.34.19.73.9.82 1.13.16.45.68 1.31 2.69.94 0 .67.01 1.3.01 1.49 0 .21-.15.45-.55.38A7.995 7.995 0 0 1 0 8c0-4.42 3.58-8 8-8Z"></path>
</svg>
</a>        <span>
        &copy; 2023 GitHub, Inc.
        </span>
      </div>
    </div>

    <nav aria-label='Footer' class="col-12 col-lg-8">
      <h3 class='sr-only' id='sr-footer-heading'>Footer navigation</h3>
      <ul class="list-style-none d-flex flex-wrap col-12 flex-justify-center flex-lg-justify-between mb-2 mb-lg-0" aria-labelledby='sr-footer-heading'>
          <li class="mr-3 mr-lg-0"><a href="https://docs.github.com/site-policy/github-terms/github-terms-of-service" data-analytics-event="{&quot;category&quot;:&quot;Footer&quot;,&quot;action&quot;:&quot;go to terms&quot;,&quot;label&quot;:&quot;text:terms&quot;}">Terms</a></li>
          <li class="mr-3 mr-lg-0"><a href="https://docs.github.com/site-policy/privacy-policies/github-privacy-statement" data-analytics-event="{&quot;category&quot;:&quot;Footer&quot;,&quot;action&quot;:&quot;go to privacy&quot;,&quot;label&quot;:&quot;text:privacy&quot;}">Privacy</a></li>
          <li class="mr-3 mr-lg-0"><a data-analytics-event="{&quot;category&quot;:&quot;Footer&quot;,&quot;action&quot;:&quot;go to security&quot;,&quot;label&quot;:&quot;text:security&quot;}" href="https://github.com/security">Security</a></li>
          <li class="mr-3 mr-lg-0"><a href="https://www.githubstatus.com/" data-analytics-event="{&quot;category&quot;:&quot;Footer&quot;,&quot;action&quot;:&quot;go to status&quot;,&quot;label&quot;:&quot;text:status&quot;}">Status</a></li>
          <li class="mr-3 mr-lg-0"><a data-ga-click="Footer, go to help, text:Docs" href="https://docs.github.com">Docs</a></li>
          <li class="mr-3 mr-lg-0"><a href="https://support.github.com?tags=dotcom-footer" data-analytics-event="{&quot;category&quot;:&quot;Footer&quot;,&quot;action&quot;:&quot;go to contact&quot;,&quot;label&quot;:&quot;text:contact&quot;}">Contact GitHub</a></li>
          <li class="mr-3 mr-lg-0"><a href="https://github.com/pricing" data-analytics-event="{&quot;category&quot;:&quot;Footer&quot;,&quot;action&quot;:&quot;go to Pricing&quot;,&quot;label&quot;:&quot;text:Pricing&quot;}">Pricing</a></li>
        <li class="mr-3 mr-lg-0"><a href="https://docs.github.com" data-analytics-event="{&quot;category&quot;:&quot;Footer&quot;,&quot;action&quot;:&quot;go to api&quot;,&quot;label&quot;:&quot;text:api&quot;}">API</a></li>
        <li class="mr-3 mr-lg-0"><a href="https://services.github.com" data-analytics-event="{&quot;category&quot;:&quot;Footer&quot;,&quot;action&quot;:&quot;go to training&quot;,&quot;label&quot;:&quot;text:training&quot;}">Training</a></li>
          <li class="mr-3 mr-lg-0"><a href="https://github.blog" data-analytics-event="{&quot;category&quot;:&quot;Footer&quot;,&quot;action&quot;:&quot;go to blog&quot;,&quot;label&quot;:&quot;text:blog&quot;}">Blog</a></li>
          <li><a data-ga-click="Footer, go to about, text:about" href="https://github.com/about">About</a></li>
      </ul>
    </nav>
  </div>

  <div class="d-flex flex-justify-center pb-6">
    <span class="f6 color-fg-muted"></span>
  </div>
</footer>




  <div id="ajax-error-message" class="ajax-error-message flash flash-error" hidden>
    <svg aria-hidden="true" height="16" viewBox="0 0 16 16" version="1.1" width="16" data-view-component="true" class="octicon octicon-alert">
    <path d="M6.457 1.047c.659-1.234 2.427-1.234 3.086 0l6.082 11.378A1.75 1.75 0 0 1 14.082 15H1.918a1.75 1.75 0 0 1-1.543-2.575Zm1.763.707a.25.25 0 0 0-.44 0L1.698 13.132a.25.25 0 0 0 .22.368h12.164a.25.25 0 0 0 .22-.368Zm.53 3.996v2.5a.75.75 0 0 1-1.5 0v-2.5a.75.75 0 0 1 1.5 0ZM9 11a1 1 0 1 1-2 0 1 1 0 0 1 2 0Z"></path>
</svg>
    <button type="button" class="flash-close js-ajax-error-dismiss" aria-label="Dismiss error">
      <svg aria-hidden="true" height="16" viewBox="0 0 16 16" version="1.1" width="16" data-view-component="true" class="octicon octicon-x">
    <path d="M3.72 3.72a.75.75 0 0 1 1.06 0L8 6.94l3.22-3.22a.749.749 0 0 1 1.275.326.749.749 0 0 1-.215.734L9.06 8l3.22 3.22a.749.749 0 0 1-.326 1.275.749.749 0 0 1-.734-.215L8 9.06l-3.22 3.22a.751.751 0 0 1-1.042-.018.751.751 0 0 1-.018-1.042L6.94 8 3.72 4.78a.75.75 0 0 1 0-1.06Z"></path>
</svg>
    </button>
    You can’t perform that action at this time.
  </div>

  <div class="js-stale-session-flash flash flash-warn flash-banner" hidden
    >
    <svg aria-hidden="true" height="16" viewBox="0 0 16 16" version="1.1" width="16" data-view-component="true" class="octicon octicon-alert">
    <path d="M6.457 1.047c.659-1.234 2.427-1.234 3.086 0l6.082 11.378A1.75 1.75 0 0 1 14.082 15H1.918a1.75 1.75 0 0 1-1.543-2.575Zm1.763.707a.25.25 0 0 0-.44 0L1.698 13.132a.25.25 0 0 0 .22.368h12.164a.25.25 0 0 0 .22-.368Zm.53 3.996v2.5a.75.75 0 0 1-1.5 0v-2.5a.75.75 0 0 1 1.5 0ZM9 11a1 1 0 1 1-2 0 1 1 0 0 1 2 0Z"></path>
</svg>
    <span class="js-stale-session-flash-signed-in" hidden>You signed in with another tab or window. <a href="">Reload</a> to refresh your session.</span>
    <span class="js-stale-session-flash-signed-out" hidden>You signed out in another tab or window. <a href="">Reload</a> to refresh your session.</span>
  </div>
    <template id="site-details-dialog">
  <details class="details-reset details-overlay details-overlay-dark lh-default color-fg-default hx_rsm" open>
    <summary role="button" aria-label="Close dialog"></summary>
    <details-dialog class="Box Box--overlay d-flex flex-column anim-fade-in fast hx_rsm-dialog hx_rsm-modal">
      <button class="Box-btn-octicon m-0 btn-octicon position-absolute right-0 top-0" type="button" aria-label="Close dialog" data-close-dialog>
        <svg aria-hidden="true" height="16" viewBox="0 0 16 16" version="1.1" width="16" data-view-component="true" class="octicon octicon-x">
    <path d="M3.72 3.72a.75.75 0 0 1 1.06 0L8 6.94l3.22-3.22a.749.749 0 0 1 1.275.326.749.749 0 0 1-.215.734L9.06 8l3.22 3.22a.749.749 0 0 1-.326 1.275.749.749 0 0 1-.734-.215L8 9.06l-3.22 3.22a.751.751 0 0 1-1.042-.018.751.751 0 0 1-.018-1.042L6.94 8 3.72 4.78a.75.75 0 0 1 0-1.06Z"></path>
</svg>
      </button>
      <div class="octocat-spinner my-6 js-details-dialog-spinner"></div>
    </details-dialog>
  </details>
</template>

    <div class="Popover js-hovercard-content position-absolute" style="display: none; outline: none;" tabindex="0">
  <div class="Popover-message Popover-message--bottom-left Popover-message--large Box color-shadow-large" style="width:360px;">
  </div>
</div>

    <template id="snippet-clipboard-copy-button">
  <div class="zeroclipboard-container position-absolute right-0 top-0">
    <clipboard-copy aria-label="Copy" class="ClipboardButton btn js-clipboard-copy m-2 p-0 tooltipped-no-delay" data-copy-feedback="Copied!" data-tooltip-direction="w">
      <svg aria-hidden="true" height="16" viewBox="0 0 16 16" version="1.1" width="16" data-view-component="true" class="octicon octicon-copy js-clipboard-copy-icon m-2">
    <path d="M0 6.75C0 5.784.784 5 1.75 5h1.5a.75.75 0 0 1 0 1.5h-1.5a.25.25 0 0 0-.25.25v7.5c0 .138.112.25.25.25h7.5a.25.25 0 0 0 .25-.25v-1.5a.75.75 0 0 1 1.5 0v1.5A1.75 1.75 0 0 1 9.25 16h-7.5A1.75 1.75 0 0 1 0 14.25Z"></path><path d="M5 1.75C5 .784 5.784 0 6.75 0h7.5C15.216 0 16 .784 16 1.75v7.5A1.75 1.75 0 0 1 14.25 11h-7.5A1.75 1.75 0 0 1 5 9.25Zm1.75-.25a.25.25 0 0 0-.25.25v7.5c0 .138.112.25.25.25h7.5a.25.25 0 0 0 .25-.25v-7.5a.25.25 0 0 0-.25-.25Z"></path>
</svg>
      <svg aria-hidden="true" height="16" viewBox="0 0 16 16" version="1.1" width="16" data-view-component="true" class="octicon octicon-check js-clipboard-check-icon color-fg-success d-none m-2">
    <path d="M13.78 4.22a.75.75 0 0 1 0 1.06l-7.25 7.25a.75.75 0 0 1-1.06 0L2.22 9.28a.751.751 0 0 1 .018-1.042.751.751 0 0 1 1.042-.018L6 10.94l6.72-6.72a.75.75 0 0 1 1.06 0Z"></path>
</svg>
    </clipboard-copy>
  </div>
</template>
<template id="snippet-clipboard-copy-button-unpositioned">
  <div class="zeroclipboard-container">
    <clipboard-copy aria-label="Copy" class="ClipboardButton btn btn-invisible js-clipboard-copy m-2 p-0 tooltipped-no-delay d-flex flex-justify-center flex-items-center" data-copy-feedback="Copied!" data-tooltip-direction="w">
      <svg aria-hidden="true" height="16" viewBox="0 0 16 16" version="1.1" width="16" data-view-component="true" class="octicon octicon-copy js-clipboard-copy-icon">
    <path d="M0 6.75C0 5.784.784 5 1.75 5h1.5a.75.75 0 0 1 0 1.5h-1.5a.25.25 0 0 0-.25.25v7.5c0 .138.112.25.25.25h7.5a.25.25 0 0 0 .25-.25v-1.5a.75.75 0 0 1 1.5 0v1.5A1.75 1.75 0 0 1 9.25 16h-7.5A1.75 1.75 0 0 1 0 14.25Z"></path><path d="M5 1.75C5 .784 5.784 0 6.75 0h7.5C15.216 0 16 .784 16 1.75v7.5A1.75 1.75 0 0 1 14.25 11h-7.5A1.75 1.75 0 0 1 5 9.25Zm1.75-.25a.25.25 0 0 0-.25.25v7.5c0 .138.112.25.25.25h7.5a.25.25 0 0 0 .25-.25v-7.5a.25.25 0 0 0-.25-.25Z"></path>
</svg>
      <svg aria-hidden="true" height="16" viewBox="0 0 16 16" version="1.1" width="16" data-view-component="true" class="octicon octicon-check js-clipboard-check-icon color-fg-success d-none">
    <path d="M13.78 4.22a.75.75 0 0 1 0 1.06l-7.25 7.25a.75.75 0 0 1-1.06 0L2.22 9.28a.751.751 0 0 1 .018-1.042.751.751 0 0 1 1.042-.018L6 10.94l6.72-6.72a.75.75 0 0 1 1.06 0Z"></path>
</svg>
    </clipboard-copy>
  </div>
</template>


    <style>
      .user-mention[href$="/MarcelloLM"] {
        color: var(--color-user-mention-fg);
        background-color: var(--color-user-mention-bg);
        border-radius: 2px;
        margin-left: -2px;
        margin-right: -2px;
        padding: 0 2px;
      }
    </style>


    </div>

    <div id="js-global-screen-reader-notice" class="sr-only" aria-live="polite" ></div>
  </body>
</html>

