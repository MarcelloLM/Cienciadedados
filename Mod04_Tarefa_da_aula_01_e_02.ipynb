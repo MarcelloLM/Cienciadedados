{
  "cells": [
    {
      "cell_type": "markdown",
      "metadata": {
        "id": "doHS6iS2XPBK"
      },
      "source": [
        "# Tarefa 01\n",
        "\n",
        "- Leia os enunciados com atenção\n",
        "- Saiba que pode haver mais de uma resposta correta\n",
        "- Insira novas células de código sempre que achar necessário\n",
        "- Em caso de dúvidas, procure os tutores\n",
        "- Divirta-se :)\n",
        "\n",
        "#### 1)  crie uma série do pandas a partir de uma lista com os dados abaixo:\n",
        "\n",
        "Em um estudo sobre alteração na tempreatura global, A NASA disponibiliza dados de diferenças de de temperatura média da superfície terrestre relativos às médias de temperatura entre 1951 e 1980. Os dados originais podem ser vistos no site da NASA/GISS, e estão dispostos a cada década na tabela abaixo.\n",
        "\n",
        "|ano|anomalia termica|\n",
        "|:-:|:----:|\n",
        "| 1900 | -0.08 |\n",
        "| 1920 | -0.27 |\n",
        "| 1940 | 0.12 |\n",
        "| 1960 | -0.03 |\n",
        "| 1980 | 0.26 |\n",
        "| 2000 | 0.40 |\n",
        "| 2020 | 1.02 |\n",
        "\n",
        "Crie uma séries do Pandas a partir de uma lista com esses dados."
      ]
    },
    {
      "cell_type": "code",
      "execution_count": 2,
      "metadata": {
        "colab": {
          "base_uri": "https://localhost:8080/"
        },
        "id": "T2U42mDcXPBN",
        "outputId": "2f3cf835-d3fe-416f-e475-99b54c7eca64"
      },
      "outputs": [
        {
          "output_type": "stream",
          "name": "stdout",
          "text": [
            "1900   -0.08\n",
            "1920   -0.27\n",
            "1940    0.12\n",
            "1960   -0.03\n",
            "1980    0.26\n",
            "2000    0.40\n",
            "2020    1.02\n",
            "dtype: float64\n"
          ]
        }
      ],
      "source": [
        "import pandas as pd\n",
        "import numpy as np\n",
        "\n",
        "anos = [1900, 1920, 1940, 1960, 1980, 2000, 2020]\n",
        "anomalias = [-0.08, -0.27, 0.12, -0.03, 0.26, 0.40, 1.02]\n",
        "\n",
        "serie_temperaturas = pd.Series(data=anomalias, index=anos)\n",
        "\n",
        "print(serie_temperaturas)"
      ]
    },
    {
      "cell_type": "markdown",
      "metadata": {
        "id": "GQ6cYqTkXPBO"
      },
      "source": [
        "#### 2) Coloque os anos nos índices conforme a tabela."
      ]
    },
    {
      "cell_type": "code",
      "execution_count": 3,
      "metadata": {
        "colab": {
          "base_uri": "https://localhost:8080/"
        },
        "id": "HrWRH76JXPBP",
        "outputId": "33333642-5f85-44c7-ceab-898996f4ba1f"
      },
      "outputs": [
        {
          "output_type": "stream",
          "name": "stdout",
          "text": [
            "1900   -0.08\n",
            "1920   -0.27\n",
            "1940    0.12\n",
            "1960   -0.03\n",
            "1980    0.26\n",
            "2000    0.40\n",
            "2020    1.02\n",
            "dtype: float64\n"
          ]
        }
      ],
      "source": [
        "serie_temperaturas = pd.Series(data=anomalias, index=anos)\n",
        "\n",
        "print(serie_temperaturas)"
      ]
    },
    {
      "cell_type": "markdown",
      "metadata": {
        "id": "bDHs_nyPXPBP"
      },
      "source": [
        "#### 3) A partir do dicionário abaixo, crie uma séries do Pandas:"
      ]
    },
    {
      "cell_type": "code",
      "execution_count": 4,
      "metadata": {
        "colab": {
          "base_uri": "https://localhost:8080/"
        },
        "id": "bzDolBxiXPBP",
        "outputId": "f19b4ced-85fd-41b0-be3f-c433560b4080"
      },
      "outputs": [
        {
          "output_type": "stream",
          "name": "stdout",
          "text": [
            "1900   -0.08\n",
            "1920   -0.27\n",
            "1940    0.12\n",
            "1960   -0.03\n",
            "1980    0.26\n",
            "2000    0.40\n",
            "2020    1.02\n",
            "dtype: float64\n"
          ]
        }
      ],
      "source": [
        "dic_temperaturas = {1900: -.08, 1920: -.27, 1940: .12, 1960: -.03, 1980: .26, 2000: .40, 2020: 1.02}\n",
        "\n",
        "temperaturas = pd.Series(dic_temperaturas)\n",
        "print(temperaturas)"
      ]
    },
    {
      "cell_type": "markdown",
      "metadata": {
        "id": "UVtoKGOHXPBQ"
      },
      "source": [
        "#### 4) Transforme o ndarray abaixo em um dataframe. \n",
        "O numpy é capaz de gerar arrays n-dimensionais com números pseudo-aleatórios de acordo com uma variedade de distribuições, como no exemplo abaixo. Transforme esse nd-array em um DataFrame."
      ]
    },
    {
      "cell_type": "code",
      "execution_count": 8,
      "metadata": {
        "colab": {
          "base_uri": "https://localhost:8080/"
        },
        "id": "CI3-d3wOXPBQ",
        "outputId": "961055d7-4b45-4942-90b3-117709a7724d"
      },
      "outputs": [
        {
          "output_type": "stream",
          "name": "stdout",
          "text": [
            "      Coluna 1    Coluna 2    Coluna 3\n",
            "0   106.629867  100.016899   95.277034\n",
            "1   113.147551   80.047055   99.315853\n",
            "2    95.780304  113.708947   98.436165\n",
            "3   109.276429  106.906236   99.772673\n",
            "4   106.963242   82.444960   99.796424\n",
            "5   105.495698   99.561901   88.442437\n",
            "6    83.526094   87.494693  102.035118\n",
            "7   107.499492  101.101605   86.150558\n",
            "8   101.811033   89.593468  111.437107\n",
            "9    87.386651  108.809815   98.139272\n",
            "10   96.931054  106.666485   94.242244\n",
            "11  109.080556  114.246522  124.313070\n",
            "12   99.544469  109.817278  100.618753\n",
            "13  102.235983   91.058378  106.812189\n",
            "14   98.561228  102.097346  113.828750\n",
            "15  101.453812   95.376650   93.591170\n",
            "16   81.234292  105.530144   91.846456\n",
            "17  108.838221   99.261125  108.963802\n",
            "18   98.633007  103.450772  105.050236\n",
            "19   84.707318   95.248543  101.236267\n"
          ]
        }
      ],
      "source": [
        "arr = np.random.normal(100, 10, (20,3))\n",
        "\n",
        "df = pd.DataFrame(arr, columns=['Coluna 1', 'Coluna 2', 'Coluna 3'])\n",
        "print(df)"
      ]
    },
    {
      "cell_type": "markdown",
      "metadata": {
        "id": "XDILHdpEXPBQ"
      },
      "source": [
        "#### 5) Nomeie os índices das linhas com inteiros de 1 a 20, e as colunas com os nomes \"x1\", \"x2\", e \"x3\" respectivamente."
      ]
    },
    {
      "cell_type": "code",
      "execution_count": 7,
      "metadata": {
        "colab": {
          "base_uri": "https://localhost:8080/"
        },
        "id": "Y_X6Jq4YXPBQ",
        "outputId": "aa66ca87-1d46-4885-9504-2ff3f2ded000"
      },
      "outputs": [
        {
          "output_type": "stream",
          "name": "stdout",
          "text": [
            "            x1          x2          x3\n",
            "1   107.084699   91.934374  101.248938\n",
            "2    95.766579   98.958654   94.350176\n",
            "3    86.469067  112.220369  101.603306\n",
            "4    83.729327  106.415357  108.089137\n",
            "5   117.730215   76.108240  101.446542\n",
            "6   108.473719  114.247549  107.609818\n",
            "7    95.395828  104.270540  100.399431\n",
            "8    98.793484   90.964998   94.750805\n",
            "9   114.205382  108.571961  107.163833\n",
            "10   90.277846   93.860534   77.359062\n",
            "11   92.052343   93.754251   94.417592\n",
            "12  108.112165   88.759023  111.689874\n",
            "13   95.590055  102.499825   84.815572\n",
            "14   91.382505  104.109139   91.330438\n",
            "15   90.071726  103.773434   89.778469\n",
            "16   98.525081  103.998976   81.428233\n",
            "17   98.216220  112.399005  103.767285\n",
            "18  110.759076   97.064155  100.308800\n",
            "19  102.275726   88.313540   87.200169\n",
            "20   89.371853   95.857006   98.949834\n"
          ]
        }
      ],
      "source": [
        "df = pd.DataFrame(arr, columns=['x1', 'x2', 'x3'])\n",
        "\n",
        "df.index = range(1, 21)\n",
        "\n",
        "print(df)"
      ]
    },
    {
      "cell_type": "markdown",
      "metadata": {
        "id": "ny5TWP8dXPBR"
      },
      "source": [
        "#### 6) No DataFrame do exercício 5, crie uma nova coluna como sendo a média das três colunas, e dê a ela o nome de \"media\" (não recomendo colocar acentos em nomes de variáveis)."
      ]
    },
    {
      "cell_type": "code",
      "execution_count": 9,
      "metadata": {
        "colab": {
          "base_uri": "https://localhost:8080/"
        },
        "id": "9fCf9fhWXPBR",
        "outputId": "2c263730-3fe1-49f4-bf97-21d6dd0f9a91"
      },
      "outputs": [
        {
          "output_type": "stream",
          "name": "stdout",
          "text": [
            "      Coluna 1    Coluna 2    Coluna 3       media\n",
            "0   106.629867  100.016899   95.277034  100.641267\n",
            "1   113.147551   80.047055   99.315853   97.503486\n",
            "2    95.780304  113.708947   98.436165  102.641805\n",
            "3   109.276429  106.906236   99.772673  105.318446\n",
            "4   106.963242   82.444960   99.796424   96.401542\n",
            "5   105.495698   99.561901   88.442437   97.833345\n",
            "6    83.526094   87.494693  102.035118   91.018635\n",
            "7   107.499492  101.101605   86.150558   98.250552\n",
            "8   101.811033   89.593468  111.437107  100.947203\n",
            "9    87.386651  108.809815   98.139272   98.111913\n",
            "10   96.931054  106.666485   94.242244   99.279928\n",
            "11  109.080556  114.246522  124.313070  115.880050\n",
            "12   99.544469  109.817278  100.618753  103.326833\n",
            "13  102.235983   91.058378  106.812189  100.035516\n",
            "14   98.561228  102.097346  113.828750  104.829108\n",
            "15  101.453812   95.376650   93.591170   96.807211\n",
            "16   81.234292  105.530144   91.846456   92.870297\n",
            "17  108.838221   99.261125  108.963802  105.687716\n",
            "18   98.633007  103.450772  105.050236  102.378005\n",
            "19   84.707318   95.248543  101.236267   93.730709\n"
          ]
        }
      ],
      "source": [
        "df['media'] = df.mean(axis=1)\n",
        "print(df)"
      ]
    },
    {
      "cell_type": "markdown",
      "metadata": {
        "id": "kx8nbELOXPBR"
      },
      "source": [
        "#### 7) No DataFrame do exercício 6, crie uma nova coluna chamada \"log_med\", contendo o logaritmo natural da média calculada no exercício 6 <br>"
      ]
    },
    {
      "cell_type": "code",
      "execution_count": 10,
      "metadata": {
        "colab": {
          "base_uri": "https://localhost:8080/"
        },
        "id": "Zm6gFhhVXPBR",
        "outputId": "325637c3-3220-4c4a-ed3b-a7ffbc1c62e9"
      },
      "outputs": [
        {
          "output_type": "stream",
          "name": "stdout",
          "text": [
            "      Coluna 1    Coluna 2    Coluna 3       media   log_med\n",
            "0   106.629867  100.016899   95.277034  100.641267  4.611562\n",
            "1   113.147551   80.047055   99.315853   97.503486  4.579888\n",
            "2    95.780304  113.708947   98.436165  102.641805  4.631245\n",
            "3   109.276429  106.906236   99.772673  105.318446  4.656989\n",
            "4   106.963242   82.444960   99.796424   96.401542  4.568522\n",
            "5   105.495698   99.561901   88.442437   97.833345  4.583265\n",
            "6    83.526094   87.494693  102.035118   91.018635  4.511064\n",
            "7   107.499492  101.101605   86.150558   98.250552  4.587521\n",
            "8   101.811033   89.593468  111.437107  100.947203  4.614598\n",
            "9    87.386651  108.809815   98.139272   98.111913  4.586109\n",
            "10   96.931054  106.666485   94.242244   99.279928  4.597943\n",
            "11  109.080556  114.246522  124.313070  115.880050  4.752556\n",
            "12   99.544469  109.817278  100.618753  103.326833  4.637897\n",
            "13  102.235983   91.058378  106.812189  100.035516  4.605525\n",
            "14   98.561228  102.097346  113.828750  104.829108  4.652331\n",
            "15  101.453812   95.376650   93.591170   96.807211  4.572721\n",
            "16   81.234292  105.530144   91.846456   92.870297  4.531204\n",
            "17  108.838221   99.261125  108.963802  105.687716  4.660489\n",
            "18   98.633007  103.450772  105.050236  102.378005  4.628672\n",
            "19   84.707318   95.248543  101.236267   93.730709  4.540426\n"
          ]
        }
      ],
      "source": [
        "df['log_med'] = np.log(df['media'])\n",
        "print(df)"
      ]
    }
  ],
  "metadata": {
    "kernelspec": {
      "display_name": "Python 3",
      "language": "python",
      "name": "python3"
    },
    "language_info": {
      "codemirror_mode": {
        "name": "ipython",
        "version": 3
      },
      "file_extension": ".py",
      "mimetype": "text/x-python",
      "name": "python",
      "nbconvert_exporter": "python",
      "pygments_lexer": "ipython3",
      "version": "3.8.5"
    },
    "colab": {
      "provenance": []
    }
  },
  "nbformat": 4,
  "nbformat_minor": 0
}